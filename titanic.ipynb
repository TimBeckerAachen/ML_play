{
 "cells": [
  {
   "cell_type": "code",
   "execution_count": 1,
   "metadata": {},
   "outputs": [],
   "source": [
    "import os\n",
    "import pandas as pd\n",
    "import numpy as np\n",
    "import matplotlib.pyplot as plt\n",
    "import seaborn as sns\n",
    "import warnings\n",
    "warnings.filterwarnings('ignore')\n",
    "\n",
    "%matplotlib inline"
   ]
  },
  {
   "cell_type": "code",
   "execution_count": 2,
   "metadata": {},
   "outputs": [],
   "source": [
    "from sklearn.base import BaseEstimator, TransformerMixin\n",
    "from sklearn.pipeline import Pipeline\n",
    "from sklearn.preprocessing import StandardScaler, OneHotEncoder\n",
    "from sklearn.impute import SimpleImputer\n",
    "from sklearn.compose import ColumnTransformer\n",
    "from sklearn.model_selection import train_test_split\n",
    "from sklearn.metrics import mean_squared_error, accuracy_score"
   ]
  },
  {
   "cell_type": "code",
   "execution_count": 3,
   "metadata": {},
   "outputs": [
    {
     "data": {
      "text/html": [
       "<div>\n",
       "<style scoped>\n",
       "    .dataframe tbody tr th:only-of-type {\n",
       "        vertical-align: middle;\n",
       "    }\n",
       "\n",
       "    .dataframe tbody tr th {\n",
       "        vertical-align: top;\n",
       "    }\n",
       "\n",
       "    .dataframe thead th {\n",
       "        text-align: right;\n",
       "    }\n",
       "</style>\n",
       "<table border=\"1\" class=\"dataframe\">\n",
       "  <thead>\n",
       "    <tr style=\"text-align: right;\">\n",
       "      <th></th>\n",
       "      <th>survived</th>\n",
       "      <th>pclass</th>\n",
       "      <th>sex</th>\n",
       "      <th>age</th>\n",
       "      <th>sibsp</th>\n",
       "      <th>parch</th>\n",
       "      <th>fare</th>\n",
       "      <th>embarked</th>\n",
       "      <th>class</th>\n",
       "      <th>who</th>\n",
       "      <th>adult_male</th>\n",
       "      <th>deck</th>\n",
       "      <th>embark_town</th>\n",
       "      <th>alive</th>\n",
       "      <th>alone</th>\n",
       "    </tr>\n",
       "  </thead>\n",
       "  <tbody>\n",
       "    <tr>\n",
       "      <th>0</th>\n",
       "      <td>0</td>\n",
       "      <td>3</td>\n",
       "      <td>male</td>\n",
       "      <td>22.0</td>\n",
       "      <td>1</td>\n",
       "      <td>0</td>\n",
       "      <td>7.2500</td>\n",
       "      <td>S</td>\n",
       "      <td>Third</td>\n",
       "      <td>man</td>\n",
       "      <td>True</td>\n",
       "      <td>NaN</td>\n",
       "      <td>Southampton</td>\n",
       "      <td>no</td>\n",
       "      <td>False</td>\n",
       "    </tr>\n",
       "    <tr>\n",
       "      <th>1</th>\n",
       "      <td>1</td>\n",
       "      <td>1</td>\n",
       "      <td>female</td>\n",
       "      <td>38.0</td>\n",
       "      <td>1</td>\n",
       "      <td>0</td>\n",
       "      <td>71.2833</td>\n",
       "      <td>C</td>\n",
       "      <td>First</td>\n",
       "      <td>woman</td>\n",
       "      <td>False</td>\n",
       "      <td>C</td>\n",
       "      <td>Cherbourg</td>\n",
       "      <td>yes</td>\n",
       "      <td>False</td>\n",
       "    </tr>\n",
       "    <tr>\n",
       "      <th>2</th>\n",
       "      <td>1</td>\n",
       "      <td>3</td>\n",
       "      <td>female</td>\n",
       "      <td>26.0</td>\n",
       "      <td>0</td>\n",
       "      <td>0</td>\n",
       "      <td>7.9250</td>\n",
       "      <td>S</td>\n",
       "      <td>Third</td>\n",
       "      <td>woman</td>\n",
       "      <td>False</td>\n",
       "      <td>NaN</td>\n",
       "      <td>Southampton</td>\n",
       "      <td>yes</td>\n",
       "      <td>True</td>\n",
       "    </tr>\n",
       "    <tr>\n",
       "      <th>3</th>\n",
       "      <td>1</td>\n",
       "      <td>1</td>\n",
       "      <td>female</td>\n",
       "      <td>35.0</td>\n",
       "      <td>1</td>\n",
       "      <td>0</td>\n",
       "      <td>53.1000</td>\n",
       "      <td>S</td>\n",
       "      <td>First</td>\n",
       "      <td>woman</td>\n",
       "      <td>False</td>\n",
       "      <td>C</td>\n",
       "      <td>Southampton</td>\n",
       "      <td>yes</td>\n",
       "      <td>False</td>\n",
       "    </tr>\n",
       "    <tr>\n",
       "      <th>4</th>\n",
       "      <td>0</td>\n",
       "      <td>3</td>\n",
       "      <td>male</td>\n",
       "      <td>35.0</td>\n",
       "      <td>0</td>\n",
       "      <td>0</td>\n",
       "      <td>8.0500</td>\n",
       "      <td>S</td>\n",
       "      <td>Third</td>\n",
       "      <td>man</td>\n",
       "      <td>True</td>\n",
       "      <td>NaN</td>\n",
       "      <td>Southampton</td>\n",
       "      <td>no</td>\n",
       "      <td>True</td>\n",
       "    </tr>\n",
       "  </tbody>\n",
       "</table>\n",
       "</div>"
      ],
      "text/plain": [
       "   survived  pclass     sex   age  sibsp  parch     fare embarked  class  \\\n",
       "0         0       3    male  22.0      1      0   7.2500        S  Third   \n",
       "1         1       1  female  38.0      1      0  71.2833        C  First   \n",
       "2         1       3  female  26.0      0      0   7.9250        S  Third   \n",
       "3         1       1  female  35.0      1      0  53.1000        S  First   \n",
       "4         0       3    male  35.0      0      0   8.0500        S  Third   \n",
       "\n",
       "     who  adult_male deck  embark_town alive  alone  \n",
       "0    man        True  NaN  Southampton    no  False  \n",
       "1  woman       False    C    Cherbourg   yes  False  \n",
       "2  woman       False  NaN  Southampton   yes   True  \n",
       "3  woman       False    C  Southampton   yes  False  \n",
       "4    man        True  NaN  Southampton    no   True  "
      ]
     },
     "execution_count": 3,
     "metadata": {},
     "output_type": "execute_result"
    }
   ],
   "source": [
    "titanic = sns.load_dataset('titanic')\n",
    "titanic.head()"
   ]
  },
  {
   "cell_type": "code",
   "execution_count": 4,
   "metadata": {},
   "outputs": [],
   "source": [
    "train_data = pd.read_csv('./train.csv', index_col='PassengerId')\n",
    "train_play = train_data.copy()\n",
    "y = train_data.pop('Survived')\n",
    "train = train_data.copy()"
   ]
  },
  {
   "cell_type": "code",
   "execution_count": 5,
   "metadata": {
    "scrolled": true
   },
   "outputs": [
    {
     "data": {
      "text/plain": [
       "count    891.000000\n",
       "mean       0.383838\n",
       "std        0.486592\n",
       "min        0.000000\n",
       "25%        0.000000\n",
       "50%        0.000000\n",
       "75%        1.000000\n",
       "max        1.000000\n",
       "Name: Survived, dtype: float64"
      ]
     },
     "execution_count": 5,
     "metadata": {},
     "output_type": "execute_result"
    }
   ],
   "source": [
    "y.describe()"
   ]
  },
  {
   "cell_type": "code",
   "execution_count": 6,
   "metadata": {
    "scrolled": true
   },
   "outputs": [
    {
     "data": {
      "text/plain": [
       "<AxesSubplot:xlabel='Sex', ylabel='Survived'>"
      ]
     },
     "execution_count": 6,
     "metadata": {},
     "output_type": "execute_result"
    },
    {
     "data": {
      "image/png": "[encoded data removed]",
      "text/plain": [
       "<Figure size 432x288 with 1 Axes>"
      ]
     },
     "metadata": {
      "needs_background": "light"
     },
     "output_type": "display_data"
    }
   ],
   "source": [
    "sns.barplot(x='Sex', y='Survived', data=train_play)"
   ]
  },
  {
   "cell_type": "code",
   "execution_count": 7,
   "metadata": {},
   "outputs": [
    {
     "data": {
      "text/plain": [
       "<AxesSubplot:xlabel='Pclass', ylabel='Survived'>"
      ]
     },
     "execution_count": 7,
     "metadata": {},
     "output_type": "execute_result"
    },
    {
     "data": {
      "image/png": "[encoded data removed]",
      "text/plain": [
       "<Figure size 432x288 with 1 Axes>"
      ]
     },
     "metadata": {
      "needs_background": "light"
     },
     "output_type": "display_data"
    }
   ],
   "source": [
    "sns.barplot(x='Pclass', y='Survived', data=train_play)"
   ]
  },
  {
   "cell_type": "code",
   "execution_count": 8,
   "metadata": {},
   "outputs": [],
   "source": [
    "test_data = pd.read_csv('./test.csv', index_col='PassengerId')"
   ]
  },
  {
   "cell_type": "code",
   "execution_count": 9,
   "metadata": {
    "scrolled": true
   },
   "outputs": [
    {
     "data": {
      "text/html": [
       "<div>\n",
       "<style scoped>\n",
       "    .dataframe tbody tr th:only-of-type {\n",
       "        vertical-align: middle;\n",
       "    }\n",
       "\n",
       "    .dataframe tbody tr th {\n",
       "        vertical-align: top;\n",
       "    }\n",
       "\n",
       "    .dataframe thead th {\n",
       "        text-align: right;\n",
       "    }\n",
       "</style>\n",
       "<table border=\"1\" class=\"dataframe\">\n",
       "  <thead>\n",
       "    <tr style=\"text-align: right;\">\n",
       "      <th></th>\n",
       "      <th>Pclass</th>\n",
       "      <th>Name</th>\n",
       "      <th>Sex</th>\n",
       "      <th>Age</th>\n",
       "      <th>SibSp</th>\n",
       "      <th>Parch</th>\n",
       "      <th>Ticket</th>\n",
       "      <th>Fare</th>\n",
       "      <th>Cabin</th>\n",
       "      <th>Embarked</th>\n",
       "    </tr>\n",
       "  </thead>\n",
       "  <tbody>\n",
       "    <tr>\n",
       "      <th>count</th>\n",
       "      <td>891</td>\n",
       "      <td>891</td>\n",
       "      <td>891</td>\n",
       "      <td>714</td>\n",
       "      <td>891</td>\n",
       "      <td>891</td>\n",
       "      <td>891</td>\n",
       "      <td>891</td>\n",
       "      <td>204</td>\n",
       "      <td>889</td>\n",
       "    </tr>\n",
       "    <tr>\n",
       "      <th>size</th>\n",
       "      <td>891</td>\n",
       "      <td>891</td>\n",
       "      <td>891</td>\n",
       "      <td>891</td>\n",
       "      <td>891</td>\n",
       "      <td>891</td>\n",
       "      <td>891</td>\n",
       "      <td>891</td>\n",
       "      <td>891</td>\n",
       "      <td>891</td>\n",
       "    </tr>\n",
       "    <tr>\n",
       "      <th>dtype</th>\n",
       "      <td>int64</td>\n",
       "      <td>object</td>\n",
       "      <td>object</td>\n",
       "      <td>float64</td>\n",
       "      <td>int64</td>\n",
       "      <td>int64</td>\n",
       "      <td>object</td>\n",
       "      <td>float64</td>\n",
       "      <td>object</td>\n",
       "      <td>object</td>\n",
       "    </tr>\n",
       "  </tbody>\n",
       "</table>\n",
       "</div>"
      ],
      "text/plain": [
       "      Pclass    Name     Sex      Age  SibSp  Parch  Ticket     Fare   Cabin  \\\n",
       "count    891     891     891      714    891    891     891      891     204   \n",
       "size     891     891     891      891    891    891     891      891     891   \n",
       "dtype  int64  object  object  float64  int64  int64  object  float64  object   \n",
       "\n",
       "      Embarked  \n",
       "count      889  \n",
       "size       891  \n",
       "dtype   object  "
      ]
     },
     "execution_count": 9,
     "metadata": {},
     "output_type": "execute_result"
    }
   ],
   "source": [
    "train_data.agg(['count', 'size', 'dtype'])"
   ]
  },
  {
   "cell_type": "code",
   "execution_count": 10,
   "metadata": {},
   "outputs": [],
   "source": [
    "col_names = 'Age', 'Fare', 'Pclass', 'Sex', 'SibSp', 'Parch', 'Name', 'Cabin', 'Embarked', 'Ticket'\n",
    "age_ix, fare_ix, pclass_ix, sex_ix, sibsp_ix, parch_ix, name_ix, cabin_ix, embarked_ix, ticket_ix = [train.columns.get_loc(c) for c in col_names]"
   ]
  },
  {
   "cell_type": "code",
   "execution_count": 11,
   "metadata": {},
   "outputs": [],
   "source": [
    "class AttributesRounding(BaseEstimator, TransformerMixin):\n",
    "    def __init__(self, col_ix=age_ix):\n",
    "        self.col_ix = col_ix\n",
    "        self.precision = 0\n",
    "    \n",
    "    def fit(self, X, y=None):\n",
    "        return self\n",
    "    \n",
    "    def transform(self, X):\n",
    "        X = np.copy(X)\n",
    "        X[:, [self.col_ix]] = np.round(X[:, [self.col_ix]].astype('float'), self.precision)\n",
    "        return X"
   ]
  },
  {
   "cell_type": "code",
   "execution_count": 12,
   "metadata": {},
   "outputs": [],
   "source": [
    "rounder = AttributesRounding()\n",
    "train_data = rounder.transform(train_data.values)"
   ]
  },
  {
   "cell_type": "code",
   "execution_count": 13,
   "metadata": {},
   "outputs": [
    {
     "data": {
      "text/plain": [
       "<AxesSubplot:>"
      ]
     },
     "execution_count": 13,
     "metadata": {},
     "output_type": "execute_result"
    },
    {
     "data": {
      "image/png": "[encoded data removed]",
      "text/plain": [
       "<Figure size 432x288 with 1 Axes>"
      ]
     },
     "metadata": {
      "needs_background": "light"
     },
     "output_type": "display_data"
    }
   ],
   "source": [
    "data = pd.DataFrame(train_data, columns=list(train.columns))\n",
    "data['Age'].hist()"
   ]
  },
  {
   "cell_type": "code",
   "execution_count": 14,
   "metadata": {
    "scrolled": true
   },
   "outputs": [
    {
     "data": {
      "text/html": [
       "<div>\n",
       "<style scoped>\n",
       "    .dataframe tbody tr th:only-of-type {\n",
       "        vertical-align: middle;\n",
       "    }\n",
       "\n",
       "    .dataframe tbody tr th {\n",
       "        vertical-align: top;\n",
       "    }\n",
       "\n",
       "    .dataframe thead th {\n",
       "        text-align: right;\n",
       "    }\n",
       "</style>\n",
       "<table border=\"1\" class=\"dataframe\">\n",
       "  <thead>\n",
       "    <tr style=\"text-align: right;\">\n",
       "      <th></th>\n",
       "      <th>Pclass</th>\n",
       "      <th>Name</th>\n",
       "      <th>Sex</th>\n",
       "      <th>Age</th>\n",
       "      <th>SibSp</th>\n",
       "      <th>Parch</th>\n",
       "      <th>Ticket</th>\n",
       "      <th>Fare</th>\n",
       "      <th>Cabin</th>\n",
       "      <th>Embarked</th>\n",
       "    </tr>\n",
       "  </thead>\n",
       "  <tbody>\n",
       "    <tr>\n",
       "      <th>0</th>\n",
       "      <td>3</td>\n",
       "      <td>Braund, Mr. Owen Harris</td>\n",
       "      <td>male</td>\n",
       "      <td>22</td>\n",
       "      <td>1</td>\n",
       "      <td>0</td>\n",
       "      <td>A/5 21171</td>\n",
       "      <td>7.25</td>\n",
       "      <td>NaN</td>\n",
       "      <td>S</td>\n",
       "    </tr>\n",
       "    <tr>\n",
       "      <th>1</th>\n",
       "      <td>1</td>\n",
       "      <td>Cumings, Mrs. John Bradley (Florence Briggs Th...</td>\n",
       "      <td>female</td>\n",
       "      <td>38</td>\n",
       "      <td>1</td>\n",
       "      <td>0</td>\n",
       "      <td>PC 17599</td>\n",
       "      <td>71.2833</td>\n",
       "      <td>C85</td>\n",
       "      <td>C</td>\n",
       "    </tr>\n",
       "    <tr>\n",
       "      <th>2</th>\n",
       "      <td>3</td>\n",
       "      <td>Heikkinen, Miss. Laina</td>\n",
       "      <td>female</td>\n",
       "      <td>26</td>\n",
       "      <td>0</td>\n",
       "      <td>0</td>\n",
       "      <td>STON/O2. 3101282</td>\n",
       "      <td>7.925</td>\n",
       "      <td>NaN</td>\n",
       "      <td>S</td>\n",
       "    </tr>\n",
       "    <tr>\n",
       "      <th>3</th>\n",
       "      <td>1</td>\n",
       "      <td>Futrelle, Mrs. Jacques Heath (Lily May Peel)</td>\n",
       "      <td>female</td>\n",
       "      <td>35</td>\n",
       "      <td>1</td>\n",
       "      <td>0</td>\n",
       "      <td>113803</td>\n",
       "      <td>53.1</td>\n",
       "      <td>C123</td>\n",
       "      <td>S</td>\n",
       "    </tr>\n",
       "    <tr>\n",
       "      <th>4</th>\n",
       "      <td>3</td>\n",
       "      <td>Allen, Mr. William Henry</td>\n",
       "      <td>male</td>\n",
       "      <td>35</td>\n",
       "      <td>0</td>\n",
       "      <td>0</td>\n",
       "      <td>373450</td>\n",
       "      <td>8.05</td>\n",
       "      <td>NaN</td>\n",
       "      <td>S</td>\n",
       "    </tr>\n",
       "  </tbody>\n",
       "</table>\n",
       "</div>"
      ],
      "text/plain": [
       "  Pclass                                               Name     Sex Age SibSp  \\\n",
       "0      3                            Braund, Mr. Owen Harris    male  22     1   \n",
       "1      1  Cumings, Mrs. John Bradley (Florence Briggs Th...  female  38     1   \n",
       "2      3                             Heikkinen, Miss. Laina  female  26     0   \n",
       "3      1       Futrelle, Mrs. Jacques Heath (Lily May Peel)  female  35     1   \n",
       "4      3                           Allen, Mr. William Henry    male  35     0   \n",
       "\n",
       "  Parch            Ticket     Fare Cabin Embarked  \n",
       "0     0         A/5 21171     7.25   NaN        S  \n",
       "1     0          PC 17599  71.2833   C85        C  \n",
       "2     0  STON/O2. 3101282    7.925   NaN        S  \n",
       "3     0            113803     53.1  C123        S  \n",
       "4     0            373450     8.05   NaN        S  "
      ]
     },
     "execution_count": 14,
     "metadata": {},
     "output_type": "execute_result"
    }
   ],
   "source": [
    "data.head()"
   ]
  },
  {
   "cell_type": "code",
   "execution_count": 15,
   "metadata": {},
   "outputs": [],
   "source": [
    "from sklearn.impute import KNNImputer, SimpleImputer "
   ]
  },
  {
   "cell_type": "code",
   "execution_count": 16,
   "metadata": {},
   "outputs": [],
   "source": [
    "class PriceCatGetter(BaseEstimator, TransformerMixin):\n",
    "    def __init__(self, fare_ix=fare_ix, pclass_ix=pclass_ix, age_ix=age_ix):\n",
    "        self.fare_ix = fare_ix\n",
    "        self.pclass_ix = pclass_ix\n",
    "        self.age_ix = age_ix\n",
    "        self.limits = None\n",
    "        self.knn_imputer = KNNImputer()\n",
    "        self.imputer = SimpleImputer(strategy='most_frequent')\n",
    "    \n",
    "    def fit(self, X, y=None):\n",
    "        self.imputer.fit(X[:, [self.pclass_ix]])\n",
    "        self.knn_imputer.fit(X[:, [self.pclass_ix, self.fare_ix, self.age_ix]])\n",
    "        \n",
    "        price_data = pd.DataFrame(X[:, [self.fare_ix, self.pclass_ix]], columns=['Fare', 'Pclass'])\n",
    "        cat_prices = []\n",
    "        for pclass in [1, 2, 3]:\n",
    "            cat_prices.append(\n",
    "                pd.qcut(price_data.query(f'Pclass == {pclass}')['Fare'], 3, \n",
    "                        labels=[f'{name}_{pclass}' for name in ['low_price_class', 'medium_price_class', 'hihg_price_class']],\n",
    "                        retbins=True, duplicates='drop'))\n",
    "        self.limits = [cat_price[1] for cat_price in cat_prices]\n",
    "        return self\n",
    "    \n",
    "    def transform(self, X):   \n",
    "        X[:, [self.pclass_ix]] = self.imputer.transform(X[:, [self.pclass_ix]])\n",
    "        X[:, [self.fare_ix]] = self.knn_imputer.transform(X[:, [self.pclass_ix, self.fare_ix, self.age_ix]])[:, [1]]\n",
    "        \n",
    "        return np.c_[X, np.vectorize(self.get_price_cat)(X[:, self.pclass_ix], X[:, self.fare_ix])]\n",
    "    \n",
    "    def get_price_cat(self, pclass, fare):\n",
    "        pclass = int(pclass)\n",
    "        if fare <= self.limits[pclass-1][1]:\n",
    "            return f'low_price_class_{pclass}'\n",
    "        elif fare <= self.limits[pclass-1][2]:\n",
    "            return f'medium_price_class_{pclass}'\n",
    "        elif fare > self.limits[pclass-1][2]:\n",
    "            return f'high_price_class_{pclass}'\n",
    "        else:\n",
    "            print('error', pclass, fare, self-limits)      \n",
    "            return f'medium_price_class_{pclass}'"
   ]
  },
  {
   "cell_type": "code",
   "execution_count": 17,
   "metadata": {
    "scrolled": true
   },
   "outputs": [],
   "source": [
    "pricer = PriceCatGetter()\n",
    "train_data = pricer.fit_transform(train_data)\n",
    "cat_price_ix = train_data.shape[1] - 1 "
   ]
  },
  {
   "cell_type": "code",
   "execution_count": 18,
   "metadata": {},
   "outputs": [],
   "source": [
    "data = pd.DataFrame(train_data, columns=list(train.columns) + ['cat_price'])"
   ]
  },
  {
   "cell_type": "code",
   "execution_count": 21,
   "metadata": {},
   "outputs": [
    {
     "data": {
      "text/plain": [
       "<AxesSubplot:>"
      ]
     },
     "execution_count": 21,
     "metadata": {},
     "output_type": "execute_result"
    },
    {
     "data": {
      "image/png": "[encoded data removed]",
      "text/plain": [
       "<Figure size 864x504 with 1 Axes>"
      ]
     },
     "metadata": {
      "needs_background": "light"
     },
     "output_type": "display_data"
    }
   ],
   "source": [
    "data['cat_price'].value_counts().sort_index().plot(kind='bar', figsize=(12,7))"
   ]
  },
  {
   "cell_type": "code",
   "execution_count": 23,
   "metadata": {},
   "outputs": [],
   "source": [
    "class AgeImputor(BaseEstimator, TransformerMixin):\n",
    "    def __init__(self, sex_ix=sex_ix, pclass_ix=pclass_ix, cat_price_ix=-1, age_ix=age_ix):\n",
    "        self.sex_ix = sex_ix\n",
    "        self.pclass_ix = pclass_ix\n",
    "        self.cat_price_ix = cat_price_ix\n",
    "        self.age_ix = age_ix\n",
    "        self.ages = None\n",
    "    \n",
    "    def fit(self, X, y=None): \n",
    "        df = pd.DataFrame(X[:, [self.sex_ix, self.pclass_ix, self.cat_price_ix, self.age_ix]], \n",
    "                          columns=['Sex', 'Pclass', 'cat_price', 'Age']).convert_dtypes()\n",
    "        median_age = df['Age'].median()\n",
    "        self.ages = df.groupby(['Sex', 'Pclass', 'cat_price']).Age.agg('median').round(0).fillna(median_age).astype(int)\n",
    "        return self\n",
    "    \n",
    "    def transform(self, X):\n",
    "        df = pd.DataFrame(X[:, [self.sex_ix, self.pclass_ix, self.cat_price_ix, self.age_ix]], \n",
    "                  columns=['Sex', 'Pclass', 'cat_price', 'Age'])\n",
    "        df.reset_index(inplace=True)\n",
    "        df = df.merge(self.ages.reset_index().rename(columns={'Age': 'fill_age'}), left_on=['Sex', 'Pclass', 'cat_price'], \n",
    "                      right_on=['Sex', 'Pclass', 'cat_price'], sort=False, validate='many_to_one', how='left')\n",
    "        df.sort_values('index', inplace=True)\n",
    "        df['Age'].fillna(df['fill_age'], inplace=True)\n",
    "        X[:, [self.age_ix]] = df[['Age']].values\n",
    "        return X"
   ]
  },
  {
   "cell_type": "code",
   "execution_count": 24,
   "metadata": {
    "scrolled": true
   },
   "outputs": [],
   "source": [
    "ageimp = AgeImputor()\n",
    "train_data = ageimp.fit_transform(train_data)"
   ]
  },
  {
   "cell_type": "code",
   "execution_count": 25,
   "metadata": {},
   "outputs": [],
   "source": [
    "class AddFamily(BaseEstimator, TransformerMixin):\n",
    "    def __init__(self, sibsp_ix=sibsp_ix, parch_ix=parch_ix, drop=False):\n",
    "        self.sibsp_ix = sibsp_ix\n",
    "        self.parch_ix = parch_ix\n",
    "        self.drop = drop\n",
    "    \n",
    "    def fit(self, X, y=None):\n",
    "        return self\n",
    "    \n",
    "    def transform(self, X):\n",
    "        if self.drop:\n",
    "            return X\n",
    "    \n",
    "        has_family = np.where((X[:, sibsp_ix] > 0) | (X[:, parch_ix] > 0), 'yes', 'no')\n",
    "        return np.c_[X, has_family]"
   ]
  },
  {
   "cell_type": "code",
   "execution_count": 26,
   "metadata": {},
   "outputs": [],
   "source": [
    "familyadder = AddFamily()\n",
    "train_data = familyadder.fit_transform(train_data)\n",
    "family_ix = train_data.shape[1] - 1 "
   ]
  },
  {
   "cell_type": "code",
   "execution_count": 27,
   "metadata": {},
   "outputs": [],
   "source": [
    "data = pd.DataFrame(train_data, columns=list(train.columns) + ['cat_price', 'family'])"
   ]
  },
  {
   "cell_type": "code",
   "execution_count": 28,
   "metadata": {},
   "outputs": [
    {
     "data": {
      "text/plain": [
       "<AxesSubplot:>"
      ]
     },
     "execution_count": 28,
     "metadata": {},
     "output_type": "execute_result"
    },
    {
     "data": {
      "image/png": "[encoded data removed]",
      "text/plain": [
       "<Figure size 864x504 with 1 Axes>"
      ]
     },
     "metadata": {
      "needs_background": "light"
     },
     "output_type": "display_data"
    }
   ],
   "source": [
    "data['family'].value_counts().sort_index().plot(kind='bar', figsize=(12,7))"
   ]
  },
  {
   "cell_type": "code",
   "execution_count": 29,
   "metadata": {},
   "outputs": [],
   "source": [
    "class AgeCat(BaseEstimator, TransformerMixin):\n",
    "    def __init__(self, age_ix=age_ix, drop=False):\n",
    "        self.age_ix = age_ix\n",
    "        self.drop = drop\n",
    "    \n",
    "    def fit(self, X, y=None):\n",
    "        return self\n",
    "    \n",
    "    def transform(self, X):\n",
    "        if self.drop:\n",
    "            return X\n",
    "        age_cat = np.digitize(X[:, [self.age_ix]], bins=[0, 16, 45, 90])\n",
    "        age_cat = np.vectorize({1:'child', 2:'adult', 3:'senior'}.get)(age_cat)\n",
    "        return np.c_[X, age_cat]"
   ]
  },
  {
   "cell_type": "code",
   "execution_count": 30,
   "metadata": {},
   "outputs": [],
   "source": [
    "ager = AgeCat()\n",
    "train_data = ager.fit_transform(train_data)\n",
    "age_cat_ix = train_data.shape[1] - 1 "
   ]
  },
  {
   "cell_type": "code",
   "execution_count": 31,
   "metadata": {},
   "outputs": [],
   "source": [
    "data = pd.DataFrame(train_data, columns=list(train.columns) + ['cat_price', 'family', 'cat_age'])"
   ]
  },
  {
   "cell_type": "code",
   "execution_count": 32,
   "metadata": {},
   "outputs": [
    {
     "data": {
      "text/plain": [
       "<AxesSubplot:>"
      ]
     },
     "execution_count": 32,
     "metadata": {},
     "output_type": "execute_result"
    },
    {
     "data": {
      "image/png": "[encoded data removed]",
      "text/plain": [
       "<Figure size 864x504 with 1 Axes>"
      ]
     },
     "metadata": {
      "needs_background": "light"
     },
     "output_type": "display_data"
    }
   ],
   "source": [
    "data['cat_age'].value_counts().sort_index().plot(kind='bar', figsize=(12,7))"
   ]
  },
  {
   "cell_type": "code",
   "execution_count": 33,
   "metadata": {
    "scrolled": false
   },
   "outputs": [
    {
     "data": {
      "text/plain": [
       "<AxesSubplot:>"
      ]
     },
     "execution_count": 33,
     "metadata": {},
     "output_type": "execute_result"
    },
    {
     "data": {
      "image/png": "[encoded data removed]",
      "text/plain": [
       "<Figure size 864x504 with 1 Axes>"
      ]
     },
     "metadata": {
      "needs_background": "light"
     },
     "output_type": "display_data"
    }
   ],
   "source": [
    "data['Sex'].value_counts().sort_index().plot(kind='bar', figsize=(12,7))"
   ]
  },
  {
   "cell_type": "code",
   "execution_count": 34,
   "metadata": {},
   "outputs": [],
   "source": [
    "class NameTransformer(BaseEstimator, TransformerMixin):\n",
    "    def __init__(self, name_ix=name_ix, sex_ix=sex_ix, age_ix=age_ix, drop=False):\n",
    "        self.name_ix = name_ix\n",
    "        self.age_ix = age_ix\n",
    "        self.sex_ix = sex_ix\n",
    "        self.drop = drop\n",
    "        self.types_ = None\n",
    "    \n",
    "    def fit(self, X, y=None):\n",
    "        \n",
    "        if self.types_ is None or self.types_:\n",
    "            self.types_ = []\n",
    "            \n",
    "        name_dict = [{'type': 'Mr.', 'pad': 'Mr.'},\n",
    "             {'type': 'Mrs.', 'pad': 'Mrs.'},\n",
    "             {'type': 'Miss', 'pad': 'Miss'},\n",
    "             {'type': 'Master', 'pad': 'Master'},\n",
    "             {'type': 'Army', 'pad': '(Major. |Col. |Capt. )'},\n",
    "             {'type': 'Revered/Important', 'pad': '(Rev. |Countess. |Jonkheer. |Sir. |Lady. )'},\n",
    "             {'type': 'rare', 'pad': '(Mme. |Ms. |Mlle. |Don. |Dona. )'},\n",
    "             {'type': 'Doctor', 'pad': 'Dr.'}]\n",
    "        \n",
    "        df_name = pd.DataFrame(X[:, [self.name_ix]], columns=['Name'])\n",
    "        for name in name_dict:\n",
    "            if df_name['Name'].str.contains(pat=name['pad'], regex=True).sum() > 0:\n",
    "                self.types_.append(name)\n",
    "        return self\n",
    "    \n",
    "    def transform(self, X):\n",
    "        if self.drop:\n",
    "            return X\n",
    "        X = np.copy(X)\n",
    "        df_name = pd.DataFrame(X[:, [self.name_ix, self.age_ix, self.sex_ix]], columns=['Name', 'Age', 'Sex'])\n",
    "        df = self.name_labeling(df_name)\n",
    "        \n",
    "        df.loc[(df['Name'] == \"missing\") & (df['Sex'] == 'female') & (df['Age'] < 17), 'Name'] = 'Mrs.'\n",
    "        df.loc[(df['Name'] == \"missing\") & (df['Sex'] == 'female') & (df['Age'] >=17), 'Name'] = 'Miss'\n",
    "        df.loc[(df['Name'] == \"missing\"), 'Name'] = 'Mr.'\n",
    "        X[:, [self.name_ix]] = df[['Name']].values\n",
    "        return X\n",
    "\n",
    "    def name_labeling(self, df_in):\n",
    "        df = df_in.copy()\n",
    "        df['new_name'] = None\n",
    "        for name in self.types_:\n",
    "            if df['Name'].str.contains(pat=name['pad'], regex=True).sum() > 0:\n",
    "                tmp_idx = df.loc[df['Name'].str.contains(pat=name['pad'], regex=True), 'Name'].index\n",
    "                df.loc[tmp_idx, 'new_name'] = name['type']\n",
    "        df['new_name'].fillna('missing', inplace=True)\n",
    "        df['Name'] = df['new_name']\n",
    "        df.drop(columns=['new_name'], inplace=True)\n",
    "        return df"
   ]
  },
  {
   "cell_type": "code",
   "execution_count": 35,
   "metadata": {},
   "outputs": [],
   "source": [
    "nametrans = NameTransformer()\n",
    "train_data = nametrans.fit_transform(train_data)"
   ]
  },
  {
   "cell_type": "code",
   "execution_count": 36,
   "metadata": {
    "scrolled": false
   },
   "outputs": [
    {
     "data": {
      "text/plain": [
       "<AxesSubplot:>"
      ]
     },
     "execution_count": 36,
     "metadata": {},
     "output_type": "execute_result"
    },
    {
     "data": {
      "image/png": "[encoded data removed]",
      "text/plain": [
       "<Figure size 864x504 with 1 Axes>"
      ]
     },
     "metadata": {
      "needs_background": "light"
     },
     "output_type": "display_data"
    }
   ],
   "source": [
    "data = pd.DataFrame(train_data, columns=list(train.columns) + ['cat_price', 'family', 'cat_age'])\n",
    "data['Name'].value_counts().sort_index().plot(kind='bar', figsize=(12,7))"
   ]
  },
  {
   "cell_type": "code",
   "execution_count": 37,
   "metadata": {},
   "outputs": [
    {
     "data": {
      "text/plain": [
       "Name\n",
       "Army                 56.600000\n",
       "Doctor               38.272727\n",
       "Master                5.925000\n",
       "Miss                 21.613260\n",
       "Mr.                  31.376699\n",
       "Mrs.                 34.645161\n",
       "Revered/Important    42.700000\n",
       "rare                 28.000000\n",
       "Name: Age, dtype: float64"
      ]
     },
     "execution_count": 37,
     "metadata": {},
     "output_type": "execute_result"
    }
   ],
   "source": [
    "data.convert_dtypes().groupby('Name')['Age'].mean()"
   ]
  },
  {
   "cell_type": "code",
   "execution_count": 38,
   "metadata": {},
   "outputs": [
    {
     "data": {
      "text/plain": [
       "Name\n",
       "Army                 45\n",
       "Doctor               21\n",
       "Master                0\n",
       "Miss                  1\n",
       "Mr.                  11\n",
       "Mrs.                 14\n",
       "Revered/Important    27\n",
       "rare                 24\n",
       "Name: Age, dtype: Int64"
      ]
     },
     "execution_count": 38,
     "metadata": {},
     "output_type": "execute_result"
    }
   ],
   "source": [
    "data.convert_dtypes().groupby('Name')['Age'].min()"
   ]
  },
  {
   "cell_type": "code",
   "execution_count": 39,
   "metadata": {},
   "outputs": [
    {
     "data": {
      "text/plain": [
       "Name\n",
       "Army                 70\n",
       "Doctor               54\n",
       "Master               18\n",
       "Miss                 63\n",
       "Mr.                  80\n",
       "Mrs.                 63\n",
       "Revered/Important    57\n",
       "rare                 40\n",
       "Name: Age, dtype: Int64"
      ]
     },
     "execution_count": 39,
     "metadata": {},
     "output_type": "execute_result"
    }
   ],
   "source": [
    "data.convert_dtypes().groupby('Name')['Age'].max()"
   ]
  },
  {
   "cell_type": "code",
   "execution_count": 40,
   "metadata": {},
   "outputs": [],
   "source": [
    "class CabinTransformer(BaseEstimator, TransformerMixin):\n",
    "    def __init__(self, cabin_ix=cabin_ix, pclass_ix=pclass_ix, drop=False):\n",
    "        self.cabin_ix = cabin_ix\n",
    "        self.pclass_ix = pclass_ix\n",
    "        self.probs_cabin = None\n",
    "        self.drop = drop\n",
    "    \n",
    "    def fit(self, X, y=None):\n",
    "        if self.drop:\n",
    "            return self\n",
    "        data = pd.DataFrame(X[:, [self.pclass_ix, self.cabin_ix]], columns=['Pclass', 'Cabin'])\n",
    "        data = self.cabin_labeling(data)\n",
    "        counts = data.groupby(['Pclass', 'Cabin'])['Pclass'].count().unstack().drop(columns=['missing'], errors='ignore')\n",
    "        self.probs_cabin = counts.div(counts.sum(axis=1), axis=0).fillna(0)\n",
    "        return self\n",
    "    \n",
    "    def transform(self, X):\n",
    "        if self.drop:\n",
    "            return X\n",
    "        X = np.copy(X)\n",
    "        df_cabin = pd.DataFrame(X[:, [self.cabin_ix, self.pclass_ix]], columns=['Cabin', 'Pclass'])\n",
    "        df = self.cabin_labeling(df_cabin)\n",
    "        df['Cabin'] = df.apply(lambda row: self.get_rnd_cabin_label(row['Cabin'], row['Pclass']), axis=1)\n",
    "        X[:, [self.cabin_ix]] = df[['Cabin']].values\n",
    "        return X\n",
    "\n",
    "    @staticmethod\n",
    "    def cabin_labeling(df_in):\n",
    "        df = df_in.copy()\n",
    "        df['new_cabin'] = None\n",
    "        for cabin_label in df['Cabin'].dropna().str[0].unique():\n",
    "            tmp_index = df.loc[df['Cabin'].str.contains(cabin_label, na=False), 'Cabin'].index\n",
    "            df.loc[tmp_index, 'new_cabin'] = cabin_label\n",
    "        df['new_cabin'].fillna('missing', inplace=True)\n",
    "        df['Cabin'] = df['new_cabin']\n",
    "        df.drop(columns=['new_cabin'], inplace=True)\n",
    "        return df\n",
    "    \n",
    "    def get_rnd_cabin_label(self, cabin_label, pclass):\n",
    "        return np.random.choice(self.probs_cabin.loc[pclass].index, size=1, \n",
    "                                p=self.probs_cabin.loc[pclass].values)[0] if cabin_label not in self.probs_cabin.columns else cabin_label"
   ]
  },
  {
   "cell_type": "code",
   "execution_count": 41,
   "metadata": {},
   "outputs": [],
   "source": [
    "cabintrans = CabinTransformer()\n",
    "train_data = cabintrans.fit_transform(train_data)"
   ]
  },
  {
   "cell_type": "code",
   "execution_count": 42,
   "metadata": {},
   "outputs": [
    {
     "data": {
      "text/plain": [
       "<AxesSubplot:>"
      ]
     },
     "execution_count": 42,
     "metadata": {},
     "output_type": "execute_result"
    },
    {
     "data": {
      "image/png": "[encoded data removed]",
      "text/plain": [
       "<Figure size 864x504 with 1 Axes>"
      ]
     },
     "metadata": {
      "needs_background": "light"
     },
     "output_type": "display_data"
    }
   ],
   "source": [
    "data = pd.DataFrame(train_data, columns=list(train.columns) + ['cat_price', 'family', 'cat_age'])\n",
    "data['Cabin'].value_counts().sort_index().plot(kind='bar', figsize=(12,7))"
   ]
  },
  {
   "cell_type": "code",
   "execution_count": 43,
   "metadata": {},
   "outputs": [],
   "source": [
    "from sklearn.model_selection import RandomizedSearchCV, GridSearchCV, RepeatedStratifiedKFold\n",
    "from sklearn.ensemble import RandomForestClassifier\n",
    "from sklearn.pipeline import Pipeline\n",
    "from sklearn.compose import ColumnTransformer"
   ]
  },
  {
   "cell_type": "markdown",
   "metadata": {},
   "source": [
    "# pipeline"
   ]
  },
  {
   "cell_type": "code",
   "execution_count": 44,
   "metadata": {},
   "outputs": [],
   "source": [
    "initial_pipeline = Pipeline([\n",
    "    ('price_cat', PriceCatGetter()),\n",
    "    ('age_imputor', AgeImputor()),\n",
    "    ('add_family', AddFamily()),\n",
    "    ('age_cat', AgeCat()),\n",
    "    ('imputor', SimpleImputer(strategy='most_frequent')),\n",
    "    ('rounding', AttributesRounding()),\n",
    "    ('name', NameTransformer()),\n",
    "    ('cabin', CabinTransformer())\n",
    "])"
   ]
  },
  {
   "cell_type": "code",
   "execution_count": 45,
   "metadata": {
    "scrolled": true
   },
   "outputs": [
    {
     "data": {
      "text/plain": [
       "array([[3, 'Mr.', 'male', ..., 'low_price_class_3', 'yes', 'adult'],\n",
       "       [1, 'Mrs.', 'female', ..., 'medium_price_class_1', 'yes', 'adult'],\n",
       "       [3, 'Miss', 'female', ..., 'medium_price_class_3', 'no', 'adult'],\n",
       "       ...,\n",
       "       [3, 'Miss', 'female', ..., 'high_price_class_3', 'yes', 'adult'],\n",
       "       [1, 'Mr.', 'male', ..., 'low_price_class_1', 'no', 'adult'],\n",
       "       [3, 'Mr.', 'male', ..., 'low_price_class_3', 'no', 'adult']],\n",
       "      dtype=object)"
      ]
     },
     "execution_count": 45,
     "metadata": {},
     "output_type": "execute_result"
    }
   ],
   "source": [
    "initial_pipeline.fit_transform(train.values, y)"
   ]
  },
  {
   "cell_type": "code",
   "execution_count": 46,
   "metadata": {},
   "outputs": [],
   "source": [
    "num_features = [fare_ix, age_ix]\n",
    "cat_features = [family_ix, sex_ix, pclass_ix, cabin_ix, embarked_ix, name_ix]\n",
    "\n",
    "col_transformer = ColumnTransformer(\n",
    "                    transformers=[\n",
    "                        ('num', SimpleImputer(strategy='median'), num_features),\n",
    "                        ('cat', OneHotEncoder(drop='first', handle_unknown='error'), cat_features)\n",
    "                    ],\n",
    "                    remainder='drop',\n",
    "                    n_jobs=1\n",
    "                    )"
   ]
  },
  {
   "cell_type": "markdown",
   "metadata": {},
   "source": [
    "# data analysis"
   ]
  },
  {
   "cell_type": "code",
   "execution_count": 47,
   "metadata": {},
   "outputs": [],
   "source": [
    "play_data = pd.concat([pd.DataFrame(initial_pipeline.fit_transform(train.values), \n",
    "                                    columns=['Pclass', 'Name', 'Sex', 'Age', 'SibSp', 'Parch', \n",
    "                                             'Ticket', 'Fare', 'Cabin', 'Embarked', 'cat_price', \n",
    "                                             'family', 'cat_age'], \n",
    "                                    index=range(1, train.values.shape[0]+1)), y], axis=1)"
   ]
  },
  {
   "cell_type": "code",
   "execution_count": 48,
   "metadata": {
    "scrolled": false
   },
   "outputs": [
    {
     "data": {
      "text/html": [
       "<div>\n",
       "<style scoped>\n",
       "    .dataframe tbody tr th:only-of-type {\n",
       "        vertical-align: middle;\n",
       "    }\n",
       "\n",
       "    .dataframe tbody tr th {\n",
       "        vertical-align: top;\n",
       "    }\n",
       "\n",
       "    .dataframe thead th {\n",
       "        text-align: right;\n",
       "    }\n",
       "</style>\n",
       "<table border=\"1\" class=\"dataframe\">\n",
       "  <thead>\n",
       "    <tr style=\"text-align: right;\">\n",
       "      <th></th>\n",
       "      <th>Pclass</th>\n",
       "      <th>Name</th>\n",
       "      <th>Sex</th>\n",
       "      <th>Age</th>\n",
       "      <th>SibSp</th>\n",
       "      <th>Parch</th>\n",
       "      <th>Ticket</th>\n",
       "      <th>Fare</th>\n",
       "      <th>Cabin</th>\n",
       "      <th>Embarked</th>\n",
       "      <th>cat_price</th>\n",
       "      <th>family</th>\n",
       "      <th>cat_age</th>\n",
       "      <th>Survived</th>\n",
       "    </tr>\n",
       "  </thead>\n",
       "  <tbody>\n",
       "    <tr>\n",
       "      <th>1</th>\n",
       "      <td>3</td>\n",
       "      <td>Mr.</td>\n",
       "      <td>male</td>\n",
       "      <td>22</td>\n",
       "      <td>1</td>\n",
       "      <td>0</td>\n",
       "      <td>A/5 21171</td>\n",
       "      <td>7.25</td>\n",
       "      <td>B</td>\n",
       "      <td>S</td>\n",
       "      <td>low_price_class_3</td>\n",
       "      <td>yes</td>\n",
       "      <td>adult</td>\n",
       "      <td>0</td>\n",
       "    </tr>\n",
       "    <tr>\n",
       "      <th>2</th>\n",
       "      <td>1</td>\n",
       "      <td>Mrs.</td>\n",
       "      <td>female</td>\n",
       "      <td>38</td>\n",
       "      <td>1</td>\n",
       "      <td>0</td>\n",
       "      <td>PC 17599</td>\n",
       "      <td>71.2833</td>\n",
       "      <td>C</td>\n",
       "      <td>C</td>\n",
       "      <td>medium_price_class_1</td>\n",
       "      <td>yes</td>\n",
       "      <td>adult</td>\n",
       "      <td>1</td>\n",
       "    </tr>\n",
       "    <tr>\n",
       "      <th>3</th>\n",
       "      <td>3</td>\n",
       "      <td>Miss</td>\n",
       "      <td>female</td>\n",
       "      <td>26</td>\n",
       "      <td>0</td>\n",
       "      <td>0</td>\n",
       "      <td>STON/O2. 3101282</td>\n",
       "      <td>7.925</td>\n",
       "      <td>B</td>\n",
       "      <td>S</td>\n",
       "      <td>medium_price_class_3</td>\n",
       "      <td>no</td>\n",
       "      <td>adult</td>\n",
       "      <td>1</td>\n",
       "    </tr>\n",
       "    <tr>\n",
       "      <th>4</th>\n",
       "      <td>1</td>\n",
       "      <td>Mrs.</td>\n",
       "      <td>female</td>\n",
       "      <td>35</td>\n",
       "      <td>1</td>\n",
       "      <td>0</td>\n",
       "      <td>113803</td>\n",
       "      <td>53.1</td>\n",
       "      <td>C</td>\n",
       "      <td>S</td>\n",
       "      <td>medium_price_class_1</td>\n",
       "      <td>yes</td>\n",
       "      <td>adult</td>\n",
       "      <td>1</td>\n",
       "    </tr>\n",
       "    <tr>\n",
       "      <th>5</th>\n",
       "      <td>3</td>\n",
       "      <td>Mr.</td>\n",
       "      <td>male</td>\n",
       "      <td>35</td>\n",
       "      <td>0</td>\n",
       "      <td>0</td>\n",
       "      <td>373450</td>\n",
       "      <td>8.05</td>\n",
       "      <td>B</td>\n",
       "      <td>S</td>\n",
       "      <td>medium_price_class_3</td>\n",
       "      <td>no</td>\n",
       "      <td>adult</td>\n",
       "      <td>0</td>\n",
       "    </tr>\n",
       "  </tbody>\n",
       "</table>\n",
       "</div>"
      ],
      "text/plain": [
       "  Pclass  Name     Sex Age SibSp Parch            Ticket     Fare Cabin  \\\n",
       "1      3   Mr.    male  22     1     0         A/5 21171     7.25     B   \n",
       "2      1  Mrs.  female  38     1     0          PC 17599  71.2833     C   \n",
       "3      3  Miss  female  26     0     0  STON/O2. 3101282    7.925     B   \n",
       "4      1  Mrs.  female  35     1     0            113803     53.1     C   \n",
       "5      3   Mr.    male  35     0     0            373450     8.05     B   \n",
       "\n",
       "  Embarked             cat_price family cat_age  Survived  \n",
       "1        S     low_price_class_3    yes   adult         0  \n",
       "2        C  medium_price_class_1    yes   adult         1  \n",
       "3        S  medium_price_class_3     no   adult         1  \n",
       "4        S  medium_price_class_1    yes   adult         1  \n",
       "5        S  medium_price_class_3     no   adult         0  "
      ]
     },
     "execution_count": 48,
     "metadata": {},
     "output_type": "execute_result"
    }
   ],
   "source": [
    "play_data.head()"
   ]
  },
  {
   "cell_type": "code",
   "execution_count": 49,
   "metadata": {
    "scrolled": true
   },
   "outputs": [
    {
     "data": {
      "text/html": [
       "<div>\n",
       "<style scoped>\n",
       "    .dataframe tbody tr th:only-of-type {\n",
       "        vertical-align: middle;\n",
       "    }\n",
       "\n",
       "    .dataframe tbody tr th {\n",
       "        vertical-align: top;\n",
       "    }\n",
       "\n",
       "    .dataframe thead th {\n",
       "        text-align: right;\n",
       "    }\n",
       "</style>\n",
       "<table border=\"1\" class=\"dataframe\">\n",
       "  <thead>\n",
       "    <tr style=\"text-align: right;\">\n",
       "      <th></th>\n",
       "      <th>Survived</th>\n",
       "      <th>Pclass</th>\n",
       "      <th>Name</th>\n",
       "      <th>Sex</th>\n",
       "      <th>Age</th>\n",
       "      <th>SibSp</th>\n",
       "      <th>Parch</th>\n",
       "      <th>Ticket</th>\n",
       "      <th>Fare</th>\n",
       "      <th>Cabin</th>\n",
       "      <th>Embarked</th>\n",
       "    </tr>\n",
       "    <tr>\n",
       "      <th>PassengerId</th>\n",
       "      <th></th>\n",
       "      <th></th>\n",
       "      <th></th>\n",
       "      <th></th>\n",
       "      <th></th>\n",
       "      <th></th>\n",
       "      <th></th>\n",
       "      <th></th>\n",
       "      <th></th>\n",
       "      <th></th>\n",
       "      <th></th>\n",
       "    </tr>\n",
       "  </thead>\n",
       "  <tbody>\n",
       "    <tr>\n",
       "      <th>1</th>\n",
       "      <td>0</td>\n",
       "      <td>3</td>\n",
       "      <td>Braund, Mr. Owen Harris</td>\n",
       "      <td>male</td>\n",
       "      <td>22.0</td>\n",
       "      <td>1</td>\n",
       "      <td>0</td>\n",
       "      <td>A/5 21171</td>\n",
       "      <td>7.2500</td>\n",
       "      <td>NaN</td>\n",
       "      <td>S</td>\n",
       "    </tr>\n",
       "    <tr>\n",
       "      <th>2</th>\n",
       "      <td>1</td>\n",
       "      <td>1</td>\n",
       "      <td>Cumings, Mrs. John Bradley (Florence Briggs Th...</td>\n",
       "      <td>female</td>\n",
       "      <td>38.0</td>\n",
       "      <td>1</td>\n",
       "      <td>0</td>\n",
       "      <td>PC 17599</td>\n",
       "      <td>71.2833</td>\n",
       "      <td>C85</td>\n",
       "      <td>C</td>\n",
       "    </tr>\n",
       "    <tr>\n",
       "      <th>3</th>\n",
       "      <td>1</td>\n",
       "      <td>3</td>\n",
       "      <td>Heikkinen, Miss. Laina</td>\n",
       "      <td>female</td>\n",
       "      <td>26.0</td>\n",
       "      <td>0</td>\n",
       "      <td>0</td>\n",
       "      <td>STON/O2. 3101282</td>\n",
       "      <td>7.9250</td>\n",
       "      <td>NaN</td>\n",
       "      <td>S</td>\n",
       "    </tr>\n",
       "    <tr>\n",
       "      <th>4</th>\n",
       "      <td>1</td>\n",
       "      <td>1</td>\n",
       "      <td>Futrelle, Mrs. Jacques Heath (Lily May Peel)</td>\n",
       "      <td>female</td>\n",
       "      <td>35.0</td>\n",
       "      <td>1</td>\n",
       "      <td>0</td>\n",
       "      <td>113803</td>\n",
       "      <td>53.1000</td>\n",
       "      <td>C123</td>\n",
       "      <td>S</td>\n",
       "    </tr>\n",
       "    <tr>\n",
       "      <th>5</th>\n",
       "      <td>0</td>\n",
       "      <td>3</td>\n",
       "      <td>Allen, Mr. William Henry</td>\n",
       "      <td>male</td>\n",
       "      <td>35.0</td>\n",
       "      <td>0</td>\n",
       "      <td>0</td>\n",
       "      <td>373450</td>\n",
       "      <td>8.0500</td>\n",
       "      <td>NaN</td>\n",
       "      <td>S</td>\n",
       "    </tr>\n",
       "  </tbody>\n",
       "</table>\n",
       "</div>"
      ],
      "text/plain": [
       "             Survived  Pclass  \\\n",
       "PassengerId                     \n",
       "1                   0       3   \n",
       "2                   1       1   \n",
       "3                   1       3   \n",
       "4                   1       1   \n",
       "5                   0       3   \n",
       "\n",
       "                                                          Name     Sex   Age  \\\n",
       "PassengerId                                                                    \n",
       "1                                      Braund, Mr. Owen Harris    male  22.0   \n",
       "2            Cumings, Mrs. John Bradley (Florence Briggs Th...  female  38.0   \n",
       "3                                       Heikkinen, Miss. Laina  female  26.0   \n",
       "4                 Futrelle, Mrs. Jacques Heath (Lily May Peel)  female  35.0   \n",
       "5                                     Allen, Mr. William Henry    male  35.0   \n",
       "\n",
       "             SibSp  Parch            Ticket     Fare Cabin Embarked  \n",
       "PassengerId                                                          \n",
       "1                1      0         A/5 21171   7.2500   NaN        S  \n",
       "2                1      0          PC 17599  71.2833   C85        C  \n",
       "3                0      0  STON/O2. 3101282   7.9250   NaN        S  \n",
       "4                1      0            113803  53.1000  C123        S  \n",
       "5                0      0            373450   8.0500   NaN        S  "
      ]
     },
     "execution_count": 49,
     "metadata": {},
     "output_type": "execute_result"
    }
   ],
   "source": [
    "train_play.head()"
   ]
  },
  {
   "cell_type": "code",
   "execution_count": 50,
   "metadata": {
    "scrolled": true
   },
   "outputs": [
    {
     "data": {
      "text/plain": [
       "<AxesSubplot:xlabel='Sex', ylabel='Survived'>"
      ]
     },
     "execution_count": 50,
     "metadata": {},
     "output_type": "execute_result"
    },
    {
     "data": {
      "image/png": "[encoded data removed]",
      "text/plain": [
       "<Figure size 432x288 with 1 Axes>"
      ]
     },
     "metadata": {
      "needs_background": "light"
     },
     "output_type": "display_data"
    }
   ],
   "source": [
    "sns.barplot(x='Sex', y='Survived', data=play_data)"
   ]
  },
  {
   "cell_type": "code",
   "execution_count": 51,
   "metadata": {
    "scrolled": true
   },
   "outputs": [
    {
     "data": {
      "text/plain": [
       "<AxesSubplot:xlabel='Pclass', ylabel='Survived'>"
      ]
     },
     "execution_count": 51,
     "metadata": {},
     "output_type": "execute_result"
    },
    {
     "data": {
      "image/png": "[encoded data removed]",
      "text/plain": [
       "<Figure size 432x288 with 1 Axes>"
      ]
     },
     "metadata": {
      "needs_background": "light"
     },
     "output_type": "display_data"
    }
   ],
   "source": [
    "sns.barplot(x='Pclass', y='Survived', data=play_data)"
   ]
  },
  {
   "cell_type": "code",
   "execution_count": 61,
   "metadata": {},
   "outputs": [],
   "source": [
    "def list_results(search_cv):\n",
    "    results = []\n",
    "    for params, score in zip(search_cv.cv_results_['params'], search_cv.cv_results_['mean_test_score']):\n",
    "        params['score'] = score\n",
    "        results.append(params)\n",
    "    return pd.DataFrame(results).sort_values(by='score', ascending=False)\n",
    "        \n",
    "def save_results(test_data, pred, num):\n",
    "    result = pd.DataFrame((pred > 0.5)[:, np.newaxis].astype(int), index=test_data.index, columns=['Survived'])\n",
    "    result.to_csv(f'submit_{num}.csv')\n",
    "    \n",
    "def get_learning_curve(model, X, y, start, step):\n",
    "    X_train, X_val, y_train, y_val = train_test_split(X, y, stratify=y, test_size=0.2)\n",
    "    train_errors, val_errors = [], []\n",
    "    for m in range(start, len(X_train), step):\n",
    "        print(m/len(X_train))\n",
    "        model.fit(X_train[:m], y_train[:m])\n",
    "        train_pred = model.predict(X_train[:m])\n",
    "        val_pred = model.predict(X_val)\n",
    "        train_errors.append(accuracy_score(y_train[:m], train_pred))\n",
    "        val_errors.append(accuracy_score(y_val, val_pred))\n",
    "    return train_errors, val_errors \n",
    "\n",
    "def plot_learning_curve(model):\n",
    "    start = 100\n",
    "    step = 20\n",
    "    t, v = get_learning_curve(model, train.values, y, start, step)\n",
    "    fig, ax = plt.subplots(nrows=1, ncols=1, figsize=(12, 7))\n",
    "    ax.plot(np.arange(start, start+step*len(t), step), np.sqrt(t), 'r-', marker='x', label='train')\n",
    "    ax.plot(np.arange(start, start+step*len(v), step), np.sqrt(v), 'b-', marker='o', label='val')\n",
    "    ax.grid(True)\n",
    "    ax.set(xlabel='iteration', ylabel='accuracy')\n",
    "    plt.legend()"
   ]
  },
  {
   "cell_type": "code",
   "execution_count": 52,
   "metadata": {},
   "outputs": [],
   "source": [
    "def get_feature_importance(train, y):\n",
    "    pipeline = Pipeline([\n",
    "        ('initial', initial_pipeline),\n",
    "        ('onehot', col_transformer),\n",
    "        ('model', RandomForestClassifier())\n",
    "    ])\n",
    "    pipeline.fit(train.values, y)\n",
    "    cols = pipeline.named_steps['onehot'].transformers_[0][2] + pipeline.named_steps['onehot'].transformers_[1][1].get_feature_names().tolist()\n",
    "    feature_importances = pipeline.named_steps['model'].feature_importances_\n",
    "    importances = pd.DataFrame(feature_importances, index=cols, columns=['importance'])\n",
    "    return importances, feature_importances"
   ]
  },
  {
   "cell_type": "code",
   "execution_count": 53,
   "metadata": {},
   "outputs": [],
   "source": [
    "features, saved_feature_importances = get_feature_importance(train, y)"
   ]
  },
  {
   "cell_type": "code",
   "execution_count": 54,
   "metadata": {
    "scrolled": true
   },
   "outputs": [
    {
     "data": {
      "text/html": [
       "<div>\n",
       "<style scoped>\n",
       "    .dataframe tbody tr th:only-of-type {\n",
       "        vertical-align: middle;\n",
       "    }\n",
       "\n",
       "    .dataframe tbody tr th {\n",
       "        vertical-align: top;\n",
       "    }\n",
       "\n",
       "    .dataframe thead th {\n",
       "        text-align: right;\n",
       "    }\n",
       "</style>\n",
       "<table border=\"1\" class=\"dataframe\">\n",
       "  <thead>\n",
       "    <tr style=\"text-align: right;\">\n",
       "      <th></th>\n",
       "      <th>importance</th>\n",
       "    </tr>\n",
       "  </thead>\n",
       "  <tbody>\n",
       "    <tr>\n",
       "      <th>7</th>\n",
       "      <td>0.250714</td>\n",
       "    </tr>\n",
       "    <tr>\n",
       "      <th>3</th>\n",
       "      <td>0.235180</td>\n",
       "    </tr>\n",
       "    <tr>\n",
       "      <th>x1_male</th>\n",
       "      <td>0.126591</td>\n",
       "    </tr>\n",
       "    <tr>\n",
       "      <th>x5_Mr.</th>\n",
       "      <td>0.108658</td>\n",
       "    </tr>\n",
       "    <tr>\n",
       "      <th>x2_3</th>\n",
       "      <td>0.058269</td>\n",
       "    </tr>\n",
       "    <tr>\n",
       "      <th>x5_Miss</th>\n",
       "      <td>0.037464</td>\n",
       "    </tr>\n",
       "    <tr>\n",
       "      <th>x5_Mrs.</th>\n",
       "      <td>0.035889</td>\n",
       "    </tr>\n",
       "    <tr>\n",
       "      <th>x3_B</th>\n",
       "      <td>0.025266</td>\n",
       "    </tr>\n",
       "    <tr>\n",
       "      <th>x0_yes</th>\n",
       "      <td>0.022327</td>\n",
       "    </tr>\n",
       "    <tr>\n",
       "      <th>x4_S</th>\n",
       "      <td>0.022029</td>\n",
       "    </tr>\n",
       "    <tr>\n",
       "      <th>x2_2</th>\n",
       "      <td>0.020392</td>\n",
       "    </tr>\n",
       "    <tr>\n",
       "      <th>x4_Q</th>\n",
       "      <td>0.012411</td>\n",
       "    </tr>\n",
       "    <tr>\n",
       "      <th>x3_E</th>\n",
       "      <td>0.009925</td>\n",
       "    </tr>\n",
       "    <tr>\n",
       "      <th>x5_Master</th>\n",
       "      <td>0.009513</td>\n",
       "    </tr>\n",
       "    <tr>\n",
       "      <th>x3_D</th>\n",
       "      <td>0.007243</td>\n",
       "    </tr>\n",
       "    <tr>\n",
       "      <th>x3_C</th>\n",
       "      <td>0.006485</td>\n",
       "    </tr>\n",
       "    <tr>\n",
       "      <th>x5_Revered/Important</th>\n",
       "      <td>0.003560</td>\n",
       "    </tr>\n",
       "    <tr>\n",
       "      <th>x5_Doctor</th>\n",
       "      <td>0.003072</td>\n",
       "    </tr>\n",
       "    <tr>\n",
       "      <th>x3_F</th>\n",
       "      <td>0.002098</td>\n",
       "    </tr>\n",
       "    <tr>\n",
       "      <th>x5_rare</th>\n",
       "      <td>0.001410</td>\n",
       "    </tr>\n",
       "    <tr>\n",
       "      <th>x3_G</th>\n",
       "      <td>0.001102</td>\n",
       "    </tr>\n",
       "    <tr>\n",
       "      <th>x3_T</th>\n",
       "      <td>0.000405</td>\n",
       "    </tr>\n",
       "  </tbody>\n",
       "</table>\n",
       "</div>"
      ],
      "text/plain": [
       "                      importance\n",
       "7                       0.250714\n",
       "3                       0.235180\n",
       "x1_male                 0.126591\n",
       "x5_Mr.                  0.108658\n",
       "x2_3                    0.058269\n",
       "x5_Miss                 0.037464\n",
       "x5_Mrs.                 0.035889\n",
       "x3_B                    0.025266\n",
       "x0_yes                  0.022327\n",
       "x4_S                    0.022029\n",
       "x2_2                    0.020392\n",
       "x4_Q                    0.012411\n",
       "x3_E                    0.009925\n",
       "x5_Master               0.009513\n",
       "x3_D                    0.007243\n",
       "x3_C                    0.006485\n",
       "x5_Revered/Important    0.003560\n",
       "x5_Doctor               0.003072\n",
       "x3_F                    0.002098\n",
       "x5_rare                 0.001410\n",
       "x3_G                    0.001102\n",
       "x3_T                    0.000405"
      ]
     },
     "execution_count": 54,
     "metadata": {},
     "output_type": "execute_result"
    }
   ],
   "source": [
    "features.sort_values(by='importance', ascending=False)"
   ]
  },
  {
   "cell_type": "markdown",
   "metadata": {},
   "source": [
    "# RDF"
   ]
  },
  {
   "cell_type": "code",
   "execution_count": 55,
   "metadata": {},
   "outputs": [],
   "source": [
    "full_pipeline_rdf = Pipeline([\n",
    "    ('initial', initial_pipeline),\n",
    "    ('onehot', col_transformer),\n",
    "    ('model', RandomForestClassifier())\n",
    "])"
   ]
  },
  {
   "cell_type": "code",
   "execution_count": 56,
   "metadata": {},
   "outputs": [
    {
     "name": "stdout",
     "output_type": "stream",
     "text": [
      "dict_keys(['memory', 'steps', 'verbose', 'initial', 'onehot', 'model', 'initial__memory', 'initial__steps', 'initial__verbose', 'initial__price_cat', 'initial__age_imputor', 'initial__add_family', 'initial__age_cat', 'initial__imputor', 'initial__rounding', 'initial__name', 'initial__cabin', 'initial__price_cat__age_ix', 'initial__price_cat__fare_ix', 'initial__price_cat__pclass_ix', 'initial__age_imputor__age_ix', 'initial__age_imputor__cat_price_ix', 'initial__age_imputor__pclass_ix', 'initial__age_imputor__sex_ix', 'initial__add_family__drop', 'initial__add_family__parch_ix', 'initial__add_family__sibsp_ix', 'initial__age_cat__age_ix', 'initial__age_cat__drop', 'initial__imputor__add_indicator', 'initial__imputor__copy', 'initial__imputor__fill_value', 'initial__imputor__missing_values', 'initial__imputor__strategy', 'initial__imputor__verbose', 'initial__rounding__col_ix', 'initial__name__age_ix', 'initial__name__drop', 'initial__name__name_ix', 'initial__name__sex_ix', 'initial__cabin__cabin_ix', 'initial__cabin__drop', 'initial__cabin__pclass_ix', 'onehot__n_jobs', 'onehot__remainder', 'onehot__sparse_threshold', 'onehot__transformer_weights', 'onehot__transformers', 'onehot__verbose', 'onehot__num', 'onehot__cat', 'onehot__num__add_indicator', 'onehot__num__copy', 'onehot__num__fill_value', 'onehot__num__missing_values', 'onehot__num__strategy', 'onehot__num__verbose', 'onehot__cat__categories', 'onehot__cat__drop', 'onehot__cat__dtype', 'onehot__cat__handle_unknown', 'onehot__cat__sparse', 'model__bootstrap', 'model__ccp_alpha', 'model__class_weight', 'model__criterion', 'model__max_depth', 'model__max_features', 'model__max_leaf_nodes', 'model__max_samples', 'model__min_impurity_decrease', 'model__min_impurity_split', 'model__min_samples_leaf', 'model__min_samples_split', 'model__min_weight_fraction_leaf', 'model__n_estimators', 'model__n_jobs', 'model__oob_score', 'model__random_state', 'model__verbose', 'model__warm_start'])\n"
     ]
    }
   ],
   "source": [
    "print(full_pipeline_rdf.get_params().keys())"
   ]
  },
  {
   "cell_type": "code",
   "execution_count": 57,
   "metadata": {},
   "outputs": [
    {
     "data": {
      "text/plain": [
       "[('num', SimpleImputer(strategy='median'), [7, 3]),\n",
       " ('cat', OneHotEncoder(drop='first'), [11, 2, 0, 8, 9, 1])]"
      ]
     },
     "execution_count": 57,
     "metadata": {},
     "output_type": "execute_result"
    }
   ],
   "source": [
    "full_pipeline_rdf.get_params()['onehot__transformers']"
   ]
  },
  {
   "cell_type": "code",
   "execution_count": 58,
   "metadata": {},
   "outputs": [
    {
     "data": {
      "text/plain": [
       "Pipeline(steps=[('initial',\n",
       "                 Pipeline(steps=[('price_cat', PriceCatGetter()),\n",
       "                                 ('age_imputor', AgeImputor()),\n",
       "                                 ('add_family', AddFamily()),\n",
       "                                 ('age_cat', AgeCat()),\n",
       "                                 ('imputor',\n",
       "                                  SimpleImputer(strategy='most_frequent')),\n",
       "                                 ('rounding', AttributesRounding()),\n",
       "                                 ('name', NameTransformer()),\n",
       "                                 ('cabin', CabinTransformer())])),\n",
       "                ('onehot',\n",
       "                 ColumnTransformer(n_jobs=1,\n",
       "                                   transformers=[('num',\n",
       "                                                  SimpleImputer(strategy='median'),\n",
       "                                                  [7, 3]),\n",
       "                                                 ('cat',\n",
       "                                                  OneHotEncoder(drop='first'),\n",
       "                                                  [11, 2, 0, 8, 9, 1])])),\n",
       "                ('model', RandomForestClassifier())])"
      ]
     },
     "execution_count": 58,
     "metadata": {},
     "output_type": "execute_result"
    }
   ],
   "source": [
    "full_pipeline_rdf.fit(train.values, y)"
   ]
  },
  {
   "cell_type": "code",
   "execution_count": 59,
   "metadata": {},
   "outputs": [],
   "source": [
    "param_grid_rdf = [\n",
    "    {'onehot__transformers': [[('num', SimpleImputer(strategy='median'), [fare_ix, age_ix, parch_ix, sibsp_ix]),\n",
    "                               ('cat', OneHotEncoder(drop='first'), [name_ix, cabin_ix, pclass_ix, age_cat_ix, family_ix, embarked_ix, sex_ix, cat_price_ix])],\n",
    "                              [('num', SimpleImputer(strategy='median'), [fare_ix]),\n",
    "                               ('cat', OneHotEncoder(drop='first'), [family_ix, pclass_ix, age_cat_ix, sex_ix])],\n",
    "                              [('num', SimpleImputer(strategy='median'), [fare_ix]),\n",
    "                               ('cat', OneHotEncoder(drop='first'), [family_ix, pclass_ix, age_cat_ix, sex_ix, name_ix, cabin_ix])],\n",
    "                              [('num', SimpleImputer(strategy='median'), [fare_ix]),\n",
    "                               ('cat', OneHotEncoder(drop='first'), [family_ix, pclass_ix, age_cat_ix, sex_ix, name_ix, cabin_ix, embarked_ix])]   \n",
    "                             ],\n",
    "     'model__n_estimators': [150, 180, 200, 225],\n",
    "     #'model__criterion': ['gini', 'entropy'],\n",
    "     #'model__max_features': ['auto', 'log2', None],\n",
    "     #'model__bootstrap': [False, True],\n",
    "     'model__min_samples_leaf': [8, 10, 12, 15, 17, 20],\n",
    "     'model__min_samples_split': [8, 10, 12, 15, 20],\n",
    "     \n",
    "     #{'n_estimators':[300, 500, 1000],\n",
    "     #                'max_depth':[5, 9],\n",
    "     #                'max_samples':[0.5, 0.7, 0.9],\n",
    "     #                'max_features':[0.5, 0.7, 0.9], \n",
    "     #                'min_samples_split':[2, 5, 8]\n",
    "    }\n",
    "]\n",
    "\n",
    "search_rdf = RandomizedSearchCV(full_pipeline_rdf, param_grid_rdf, n_iter=10, \n",
    "                            cv=RepeatedStratifiedKFold(n_splits=10, n_repeats=2, random_state=42), \n",
    "                            refit=True, verbose=2, n_jobs=1, scoring='accuracy')"
   ]
  },
  {
   "cell_type": "code",
   "execution_count": 60,
   "metadata": {
    "scrolled": true
   },
   "outputs": [
    {
     "name": "stdout",
     "output_type": "stream",
     "text": [
      "Fitting 20 folds for each of 10 candidates, totalling 200 fits\n",
      "[CV] onehot__transformers=[('num', SimpleImputer(strategy='median'), [7]), ('cat', OneHotEncoder(drop='first'), [11, 0, 12, 2, 1, 8, 9])], model__n_estimators=225, model__min_samples_split=8, model__min_samples_leaf=17 \n"
     ]
    },
    {
     "name": "stderr",
     "output_type": "stream",
     "text": [
      "[Parallel(n_jobs=1)]: Using backend SequentialBackend with 1 concurrent workers.\n"
     ]
    },
    {
     "name": "stdout",
     "output_type": "stream",
     "text": [
      "[CV]  onehot__transformers=[('num', SimpleImputer(strategy='median'), [7]), ('cat', OneHotEncoder(drop='first'), [11, 0, 12, 2, 1, 8, 9])], model__n_estimators=225, model__min_samples_split=8, model__min_samples_leaf=17, total=   0.5s\n",
      "[CV] onehot__transformers=[('num', SimpleImputer(strategy='median'), [7]), ('cat', OneHotEncoder(drop='first'), [11, 0, 12, 2, 1, 8, 9])], model__n_estimators=225, model__min_samples_split=8, model__min_samples_leaf=17 \n"
     ]
    },
    {
     "name": "stderr",
     "output_type": "stream",
     "text": [
      "[Parallel(n_jobs=1)]: Done   1 out of   1 | elapsed:    0.5s remaining:    0.0s\n"
     ]
    },
    {
     "name": "stdout",
     "output_type": "stream",
     "text": [
      "[CV]  onehot__transformers=[('num', SimpleImputer(strategy='median'), [7]), ('cat', OneHotEncoder(drop='first'), [11, 0, 12, 2, 1, 8, 9])], model__n_estimators=225, model__min_samples_split=8, model__min_samples_leaf=17, total=   0.5s\n",
      "[CV] onehot__transformers=[('num', SimpleImputer(strategy='median'), [7]), ('cat', OneHotEncoder(drop='first'), [11, 0, 12, 2, 1, 8, 9])], model__n_estimators=225, model__min_samples_split=8, model__min_samples_leaf=17 \n",
      "[CV]  onehot__transformers=[('num', SimpleImputer(strategy='median'), [7]), ('cat', OneHotEncoder(drop='first'), [11, 0, 12, 2, 1, 8, 9])], model__n_estimators=225, model__min_samples_split=8, model__min_samples_leaf=17, total=   0.4s\n",
      "[CV] onehot__transformers=[('num', SimpleImputer(strategy='median'), [7]), ('cat', OneHotEncoder(drop='first'), [11, 0, 12, 2, 1, 8, 9])], model__n_estimators=225, model__min_samples_split=8, model__min_samples_leaf=17 \n",
      "[CV]  onehot__transformers=[('num', SimpleImputer(strategy='median'), [7]), ('cat', OneHotEncoder(drop='first'), [11, 0, 12, 2, 1, 8, 9])], model__n_estimators=225, model__min_samples_split=8, model__min_samples_leaf=17, total=   0.4s\n",
      "[CV] onehot__transformers=[('num', SimpleImputer(strategy='median'), [7]), ('cat', OneHotEncoder(drop='first'), [11, 0, 12, 2, 1, 8, 9])], model__n_estimators=225, model__min_samples_split=8, model__min_samples_leaf=17 \n",
      "[CV]  onehot__transformers=[('num', SimpleImputer(strategy='median'), [7]), ('cat', OneHotEncoder(drop='first'), [11, 0, 12, 2, 1, 8, 9])], model__n_estimators=225, model__min_samples_split=8, model__min_samples_leaf=17, total=   0.5s\n",
      "[CV] onehot__transformers=[('num', SimpleImputer(strategy='median'), [7]), ('cat', OneHotEncoder(drop='first'), [11, 0, 12, 2, 1, 8, 9])], model__n_estimators=225, model__min_samples_split=8, model__min_samples_leaf=17 \n",
      "[CV]  onehot__transformers=[('num', SimpleImputer(strategy='median'), [7]), ('cat', OneHotEncoder(drop='first'), [11, 0, 12, 2, 1, 8, 9])], model__n_estimators=225, model__min_samples_split=8, model__min_samples_leaf=17, total=   0.4s\n",
      "[CV] onehot__transformers=[('num', SimpleImputer(strategy='median'), [7]), ('cat', OneHotEncoder(drop='first'), [11, 0, 12, 2, 1, 8, 9])], model__n_estimators=225, model__min_samples_split=8, model__min_samples_leaf=17 \n",
      "[CV]  onehot__transformers=[('num', SimpleImputer(strategy='median'), [7]), ('cat', OneHotEncoder(drop='first'), [11, 0, 12, 2, 1, 8, 9])], model__n_estimators=225, model__min_samples_split=8, model__min_samples_leaf=17, total=   0.5s\n",
      "[CV] onehot__transformers=[('num', SimpleImputer(strategy='median'), [7]), ('cat', OneHotEncoder(drop='first'), [11, 0, 12, 2, 1, 8, 9])], model__n_estimators=225, model__min_samples_split=8, model__min_samples_leaf=17 \n",
      "[CV]  onehot__transformers=[('num', SimpleImputer(strategy='median'), [7]), ('cat', OneHotEncoder(drop='first'), [11, 0, 12, 2, 1, 8, 9])], model__n_estimators=225, model__min_samples_split=8, model__min_samples_leaf=17, total=   0.5s\n",
      "[CV] onehot__transformers=[('num', SimpleImputer(strategy='median'), [7]), ('cat', OneHotEncoder(drop='first'), [11, 0, 12, 2, 1, 8, 9])], model__n_estimators=225, model__min_samples_split=8, model__min_samples_leaf=17 \n",
      "[CV]  onehot__transformers=[('num', SimpleImputer(strategy='median'), [7]), ('cat', OneHotEncoder(drop='first'), [11, 0, 12, 2, 1, 8, 9])], model__n_estimators=225, model__min_samples_split=8, model__min_samples_leaf=17, total=   0.5s\n",
      "[CV] onehot__transformers=[('num', SimpleImputer(strategy='median'), [7]), ('cat', OneHotEncoder(drop='first'), [11, 0, 12, 2, 1, 8, 9])], model__n_estimators=225, model__min_samples_split=8, model__min_samples_leaf=17 \n",
      "[CV]  onehot__transformers=[('num', SimpleImputer(strategy='median'), [7]), ('cat', OneHotEncoder(drop='first'), [11, 0, 12, 2, 1, 8, 9])], model__n_estimators=225, model__min_samples_split=8, model__min_samples_leaf=17, total=   0.4s\n",
      "[CV] onehot__transformers=[('num', SimpleImputer(strategy='median'), [7]), ('cat', OneHotEncoder(drop='first'), [11, 0, 12, 2, 1, 8, 9])], model__n_estimators=225, model__min_samples_split=8, model__min_samples_leaf=17 \n",
      "[CV]  onehot__transformers=[('num', SimpleImputer(strategy='median'), [7]), ('cat', OneHotEncoder(drop='first'), [11, 0, 12, 2, 1, 8, 9])], model__n_estimators=225, model__min_samples_split=8, model__min_samples_leaf=17, total=   0.5s\n",
      "[CV] onehot__transformers=[('num', SimpleImputer(strategy='median'), [7]), ('cat', OneHotEncoder(drop='first'), [11, 0, 12, 2, 1, 8, 9])], model__n_estimators=225, model__min_samples_split=8, model__min_samples_leaf=17 \n",
      "[CV]  onehot__transformers=[('num', SimpleImputer(strategy='median'), [7]), ('cat', OneHotEncoder(drop='first'), [11, 0, 12, 2, 1, 8, 9])], model__n_estimators=225, model__min_samples_split=8, model__min_samples_leaf=17, total=   0.4s\n",
      "[CV] onehot__transformers=[('num', SimpleImputer(strategy='median'), [7]), ('cat', OneHotEncoder(drop='first'), [11, 0, 12, 2, 1, 8, 9])], model__n_estimators=225, model__min_samples_split=8, model__min_samples_leaf=17 \n",
      "[CV]  onehot__transformers=[('num', SimpleImputer(strategy='median'), [7]), ('cat', OneHotEncoder(drop='first'), [11, 0, 12, 2, 1, 8, 9])], model__n_estimators=225, model__min_samples_split=8, model__min_samples_leaf=17, total=   0.4s\n",
      "[CV] onehot__transformers=[('num', SimpleImputer(strategy='median'), [7]), ('cat', OneHotEncoder(drop='first'), [11, 0, 12, 2, 1, 8, 9])], model__n_estimators=225, model__min_samples_split=8, model__min_samples_leaf=17 \n",
      "[CV]  onehot__transformers=[('num', SimpleImputer(strategy='median'), [7]), ('cat', OneHotEncoder(drop='first'), [11, 0, 12, 2, 1, 8, 9])], model__n_estimators=225, model__min_samples_split=8, model__min_samples_leaf=17, total=   0.5s\n",
      "[CV] onehot__transformers=[('num', SimpleImputer(strategy='median'), [7]), ('cat', OneHotEncoder(drop='first'), [11, 0, 12, 2, 1, 8, 9])], model__n_estimators=225, model__min_samples_split=8, model__min_samples_leaf=17 \n",
      "[CV]  onehot__transformers=[('num', SimpleImputer(strategy='median'), [7]), ('cat', OneHotEncoder(drop='first'), [11, 0, 12, 2, 1, 8, 9])], model__n_estimators=225, model__min_samples_split=8, model__min_samples_leaf=17, total=   0.5s\n",
      "[CV] onehot__transformers=[('num', SimpleImputer(strategy='median'), [7]), ('cat', OneHotEncoder(drop='first'), [11, 0, 12, 2, 1, 8, 9])], model__n_estimators=225, model__min_samples_split=8, model__min_samples_leaf=17 \n",
      "[CV]  onehot__transformers=[('num', SimpleImputer(strategy='median'), [7]), ('cat', OneHotEncoder(drop='first'), [11, 0, 12, 2, 1, 8, 9])], model__n_estimators=225, model__min_samples_split=8, model__min_samples_leaf=17, total=   0.5s\n",
      "[CV] onehot__transformers=[('num', SimpleImputer(strategy='median'), [7]), ('cat', OneHotEncoder(drop='first'), [11, 0, 12, 2, 1, 8, 9])], model__n_estimators=225, model__min_samples_split=8, model__min_samples_leaf=17 \n",
      "[CV]  onehot__transformers=[('num', SimpleImputer(strategy='median'), [7]), ('cat', OneHotEncoder(drop='first'), [11, 0, 12, 2, 1, 8, 9])], model__n_estimators=225, model__min_samples_split=8, model__min_samples_leaf=17, total=   0.5s\n",
      "[CV] onehot__transformers=[('num', SimpleImputer(strategy='median'), [7]), ('cat', OneHotEncoder(drop='first'), [11, 0, 12, 2, 1, 8, 9])], model__n_estimators=225, model__min_samples_split=8, model__min_samples_leaf=17 \n",
      "[CV]  onehot__transformers=[('num', SimpleImputer(strategy='median'), [7]), ('cat', OneHotEncoder(drop='first'), [11, 0, 12, 2, 1, 8, 9])], model__n_estimators=225, model__min_samples_split=8, model__min_samples_leaf=17, total=   0.5s\n",
      "[CV] onehot__transformers=[('num', SimpleImputer(strategy='median'), [7]), ('cat', OneHotEncoder(drop='first'), [11, 0, 12, 2, 1, 8, 9])], model__n_estimators=225, model__min_samples_split=8, model__min_samples_leaf=17 \n",
      "[CV]  onehot__transformers=[('num', SimpleImputer(strategy='median'), [7]), ('cat', OneHotEncoder(drop='first'), [11, 0, 12, 2, 1, 8, 9])], model__n_estimators=225, model__min_samples_split=8, model__min_samples_leaf=17, total=   0.5s\n",
      "[CV] onehot__transformers=[('num', SimpleImputer(strategy='median'), [7]), ('cat', OneHotEncoder(drop='first'), [11, 0, 12, 2, 1, 8, 9])], model__n_estimators=225, model__min_samples_split=8, model__min_samples_leaf=17 \n",
      "[CV]  onehot__transformers=[('num', SimpleImputer(strategy='median'), [7]), ('cat', OneHotEncoder(drop='first'), [11, 0, 12, 2, 1, 8, 9])], model__n_estimators=225, model__min_samples_split=8, model__min_samples_leaf=17, total=   0.4s\n",
      "[CV] onehot__transformers=[('num', SimpleImputer(strategy='median'), [7]), ('cat', OneHotEncoder(drop='first'), [11, 0, 12, 2])], model__n_estimators=225, model__min_samples_split=15, model__min_samples_leaf=17 \n"
     ]
    },
    {
     "name": "stdout",
     "output_type": "stream",
     "text": [
      "[CV]  onehot__transformers=[('num', SimpleImputer(strategy='median'), [7]), ('cat', OneHotEncoder(drop='first'), [11, 0, 12, 2])], model__n_estimators=225, model__min_samples_split=15, model__min_samples_leaf=17, total=   0.4s\n",
      "[CV] onehot__transformers=[('num', SimpleImputer(strategy='median'), [7]), ('cat', OneHotEncoder(drop='first'), [11, 0, 12, 2])], model__n_estimators=225, model__min_samples_split=15, model__min_samples_leaf=17 \n",
      "[CV]  onehot__transformers=[('num', SimpleImputer(strategy='median'), [7]), ('cat', OneHotEncoder(drop='first'), [11, 0, 12, 2])], model__n_estimators=225, model__min_samples_split=15, model__min_samples_leaf=17, total=   0.4s\n",
      "[CV] onehot__transformers=[('num', SimpleImputer(strategy='median'), [7]), ('cat', OneHotEncoder(drop='first'), [11, 0, 12, 2])], model__n_estimators=225, model__min_samples_split=15, model__min_samples_leaf=17 \n",
      "[CV]  onehot__transformers=[('num', SimpleImputer(strategy='median'), [7]), ('cat', OneHotEncoder(drop='first'), [11, 0, 12, 2])], model__n_estimators=225, model__min_samples_split=15, model__min_samples_leaf=17, total=   0.4s\n",
      "[CV] onehot__transformers=[('num', SimpleImputer(strategy='median'), [7]), ('cat', OneHotEncoder(drop='first'), [11, 0, 12, 2])], model__n_estimators=225, model__min_samples_split=15, model__min_samples_leaf=17 \n",
      "[CV]  onehot__transformers=[('num', SimpleImputer(strategy='median'), [7]), ('cat', OneHotEncoder(drop='first'), [11, 0, 12, 2])], model__n_estimators=225, model__min_samples_split=15, model__min_samples_leaf=17, total=   0.4s\n",
      "[CV] onehot__transformers=[('num', SimpleImputer(strategy='median'), [7]), ('cat', OneHotEncoder(drop='first'), [11, 0, 12, 2])], model__n_estimators=225, model__min_samples_split=15, model__min_samples_leaf=17 \n",
      "[CV]  onehot__transformers=[('num', SimpleImputer(strategy='median'), [7]), ('cat', OneHotEncoder(drop='first'), [11, 0, 12, 2])], model__n_estimators=225, model__min_samples_split=15, model__min_samples_leaf=17, total=   0.4s\n",
      "[CV] onehot__transformers=[('num', SimpleImputer(strategy='median'), [7]), ('cat', OneHotEncoder(drop='first'), [11, 0, 12, 2])], model__n_estimators=225, model__min_samples_split=15, model__min_samples_leaf=17 \n",
      "[CV]  onehot__transformers=[('num', SimpleImputer(strategy='median'), [7]), ('cat', OneHotEncoder(drop='first'), [11, 0, 12, 2])], model__n_estimators=225, model__min_samples_split=15, model__min_samples_leaf=17, total=   0.4s\n",
      "[CV] onehot__transformers=[('num', SimpleImputer(strategy='median'), [7]), ('cat', OneHotEncoder(drop='first'), [11, 0, 12, 2])], model__n_estimators=225, model__min_samples_split=15, model__min_samples_leaf=17 \n",
      "[CV]  onehot__transformers=[('num', SimpleImputer(strategy='median'), [7]), ('cat', OneHotEncoder(drop='first'), [11, 0, 12, 2])], model__n_estimators=225, model__min_samples_split=15, model__min_samples_leaf=17, total=   0.4s\n",
      "[CV] onehot__transformers=[('num', SimpleImputer(strategy='median'), [7]), ('cat', OneHotEncoder(drop='first'), [11, 0, 12, 2])], model__n_estimators=225, model__min_samples_split=15, model__min_samples_leaf=17 \n",
      "[CV]  onehot__transformers=[('num', SimpleImputer(strategy='median'), [7]), ('cat', OneHotEncoder(drop='first'), [11, 0, 12, 2])], model__n_estimators=225, model__min_samples_split=15, model__min_samples_leaf=17, total=   0.4s\n",
      "[CV] onehot__transformers=[('num', SimpleImputer(strategy='median'), [7]), ('cat', OneHotEncoder(drop='first'), [11, 0, 12, 2])], model__n_estimators=225, model__min_samples_split=15, model__min_samples_leaf=17 \n",
      "[CV]  onehot__transformers=[('num', SimpleImputer(strategy='median'), [7]), ('cat', OneHotEncoder(drop='first'), [11, 0, 12, 2])], model__n_estimators=225, model__min_samples_split=15, model__min_samples_leaf=17, total=   0.4s\n",
      "[CV] onehot__transformers=[('num', SimpleImputer(strategy='median'), [7]), ('cat', OneHotEncoder(drop='first'), [11, 0, 12, 2])], model__n_estimators=225, model__min_samples_split=15, model__min_samples_leaf=17 \n",
      "[CV]  onehot__transformers=[('num', SimpleImputer(strategy='median'), [7]), ('cat', OneHotEncoder(drop='first'), [11, 0, 12, 2])], model__n_estimators=225, model__min_samples_split=15, model__min_samples_leaf=17, total=   0.4s\n",
      "[CV] onehot__transformers=[('num', SimpleImputer(strategy='median'), [7]), ('cat', OneHotEncoder(drop='first'), [11, 0, 12, 2])], model__n_estimators=225, model__min_samples_split=15, model__min_samples_leaf=17 \n",
      "[CV]  onehot__transformers=[('num', SimpleImputer(strategy='median'), [7]), ('cat', OneHotEncoder(drop='first'), [11, 0, 12, 2])], model__n_estimators=225, model__min_samples_split=15, model__min_samples_leaf=17, total=   0.4s\n",
      "[CV] onehot__transformers=[('num', SimpleImputer(strategy='median'), [7]), ('cat', OneHotEncoder(drop='first'), [11, 0, 12, 2])], model__n_estimators=225, model__min_samples_split=15, model__min_samples_leaf=17 \n",
      "[CV]  onehot__transformers=[('num', SimpleImputer(strategy='median'), [7]), ('cat', OneHotEncoder(drop='first'), [11, 0, 12, 2])], model__n_estimators=225, model__min_samples_split=15, model__min_samples_leaf=17, total=   0.4s\n",
      "[CV] onehot__transformers=[('num', SimpleImputer(strategy='median'), [7]), ('cat', OneHotEncoder(drop='first'), [11, 0, 12, 2])], model__n_estimators=225, model__min_samples_split=15, model__min_samples_leaf=17 \n",
      "[CV]  onehot__transformers=[('num', SimpleImputer(strategy='median'), [7]), ('cat', OneHotEncoder(drop='first'), [11, 0, 12, 2])], model__n_estimators=225, model__min_samples_split=15, model__min_samples_leaf=17, total=   0.4s\n",
      "[CV] onehot__transformers=[('num', SimpleImputer(strategy='median'), [7]), ('cat', OneHotEncoder(drop='first'), [11, 0, 12, 2])], model__n_estimators=225, model__min_samples_split=15, model__min_samples_leaf=17 \n",
      "[CV]  onehot__transformers=[('num', SimpleImputer(strategy='median'), [7]), ('cat', OneHotEncoder(drop='first'), [11, 0, 12, 2])], model__n_estimators=225, model__min_samples_split=15, model__min_samples_leaf=17, total=   0.5s\n",
      "[CV] onehot__transformers=[('num', SimpleImputer(strategy='median'), [7]), ('cat', OneHotEncoder(drop='first'), [11, 0, 12, 2])], model__n_estimators=225, model__min_samples_split=15, model__min_samples_leaf=17 \n",
      "[CV]  onehot__transformers=[('num', SimpleImputer(strategy='median'), [7]), ('cat', OneHotEncoder(drop='first'), [11, 0, 12, 2])], model__n_estimators=225, model__min_samples_split=15, model__min_samples_leaf=17, total=   0.5s\n",
      "[CV] onehot__transformers=[('num', SimpleImputer(strategy='median'), [7]), ('cat', OneHotEncoder(drop='first'), [11, 0, 12, 2])], model__n_estimators=225, model__min_samples_split=15, model__min_samples_leaf=17 \n",
      "[CV]  onehot__transformers=[('num', SimpleImputer(strategy='median'), [7]), ('cat', OneHotEncoder(drop='first'), [11, 0, 12, 2])], model__n_estimators=225, model__min_samples_split=15, model__min_samples_leaf=17, total=   0.4s\n",
      "[CV] onehot__transformers=[('num', SimpleImputer(strategy='median'), [7]), ('cat', OneHotEncoder(drop='first'), [11, 0, 12, 2])], model__n_estimators=225, model__min_samples_split=15, model__min_samples_leaf=17 \n",
      "[CV]  onehot__transformers=[('num', SimpleImputer(strategy='median'), [7]), ('cat', OneHotEncoder(drop='first'), [11, 0, 12, 2])], model__n_estimators=225, model__min_samples_split=15, model__min_samples_leaf=17, total=   0.4s\n",
      "[CV] onehot__transformers=[('num', SimpleImputer(strategy='median'), [7]), ('cat', OneHotEncoder(drop='first'), [11, 0, 12, 2])], model__n_estimators=225, model__min_samples_split=15, model__min_samples_leaf=17 \n",
      "[CV]  onehot__transformers=[('num', SimpleImputer(strategy='median'), [7]), ('cat', OneHotEncoder(drop='first'), [11, 0, 12, 2])], model__n_estimators=225, model__min_samples_split=15, model__min_samples_leaf=17, total=   0.4s\n",
      "[CV] onehot__transformers=[('num', SimpleImputer(strategy='median'), [7]), ('cat', OneHotEncoder(drop='first'), [11, 0, 12, 2])], model__n_estimators=225, model__min_samples_split=15, model__min_samples_leaf=17 \n",
      "[CV]  onehot__transformers=[('num', SimpleImputer(strategy='median'), [7]), ('cat', OneHotEncoder(drop='first'), [11, 0, 12, 2])], model__n_estimators=225, model__min_samples_split=15, model__min_samples_leaf=17, total=   0.4s\n",
      "[CV] onehot__transformers=[('num', SimpleImputer(strategy='median'), [7]), ('cat', OneHotEncoder(drop='first'), [11, 0, 12, 2])], model__n_estimators=225, model__min_samples_split=15, model__min_samples_leaf=17 \n"
     ]
    },
    {
     "name": "stdout",
     "output_type": "stream",
     "text": [
      "[CV]  onehot__transformers=[('num', SimpleImputer(strategy='median'), [7]), ('cat', OneHotEncoder(drop='first'), [11, 0, 12, 2])], model__n_estimators=225, model__min_samples_split=15, model__min_samples_leaf=17, total=   0.4s\n",
      "[CV] onehot__transformers=[('num', SimpleImputer(strategy='median'), [7, 3, 5, 4]), ('cat', OneHotEncoder(drop='first'), [1, 8, 0, 12, 11, 9, 2, 10])], model__n_estimators=200, model__min_samples_split=12, model__min_samples_leaf=15 \n",
      "[CV]  onehot__transformers=[('num', SimpleImputer(strategy='median'), [7, 3, 5, 4]), ('cat', OneHotEncoder(drop='first'), [1, 8, 0, 12, 11, 9, 2, 10])], model__n_estimators=200, model__min_samples_split=12, model__min_samples_leaf=15, total=   0.4s\n",
      "[CV] onehot__transformers=[('num', SimpleImputer(strategy='median'), [7, 3, 5, 4]), ('cat', OneHotEncoder(drop='first'), [1, 8, 0, 12, 11, 9, 2, 10])], model__n_estimators=200, model__min_samples_split=12, model__min_samples_leaf=15 \n",
      "[CV]  onehot__transformers=[('num', SimpleImputer(strategy='median'), [7, 3, 5, 4]), ('cat', OneHotEncoder(drop='first'), [1, 8, 0, 12, 11, 9, 2, 10])], model__n_estimators=200, model__min_samples_split=12, model__min_samples_leaf=15, total=   0.5s\n",
      "[CV] onehot__transformers=[('num', SimpleImputer(strategy='median'), [7, 3, 5, 4]), ('cat', OneHotEncoder(drop='first'), [1, 8, 0, 12, 11, 9, 2, 10])], model__n_estimators=200, model__min_samples_split=12, model__min_samples_leaf=15 \n",
      "[CV]  onehot__transformers=[('num', SimpleImputer(strategy='median'), [7, 3, 5, 4]), ('cat', OneHotEncoder(drop='first'), [1, 8, 0, 12, 11, 9, 2, 10])], model__n_estimators=200, model__min_samples_split=12, model__min_samples_leaf=15, total=   0.6s\n",
      "[CV] onehot__transformers=[('num', SimpleImputer(strategy='median'), [7, 3, 5, 4]), ('cat', OneHotEncoder(drop='first'), [1, 8, 0, 12, 11, 9, 2, 10])], model__n_estimators=200, model__min_samples_split=12, model__min_samples_leaf=15 \n",
      "[CV]  onehot__transformers=[('num', SimpleImputer(strategy='median'), [7, 3, 5, 4]), ('cat', OneHotEncoder(drop='first'), [1, 8, 0, 12, 11, 9, 2, 10])], model__n_estimators=200, model__min_samples_split=12, model__min_samples_leaf=15, total=   0.4s\n",
      "[CV] onehot__transformers=[('num', SimpleImputer(strategy='median'), [7, 3, 5, 4]), ('cat', OneHotEncoder(drop='first'), [1, 8, 0, 12, 11, 9, 2, 10])], model__n_estimators=200, model__min_samples_split=12, model__min_samples_leaf=15 \n",
      "[CV]  onehot__transformers=[('num', SimpleImputer(strategy='median'), [7, 3, 5, 4]), ('cat', OneHotEncoder(drop='first'), [1, 8, 0, 12, 11, 9, 2, 10])], model__n_estimators=200, model__min_samples_split=12, model__min_samples_leaf=15, total=   0.5s\n",
      "[CV] onehot__transformers=[('num', SimpleImputer(strategy='median'), [7, 3, 5, 4]), ('cat', OneHotEncoder(drop='first'), [1, 8, 0, 12, 11, 9, 2, 10])], model__n_estimators=200, model__min_samples_split=12, model__min_samples_leaf=15 \n",
      "[CV]  onehot__transformers=[('num', SimpleImputer(strategy='median'), [7, 3, 5, 4]), ('cat', OneHotEncoder(drop='first'), [1, 8, 0, 12, 11, 9, 2, 10])], model__n_estimators=200, model__min_samples_split=12, model__min_samples_leaf=15, total=   0.4s\n",
      "[CV] onehot__transformers=[('num', SimpleImputer(strategy='median'), [7, 3, 5, 4]), ('cat', OneHotEncoder(drop='first'), [1, 8, 0, 12, 11, 9, 2, 10])], model__n_estimators=200, model__min_samples_split=12, model__min_samples_leaf=15 \n",
      "[CV]  onehot__transformers=[('num', SimpleImputer(strategy='median'), [7, 3, 5, 4]), ('cat', OneHotEncoder(drop='first'), [1, 8, 0, 12, 11, 9, 2, 10])], model__n_estimators=200, model__min_samples_split=12, model__min_samples_leaf=15, total=   0.4s\n",
      "[CV] onehot__transformers=[('num', SimpleImputer(strategy='median'), [7, 3, 5, 4]), ('cat', OneHotEncoder(drop='first'), [1, 8, 0, 12, 11, 9, 2, 10])], model__n_estimators=200, model__min_samples_split=12, model__min_samples_leaf=15 \n",
      "[CV]  onehot__transformers=[('num', SimpleImputer(strategy='median'), [7, 3, 5, 4]), ('cat', OneHotEncoder(drop='first'), [1, 8, 0, 12, 11, 9, 2, 10])], model__n_estimators=200, model__min_samples_split=12, model__min_samples_leaf=15, total=   0.4s\n",
      "[CV] onehot__transformers=[('num', SimpleImputer(strategy='median'), [7, 3, 5, 4]), ('cat', OneHotEncoder(drop='first'), [1, 8, 0, 12, 11, 9, 2, 10])], model__n_estimators=200, model__min_samples_split=12, model__min_samples_leaf=15 \n",
      "[CV]  onehot__transformers=[('num', SimpleImputer(strategy='median'), [7, 3, 5, 4]), ('cat', OneHotEncoder(drop='first'), [1, 8, 0, 12, 11, 9, 2, 10])], model__n_estimators=200, model__min_samples_split=12, model__min_samples_leaf=15, total=   0.4s\n",
      "[CV] onehot__transformers=[('num', SimpleImputer(strategy='median'), [7, 3, 5, 4]), ('cat', OneHotEncoder(drop='first'), [1, 8, 0, 12, 11, 9, 2, 10])], model__n_estimators=200, model__min_samples_split=12, model__min_samples_leaf=15 \n",
      "[CV]  onehot__transformers=[('num', SimpleImputer(strategy='median'), [7, 3, 5, 4]), ('cat', OneHotEncoder(drop='first'), [1, 8, 0, 12, 11, 9, 2, 10])], model__n_estimators=200, model__min_samples_split=12, model__min_samples_leaf=15, total=   0.5s\n",
      "[CV] onehot__transformers=[('num', SimpleImputer(strategy='median'), [7, 3, 5, 4]), ('cat', OneHotEncoder(drop='first'), [1, 8, 0, 12, 11, 9, 2, 10])], model__n_estimators=200, model__min_samples_split=12, model__min_samples_leaf=15 \n",
      "[CV]  onehot__transformers=[('num', SimpleImputer(strategy='median'), [7, 3, 5, 4]), ('cat', OneHotEncoder(drop='first'), [1, 8, 0, 12, 11, 9, 2, 10])], model__n_estimators=200, model__min_samples_split=12, model__min_samples_leaf=15, total=   0.4s\n",
      "[CV] onehot__transformers=[('num', SimpleImputer(strategy='median'), [7, 3, 5, 4]), ('cat', OneHotEncoder(drop='first'), [1, 8, 0, 12, 11, 9, 2, 10])], model__n_estimators=200, model__min_samples_split=12, model__min_samples_leaf=15 \n",
      "[CV]  onehot__transformers=[('num', SimpleImputer(strategy='median'), [7, 3, 5, 4]), ('cat', OneHotEncoder(drop='first'), [1, 8, 0, 12, 11, 9, 2, 10])], model__n_estimators=200, model__min_samples_split=12, model__min_samples_leaf=15, total=   0.5s\n",
      "[CV] onehot__transformers=[('num', SimpleImputer(strategy='median'), [7, 3, 5, 4]), ('cat', OneHotEncoder(drop='first'), [1, 8, 0, 12, 11, 9, 2, 10])], model__n_estimators=200, model__min_samples_split=12, model__min_samples_leaf=15 \n",
      "[CV]  onehot__transformers=[('num', SimpleImputer(strategy='median'), [7, 3, 5, 4]), ('cat', OneHotEncoder(drop='first'), [1, 8, 0, 12, 11, 9, 2, 10])], model__n_estimators=200, model__min_samples_split=12, model__min_samples_leaf=15, total=   0.5s\n",
      "[CV] onehot__transformers=[('num', SimpleImputer(strategy='median'), [7, 3, 5, 4]), ('cat', OneHotEncoder(drop='first'), [1, 8, 0, 12, 11, 9, 2, 10])], model__n_estimators=200, model__min_samples_split=12, model__min_samples_leaf=15 \n",
      "[CV]  onehot__transformers=[('num', SimpleImputer(strategy='median'), [7, 3, 5, 4]), ('cat', OneHotEncoder(drop='first'), [1, 8, 0, 12, 11, 9, 2, 10])], model__n_estimators=200, model__min_samples_split=12, model__min_samples_leaf=15, total=   0.5s\n",
      "[CV] onehot__transformers=[('num', SimpleImputer(strategy='median'), [7, 3, 5, 4]), ('cat', OneHotEncoder(drop='first'), [1, 8, 0, 12, 11, 9, 2, 10])], model__n_estimators=200, model__min_samples_split=12, model__min_samples_leaf=15 \n",
      "[CV]  onehot__transformers=[('num', SimpleImputer(strategy='median'), [7, 3, 5, 4]), ('cat', OneHotEncoder(drop='first'), [1, 8, 0, 12, 11, 9, 2, 10])], model__n_estimators=200, model__min_samples_split=12, model__min_samples_leaf=15, total=   0.5s\n",
      "[CV] onehot__transformers=[('num', SimpleImputer(strategy='median'), [7, 3, 5, 4]), ('cat', OneHotEncoder(drop='first'), [1, 8, 0, 12, 11, 9, 2, 10])], model__n_estimators=200, model__min_samples_split=12, model__min_samples_leaf=15 \n",
      "[CV]  onehot__transformers=[('num', SimpleImputer(strategy='median'), [7, 3, 5, 4]), ('cat', OneHotEncoder(drop='first'), [1, 8, 0, 12, 11, 9, 2, 10])], model__n_estimators=200, model__min_samples_split=12, model__min_samples_leaf=15, total=   0.5s\n",
      "[CV] onehot__transformers=[('num', SimpleImputer(strategy='median'), [7, 3, 5, 4]), ('cat', OneHotEncoder(drop='first'), [1, 8, 0, 12, 11, 9, 2, 10])], model__n_estimators=200, model__min_samples_split=12, model__min_samples_leaf=15 \n",
      "[CV]  onehot__transformers=[('num', SimpleImputer(strategy='median'), [7, 3, 5, 4]), ('cat', OneHotEncoder(drop='first'), [1, 8, 0, 12, 11, 9, 2, 10])], model__n_estimators=200, model__min_samples_split=12, model__min_samples_leaf=15, total=   0.5s\n",
      "[CV] onehot__transformers=[('num', SimpleImputer(strategy='median'), [7, 3, 5, 4]), ('cat', OneHotEncoder(drop='first'), [1, 8, 0, 12, 11, 9, 2, 10])], model__n_estimators=200, model__min_samples_split=12, model__min_samples_leaf=15 \n"
     ]
    },
    {
     "name": "stdout",
     "output_type": "stream",
     "text": [
      "[CV]  onehot__transformers=[('num', SimpleImputer(strategy='median'), [7, 3, 5, 4]), ('cat', OneHotEncoder(drop='first'), [1, 8, 0, 12, 11, 9, 2, 10])], model__n_estimators=200, model__min_samples_split=12, model__min_samples_leaf=15, total=   0.4s\n",
      "[CV] onehot__transformers=[('num', SimpleImputer(strategy='median'), [7, 3, 5, 4]), ('cat', OneHotEncoder(drop='first'), [1, 8, 0, 12, 11, 9, 2, 10])], model__n_estimators=200, model__min_samples_split=12, model__min_samples_leaf=15 \n",
      "[CV]  onehot__transformers=[('num', SimpleImputer(strategy='median'), [7, 3, 5, 4]), ('cat', OneHotEncoder(drop='first'), [1, 8, 0, 12, 11, 9, 2, 10])], model__n_estimators=200, model__min_samples_split=12, model__min_samples_leaf=15, total=   0.5s\n",
      "[CV] onehot__transformers=[('num', SimpleImputer(strategy='median'), [7, 3, 5, 4]), ('cat', OneHotEncoder(drop='first'), [1, 8, 0, 12, 11, 9, 2, 10])], model__n_estimators=200, model__min_samples_split=12, model__min_samples_leaf=15 \n",
      "[CV]  onehot__transformers=[('num', SimpleImputer(strategy='median'), [7, 3, 5, 4]), ('cat', OneHotEncoder(drop='first'), [1, 8, 0, 12, 11, 9, 2, 10])], model__n_estimators=200, model__min_samples_split=12, model__min_samples_leaf=15, total=   0.5s\n",
      "[CV] onehot__transformers=[('num', SimpleImputer(strategy='median'), [7]), ('cat', OneHotEncoder(drop='first'), [11, 0, 12, 2, 1, 8])], model__n_estimators=225, model__min_samples_split=15, model__min_samples_leaf=10 \n",
      "[CV]  onehot__transformers=[('num', SimpleImputer(strategy='median'), [7]), ('cat', OneHotEncoder(drop='first'), [11, 0, 12, 2, 1, 8])], model__n_estimators=225, model__min_samples_split=15, model__min_samples_leaf=10, total=   0.5s\n",
      "[CV] onehot__transformers=[('num', SimpleImputer(strategy='median'), [7]), ('cat', OneHotEncoder(drop='first'), [11, 0, 12, 2, 1, 8])], model__n_estimators=225, model__min_samples_split=15, model__min_samples_leaf=10 \n",
      "[CV]  onehot__transformers=[('num', SimpleImputer(strategy='median'), [7]), ('cat', OneHotEncoder(drop='first'), [11, 0, 12, 2, 1, 8])], model__n_estimators=225, model__min_samples_split=15, model__min_samples_leaf=10, total=   0.5s\n",
      "[CV] onehot__transformers=[('num', SimpleImputer(strategy='median'), [7]), ('cat', OneHotEncoder(drop='first'), [11, 0, 12, 2, 1, 8])], model__n_estimators=225, model__min_samples_split=15, model__min_samples_leaf=10 \n",
      "[CV]  onehot__transformers=[('num', SimpleImputer(strategy='median'), [7]), ('cat', OneHotEncoder(drop='first'), [11, 0, 12, 2, 1, 8])], model__n_estimators=225, model__min_samples_split=15, model__min_samples_leaf=10, total=   0.5s\n",
      "[CV] onehot__transformers=[('num', SimpleImputer(strategy='median'), [7]), ('cat', OneHotEncoder(drop='first'), [11, 0, 12, 2, 1, 8])], model__n_estimators=225, model__min_samples_split=15, model__min_samples_leaf=10 \n",
      "[CV]  onehot__transformers=[('num', SimpleImputer(strategy='median'), [7]), ('cat', OneHotEncoder(drop='first'), [11, 0, 12, 2, 1, 8])], model__n_estimators=225, model__min_samples_split=15, model__min_samples_leaf=10, total=   0.5s\n",
      "[CV] onehot__transformers=[('num', SimpleImputer(strategy='median'), [7]), ('cat', OneHotEncoder(drop='first'), [11, 0, 12, 2, 1, 8])], model__n_estimators=225, model__min_samples_split=15, model__min_samples_leaf=10 \n",
      "[CV]  onehot__transformers=[('num', SimpleImputer(strategy='median'), [7]), ('cat', OneHotEncoder(drop='first'), [11, 0, 12, 2, 1, 8])], model__n_estimators=225, model__min_samples_split=15, model__min_samples_leaf=10, total=   0.5s\n",
      "[CV] onehot__transformers=[('num', SimpleImputer(strategy='median'), [7]), ('cat', OneHotEncoder(drop='first'), [11, 0, 12, 2, 1, 8])], model__n_estimators=225, model__min_samples_split=15, model__min_samples_leaf=10 \n",
      "[CV]  onehot__transformers=[('num', SimpleImputer(strategy='median'), [7]), ('cat', OneHotEncoder(drop='first'), [11, 0, 12, 2, 1, 8])], model__n_estimators=225, model__min_samples_split=15, model__min_samples_leaf=10, total=   0.5s\n",
      "[CV] onehot__transformers=[('num', SimpleImputer(strategy='median'), [7]), ('cat', OneHotEncoder(drop='first'), [11, 0, 12, 2, 1, 8])], model__n_estimators=225, model__min_samples_split=15, model__min_samples_leaf=10 \n",
      "[CV]  onehot__transformers=[('num', SimpleImputer(strategy='median'), [7]), ('cat', OneHotEncoder(drop='first'), [11, 0, 12, 2, 1, 8])], model__n_estimators=225, model__min_samples_split=15, model__min_samples_leaf=10, total=   0.5s\n",
      "[CV] onehot__transformers=[('num', SimpleImputer(strategy='median'), [7]), ('cat', OneHotEncoder(drop='first'), [11, 0, 12, 2, 1, 8])], model__n_estimators=225, model__min_samples_split=15, model__min_samples_leaf=10 \n",
      "[CV]  onehot__transformers=[('num', SimpleImputer(strategy='median'), [7]), ('cat', OneHotEncoder(drop='first'), [11, 0, 12, 2, 1, 8])], model__n_estimators=225, model__min_samples_split=15, model__min_samples_leaf=10, total=   0.5s\n",
      "[CV] onehot__transformers=[('num', SimpleImputer(strategy='median'), [7]), ('cat', OneHotEncoder(drop='first'), [11, 0, 12, 2, 1, 8])], model__n_estimators=225, model__min_samples_split=15, model__min_samples_leaf=10 \n",
      "[CV]  onehot__transformers=[('num', SimpleImputer(strategy='median'), [7]), ('cat', OneHotEncoder(drop='first'), [11, 0, 12, 2, 1, 8])], model__n_estimators=225, model__min_samples_split=15, model__min_samples_leaf=10, total=   0.5s\n",
      "[CV] onehot__transformers=[('num', SimpleImputer(strategy='median'), [7]), ('cat', OneHotEncoder(drop='first'), [11, 0, 12, 2, 1, 8])], model__n_estimators=225, model__min_samples_split=15, model__min_samples_leaf=10 \n",
      "[CV]  onehot__transformers=[('num', SimpleImputer(strategy='median'), [7]), ('cat', OneHotEncoder(drop='first'), [11, 0, 12, 2, 1, 8])], model__n_estimators=225, model__min_samples_split=15, model__min_samples_leaf=10, total=   0.5s\n",
      "[CV] onehot__transformers=[('num', SimpleImputer(strategy='median'), [7]), ('cat', OneHotEncoder(drop='first'), [11, 0, 12, 2, 1, 8])], model__n_estimators=225, model__min_samples_split=15, model__min_samples_leaf=10 \n",
      "[CV]  onehot__transformers=[('num', SimpleImputer(strategy='median'), [7]), ('cat', OneHotEncoder(drop='first'), [11, 0, 12, 2, 1, 8])], model__n_estimators=225, model__min_samples_split=15, model__min_samples_leaf=10, total=   0.5s\n",
      "[CV] onehot__transformers=[('num', SimpleImputer(strategy='median'), [7]), ('cat', OneHotEncoder(drop='first'), [11, 0, 12, 2, 1, 8])], model__n_estimators=225, model__min_samples_split=15, model__min_samples_leaf=10 \n",
      "[CV]  onehot__transformers=[('num', SimpleImputer(strategy='median'), [7]), ('cat', OneHotEncoder(drop='first'), [11, 0, 12, 2, 1, 8])], model__n_estimators=225, model__min_samples_split=15, model__min_samples_leaf=10, total=   0.5s\n",
      "[CV] onehot__transformers=[('num', SimpleImputer(strategy='median'), [7]), ('cat', OneHotEncoder(drop='first'), [11, 0, 12, 2, 1, 8])], model__n_estimators=225, model__min_samples_split=15, model__min_samples_leaf=10 \n",
      "[CV]  onehot__transformers=[('num', SimpleImputer(strategy='median'), [7]), ('cat', OneHotEncoder(drop='first'), [11, 0, 12, 2, 1, 8])], model__n_estimators=225, model__min_samples_split=15, model__min_samples_leaf=10, total=   0.5s\n",
      "[CV] onehot__transformers=[('num', SimpleImputer(strategy='median'), [7]), ('cat', OneHotEncoder(drop='first'), [11, 0, 12, 2, 1, 8])], model__n_estimators=225, model__min_samples_split=15, model__min_samples_leaf=10 \n",
      "[CV]  onehot__transformers=[('num', SimpleImputer(strategy='median'), [7]), ('cat', OneHotEncoder(drop='first'), [11, 0, 12, 2, 1, 8])], model__n_estimators=225, model__min_samples_split=15, model__min_samples_leaf=10, total=   0.5s\n",
      "[CV] onehot__transformers=[('num', SimpleImputer(strategy='median'), [7]), ('cat', OneHotEncoder(drop='first'), [11, 0, 12, 2, 1, 8])], model__n_estimators=225, model__min_samples_split=15, model__min_samples_leaf=10 \n",
      "[CV]  onehot__transformers=[('num', SimpleImputer(strategy='median'), [7]), ('cat', OneHotEncoder(drop='first'), [11, 0, 12, 2, 1, 8])], model__n_estimators=225, model__min_samples_split=15, model__min_samples_leaf=10, total=   0.5s\n",
      "[CV] onehot__transformers=[('num', SimpleImputer(strategy='median'), [7]), ('cat', OneHotEncoder(drop='first'), [11, 0, 12, 2, 1, 8])], model__n_estimators=225, model__min_samples_split=15, model__min_samples_leaf=10 \n"
     ]
    },
    {
     "name": "stdout",
     "output_type": "stream",
     "text": [
      "[CV]  onehot__transformers=[('num', SimpleImputer(strategy='median'), [7]), ('cat', OneHotEncoder(drop='first'), [11, 0, 12, 2, 1, 8])], model__n_estimators=225, model__min_samples_split=15, model__min_samples_leaf=10, total=   0.5s\n",
      "[CV] onehot__transformers=[('num', SimpleImputer(strategy='median'), [7]), ('cat', OneHotEncoder(drop='first'), [11, 0, 12, 2, 1, 8])], model__n_estimators=225, model__min_samples_split=15, model__min_samples_leaf=10 \n",
      "[CV]  onehot__transformers=[('num', SimpleImputer(strategy='median'), [7]), ('cat', OneHotEncoder(drop='first'), [11, 0, 12, 2, 1, 8])], model__n_estimators=225, model__min_samples_split=15, model__min_samples_leaf=10, total=   0.5s\n",
      "[CV] onehot__transformers=[('num', SimpleImputer(strategy='median'), [7]), ('cat', OneHotEncoder(drop='first'), [11, 0, 12, 2, 1, 8])], model__n_estimators=225, model__min_samples_split=15, model__min_samples_leaf=10 \n",
      "[CV]  onehot__transformers=[('num', SimpleImputer(strategy='median'), [7]), ('cat', OneHotEncoder(drop='first'), [11, 0, 12, 2, 1, 8])], model__n_estimators=225, model__min_samples_split=15, model__min_samples_leaf=10, total=   0.5s\n",
      "[CV] onehot__transformers=[('num', SimpleImputer(strategy='median'), [7]), ('cat', OneHotEncoder(drop='first'), [11, 0, 12, 2, 1, 8])], model__n_estimators=225, model__min_samples_split=15, model__min_samples_leaf=10 \n",
      "[CV]  onehot__transformers=[('num', SimpleImputer(strategy='median'), [7]), ('cat', OneHotEncoder(drop='first'), [11, 0, 12, 2, 1, 8])], model__n_estimators=225, model__min_samples_split=15, model__min_samples_leaf=10, total=   0.5s\n",
      "[CV] onehot__transformers=[('num', SimpleImputer(strategy='median'), [7]), ('cat', OneHotEncoder(drop='first'), [11, 0, 12, 2, 1, 8])], model__n_estimators=225, model__min_samples_split=15, model__min_samples_leaf=10 \n",
      "[CV]  onehot__transformers=[('num', SimpleImputer(strategy='median'), [7]), ('cat', OneHotEncoder(drop='first'), [11, 0, 12, 2, 1, 8])], model__n_estimators=225, model__min_samples_split=15, model__min_samples_leaf=10, total=   0.5s\n",
      "[CV] onehot__transformers=[('num', SimpleImputer(strategy='median'), [7]), ('cat', OneHotEncoder(drop='first'), [11, 0, 12, 2])], model__n_estimators=225, model__min_samples_split=12, model__min_samples_leaf=17 \n",
      "[CV]  onehot__transformers=[('num', SimpleImputer(strategy='median'), [7]), ('cat', OneHotEncoder(drop='first'), [11, 0, 12, 2])], model__n_estimators=225, model__min_samples_split=12, model__min_samples_leaf=17, total=   0.5s\n",
      "[CV] onehot__transformers=[('num', SimpleImputer(strategy='median'), [7]), ('cat', OneHotEncoder(drop='first'), [11, 0, 12, 2])], model__n_estimators=225, model__min_samples_split=12, model__min_samples_leaf=17 \n",
      "[CV]  onehot__transformers=[('num', SimpleImputer(strategy='median'), [7]), ('cat', OneHotEncoder(drop='first'), [11, 0, 12, 2])], model__n_estimators=225, model__min_samples_split=12, model__min_samples_leaf=17, total=   0.5s\n",
      "[CV] onehot__transformers=[('num', SimpleImputer(strategy='median'), [7]), ('cat', OneHotEncoder(drop='first'), [11, 0, 12, 2])], model__n_estimators=225, model__min_samples_split=12, model__min_samples_leaf=17 \n",
      "[CV]  onehot__transformers=[('num', SimpleImputer(strategy='median'), [7]), ('cat', OneHotEncoder(drop='first'), [11, 0, 12, 2])], model__n_estimators=225, model__min_samples_split=12, model__min_samples_leaf=17, total=   0.4s\n",
      "[CV] onehot__transformers=[('num', SimpleImputer(strategy='median'), [7]), ('cat', OneHotEncoder(drop='first'), [11, 0, 12, 2])], model__n_estimators=225, model__min_samples_split=12, model__min_samples_leaf=17 \n",
      "[CV]  onehot__transformers=[('num', SimpleImputer(strategy='median'), [7]), ('cat', OneHotEncoder(drop='first'), [11, 0, 12, 2])], model__n_estimators=225, model__min_samples_split=12, model__min_samples_leaf=17, total=   0.4s\n",
      "[CV] onehot__transformers=[('num', SimpleImputer(strategy='median'), [7]), ('cat', OneHotEncoder(drop='first'), [11, 0, 12, 2])], model__n_estimators=225, model__min_samples_split=12, model__min_samples_leaf=17 \n",
      "[CV]  onehot__transformers=[('num', SimpleImputer(strategy='median'), [7]), ('cat', OneHotEncoder(drop='first'), [11, 0, 12, 2])], model__n_estimators=225, model__min_samples_split=12, model__min_samples_leaf=17, total=   0.5s\n",
      "[CV] onehot__transformers=[('num', SimpleImputer(strategy='median'), [7]), ('cat', OneHotEncoder(drop='first'), [11, 0, 12, 2])], model__n_estimators=225, model__min_samples_split=12, model__min_samples_leaf=17 \n",
      "[CV]  onehot__transformers=[('num', SimpleImputer(strategy='median'), [7]), ('cat', OneHotEncoder(drop='first'), [11, 0, 12, 2])], model__n_estimators=225, model__min_samples_split=12, model__min_samples_leaf=17, total=   0.5s\n",
      "[CV] onehot__transformers=[('num', SimpleImputer(strategy='median'), [7]), ('cat', OneHotEncoder(drop='first'), [11, 0, 12, 2])], model__n_estimators=225, model__min_samples_split=12, model__min_samples_leaf=17 \n",
      "[CV]  onehot__transformers=[('num', SimpleImputer(strategy='median'), [7]), ('cat', OneHotEncoder(drop='first'), [11, 0, 12, 2])], model__n_estimators=225, model__min_samples_split=12, model__min_samples_leaf=17, total=   0.5s\n",
      "[CV] onehot__transformers=[('num', SimpleImputer(strategy='median'), [7]), ('cat', OneHotEncoder(drop='first'), [11, 0, 12, 2])], model__n_estimators=225, model__min_samples_split=12, model__min_samples_leaf=17 \n",
      "[CV]  onehot__transformers=[('num', SimpleImputer(strategy='median'), [7]), ('cat', OneHotEncoder(drop='first'), [11, 0, 12, 2])], model__n_estimators=225, model__min_samples_split=12, model__min_samples_leaf=17, total=   0.5s\n",
      "[CV] onehot__transformers=[('num', SimpleImputer(strategy='median'), [7]), ('cat', OneHotEncoder(drop='first'), [11, 0, 12, 2])], model__n_estimators=225, model__min_samples_split=12, model__min_samples_leaf=17 \n",
      "[CV]  onehot__transformers=[('num', SimpleImputer(strategy='median'), [7]), ('cat', OneHotEncoder(drop='first'), [11, 0, 12, 2])], model__n_estimators=225, model__min_samples_split=12, model__min_samples_leaf=17, total=   0.5s\n",
      "[CV] onehot__transformers=[('num', SimpleImputer(strategy='median'), [7]), ('cat', OneHotEncoder(drop='first'), [11, 0, 12, 2])], model__n_estimators=225, model__min_samples_split=12, model__min_samples_leaf=17 \n",
      "[CV]  onehot__transformers=[('num', SimpleImputer(strategy='median'), [7]), ('cat', OneHotEncoder(drop='first'), [11, 0, 12, 2])], model__n_estimators=225, model__min_samples_split=12, model__min_samples_leaf=17, total=   0.5s\n",
      "[CV] onehot__transformers=[('num', SimpleImputer(strategy='median'), [7]), ('cat', OneHotEncoder(drop='first'), [11, 0, 12, 2])], model__n_estimators=225, model__min_samples_split=12, model__min_samples_leaf=17 \n",
      "[CV]  onehot__transformers=[('num', SimpleImputer(strategy='median'), [7]), ('cat', OneHotEncoder(drop='first'), [11, 0, 12, 2])], model__n_estimators=225, model__min_samples_split=12, model__min_samples_leaf=17, total=   0.5s\n",
      "[CV] onehot__transformers=[('num', SimpleImputer(strategy='median'), [7]), ('cat', OneHotEncoder(drop='first'), [11, 0, 12, 2])], model__n_estimators=225, model__min_samples_split=12, model__min_samples_leaf=17 \n",
      "[CV]  onehot__transformers=[('num', SimpleImputer(strategy='median'), [7]), ('cat', OneHotEncoder(drop='first'), [11, 0, 12, 2])], model__n_estimators=225, model__min_samples_split=12, model__min_samples_leaf=17, total=   0.5s\n",
      "[CV] onehot__transformers=[('num', SimpleImputer(strategy='median'), [7]), ('cat', OneHotEncoder(drop='first'), [11, 0, 12, 2])], model__n_estimators=225, model__min_samples_split=12, model__min_samples_leaf=17 \n",
      "[CV]  onehot__transformers=[('num', SimpleImputer(strategy='median'), [7]), ('cat', OneHotEncoder(drop='first'), [11, 0, 12, 2])], model__n_estimators=225, model__min_samples_split=12, model__min_samples_leaf=17, total=   0.5s\n",
      "[CV] onehot__transformers=[('num', SimpleImputer(strategy='median'), [7]), ('cat', OneHotEncoder(drop='first'), [11, 0, 12, 2])], model__n_estimators=225, model__min_samples_split=12, model__min_samples_leaf=17 \n",
      "[CV]  onehot__transformers=[('num', SimpleImputer(strategy='median'), [7]), ('cat', OneHotEncoder(drop='first'), [11, 0, 12, 2])], model__n_estimators=225, model__min_samples_split=12, model__min_samples_leaf=17, total=   0.4s\n",
      "[CV] onehot__transformers=[('num', SimpleImputer(strategy='median'), [7]), ('cat', OneHotEncoder(drop='first'), [11, 0, 12, 2])], model__n_estimators=225, model__min_samples_split=12, model__min_samples_leaf=17 \n"
     ]
    },
    {
     "name": "stdout",
     "output_type": "stream",
     "text": [
      "[CV]  onehot__transformers=[('num', SimpleImputer(strategy='median'), [7]), ('cat', OneHotEncoder(drop='first'), [11, 0, 12, 2])], model__n_estimators=225, model__min_samples_split=12, model__min_samples_leaf=17, total=   0.5s\n",
      "[CV] onehot__transformers=[('num', SimpleImputer(strategy='median'), [7]), ('cat', OneHotEncoder(drop='first'), [11, 0, 12, 2])], model__n_estimators=225, model__min_samples_split=12, model__min_samples_leaf=17 \n",
      "[CV]  onehot__transformers=[('num', SimpleImputer(strategy='median'), [7]), ('cat', OneHotEncoder(drop='first'), [11, 0, 12, 2])], model__n_estimators=225, model__min_samples_split=12, model__min_samples_leaf=17, total=   0.5s\n",
      "[CV] onehot__transformers=[('num', SimpleImputer(strategy='median'), [7]), ('cat', OneHotEncoder(drop='first'), [11, 0, 12, 2])], model__n_estimators=225, model__min_samples_split=12, model__min_samples_leaf=17 \n",
      "[CV]  onehot__transformers=[('num', SimpleImputer(strategy='median'), [7]), ('cat', OneHotEncoder(drop='first'), [11, 0, 12, 2])], model__n_estimators=225, model__min_samples_split=12, model__min_samples_leaf=17, total=   0.4s\n",
      "[CV] onehot__transformers=[('num', SimpleImputer(strategy='median'), [7]), ('cat', OneHotEncoder(drop='first'), [11, 0, 12, 2])], model__n_estimators=225, model__min_samples_split=12, model__min_samples_leaf=17 \n",
      "[CV]  onehot__transformers=[('num', SimpleImputer(strategy='median'), [7]), ('cat', OneHotEncoder(drop='first'), [11, 0, 12, 2])], model__n_estimators=225, model__min_samples_split=12, model__min_samples_leaf=17, total=   0.4s\n",
      "[CV] onehot__transformers=[('num', SimpleImputer(strategy='median'), [7]), ('cat', OneHotEncoder(drop='first'), [11, 0, 12, 2])], model__n_estimators=225, model__min_samples_split=12, model__min_samples_leaf=17 \n",
      "[CV]  onehot__transformers=[('num', SimpleImputer(strategy='median'), [7]), ('cat', OneHotEncoder(drop='first'), [11, 0, 12, 2])], model__n_estimators=225, model__min_samples_split=12, model__min_samples_leaf=17, total=   0.4s\n",
      "[CV] onehot__transformers=[('num', SimpleImputer(strategy='median'), [7]), ('cat', OneHotEncoder(drop='first'), [11, 0, 12, 2])], model__n_estimators=225, model__min_samples_split=12, model__min_samples_leaf=17 \n",
      "[CV]  onehot__transformers=[('num', SimpleImputer(strategy='median'), [7]), ('cat', OneHotEncoder(drop='first'), [11, 0, 12, 2])], model__n_estimators=225, model__min_samples_split=12, model__min_samples_leaf=17, total=   0.4s\n",
      "[CV] onehot__transformers=[('num', SimpleImputer(strategy='median'), [7]), ('cat', OneHotEncoder(drop='first'), [11, 0, 12, 2])], model__n_estimators=200, model__min_samples_split=20, model__min_samples_leaf=10 \n",
      "[CV]  onehot__transformers=[('num', SimpleImputer(strategy='median'), [7]), ('cat', OneHotEncoder(drop='first'), [11, 0, 12, 2])], model__n_estimators=200, model__min_samples_split=20, model__min_samples_leaf=10, total=   0.4s\n",
      "[CV] onehot__transformers=[('num', SimpleImputer(strategy='median'), [7]), ('cat', OneHotEncoder(drop='first'), [11, 0, 12, 2])], model__n_estimators=200, model__min_samples_split=20, model__min_samples_leaf=10 \n",
      "[CV]  onehot__transformers=[('num', SimpleImputer(strategy='median'), [7]), ('cat', OneHotEncoder(drop='first'), [11, 0, 12, 2])], model__n_estimators=200, model__min_samples_split=20, model__min_samples_leaf=10, total=   0.4s\n",
      "[CV] onehot__transformers=[('num', SimpleImputer(strategy='median'), [7]), ('cat', OneHotEncoder(drop='first'), [11, 0, 12, 2])], model__n_estimators=200, model__min_samples_split=20, model__min_samples_leaf=10 \n",
      "[CV]  onehot__transformers=[('num', SimpleImputer(strategy='median'), [7]), ('cat', OneHotEncoder(drop='first'), [11, 0, 12, 2])], model__n_estimators=200, model__min_samples_split=20, model__min_samples_leaf=10, total=   0.4s\n",
      "[CV] onehot__transformers=[('num', SimpleImputer(strategy='median'), [7]), ('cat', OneHotEncoder(drop='first'), [11, 0, 12, 2])], model__n_estimators=200, model__min_samples_split=20, model__min_samples_leaf=10 \n",
      "[CV]  onehot__transformers=[('num', SimpleImputer(strategy='median'), [7]), ('cat', OneHotEncoder(drop='first'), [11, 0, 12, 2])], model__n_estimators=200, model__min_samples_split=20, model__min_samples_leaf=10, total=   0.4s\n",
      "[CV] onehot__transformers=[('num', SimpleImputer(strategy='median'), [7]), ('cat', OneHotEncoder(drop='first'), [11, 0, 12, 2])], model__n_estimators=200, model__min_samples_split=20, model__min_samples_leaf=10 \n",
      "[CV]  onehot__transformers=[('num', SimpleImputer(strategy='median'), [7]), ('cat', OneHotEncoder(drop='first'), [11, 0, 12, 2])], model__n_estimators=200, model__min_samples_split=20, model__min_samples_leaf=10, total=   0.4s\n",
      "[CV] onehot__transformers=[('num', SimpleImputer(strategy='median'), [7]), ('cat', OneHotEncoder(drop='first'), [11, 0, 12, 2])], model__n_estimators=200, model__min_samples_split=20, model__min_samples_leaf=10 \n",
      "[CV]  onehot__transformers=[('num', SimpleImputer(strategy='median'), [7]), ('cat', OneHotEncoder(drop='first'), [11, 0, 12, 2])], model__n_estimators=200, model__min_samples_split=20, model__min_samples_leaf=10, total=   0.4s\n",
      "[CV] onehot__transformers=[('num', SimpleImputer(strategy='median'), [7]), ('cat', OneHotEncoder(drop='first'), [11, 0, 12, 2])], model__n_estimators=200, model__min_samples_split=20, model__min_samples_leaf=10 \n",
      "[CV]  onehot__transformers=[('num', SimpleImputer(strategy='median'), [7]), ('cat', OneHotEncoder(drop='first'), [11, 0, 12, 2])], model__n_estimators=200, model__min_samples_split=20, model__min_samples_leaf=10, total=   0.4s\n",
      "[CV] onehot__transformers=[('num', SimpleImputer(strategy='median'), [7]), ('cat', OneHotEncoder(drop='first'), [11, 0, 12, 2])], model__n_estimators=200, model__min_samples_split=20, model__min_samples_leaf=10 \n",
      "[CV]  onehot__transformers=[('num', SimpleImputer(strategy='median'), [7]), ('cat', OneHotEncoder(drop='first'), [11, 0, 12, 2])], model__n_estimators=200, model__min_samples_split=20, model__min_samples_leaf=10, total=   0.4s\n",
      "[CV] onehot__transformers=[('num', SimpleImputer(strategy='median'), [7]), ('cat', OneHotEncoder(drop='first'), [11, 0, 12, 2])], model__n_estimators=200, model__min_samples_split=20, model__min_samples_leaf=10 \n",
      "[CV]  onehot__transformers=[('num', SimpleImputer(strategy='median'), [7]), ('cat', OneHotEncoder(drop='first'), [11, 0, 12, 2])], model__n_estimators=200, model__min_samples_split=20, model__min_samples_leaf=10, total=   0.4s\n",
      "[CV] onehot__transformers=[('num', SimpleImputer(strategy='median'), [7]), ('cat', OneHotEncoder(drop='first'), [11, 0, 12, 2])], model__n_estimators=200, model__min_samples_split=20, model__min_samples_leaf=10 \n",
      "[CV]  onehot__transformers=[('num', SimpleImputer(strategy='median'), [7]), ('cat', OneHotEncoder(drop='first'), [11, 0, 12, 2])], model__n_estimators=200, model__min_samples_split=20, model__min_samples_leaf=10, total=   0.4s\n",
      "[CV] onehot__transformers=[('num', SimpleImputer(strategy='median'), [7]), ('cat', OneHotEncoder(drop='first'), [11, 0, 12, 2])], model__n_estimators=200, model__min_samples_split=20, model__min_samples_leaf=10 \n",
      "[CV]  onehot__transformers=[('num', SimpleImputer(strategy='median'), [7]), ('cat', OneHotEncoder(drop='first'), [11, 0, 12, 2])], model__n_estimators=200, model__min_samples_split=20, model__min_samples_leaf=10, total=   0.4s\n",
      "[CV] onehot__transformers=[('num', SimpleImputer(strategy='median'), [7]), ('cat', OneHotEncoder(drop='first'), [11, 0, 12, 2])], model__n_estimators=200, model__min_samples_split=20, model__min_samples_leaf=10 \n",
      "[CV]  onehot__transformers=[('num', SimpleImputer(strategy='median'), [7]), ('cat', OneHotEncoder(drop='first'), [11, 0, 12, 2])], model__n_estimators=200, model__min_samples_split=20, model__min_samples_leaf=10, total=   0.4s\n",
      "[CV] onehot__transformers=[('num', SimpleImputer(strategy='median'), [7]), ('cat', OneHotEncoder(drop='first'), [11, 0, 12, 2])], model__n_estimators=200, model__min_samples_split=20, model__min_samples_leaf=10 \n",
      "[CV]  onehot__transformers=[('num', SimpleImputer(strategy='median'), [7]), ('cat', OneHotEncoder(drop='first'), [11, 0, 12, 2])], model__n_estimators=200, model__min_samples_split=20, model__min_samples_leaf=10, total=   0.4s\n",
      "[CV] onehot__transformers=[('num', SimpleImputer(strategy='median'), [7]), ('cat', OneHotEncoder(drop='first'), [11, 0, 12, 2])], model__n_estimators=200, model__min_samples_split=20, model__min_samples_leaf=10 \n"
     ]
    },
    {
     "name": "stdout",
     "output_type": "stream",
     "text": [
      "[CV]  onehot__transformers=[('num', SimpleImputer(strategy='median'), [7]), ('cat', OneHotEncoder(drop='first'), [11, 0, 12, 2])], model__n_estimators=200, model__min_samples_split=20, model__min_samples_leaf=10, total=   0.4s\n",
      "[CV] onehot__transformers=[('num', SimpleImputer(strategy='median'), [7]), ('cat', OneHotEncoder(drop='first'), [11, 0, 12, 2])], model__n_estimators=200, model__min_samples_split=20, model__min_samples_leaf=10 \n",
      "[CV]  onehot__transformers=[('num', SimpleImputer(strategy='median'), [7]), ('cat', OneHotEncoder(drop='first'), [11, 0, 12, 2])], model__n_estimators=200, model__min_samples_split=20, model__min_samples_leaf=10, total=   0.4s\n",
      "[CV] onehot__transformers=[('num', SimpleImputer(strategy='median'), [7]), ('cat', OneHotEncoder(drop='first'), [11, 0, 12, 2])], model__n_estimators=200, model__min_samples_split=20, model__min_samples_leaf=10 \n",
      "[CV]  onehot__transformers=[('num', SimpleImputer(strategy='median'), [7]), ('cat', OneHotEncoder(drop='first'), [11, 0, 12, 2])], model__n_estimators=200, model__min_samples_split=20, model__min_samples_leaf=10, total=   0.4s\n",
      "[CV] onehot__transformers=[('num', SimpleImputer(strategy='median'), [7]), ('cat', OneHotEncoder(drop='first'), [11, 0, 12, 2])], model__n_estimators=200, model__min_samples_split=20, model__min_samples_leaf=10 \n",
      "[CV]  onehot__transformers=[('num', SimpleImputer(strategy='median'), [7]), ('cat', OneHotEncoder(drop='first'), [11, 0, 12, 2])], model__n_estimators=200, model__min_samples_split=20, model__min_samples_leaf=10, total=   0.4s\n",
      "[CV] onehot__transformers=[('num', SimpleImputer(strategy='median'), [7]), ('cat', OneHotEncoder(drop='first'), [11, 0, 12, 2])], model__n_estimators=200, model__min_samples_split=20, model__min_samples_leaf=10 \n",
      "[CV]  onehot__transformers=[('num', SimpleImputer(strategy='median'), [7]), ('cat', OneHotEncoder(drop='first'), [11, 0, 12, 2])], model__n_estimators=200, model__min_samples_split=20, model__min_samples_leaf=10, total=   0.4s\n",
      "[CV] onehot__transformers=[('num', SimpleImputer(strategy='median'), [7]), ('cat', OneHotEncoder(drop='first'), [11, 0, 12, 2])], model__n_estimators=200, model__min_samples_split=20, model__min_samples_leaf=10 \n",
      "[CV]  onehot__transformers=[('num', SimpleImputer(strategy='median'), [7]), ('cat', OneHotEncoder(drop='first'), [11, 0, 12, 2])], model__n_estimators=200, model__min_samples_split=20, model__min_samples_leaf=10, total=   0.4s\n",
      "[CV] onehot__transformers=[('num', SimpleImputer(strategy='median'), [7]), ('cat', OneHotEncoder(drop='first'), [11, 0, 12, 2])], model__n_estimators=200, model__min_samples_split=20, model__min_samples_leaf=10 \n",
      "[CV]  onehot__transformers=[('num', SimpleImputer(strategy='median'), [7]), ('cat', OneHotEncoder(drop='first'), [11, 0, 12, 2])], model__n_estimators=200, model__min_samples_split=20, model__min_samples_leaf=10, total=   0.4s\n",
      "[CV] onehot__transformers=[('num', SimpleImputer(strategy='median'), [7]), ('cat', OneHotEncoder(drop='first'), [11, 0, 12, 2, 1, 8, 9])], model__n_estimators=150, model__min_samples_split=12, model__min_samples_leaf=15 \n",
      "[CV]  onehot__transformers=[('num', SimpleImputer(strategy='median'), [7]), ('cat', OneHotEncoder(drop='first'), [11, 0, 12, 2, 1, 8, 9])], model__n_estimators=150, model__min_samples_split=12, model__min_samples_leaf=15, total=   0.4s\n",
      "[CV] onehot__transformers=[('num', SimpleImputer(strategy='median'), [7]), ('cat', OneHotEncoder(drop='first'), [11, 0, 12, 2, 1, 8, 9])], model__n_estimators=150, model__min_samples_split=12, model__min_samples_leaf=15 \n",
      "[CV]  onehot__transformers=[('num', SimpleImputer(strategy='median'), [7]), ('cat', OneHotEncoder(drop='first'), [11, 0, 12, 2, 1, 8, 9])], model__n_estimators=150, model__min_samples_split=12, model__min_samples_leaf=15, total=   0.4s\n",
      "[CV] onehot__transformers=[('num', SimpleImputer(strategy='median'), [7]), ('cat', OneHotEncoder(drop='first'), [11, 0, 12, 2, 1, 8, 9])], model__n_estimators=150, model__min_samples_split=12, model__min_samples_leaf=15 \n",
      "[CV]  onehot__transformers=[('num', SimpleImputer(strategy='median'), [7]), ('cat', OneHotEncoder(drop='first'), [11, 0, 12, 2, 1, 8, 9])], model__n_estimators=150, model__min_samples_split=12, model__min_samples_leaf=15, total=   0.4s\n",
      "[CV] onehot__transformers=[('num', SimpleImputer(strategy='median'), [7]), ('cat', OneHotEncoder(drop='first'), [11, 0, 12, 2, 1, 8, 9])], model__n_estimators=150, model__min_samples_split=12, model__min_samples_leaf=15 \n",
      "[CV]  onehot__transformers=[('num', SimpleImputer(strategy='median'), [7]), ('cat', OneHotEncoder(drop='first'), [11, 0, 12, 2, 1, 8, 9])], model__n_estimators=150, model__min_samples_split=12, model__min_samples_leaf=15, total=   0.4s\n",
      "[CV] onehot__transformers=[('num', SimpleImputer(strategy='median'), [7]), ('cat', OneHotEncoder(drop='first'), [11, 0, 12, 2, 1, 8, 9])], model__n_estimators=150, model__min_samples_split=12, model__min_samples_leaf=15 \n",
      "[CV]  onehot__transformers=[('num', SimpleImputer(strategy='median'), [7]), ('cat', OneHotEncoder(drop='first'), [11, 0, 12, 2, 1, 8, 9])], model__n_estimators=150, model__min_samples_split=12, model__min_samples_leaf=15, total=   0.4s\n",
      "[CV] onehot__transformers=[('num', SimpleImputer(strategy='median'), [7]), ('cat', OneHotEncoder(drop='first'), [11, 0, 12, 2, 1, 8, 9])], model__n_estimators=150, model__min_samples_split=12, model__min_samples_leaf=15 \n",
      "[CV]  onehot__transformers=[('num', SimpleImputer(strategy='median'), [7]), ('cat', OneHotEncoder(drop='first'), [11, 0, 12, 2, 1, 8, 9])], model__n_estimators=150, model__min_samples_split=12, model__min_samples_leaf=15, total=   0.4s\n",
      "[CV] onehot__transformers=[('num', SimpleImputer(strategy='median'), [7]), ('cat', OneHotEncoder(drop='first'), [11, 0, 12, 2, 1, 8, 9])], model__n_estimators=150, model__min_samples_split=12, model__min_samples_leaf=15 \n",
      "[CV]  onehot__transformers=[('num', SimpleImputer(strategy='median'), [7]), ('cat', OneHotEncoder(drop='first'), [11, 0, 12, 2, 1, 8, 9])], model__n_estimators=150, model__min_samples_split=12, model__min_samples_leaf=15, total=   0.4s\n",
      "[CV] onehot__transformers=[('num', SimpleImputer(strategy='median'), [7]), ('cat', OneHotEncoder(drop='first'), [11, 0, 12, 2, 1, 8, 9])], model__n_estimators=150, model__min_samples_split=12, model__min_samples_leaf=15 \n",
      "[CV]  onehot__transformers=[('num', SimpleImputer(strategy='median'), [7]), ('cat', OneHotEncoder(drop='first'), [11, 0, 12, 2, 1, 8, 9])], model__n_estimators=150, model__min_samples_split=12, model__min_samples_leaf=15, total=   0.4s\n",
      "[CV] onehot__transformers=[('num', SimpleImputer(strategy='median'), [7]), ('cat', OneHotEncoder(drop='first'), [11, 0, 12, 2, 1, 8, 9])], model__n_estimators=150, model__min_samples_split=12, model__min_samples_leaf=15 \n",
      "[CV]  onehot__transformers=[('num', SimpleImputer(strategy='median'), [7]), ('cat', OneHotEncoder(drop='first'), [11, 0, 12, 2, 1, 8, 9])], model__n_estimators=150, model__min_samples_split=12, model__min_samples_leaf=15, total=   0.4s\n",
      "[CV] onehot__transformers=[('num', SimpleImputer(strategy='median'), [7]), ('cat', OneHotEncoder(drop='first'), [11, 0, 12, 2, 1, 8, 9])], model__n_estimators=150, model__min_samples_split=12, model__min_samples_leaf=15 \n",
      "[CV]  onehot__transformers=[('num', SimpleImputer(strategy='median'), [7]), ('cat', OneHotEncoder(drop='first'), [11, 0, 12, 2, 1, 8, 9])], model__n_estimators=150, model__min_samples_split=12, model__min_samples_leaf=15, total=   0.4s\n",
      "[CV] onehot__transformers=[('num', SimpleImputer(strategy='median'), [7]), ('cat', OneHotEncoder(drop='first'), [11, 0, 12, 2, 1, 8, 9])], model__n_estimators=150, model__min_samples_split=12, model__min_samples_leaf=15 \n",
      "[CV]  onehot__transformers=[('num', SimpleImputer(strategy='median'), [7]), ('cat', OneHotEncoder(drop='first'), [11, 0, 12, 2, 1, 8, 9])], model__n_estimators=150, model__min_samples_split=12, model__min_samples_leaf=15, total=   0.4s\n",
      "[CV] onehot__transformers=[('num', SimpleImputer(strategy='median'), [7]), ('cat', OneHotEncoder(drop='first'), [11, 0, 12, 2, 1, 8, 9])], model__n_estimators=150, model__min_samples_split=12, model__min_samples_leaf=15 \n",
      "[CV]  onehot__transformers=[('num', SimpleImputer(strategy='median'), [7]), ('cat', OneHotEncoder(drop='first'), [11, 0, 12, 2, 1, 8, 9])], model__n_estimators=150, model__min_samples_split=12, model__min_samples_leaf=15, total=   0.4s\n",
      "[CV] onehot__transformers=[('num', SimpleImputer(strategy='median'), [7]), ('cat', OneHotEncoder(drop='first'), [11, 0, 12, 2, 1, 8, 9])], model__n_estimators=150, model__min_samples_split=12, model__min_samples_leaf=15 \n"
     ]
    },
    {
     "name": "stdout",
     "output_type": "stream",
     "text": [
      "[CV]  onehot__transformers=[('num', SimpleImputer(strategy='median'), [7]), ('cat', OneHotEncoder(drop='first'), [11, 0, 12, 2, 1, 8, 9])], model__n_estimators=150, model__min_samples_split=12, model__min_samples_leaf=15, total=   0.4s\n",
      "[CV] onehot__transformers=[('num', SimpleImputer(strategy='median'), [7]), ('cat', OneHotEncoder(drop='first'), [11, 0, 12, 2, 1, 8, 9])], model__n_estimators=150, model__min_samples_split=12, model__min_samples_leaf=15 \n",
      "[CV]  onehot__transformers=[('num', SimpleImputer(strategy='median'), [7]), ('cat', OneHotEncoder(drop='first'), [11, 0, 12, 2, 1, 8, 9])], model__n_estimators=150, model__min_samples_split=12, model__min_samples_leaf=15, total=   0.4s\n",
      "[CV] onehot__transformers=[('num', SimpleImputer(strategy='median'), [7]), ('cat', OneHotEncoder(drop='first'), [11, 0, 12, 2, 1, 8, 9])], model__n_estimators=150, model__min_samples_split=12, model__min_samples_leaf=15 \n",
      "[CV]  onehot__transformers=[('num', SimpleImputer(strategy='median'), [7]), ('cat', OneHotEncoder(drop='first'), [11, 0, 12, 2, 1, 8, 9])], model__n_estimators=150, model__min_samples_split=12, model__min_samples_leaf=15, total=   0.4s\n",
      "[CV] onehot__transformers=[('num', SimpleImputer(strategy='median'), [7]), ('cat', OneHotEncoder(drop='first'), [11, 0, 12, 2, 1, 8, 9])], model__n_estimators=150, model__min_samples_split=12, model__min_samples_leaf=15 \n",
      "[CV]  onehot__transformers=[('num', SimpleImputer(strategy='median'), [7]), ('cat', OneHotEncoder(drop='first'), [11, 0, 12, 2, 1, 8, 9])], model__n_estimators=150, model__min_samples_split=12, model__min_samples_leaf=15, total=   0.4s\n",
      "[CV] onehot__transformers=[('num', SimpleImputer(strategy='median'), [7]), ('cat', OneHotEncoder(drop='first'), [11, 0, 12, 2, 1, 8, 9])], model__n_estimators=150, model__min_samples_split=12, model__min_samples_leaf=15 \n",
      "[CV]  onehot__transformers=[('num', SimpleImputer(strategy='median'), [7]), ('cat', OneHotEncoder(drop='first'), [11, 0, 12, 2, 1, 8, 9])], model__n_estimators=150, model__min_samples_split=12, model__min_samples_leaf=15, total=   0.4s\n",
      "[CV] onehot__transformers=[('num', SimpleImputer(strategy='median'), [7]), ('cat', OneHotEncoder(drop='first'), [11, 0, 12, 2, 1, 8, 9])], model__n_estimators=150, model__min_samples_split=12, model__min_samples_leaf=15 \n",
      "[CV]  onehot__transformers=[('num', SimpleImputer(strategy='median'), [7]), ('cat', OneHotEncoder(drop='first'), [11, 0, 12, 2, 1, 8, 9])], model__n_estimators=150, model__min_samples_split=12, model__min_samples_leaf=15, total=   0.4s\n",
      "[CV] onehot__transformers=[('num', SimpleImputer(strategy='median'), [7]), ('cat', OneHotEncoder(drop='first'), [11, 0, 12, 2, 1, 8, 9])], model__n_estimators=150, model__min_samples_split=12, model__min_samples_leaf=15 \n",
      "[CV]  onehot__transformers=[('num', SimpleImputer(strategy='median'), [7]), ('cat', OneHotEncoder(drop='first'), [11, 0, 12, 2, 1, 8, 9])], model__n_estimators=150, model__min_samples_split=12, model__min_samples_leaf=15, total=   0.4s\n",
      "[CV] onehot__transformers=[('num', SimpleImputer(strategy='median'), [7]), ('cat', OneHotEncoder(drop='first'), [11, 0, 12, 2, 1, 8, 9])], model__n_estimators=150, model__min_samples_split=12, model__min_samples_leaf=15 \n",
      "[CV]  onehot__transformers=[('num', SimpleImputer(strategy='median'), [7]), ('cat', OneHotEncoder(drop='first'), [11, 0, 12, 2, 1, 8, 9])], model__n_estimators=150, model__min_samples_split=12, model__min_samples_leaf=15, total=   0.4s\n",
      "[CV] onehot__transformers=[('num', SimpleImputer(strategy='median'), [7]), ('cat', OneHotEncoder(drop='first'), [11, 0, 12, 2])], model__n_estimators=150, model__min_samples_split=15, model__min_samples_leaf=17 \n",
      "[CV]  onehot__transformers=[('num', SimpleImputer(strategy='median'), [7]), ('cat', OneHotEncoder(drop='first'), [11, 0, 12, 2])], model__n_estimators=150, model__min_samples_split=15, model__min_samples_leaf=17, total=   0.4s\n",
      "[CV] onehot__transformers=[('num', SimpleImputer(strategy='median'), [7]), ('cat', OneHotEncoder(drop='first'), [11, 0, 12, 2])], model__n_estimators=150, model__min_samples_split=15, model__min_samples_leaf=17 \n",
      "[CV]  onehot__transformers=[('num', SimpleImputer(strategy='median'), [7]), ('cat', OneHotEncoder(drop='first'), [11, 0, 12, 2])], model__n_estimators=150, model__min_samples_split=15, model__min_samples_leaf=17, total=   0.4s\n",
      "[CV] onehot__transformers=[('num', SimpleImputer(strategy='median'), [7]), ('cat', OneHotEncoder(drop='first'), [11, 0, 12, 2])], model__n_estimators=150, model__min_samples_split=15, model__min_samples_leaf=17 \n",
      "[CV]  onehot__transformers=[('num', SimpleImputer(strategy='median'), [7]), ('cat', OneHotEncoder(drop='first'), [11, 0, 12, 2])], model__n_estimators=150, model__min_samples_split=15, model__min_samples_leaf=17, total=   0.4s\n",
      "[CV] onehot__transformers=[('num', SimpleImputer(strategy='median'), [7]), ('cat', OneHotEncoder(drop='first'), [11, 0, 12, 2])], model__n_estimators=150, model__min_samples_split=15, model__min_samples_leaf=17 \n",
      "[CV]  onehot__transformers=[('num', SimpleImputer(strategy='median'), [7]), ('cat', OneHotEncoder(drop='first'), [11, 0, 12, 2])], model__n_estimators=150, model__min_samples_split=15, model__min_samples_leaf=17, total=   0.3s\n",
      "[CV] onehot__transformers=[('num', SimpleImputer(strategy='median'), [7]), ('cat', OneHotEncoder(drop='first'), [11, 0, 12, 2])], model__n_estimators=150, model__min_samples_split=15, model__min_samples_leaf=17 \n",
      "[CV]  onehot__transformers=[('num', SimpleImputer(strategy='median'), [7]), ('cat', OneHotEncoder(drop='first'), [11, 0, 12, 2])], model__n_estimators=150, model__min_samples_split=15, model__min_samples_leaf=17, total=   0.4s\n",
      "[CV] onehot__transformers=[('num', SimpleImputer(strategy='median'), [7]), ('cat', OneHotEncoder(drop='first'), [11, 0, 12, 2])], model__n_estimators=150, model__min_samples_split=15, model__min_samples_leaf=17 \n",
      "[CV]  onehot__transformers=[('num', SimpleImputer(strategy='median'), [7]), ('cat', OneHotEncoder(drop='first'), [11, 0, 12, 2])], model__n_estimators=150, model__min_samples_split=15, model__min_samples_leaf=17, total=   0.4s\n",
      "[CV] onehot__transformers=[('num', SimpleImputer(strategy='median'), [7]), ('cat', OneHotEncoder(drop='first'), [11, 0, 12, 2])], model__n_estimators=150, model__min_samples_split=15, model__min_samples_leaf=17 \n",
      "[CV]  onehot__transformers=[('num', SimpleImputer(strategy='median'), [7]), ('cat', OneHotEncoder(drop='first'), [11, 0, 12, 2])], model__n_estimators=150, model__min_samples_split=15, model__min_samples_leaf=17, total=   0.4s\n",
      "[CV] onehot__transformers=[('num', SimpleImputer(strategy='median'), [7]), ('cat', OneHotEncoder(drop='first'), [11, 0, 12, 2])], model__n_estimators=150, model__min_samples_split=15, model__min_samples_leaf=17 \n",
      "[CV]  onehot__transformers=[('num', SimpleImputer(strategy='median'), [7]), ('cat', OneHotEncoder(drop='first'), [11, 0, 12, 2])], model__n_estimators=150, model__min_samples_split=15, model__min_samples_leaf=17, total=   0.4s\n",
      "[CV] onehot__transformers=[('num', SimpleImputer(strategy='median'), [7]), ('cat', OneHotEncoder(drop='first'), [11, 0, 12, 2])], model__n_estimators=150, model__min_samples_split=15, model__min_samples_leaf=17 \n",
      "[CV]  onehot__transformers=[('num', SimpleImputer(strategy='median'), [7]), ('cat', OneHotEncoder(drop='first'), [11, 0, 12, 2])], model__n_estimators=150, model__min_samples_split=15, model__min_samples_leaf=17, total=   0.4s\n",
      "[CV] onehot__transformers=[('num', SimpleImputer(strategy='median'), [7]), ('cat', OneHotEncoder(drop='first'), [11, 0, 12, 2])], model__n_estimators=150, model__min_samples_split=15, model__min_samples_leaf=17 \n",
      "[CV]  onehot__transformers=[('num', SimpleImputer(strategy='median'), [7]), ('cat', OneHotEncoder(drop='first'), [11, 0, 12, 2])], model__n_estimators=150, model__min_samples_split=15, model__min_samples_leaf=17, total=   0.4s\n",
      "[CV] onehot__transformers=[('num', SimpleImputer(strategy='median'), [7]), ('cat', OneHotEncoder(drop='first'), [11, 0, 12, 2])], model__n_estimators=150, model__min_samples_split=15, model__min_samples_leaf=17 \n",
      "[CV]  onehot__transformers=[('num', SimpleImputer(strategy='median'), [7]), ('cat', OneHotEncoder(drop='first'), [11, 0, 12, 2])], model__n_estimators=150, model__min_samples_split=15, model__min_samples_leaf=17, total=   0.4s\n",
      "[CV] onehot__transformers=[('num', SimpleImputer(strategy='median'), [7]), ('cat', OneHotEncoder(drop='first'), [11, 0, 12, 2])], model__n_estimators=150, model__min_samples_split=15, model__min_samples_leaf=17 \n"
     ]
    },
    {
     "name": "stdout",
     "output_type": "stream",
     "text": [
      "[CV]  onehot__transformers=[('num', SimpleImputer(strategy='median'), [7]), ('cat', OneHotEncoder(drop='first'), [11, 0, 12, 2])], model__n_estimators=150, model__min_samples_split=15, model__min_samples_leaf=17, total=   0.3s\n",
      "[CV] onehot__transformers=[('num', SimpleImputer(strategy='median'), [7]), ('cat', OneHotEncoder(drop='first'), [11, 0, 12, 2])], model__n_estimators=150, model__min_samples_split=15, model__min_samples_leaf=17 \n",
      "[CV]  onehot__transformers=[('num', SimpleImputer(strategy='median'), [7]), ('cat', OneHotEncoder(drop='first'), [11, 0, 12, 2])], model__n_estimators=150, model__min_samples_split=15, model__min_samples_leaf=17, total=   0.4s\n",
      "[CV] onehot__transformers=[('num', SimpleImputer(strategy='median'), [7]), ('cat', OneHotEncoder(drop='first'), [11, 0, 12, 2])], model__n_estimators=150, model__min_samples_split=15, model__min_samples_leaf=17 \n",
      "[CV]  onehot__transformers=[('num', SimpleImputer(strategy='median'), [7]), ('cat', OneHotEncoder(drop='first'), [11, 0, 12, 2])], model__n_estimators=150, model__min_samples_split=15, model__min_samples_leaf=17, total=   0.3s\n",
      "[CV] onehot__transformers=[('num', SimpleImputer(strategy='median'), [7]), ('cat', OneHotEncoder(drop='first'), [11, 0, 12, 2])], model__n_estimators=150, model__min_samples_split=15, model__min_samples_leaf=17 \n",
      "[CV]  onehot__transformers=[('num', SimpleImputer(strategy='median'), [7]), ('cat', OneHotEncoder(drop='first'), [11, 0, 12, 2])], model__n_estimators=150, model__min_samples_split=15, model__min_samples_leaf=17, total=   0.3s\n",
      "[CV] onehot__transformers=[('num', SimpleImputer(strategy='median'), [7]), ('cat', OneHotEncoder(drop='first'), [11, 0, 12, 2])], model__n_estimators=150, model__min_samples_split=15, model__min_samples_leaf=17 \n",
      "[CV]  onehot__transformers=[('num', SimpleImputer(strategy='median'), [7]), ('cat', OneHotEncoder(drop='first'), [11, 0, 12, 2])], model__n_estimators=150, model__min_samples_split=15, model__min_samples_leaf=17, total=   0.4s\n",
      "[CV] onehot__transformers=[('num', SimpleImputer(strategy='median'), [7]), ('cat', OneHotEncoder(drop='first'), [11, 0, 12, 2])], model__n_estimators=150, model__min_samples_split=15, model__min_samples_leaf=17 \n",
      "[CV]  onehot__transformers=[('num', SimpleImputer(strategy='median'), [7]), ('cat', OneHotEncoder(drop='first'), [11, 0, 12, 2])], model__n_estimators=150, model__min_samples_split=15, model__min_samples_leaf=17, total=   0.3s\n",
      "[CV] onehot__transformers=[('num', SimpleImputer(strategy='median'), [7]), ('cat', OneHotEncoder(drop='first'), [11, 0, 12, 2])], model__n_estimators=150, model__min_samples_split=15, model__min_samples_leaf=17 \n",
      "[CV]  onehot__transformers=[('num', SimpleImputer(strategy='median'), [7]), ('cat', OneHotEncoder(drop='first'), [11, 0, 12, 2])], model__n_estimators=150, model__min_samples_split=15, model__min_samples_leaf=17, total=   0.3s\n",
      "[CV] onehot__transformers=[('num', SimpleImputer(strategy='median'), [7]), ('cat', OneHotEncoder(drop='first'), [11, 0, 12, 2])], model__n_estimators=150, model__min_samples_split=15, model__min_samples_leaf=17 \n",
      "[CV]  onehot__transformers=[('num', SimpleImputer(strategy='median'), [7]), ('cat', OneHotEncoder(drop='first'), [11, 0, 12, 2])], model__n_estimators=150, model__min_samples_split=15, model__min_samples_leaf=17, total=   0.3s\n",
      "[CV] onehot__transformers=[('num', SimpleImputer(strategy='median'), [7]), ('cat', OneHotEncoder(drop='first'), [11, 0, 12, 2])], model__n_estimators=150, model__min_samples_split=15, model__min_samples_leaf=17 \n",
      "[CV]  onehot__transformers=[('num', SimpleImputer(strategy='median'), [7]), ('cat', OneHotEncoder(drop='first'), [11, 0, 12, 2])], model__n_estimators=150, model__min_samples_split=15, model__min_samples_leaf=17, total=   0.4s\n",
      "[CV] onehot__transformers=[('num', SimpleImputer(strategy='median'), [7]), ('cat', OneHotEncoder(drop='first'), [11, 0, 12, 2])], model__n_estimators=180, model__min_samples_split=12, model__min_samples_leaf=15 \n",
      "[CV]  onehot__transformers=[('num', SimpleImputer(strategy='median'), [7]), ('cat', OneHotEncoder(drop='first'), [11, 0, 12, 2])], model__n_estimators=180, model__min_samples_split=12, model__min_samples_leaf=15, total=   0.4s\n",
      "[CV] onehot__transformers=[('num', SimpleImputer(strategy='median'), [7]), ('cat', OneHotEncoder(drop='first'), [11, 0, 12, 2])], model__n_estimators=180, model__min_samples_split=12, model__min_samples_leaf=15 \n",
      "[CV]  onehot__transformers=[('num', SimpleImputer(strategy='median'), [7]), ('cat', OneHotEncoder(drop='first'), [11, 0, 12, 2])], model__n_estimators=180, model__min_samples_split=12, model__min_samples_leaf=15, total=   0.4s\n",
      "[CV] onehot__transformers=[('num', SimpleImputer(strategy='median'), [7]), ('cat', OneHotEncoder(drop='first'), [11, 0, 12, 2])], model__n_estimators=180, model__min_samples_split=12, model__min_samples_leaf=15 \n",
      "[CV]  onehot__transformers=[('num', SimpleImputer(strategy='median'), [7]), ('cat', OneHotEncoder(drop='first'), [11, 0, 12, 2])], model__n_estimators=180, model__min_samples_split=12, model__min_samples_leaf=15, total=   0.4s\n",
      "[CV] onehot__transformers=[('num', SimpleImputer(strategy='median'), [7]), ('cat', OneHotEncoder(drop='first'), [11, 0, 12, 2])], model__n_estimators=180, model__min_samples_split=12, model__min_samples_leaf=15 \n",
      "[CV]  onehot__transformers=[('num', SimpleImputer(strategy='median'), [7]), ('cat', OneHotEncoder(drop='first'), [11, 0, 12, 2])], model__n_estimators=180, model__min_samples_split=12, model__min_samples_leaf=15, total=   0.4s\n",
      "[CV] onehot__transformers=[('num', SimpleImputer(strategy='median'), [7]), ('cat', OneHotEncoder(drop='first'), [11, 0, 12, 2])], model__n_estimators=180, model__min_samples_split=12, model__min_samples_leaf=15 \n",
      "[CV]  onehot__transformers=[('num', SimpleImputer(strategy='median'), [7]), ('cat', OneHotEncoder(drop='first'), [11, 0, 12, 2])], model__n_estimators=180, model__min_samples_split=12, model__min_samples_leaf=15, total=   0.4s\n",
      "[CV] onehot__transformers=[('num', SimpleImputer(strategy='median'), [7]), ('cat', OneHotEncoder(drop='first'), [11, 0, 12, 2])], model__n_estimators=180, model__min_samples_split=12, model__min_samples_leaf=15 \n",
      "[CV]  onehot__transformers=[('num', SimpleImputer(strategy='median'), [7]), ('cat', OneHotEncoder(drop='first'), [11, 0, 12, 2])], model__n_estimators=180, model__min_samples_split=12, model__min_samples_leaf=15, total=   0.4s\n",
      "[CV] onehot__transformers=[('num', SimpleImputer(strategy='median'), [7]), ('cat', OneHotEncoder(drop='first'), [11, 0, 12, 2])], model__n_estimators=180, model__min_samples_split=12, model__min_samples_leaf=15 \n",
      "[CV]  onehot__transformers=[('num', SimpleImputer(strategy='median'), [7]), ('cat', OneHotEncoder(drop='first'), [11, 0, 12, 2])], model__n_estimators=180, model__min_samples_split=12, model__min_samples_leaf=15, total=   0.4s\n",
      "[CV] onehot__transformers=[('num', SimpleImputer(strategy='median'), [7]), ('cat', OneHotEncoder(drop='first'), [11, 0, 12, 2])], model__n_estimators=180, model__min_samples_split=12, model__min_samples_leaf=15 \n",
      "[CV]  onehot__transformers=[('num', SimpleImputer(strategy='median'), [7]), ('cat', OneHotEncoder(drop='first'), [11, 0, 12, 2])], model__n_estimators=180, model__min_samples_split=12, model__min_samples_leaf=15, total=   0.4s\n",
      "[CV] onehot__transformers=[('num', SimpleImputer(strategy='median'), [7]), ('cat', OneHotEncoder(drop='first'), [11, 0, 12, 2])], model__n_estimators=180, model__min_samples_split=12, model__min_samples_leaf=15 \n",
      "[CV]  onehot__transformers=[('num', SimpleImputer(strategy='median'), [7]), ('cat', OneHotEncoder(drop='first'), [11, 0, 12, 2])], model__n_estimators=180, model__min_samples_split=12, model__min_samples_leaf=15, total=   0.4s\n",
      "[CV] onehot__transformers=[('num', SimpleImputer(strategy='median'), [7]), ('cat', OneHotEncoder(drop='first'), [11, 0, 12, 2])], model__n_estimators=180, model__min_samples_split=12, model__min_samples_leaf=15 \n",
      "[CV]  onehot__transformers=[('num', SimpleImputer(strategy='median'), [7]), ('cat', OneHotEncoder(drop='first'), [11, 0, 12, 2])], model__n_estimators=180, model__min_samples_split=12, model__min_samples_leaf=15, total=   0.4s\n",
      "[CV] onehot__transformers=[('num', SimpleImputer(strategy='median'), [7]), ('cat', OneHotEncoder(drop='first'), [11, 0, 12, 2])], model__n_estimators=180, model__min_samples_split=12, model__min_samples_leaf=15 \n"
     ]
    },
    {
     "name": "stdout",
     "output_type": "stream",
     "text": [
      "[CV]  onehot__transformers=[('num', SimpleImputer(strategy='median'), [7]), ('cat', OneHotEncoder(drop='first'), [11, 0, 12, 2])], model__n_estimators=180, model__min_samples_split=12, model__min_samples_leaf=15, total=   0.4s\n",
      "[CV] onehot__transformers=[('num', SimpleImputer(strategy='median'), [7]), ('cat', OneHotEncoder(drop='first'), [11, 0, 12, 2])], model__n_estimators=180, model__min_samples_split=12, model__min_samples_leaf=15 \n",
      "[CV]  onehot__transformers=[('num', SimpleImputer(strategy='median'), [7]), ('cat', OneHotEncoder(drop='first'), [11, 0, 12, 2])], model__n_estimators=180, model__min_samples_split=12, model__min_samples_leaf=15, total=   0.4s\n",
      "[CV] onehot__transformers=[('num', SimpleImputer(strategy='median'), [7]), ('cat', OneHotEncoder(drop='first'), [11, 0, 12, 2])], model__n_estimators=180, model__min_samples_split=12, model__min_samples_leaf=15 \n",
      "[CV]  onehot__transformers=[('num', SimpleImputer(strategy='median'), [7]), ('cat', OneHotEncoder(drop='first'), [11, 0, 12, 2])], model__n_estimators=180, model__min_samples_split=12, model__min_samples_leaf=15, total=   0.5s\n",
      "[CV] onehot__transformers=[('num', SimpleImputer(strategy='median'), [7]), ('cat', OneHotEncoder(drop='first'), [11, 0, 12, 2])], model__n_estimators=180, model__min_samples_split=12, model__min_samples_leaf=15 \n",
      "[CV]  onehot__transformers=[('num', SimpleImputer(strategy='median'), [7]), ('cat', OneHotEncoder(drop='first'), [11, 0, 12, 2])], model__n_estimators=180, model__min_samples_split=12, model__min_samples_leaf=15, total=   0.4s\n",
      "[CV] onehot__transformers=[('num', SimpleImputer(strategy='median'), [7]), ('cat', OneHotEncoder(drop='first'), [11, 0, 12, 2])], model__n_estimators=180, model__min_samples_split=12, model__min_samples_leaf=15 \n",
      "[CV]  onehot__transformers=[('num', SimpleImputer(strategy='median'), [7]), ('cat', OneHotEncoder(drop='first'), [11, 0, 12, 2])], model__n_estimators=180, model__min_samples_split=12, model__min_samples_leaf=15, total=   0.4s\n",
      "[CV] onehot__transformers=[('num', SimpleImputer(strategy='median'), [7]), ('cat', OneHotEncoder(drop='first'), [11, 0, 12, 2])], model__n_estimators=180, model__min_samples_split=12, model__min_samples_leaf=15 \n",
      "[CV]  onehot__transformers=[('num', SimpleImputer(strategy='median'), [7]), ('cat', OneHotEncoder(drop='first'), [11, 0, 12, 2])], model__n_estimators=180, model__min_samples_split=12, model__min_samples_leaf=15, total=   0.4s\n",
      "[CV] onehot__transformers=[('num', SimpleImputer(strategy='median'), [7]), ('cat', OneHotEncoder(drop='first'), [11, 0, 12, 2])], model__n_estimators=180, model__min_samples_split=12, model__min_samples_leaf=15 \n",
      "[CV]  onehot__transformers=[('num', SimpleImputer(strategy='median'), [7]), ('cat', OneHotEncoder(drop='first'), [11, 0, 12, 2])], model__n_estimators=180, model__min_samples_split=12, model__min_samples_leaf=15, total=   0.4s\n",
      "[CV] onehot__transformers=[('num', SimpleImputer(strategy='median'), [7]), ('cat', OneHotEncoder(drop='first'), [11, 0, 12, 2])], model__n_estimators=180, model__min_samples_split=12, model__min_samples_leaf=15 \n",
      "[CV]  onehot__transformers=[('num', SimpleImputer(strategy='median'), [7]), ('cat', OneHotEncoder(drop='first'), [11, 0, 12, 2])], model__n_estimators=180, model__min_samples_split=12, model__min_samples_leaf=15, total=   0.4s\n",
      "[CV] onehot__transformers=[('num', SimpleImputer(strategy='median'), [7]), ('cat', OneHotEncoder(drop='first'), [11, 0, 12, 2])], model__n_estimators=180, model__min_samples_split=12, model__min_samples_leaf=15 \n",
      "[CV]  onehot__transformers=[('num', SimpleImputer(strategy='median'), [7]), ('cat', OneHotEncoder(drop='first'), [11, 0, 12, 2])], model__n_estimators=180, model__min_samples_split=12, model__min_samples_leaf=15, total=   0.4s\n",
      "[CV] onehot__transformers=[('num', SimpleImputer(strategy='median'), [7]), ('cat', OneHotEncoder(drop='first'), [11, 0, 12, 2])], model__n_estimators=180, model__min_samples_split=12, model__min_samples_leaf=15 \n",
      "[CV]  onehot__transformers=[('num', SimpleImputer(strategy='median'), [7]), ('cat', OneHotEncoder(drop='first'), [11, 0, 12, 2])], model__n_estimators=180, model__min_samples_split=12, model__min_samples_leaf=15, total=   0.4s\n",
      "[CV] onehot__transformers=[('num', SimpleImputer(strategy='median'), [7, 3, 5, 4]), ('cat', OneHotEncoder(drop='first'), [1, 8, 0, 12, 11, 9, 2, 10])], model__n_estimators=225, model__min_samples_split=20, model__min_samples_leaf=15 \n",
      "[CV]  onehot__transformers=[('num', SimpleImputer(strategy='median'), [7, 3, 5, 4]), ('cat', OneHotEncoder(drop='first'), [1, 8, 0, 12, 11, 9, 2, 10])], model__n_estimators=225, model__min_samples_split=20, model__min_samples_leaf=15, total=   0.5s\n",
      "[CV] onehot__transformers=[('num', SimpleImputer(strategy='median'), [7, 3, 5, 4]), ('cat', OneHotEncoder(drop='first'), [1, 8, 0, 12, 11, 9, 2, 10])], model__n_estimators=225, model__min_samples_split=20, model__min_samples_leaf=15 \n",
      "[CV]  onehot__transformers=[('num', SimpleImputer(strategy='median'), [7, 3, 5, 4]), ('cat', OneHotEncoder(drop='first'), [1, 8, 0, 12, 11, 9, 2, 10])], model__n_estimators=225, model__min_samples_split=20, model__min_samples_leaf=15, total=   0.5s\n",
      "[CV] onehot__transformers=[('num', SimpleImputer(strategy='median'), [7, 3, 5, 4]), ('cat', OneHotEncoder(drop='first'), [1, 8, 0, 12, 11, 9, 2, 10])], model__n_estimators=225, model__min_samples_split=20, model__min_samples_leaf=15 \n",
      "[CV]  onehot__transformers=[('num', SimpleImputer(strategy='median'), [7, 3, 5, 4]), ('cat', OneHotEncoder(drop='first'), [1, 8, 0, 12, 11, 9, 2, 10])], model__n_estimators=225, model__min_samples_split=20, model__min_samples_leaf=15, total=   0.5s\n",
      "[CV] onehot__transformers=[('num', SimpleImputer(strategy='median'), [7, 3, 5, 4]), ('cat', OneHotEncoder(drop='first'), [1, 8, 0, 12, 11, 9, 2, 10])], model__n_estimators=225, model__min_samples_split=20, model__min_samples_leaf=15 \n",
      "[CV]  onehot__transformers=[('num', SimpleImputer(strategy='median'), [7, 3, 5, 4]), ('cat', OneHotEncoder(drop='first'), [1, 8, 0, 12, 11, 9, 2, 10])], model__n_estimators=225, model__min_samples_split=20, model__min_samples_leaf=15, total=   0.5s\n",
      "[CV] onehot__transformers=[('num', SimpleImputer(strategy='median'), [7, 3, 5, 4]), ('cat', OneHotEncoder(drop='first'), [1, 8, 0, 12, 11, 9, 2, 10])], model__n_estimators=225, model__min_samples_split=20, model__min_samples_leaf=15 \n",
      "[CV]  onehot__transformers=[('num', SimpleImputer(strategy='median'), [7, 3, 5, 4]), ('cat', OneHotEncoder(drop='first'), [1, 8, 0, 12, 11, 9, 2, 10])], model__n_estimators=225, model__min_samples_split=20, model__min_samples_leaf=15, total=   0.5s\n",
      "[CV] onehot__transformers=[('num', SimpleImputer(strategy='median'), [7, 3, 5, 4]), ('cat', OneHotEncoder(drop='first'), [1, 8, 0, 12, 11, 9, 2, 10])], model__n_estimators=225, model__min_samples_split=20, model__min_samples_leaf=15 \n",
      "[CV]  onehot__transformers=[('num', SimpleImputer(strategy='median'), [7, 3, 5, 4]), ('cat', OneHotEncoder(drop='first'), [1, 8, 0, 12, 11, 9, 2, 10])], model__n_estimators=225, model__min_samples_split=20, model__min_samples_leaf=15, total=   0.5s\n",
      "[CV] onehot__transformers=[('num', SimpleImputer(strategy='median'), [7, 3, 5, 4]), ('cat', OneHotEncoder(drop='first'), [1, 8, 0, 12, 11, 9, 2, 10])], model__n_estimators=225, model__min_samples_split=20, model__min_samples_leaf=15 \n",
      "[CV]  onehot__transformers=[('num', SimpleImputer(strategy='median'), [7, 3, 5, 4]), ('cat', OneHotEncoder(drop='first'), [1, 8, 0, 12, 11, 9, 2, 10])], model__n_estimators=225, model__min_samples_split=20, model__min_samples_leaf=15, total=   0.5s\n",
      "[CV] onehot__transformers=[('num', SimpleImputer(strategy='median'), [7, 3, 5, 4]), ('cat', OneHotEncoder(drop='first'), [1, 8, 0, 12, 11, 9, 2, 10])], model__n_estimators=225, model__min_samples_split=20, model__min_samples_leaf=15 \n",
      "[CV]  onehot__transformers=[('num', SimpleImputer(strategy='median'), [7, 3, 5, 4]), ('cat', OneHotEncoder(drop='first'), [1, 8, 0, 12, 11, 9, 2, 10])], model__n_estimators=225, model__min_samples_split=20, model__min_samples_leaf=15, total=   0.5s\n",
      "[CV] onehot__transformers=[('num', SimpleImputer(strategy='median'), [7, 3, 5, 4]), ('cat', OneHotEncoder(drop='first'), [1, 8, 0, 12, 11, 9, 2, 10])], model__n_estimators=225, model__min_samples_split=20, model__min_samples_leaf=15 \n"
     ]
    },
    {
     "name": "stdout",
     "output_type": "stream",
     "text": [
      "[CV]  onehot__transformers=[('num', SimpleImputer(strategy='median'), [7, 3, 5, 4]), ('cat', OneHotEncoder(drop='first'), [1, 8, 0, 12, 11, 9, 2, 10])], model__n_estimators=225, model__min_samples_split=20, model__min_samples_leaf=15, total=   0.5s\n",
      "[CV] onehot__transformers=[('num', SimpleImputer(strategy='median'), [7, 3, 5, 4]), ('cat', OneHotEncoder(drop='first'), [1, 8, 0, 12, 11, 9, 2, 10])], model__n_estimators=225, model__min_samples_split=20, model__min_samples_leaf=15 \n",
      "[CV]  onehot__transformers=[('num', SimpleImputer(strategy='median'), [7, 3, 5, 4]), ('cat', OneHotEncoder(drop='first'), [1, 8, 0, 12, 11, 9, 2, 10])], model__n_estimators=225, model__min_samples_split=20, model__min_samples_leaf=15, total=   0.5s\n",
      "[CV] onehot__transformers=[('num', SimpleImputer(strategy='median'), [7, 3, 5, 4]), ('cat', OneHotEncoder(drop='first'), [1, 8, 0, 12, 11, 9, 2, 10])], model__n_estimators=225, model__min_samples_split=20, model__min_samples_leaf=15 \n",
      "[CV]  onehot__transformers=[('num', SimpleImputer(strategy='median'), [7, 3, 5, 4]), ('cat', OneHotEncoder(drop='first'), [1, 8, 0, 12, 11, 9, 2, 10])], model__n_estimators=225, model__min_samples_split=20, model__min_samples_leaf=15, total=   0.5s\n",
      "[CV] onehot__transformers=[('num', SimpleImputer(strategy='median'), [7, 3, 5, 4]), ('cat', OneHotEncoder(drop='first'), [1, 8, 0, 12, 11, 9, 2, 10])], model__n_estimators=225, model__min_samples_split=20, model__min_samples_leaf=15 \n",
      "[CV]  onehot__transformers=[('num', SimpleImputer(strategy='median'), [7, 3, 5, 4]), ('cat', OneHotEncoder(drop='first'), [1, 8, 0, 12, 11, 9, 2, 10])], model__n_estimators=225, model__min_samples_split=20, model__min_samples_leaf=15, total=   0.5s\n",
      "[CV] onehot__transformers=[('num', SimpleImputer(strategy='median'), [7, 3, 5, 4]), ('cat', OneHotEncoder(drop='first'), [1, 8, 0, 12, 11, 9, 2, 10])], model__n_estimators=225, model__min_samples_split=20, model__min_samples_leaf=15 \n",
      "[CV]  onehot__transformers=[('num', SimpleImputer(strategy='median'), [7, 3, 5, 4]), ('cat', OneHotEncoder(drop='first'), [1, 8, 0, 12, 11, 9, 2, 10])], model__n_estimators=225, model__min_samples_split=20, model__min_samples_leaf=15, total=   0.5s\n",
      "[CV] onehot__transformers=[('num', SimpleImputer(strategy='median'), [7, 3, 5, 4]), ('cat', OneHotEncoder(drop='first'), [1, 8, 0, 12, 11, 9, 2, 10])], model__n_estimators=225, model__min_samples_split=20, model__min_samples_leaf=15 \n",
      "[CV]  onehot__transformers=[('num', SimpleImputer(strategy='median'), [7, 3, 5, 4]), ('cat', OneHotEncoder(drop='first'), [1, 8, 0, 12, 11, 9, 2, 10])], model__n_estimators=225, model__min_samples_split=20, model__min_samples_leaf=15, total=   0.5s\n",
      "[CV] onehot__transformers=[('num', SimpleImputer(strategy='median'), [7, 3, 5, 4]), ('cat', OneHotEncoder(drop='first'), [1, 8, 0, 12, 11, 9, 2, 10])], model__n_estimators=225, model__min_samples_split=20, model__min_samples_leaf=15 \n",
      "[CV]  onehot__transformers=[('num', SimpleImputer(strategy='median'), [7, 3, 5, 4]), ('cat', OneHotEncoder(drop='first'), [1, 8, 0, 12, 11, 9, 2, 10])], model__n_estimators=225, model__min_samples_split=20, model__min_samples_leaf=15, total=   0.5s\n",
      "[CV] onehot__transformers=[('num', SimpleImputer(strategy='median'), [7, 3, 5, 4]), ('cat', OneHotEncoder(drop='first'), [1, 8, 0, 12, 11, 9, 2, 10])], model__n_estimators=225, model__min_samples_split=20, model__min_samples_leaf=15 \n",
      "[CV]  onehot__transformers=[('num', SimpleImputer(strategy='median'), [7, 3, 5, 4]), ('cat', OneHotEncoder(drop='first'), [1, 8, 0, 12, 11, 9, 2, 10])], model__n_estimators=225, model__min_samples_split=20, model__min_samples_leaf=15, total=   0.5s\n",
      "[CV] onehot__transformers=[('num', SimpleImputer(strategy='median'), [7, 3, 5, 4]), ('cat', OneHotEncoder(drop='first'), [1, 8, 0, 12, 11, 9, 2, 10])], model__n_estimators=225, model__min_samples_split=20, model__min_samples_leaf=15 \n",
      "[CV]  onehot__transformers=[('num', SimpleImputer(strategy='median'), [7, 3, 5, 4]), ('cat', OneHotEncoder(drop='first'), [1, 8, 0, 12, 11, 9, 2, 10])], model__n_estimators=225, model__min_samples_split=20, model__min_samples_leaf=15, total=   0.5s\n",
      "[CV] onehot__transformers=[('num', SimpleImputer(strategy='median'), [7, 3, 5, 4]), ('cat', OneHotEncoder(drop='first'), [1, 8, 0, 12, 11, 9, 2, 10])], model__n_estimators=225, model__min_samples_split=20, model__min_samples_leaf=15 \n",
      "[CV]  onehot__transformers=[('num', SimpleImputer(strategy='median'), [7, 3, 5, 4]), ('cat', OneHotEncoder(drop='first'), [1, 8, 0, 12, 11, 9, 2, 10])], model__n_estimators=225, model__min_samples_split=20, model__min_samples_leaf=15, total=   0.5s\n",
      "[CV] onehot__transformers=[('num', SimpleImputer(strategy='median'), [7, 3, 5, 4]), ('cat', OneHotEncoder(drop='first'), [1, 8, 0, 12, 11, 9, 2, 10])], model__n_estimators=225, model__min_samples_split=20, model__min_samples_leaf=15 \n",
      "[CV]  onehot__transformers=[('num', SimpleImputer(strategy='median'), [7, 3, 5, 4]), ('cat', OneHotEncoder(drop='first'), [1, 8, 0, 12, 11, 9, 2, 10])], model__n_estimators=225, model__min_samples_split=20, model__min_samples_leaf=15, total=   0.5s\n",
      "[CV] onehot__transformers=[('num', SimpleImputer(strategy='median'), [7, 3, 5, 4]), ('cat', OneHotEncoder(drop='first'), [1, 8, 0, 12, 11, 9, 2, 10])], model__n_estimators=225, model__min_samples_split=20, model__min_samples_leaf=15 \n",
      "[CV]  onehot__transformers=[('num', SimpleImputer(strategy='median'), [7, 3, 5, 4]), ('cat', OneHotEncoder(drop='first'), [1, 8, 0, 12, 11, 9, 2, 10])], model__n_estimators=225, model__min_samples_split=20, model__min_samples_leaf=15, total=   0.5s\n"
     ]
    },
    {
     "name": "stderr",
     "output_type": "stream",
     "text": [
      "[Parallel(n_jobs=1)]: Done 200 out of 200 | elapsed:  1.4min finished\n"
     ]
    },
    {
     "data": {
      "text/plain": [
       "RandomizedSearchCV(cv=RepeatedStratifiedKFold(n_repeats=2, n_splits=10, random_state=42),\n",
       "                   estimator=Pipeline(steps=[('initial',\n",
       "                                              Pipeline(steps=[('price_cat',\n",
       "                                                               PriceCatGetter()),\n",
       "                                                              ('age_imputor',\n",
       "                                                               AgeImputor()),\n",
       "                                                              ('add_family',\n",
       "                                                               AddFamily()),\n",
       "                                                              ('age_cat',\n",
       "                                                               AgeCat()),\n",
       "                                                              ('imputor',\n",
       "                                                               SimpleImputer(strategy='most_frequent')),\n",
       "                                                              ('rounding',\n",
       "                                                               AttributesRounding()),\n",
       "                                                              ('name',\n",
       "                                                               NameTran...\n",
       "                                                                    [1, 8, 0,\n",
       "                                                                     12, 11, 9,\n",
       "                                                                     2, 10])],\n",
       "                                                                  [('num',\n",
       "                                                                    SimpleImputer(strategy='median'),\n",
       "                                                                    [7]),\n",
       "                                                                   ('cat',\n",
       "                                                                    OneHotEncoder(drop='first'),\n",
       "                                                                    [11, 0, 12,\n",
       "                                                                     2])],\n",
       "                                                                  [('num',\n",
       "                                                                    SimpleImputer(strategy='median'),\n",
       "                                                                    [7]),\n",
       "                                                                   ('cat',\n",
       "                                                                    OneHotEncoder(drop='first'),\n",
       "                                                                    [11, 0, 12,\n",
       "                                                                     2, 1,\n",
       "                                                                     8])],\n",
       "                                                                  [('num',\n",
       "                                                                    SimpleImputer(strategy='median'),\n",
       "                                                                    [7]),\n",
       "                                                                   ('cat',\n",
       "                                                                    OneHotEncoder(drop='first'),\n",
       "                                                                    [11, 0, 12,\n",
       "                                                                     2, 1, 8,\n",
       "                                                                     9])]]}],\n",
       "                   scoring='accuracy', verbose=2)"
      ]
     },
     "execution_count": 60,
     "metadata": {},
     "output_type": "execute_result"
    }
   ],
   "source": [
    "search_rdf.fit(train.values, y)"
   ]
  },
  {
   "cell_type": "code",
   "execution_count": 62,
   "metadata": {},
   "outputs": [
    {
     "data": {
      "text/html": [
       "<div>\n",
       "<style scoped>\n",
       "    .dataframe tbody tr th:only-of-type {\n",
       "        vertical-align: middle;\n",
       "    }\n",
       "\n",
       "    .dataframe tbody tr th {\n",
       "        vertical-align: top;\n",
       "    }\n",
       "\n",
       "    .dataframe thead th {\n",
       "        text-align: right;\n",
       "    }\n",
       "</style>\n",
       "<table border=\"1\" class=\"dataframe\">\n",
       "  <thead>\n",
       "    <tr style=\"text-align: right;\">\n",
       "      <th></th>\n",
       "      <th>onehot__transformers</th>\n",
       "      <th>model__n_estimators</th>\n",
       "      <th>model__min_samples_split</th>\n",
       "      <th>model__min_samples_leaf</th>\n",
       "      <th>score</th>\n",
       "    </tr>\n",
       "  </thead>\n",
       "  <tbody>\n",
       "    <tr>\n",
       "      <th>2</th>\n",
       "      <td>[(num, SimpleImputer(strategy='median'), [7, 3...</td>\n",
       "      <td>200</td>\n",
       "      <td>12</td>\n",
       "      <td>15</td>\n",
       "      <td>0.821536</td>\n",
       "    </tr>\n",
       "    <tr>\n",
       "      <th>9</th>\n",
       "      <td>[(num, SimpleImputer(strategy='median'), [7, 3...</td>\n",
       "      <td>225</td>\n",
       "      <td>20</td>\n",
       "      <td>15</td>\n",
       "      <td>0.820974</td>\n",
       "    </tr>\n",
       "    <tr>\n",
       "      <th>5</th>\n",
       "      <td>[(num, SimpleImputer(strategy='median'), [7]),...</td>\n",
       "      <td>200</td>\n",
       "      <td>20</td>\n",
       "      <td>10</td>\n",
       "      <td>0.809757</td>\n",
       "    </tr>\n",
       "    <tr>\n",
       "      <th>6</th>\n",
       "      <td>[(num, SimpleImputer(strategy='median'), [7]),...</td>\n",
       "      <td>150</td>\n",
       "      <td>12</td>\n",
       "      <td>15</td>\n",
       "      <td>0.808620</td>\n",
       "    </tr>\n",
       "    <tr>\n",
       "      <th>3</th>\n",
       "      <td>[(num, SimpleImputer(strategy='median'), [7]),...</td>\n",
       "      <td>225</td>\n",
       "      <td>15</td>\n",
       "      <td>10</td>\n",
       "      <td>0.807497</td>\n",
       "    </tr>\n",
       "    <tr>\n",
       "      <th>0</th>\n",
       "      <td>[(num, SimpleImputer(strategy='median'), [7]),...</td>\n",
       "      <td>225</td>\n",
       "      <td>8</td>\n",
       "      <td>17</td>\n",
       "      <td>0.803577</td>\n",
       "    </tr>\n",
       "    <tr>\n",
       "      <th>8</th>\n",
       "      <td>[(num, SimpleImputer(strategy='median'), [7]),...</td>\n",
       "      <td>180</td>\n",
       "      <td>12</td>\n",
       "      <td>15</td>\n",
       "      <td>0.802453</td>\n",
       "    </tr>\n",
       "    <tr>\n",
       "      <th>7</th>\n",
       "      <td>[(num, SimpleImputer(strategy='median'), [7]),...</td>\n",
       "      <td>150</td>\n",
       "      <td>15</td>\n",
       "      <td>17</td>\n",
       "      <td>0.798539</td>\n",
       "    </tr>\n",
       "    <tr>\n",
       "      <th>4</th>\n",
       "      <td>[(num, SimpleImputer(strategy='median'), [7]),...</td>\n",
       "      <td>225</td>\n",
       "      <td>12</td>\n",
       "      <td>17</td>\n",
       "      <td>0.796866</td>\n",
       "    </tr>\n",
       "    <tr>\n",
       "      <th>1</th>\n",
       "      <td>[(num, SimpleImputer(strategy='median'), [7]),...</td>\n",
       "      <td>225</td>\n",
       "      <td>15</td>\n",
       "      <td>17</td>\n",
       "      <td>0.795762</td>\n",
       "    </tr>\n",
       "  </tbody>\n",
       "</table>\n",
       "</div>"
      ],
      "text/plain": [
       "                                onehot__transformers  model__n_estimators  \\\n",
       "2  [(num, SimpleImputer(strategy='median'), [7, 3...                  200   \n",
       "9  [(num, SimpleImputer(strategy='median'), [7, 3...                  225   \n",
       "5  [(num, SimpleImputer(strategy='median'), [7]),...                  200   \n",
       "6  [(num, SimpleImputer(strategy='median'), [7]),...                  150   \n",
       "3  [(num, SimpleImputer(strategy='median'), [7]),...                  225   \n",
       "0  [(num, SimpleImputer(strategy='median'), [7]),...                  225   \n",
       "8  [(num, SimpleImputer(strategy='median'), [7]),...                  180   \n",
       "7  [(num, SimpleImputer(strategy='median'), [7]),...                  150   \n",
       "4  [(num, SimpleImputer(strategy='median'), [7]),...                  225   \n",
       "1  [(num, SimpleImputer(strategy='median'), [7]),...                  225   \n",
       "\n",
       "   model__min_samples_split  model__min_samples_leaf     score  \n",
       "2                        12                       15  0.821536  \n",
       "9                        20                       15  0.820974  \n",
       "5                        20                       10  0.809757  \n",
       "6                        12                       15  0.808620  \n",
       "3                        15                       10  0.807497  \n",
       "0                         8                       17  0.803577  \n",
       "8                        12                       15  0.802453  \n",
       "7                        15                       17  0.798539  \n",
       "4                        12                       17  0.796866  \n",
       "1                        15                       17  0.795762  "
      ]
     },
     "execution_count": 62,
     "metadata": {},
     "output_type": "execute_result"
    }
   ],
   "source": [
    "list_results(search_rdf)"
   ]
  },
  {
   "cell_type": "code",
   "execution_count": 63,
   "metadata": {
    "scrolled": false
   },
   "outputs": [],
   "source": [
    "pred = search_rdf.best_estimator_.predict(test_data.values)"
   ]
  },
  {
   "cell_type": "code",
   "execution_count": 64,
   "metadata": {},
   "outputs": [],
   "source": [
    "save_results(test_data, pred, 'rdf_1')"
   ]
  },
  {
   "cell_type": "code",
   "execution_count": 66,
   "metadata": {},
   "outputs": [
    {
     "name": "stdout",
     "output_type": "stream",
     "text": [
      "0.1404494382022472\n",
      "0.16853932584269662\n",
      "0.19662921348314608\n",
      "0.2247191011235955\n",
      "0.25280898876404495\n",
      "0.2808988764044944\n",
      "0.3089887640449438\n",
      "0.33707865168539325\n",
      "0.3651685393258427\n",
      "0.39325842696629215\n",
      "0.42134831460674155\n",
      "0.449438202247191\n",
      "0.47752808988764045\n",
      "0.5056179775280899\n",
      "0.5337078651685393\n",
      "0.5617977528089888\n",
      "0.5898876404494382\n",
      "0.6179775280898876\n",
      "0.6460674157303371\n",
      "0.6741573033707865\n",
      "0.702247191011236\n",
      "0.7303370786516854\n",
      "0.7584269662921348\n",
      "0.7865168539325843\n",
      "0.8146067415730337\n",
      "0.8426966292134831\n",
      "0.8707865168539326\n",
      "0.898876404494382\n",
      "0.9269662921348315\n",
      "0.9550561797752809\n",
      "0.9831460674157303\n"
     ]
    },
    {
     "data": {
      "image/png": "[encoded data removed]",
      "text/plain": [
       "<Figure size 864x504 with 1 Axes>"
      ]
     },
     "metadata": {
      "needs_background": "light"
     },
     "output_type": "display_data"
    }
   ],
   "source": [
    "plot_learning_curve(search_rdf.best_estimator_)"
   ]
  },
  {
   "cell_type": "markdown",
   "metadata": {},
   "source": [
    "# SVC"
   ]
  },
  {
   "cell_type": "code",
   "execution_count": 67,
   "metadata": {},
   "outputs": [],
   "source": [
    "from sklearn.svm import SVC"
   ]
  },
  {
   "cell_type": "code",
   "execution_count": 68,
   "metadata": {},
   "outputs": [],
   "source": [
    "full_pipeline_svc = Pipeline([\n",
    "    ('initial', initial_pipeline),\n",
    "    ('onehot', col_transformer),\n",
    "    ('model', SVC())\n",
    "])"
   ]
  },
  {
   "cell_type": "code",
   "execution_count": 69,
   "metadata": {},
   "outputs": [],
   "source": [
    "param_grid_svc = [\n",
    "#    {\n",
    "#    'onehot__transformers': [[('num', SimpleImputer(strategy='median'), [fare_ix, age_ix, parch_ix, sibsp_ix]),\n",
    "#                           ('cat', OneHotEncoder(drop='first'), [name_ix, cabin_ix, pclass_ix, age_cat_ix, family_ix, embarked_ix, sex_ix, cat_price_ix])],\n",
    "#                          [('num', SimpleImputer(strategy='median'), [fare_ix]),\n",
    "#                           ('cat', OneHotEncoder(drop='first'), [family_ix, pclass_ix, age_cat_ix, sex_ix])],\n",
    "#                          [('num', SimpleImputer(strategy='median'), [fare_ix]),\n",
    "#                           ('cat', OneHotEncoder(drop='first'), [family_ix, pclass_ix, age_cat_ix, sex_ix, name_ix, cabin_ix])],\n",
    "#                          [('num', SimpleImputer(strategy='median'), [fare_ix]),\n",
    "#                           ('cat', OneHotEncoder(drop='first'), [family_ix, pclass_ix, age_cat_ix, sex_ix, name_ix, cabin_ix, embarked_ix])]   \n",
    "#                         ],\n",
    "#     'model__kernel': ['poly'],\n",
    "#     'model__degree': [2, 3, 4],\n",
    "#     'model__coef0': [0.5, 1, 10, 100],\n",
    "#     'model__C': [0.01, 0.1, 1, 10, 100, 1000]\n",
    "#    },\n",
    "    {\n",
    "    'onehot__transformers': [[('num', SimpleImputer(strategy='median'), [fare_ix, age_ix, parch_ix, sibsp_ix]),\n",
    "                   ('cat', OneHotEncoder(drop='first'), [name_ix, cabin_ix, pclass_ix, age_cat_ix, family_ix, embarked_ix, sex_ix, cat_price_ix])],\n",
    "                  [('num', SimpleImputer(strategy='median'), [fare_ix]),\n",
    "                   ('cat', OneHotEncoder(drop='first'), [family_ix, pclass_ix, age_cat_ix, sex_ix])],\n",
    "                  [('num', SimpleImputer(strategy='median'), [fare_ix]),\n",
    "                   ('cat', OneHotEncoder(drop='first'), [family_ix, pclass_ix, age_cat_ix, sex_ix, name_ix, cabin_ix])],\n",
    "                  [('num', SimpleImputer(strategy='median'), [fare_ix]),\n",
    "                   ('cat', OneHotEncoder(drop='first'), [family_ix, pclass_ix, age_cat_ix, sex_ix, name_ix, cabin_ix, embarked_ix])]   \n",
    "                 ],\n",
    "     'model__kernel': ['rbf'],\n",
    "     'model__gamma': 0.01 * np.arange(100),\n",
    "     'model__C': [0.01, 0.1, 1, 5],\n",
    "     'model__probability':[True]}\n",
    "]"
   ]
  },
  {
   "cell_type": "code",
   "execution_count": 70,
   "metadata": {},
   "outputs": [],
   "source": [
    "search_svc = RandomizedSearchCV(full_pipeline_svc, param_grid_svc, n_iter=10, \n",
    "                            cv=RepeatedStratifiedKFold(n_splits=10, n_repeats=2, random_state=42), \n",
    "                            refit=True, verbose=2, n_jobs=1, scoring='accuracy')"
   ]
  },
  {
   "cell_type": "code",
   "execution_count": 71,
   "metadata": {
    "scrolled": true
   },
   "outputs": [
    {
     "name": "stdout",
     "output_type": "stream",
     "text": [
      "Fitting 20 folds for each of 10 candidates, totalling 200 fits\n",
      "[CV] onehot__transformers=[('num', SimpleImputer(strategy='median'), [7]), ('cat', OneHotEncoder(drop='first'), [11, 0, 12, 2, 1, 8])], model__probability=True, model__kernel=rbf, model__gamma=0.51, model__C=1 \n"
     ]
    },
    {
     "name": "stderr",
     "output_type": "stream",
     "text": [
      "[Parallel(n_jobs=1)]: Using backend SequentialBackend with 1 concurrent workers.\n"
     ]
    },
    {
     "name": "stdout",
     "output_type": "stream",
     "text": [
      "[CV]  onehot__transformers=[('num', SimpleImputer(strategy='median'), [7]), ('cat', OneHotEncoder(drop='first'), [11, 0, 12, 2, 1, 8])], model__probability=True, model__kernel=rbf, model__gamma=0.51, model__C=1, total=   0.3s\n",
      "[CV] onehot__transformers=[('num', SimpleImputer(strategy='median'), [7]), ('cat', OneHotEncoder(drop='first'), [11, 0, 12, 2, 1, 8])], model__probability=True, model__kernel=rbf, model__gamma=0.51, model__C=1 \n"
     ]
    },
    {
     "name": "stderr",
     "output_type": "stream",
     "text": [
      "[Parallel(n_jobs=1)]: Done   1 out of   1 | elapsed:    0.3s remaining:    0.0s\n"
     ]
    },
    {
     "name": "stdout",
     "output_type": "stream",
     "text": [
      "[CV]  onehot__transformers=[('num', SimpleImputer(strategy='median'), [7]), ('cat', OneHotEncoder(drop='first'), [11, 0, 12, 2, 1, 8])], model__probability=True, model__kernel=rbf, model__gamma=0.51, model__C=1, total=   0.3s\n",
      "[CV] onehot__transformers=[('num', SimpleImputer(strategy='median'), [7]), ('cat', OneHotEncoder(drop='first'), [11, 0, 12, 2, 1, 8])], model__probability=True, model__kernel=rbf, model__gamma=0.51, model__C=1 \n",
      "[CV]  onehot__transformers=[('num', SimpleImputer(strategy='median'), [7]), ('cat', OneHotEncoder(drop='first'), [11, 0, 12, 2, 1, 8])], model__probability=True, model__kernel=rbf, model__gamma=0.51, model__C=1, total=   0.3s\n",
      "[CV] onehot__transformers=[('num', SimpleImputer(strategy='median'), [7]), ('cat', OneHotEncoder(drop='first'), [11, 0, 12, 2, 1, 8])], model__probability=True, model__kernel=rbf, model__gamma=0.51, model__C=1 \n",
      "[CV]  onehot__transformers=[('num', SimpleImputer(strategy='median'), [7]), ('cat', OneHotEncoder(drop='first'), [11, 0, 12, 2, 1, 8])], model__probability=True, model__kernel=rbf, model__gamma=0.51, model__C=1, total=   0.3s\n",
      "[CV] onehot__transformers=[('num', SimpleImputer(strategy='median'), [7]), ('cat', OneHotEncoder(drop='first'), [11, 0, 12, 2, 1, 8])], model__probability=True, model__kernel=rbf, model__gamma=0.51, model__C=1 \n",
      "[CV]  onehot__transformers=[('num', SimpleImputer(strategy='median'), [7]), ('cat', OneHotEncoder(drop='first'), [11, 0, 12, 2, 1, 8])], model__probability=True, model__kernel=rbf, model__gamma=0.51, model__C=1, total=   0.3s\n",
      "[CV] onehot__transformers=[('num', SimpleImputer(strategy='median'), [7]), ('cat', OneHotEncoder(drop='first'), [11, 0, 12, 2, 1, 8])], model__probability=True, model__kernel=rbf, model__gamma=0.51, model__C=1 \n",
      "[CV]  onehot__transformers=[('num', SimpleImputer(strategy='median'), [7]), ('cat', OneHotEncoder(drop='first'), [11, 0, 12, 2, 1, 8])], model__probability=True, model__kernel=rbf, model__gamma=0.51, model__C=1, total=   0.3s\n",
      "[CV] onehot__transformers=[('num', SimpleImputer(strategy='median'), [7]), ('cat', OneHotEncoder(drop='first'), [11, 0, 12, 2, 1, 8])], model__probability=True, model__kernel=rbf, model__gamma=0.51, model__C=1 \n",
      "[CV]  onehot__transformers=[('num', SimpleImputer(strategy='median'), [7]), ('cat', OneHotEncoder(drop='first'), [11, 0, 12, 2, 1, 8])], model__probability=True, model__kernel=rbf, model__gamma=0.51, model__C=1, total=   0.3s\n",
      "[CV] onehot__transformers=[('num', SimpleImputer(strategy='median'), [7]), ('cat', OneHotEncoder(drop='first'), [11, 0, 12, 2, 1, 8])], model__probability=True, model__kernel=rbf, model__gamma=0.51, model__C=1 \n",
      "[CV]  onehot__transformers=[('num', SimpleImputer(strategy='median'), [7]), ('cat', OneHotEncoder(drop='first'), [11, 0, 12, 2, 1, 8])], model__probability=True, model__kernel=rbf, model__gamma=0.51, model__C=1, total=   0.3s\n",
      "[CV] onehot__transformers=[('num', SimpleImputer(strategy='median'), [7]), ('cat', OneHotEncoder(drop='first'), [11, 0, 12, 2, 1, 8])], model__probability=True, model__kernel=rbf, model__gamma=0.51, model__C=1 \n",
      "[CV]  onehot__transformers=[('num', SimpleImputer(strategy='median'), [7]), ('cat', OneHotEncoder(drop='first'), [11, 0, 12, 2, 1, 8])], model__probability=True, model__kernel=rbf, model__gamma=0.51, model__C=1, total=   0.3s\n",
      "[CV] onehot__transformers=[('num', SimpleImputer(strategy='median'), [7]), ('cat', OneHotEncoder(drop='first'), [11, 0, 12, 2, 1, 8])], model__probability=True, model__kernel=rbf, model__gamma=0.51, model__C=1 \n",
      "[CV]  onehot__transformers=[('num', SimpleImputer(strategy='median'), [7]), ('cat', OneHotEncoder(drop='first'), [11, 0, 12, 2, 1, 8])], model__probability=True, model__kernel=rbf, model__gamma=0.51, model__C=1, total=   0.3s\n",
      "[CV] onehot__transformers=[('num', SimpleImputer(strategy='median'), [7]), ('cat', OneHotEncoder(drop='first'), [11, 0, 12, 2, 1, 8])], model__probability=True, model__kernel=rbf, model__gamma=0.51, model__C=1 \n",
      "[CV]  onehot__transformers=[('num', SimpleImputer(strategy='median'), [7]), ('cat', OneHotEncoder(drop='first'), [11, 0, 12, 2, 1, 8])], model__probability=True, model__kernel=rbf, model__gamma=0.51, model__C=1, total=   0.3s\n",
      "[CV] onehot__transformers=[('num', SimpleImputer(strategy='median'), [7]), ('cat', OneHotEncoder(drop='first'), [11, 0, 12, 2, 1, 8])], model__probability=True, model__kernel=rbf, model__gamma=0.51, model__C=1 \n",
      "[CV]  onehot__transformers=[('num', SimpleImputer(strategy='median'), [7]), ('cat', OneHotEncoder(drop='first'), [11, 0, 12, 2, 1, 8])], model__probability=True, model__kernel=rbf, model__gamma=0.51, model__C=1, total=   0.3s\n",
      "[CV] onehot__transformers=[('num', SimpleImputer(strategy='median'), [7]), ('cat', OneHotEncoder(drop='first'), [11, 0, 12, 2, 1, 8])], model__probability=True, model__kernel=rbf, model__gamma=0.51, model__C=1 \n",
      "[CV]  onehot__transformers=[('num', SimpleImputer(strategy='median'), [7]), ('cat', OneHotEncoder(drop='first'), [11, 0, 12, 2, 1, 8])], model__probability=True, model__kernel=rbf, model__gamma=0.51, model__C=1, total=   0.3s\n",
      "[CV] onehot__transformers=[('num', SimpleImputer(strategy='median'), [7]), ('cat', OneHotEncoder(drop='first'), [11, 0, 12, 2, 1, 8])], model__probability=True, model__kernel=rbf, model__gamma=0.51, model__C=1 \n",
      "[CV]  onehot__transformers=[('num', SimpleImputer(strategy='median'), [7]), ('cat', OneHotEncoder(drop='first'), [11, 0, 12, 2, 1, 8])], model__probability=True, model__kernel=rbf, model__gamma=0.51, model__C=1, total=   0.3s\n",
      "[CV] onehot__transformers=[('num', SimpleImputer(strategy='median'), [7]), ('cat', OneHotEncoder(drop='first'), [11, 0, 12, 2, 1, 8])], model__probability=True, model__kernel=rbf, model__gamma=0.51, model__C=1 \n",
      "[CV]  onehot__transformers=[('num', SimpleImputer(strategy='median'), [7]), ('cat', OneHotEncoder(drop='first'), [11, 0, 12, 2, 1, 8])], model__probability=True, model__kernel=rbf, model__gamma=0.51, model__C=1, total=   0.3s\n",
      "[CV] onehot__transformers=[('num', SimpleImputer(strategy='median'), [7]), ('cat', OneHotEncoder(drop='first'), [11, 0, 12, 2, 1, 8])], model__probability=True, model__kernel=rbf, model__gamma=0.51, model__C=1 \n",
      "[CV]  onehot__transformers=[('num', SimpleImputer(strategy='median'), [7]), ('cat', OneHotEncoder(drop='first'), [11, 0, 12, 2, 1, 8])], model__probability=True, model__kernel=rbf, model__gamma=0.51, model__C=1, total=   0.3s\n",
      "[CV] onehot__transformers=[('num', SimpleImputer(strategy='median'), [7]), ('cat', OneHotEncoder(drop='first'), [11, 0, 12, 2, 1, 8])], model__probability=True, model__kernel=rbf, model__gamma=0.51, model__C=1 \n",
      "[CV]  onehot__transformers=[('num', SimpleImputer(strategy='median'), [7]), ('cat', OneHotEncoder(drop='first'), [11, 0, 12, 2, 1, 8])], model__probability=True, model__kernel=rbf, model__gamma=0.51, model__C=1, total=   0.3s\n",
      "[CV] onehot__transformers=[('num', SimpleImputer(strategy='median'), [7]), ('cat', OneHotEncoder(drop='first'), [11, 0, 12, 2, 1, 8])], model__probability=True, model__kernel=rbf, model__gamma=0.51, model__C=1 \n",
      "[CV]  onehot__transformers=[('num', SimpleImputer(strategy='median'), [7]), ('cat', OneHotEncoder(drop='first'), [11, 0, 12, 2, 1, 8])], model__probability=True, model__kernel=rbf, model__gamma=0.51, model__C=1, total=   0.3s\n",
      "[CV] onehot__transformers=[('num', SimpleImputer(strategy='median'), [7]), ('cat', OneHotEncoder(drop='first'), [11, 0, 12, 2, 1, 8])], model__probability=True, model__kernel=rbf, model__gamma=0.51, model__C=1 \n",
      "[CV]  onehot__transformers=[('num', SimpleImputer(strategy='median'), [7]), ('cat', OneHotEncoder(drop='first'), [11, 0, 12, 2, 1, 8])], model__probability=True, model__kernel=rbf, model__gamma=0.51, model__C=1, total=   0.3s\n",
      "[CV] onehot__transformers=[('num', SimpleImputer(strategy='median'), [7]), ('cat', OneHotEncoder(drop='first'), [11, 0, 12, 2, 1, 8])], model__probability=True, model__kernel=rbf, model__gamma=0.51, model__C=1 \n",
      "[CV]  onehot__transformers=[('num', SimpleImputer(strategy='median'), [7]), ('cat', OneHotEncoder(drop='first'), [11, 0, 12, 2, 1, 8])], model__probability=True, model__kernel=rbf, model__gamma=0.51, model__C=1, total=   0.3s\n",
      "[CV] onehot__transformers=[('num', SimpleImputer(strategy='median'), [7]), ('cat', OneHotEncoder(drop='first'), [11, 0, 12, 2])], model__probability=True, model__kernel=rbf, model__gamma=0.8200000000000001, model__C=0.01 \n"
     ]
    },
    {
     "name": "stdout",
     "output_type": "stream",
     "text": [
      "[CV]  onehot__transformers=[('num', SimpleImputer(strategy='median'), [7]), ('cat', OneHotEncoder(drop='first'), [11, 0, 12, 2])], model__probability=True, model__kernel=rbf, model__gamma=0.8200000000000001, model__C=0.01, total=   0.2s\n",
      "[CV] onehot__transformers=[('num', SimpleImputer(strategy='median'), [7]), ('cat', OneHotEncoder(drop='first'), [11, 0, 12, 2])], model__probability=True, model__kernel=rbf, model__gamma=0.8200000000000001, model__C=0.01 \n",
      "[CV]  onehot__transformers=[('num', SimpleImputer(strategy='median'), [7]), ('cat', OneHotEncoder(drop='first'), [11, 0, 12, 2])], model__probability=True, model__kernel=rbf, model__gamma=0.8200000000000001, model__C=0.01, total=   0.2s\n",
      "[CV] onehot__transformers=[('num', SimpleImputer(strategy='median'), [7]), ('cat', OneHotEncoder(drop='first'), [11, 0, 12, 2])], model__probability=True, model__kernel=rbf, model__gamma=0.8200000000000001, model__C=0.01 \n",
      "[CV]  onehot__transformers=[('num', SimpleImputer(strategy='median'), [7]), ('cat', OneHotEncoder(drop='first'), [11, 0, 12, 2])], model__probability=True, model__kernel=rbf, model__gamma=0.8200000000000001, model__C=0.01, total=   0.2s\n",
      "[CV] onehot__transformers=[('num', SimpleImputer(strategy='median'), [7]), ('cat', OneHotEncoder(drop='first'), [11, 0, 12, 2])], model__probability=True, model__kernel=rbf, model__gamma=0.8200000000000001, model__C=0.01 \n",
      "[CV]  onehot__transformers=[('num', SimpleImputer(strategy='median'), [7]), ('cat', OneHotEncoder(drop='first'), [11, 0, 12, 2])], model__probability=True, model__kernel=rbf, model__gamma=0.8200000000000001, model__C=0.01, total=   0.2s\n",
      "[CV] onehot__transformers=[('num', SimpleImputer(strategy='median'), [7]), ('cat', OneHotEncoder(drop='first'), [11, 0, 12, 2])], model__probability=True, model__kernel=rbf, model__gamma=0.8200000000000001, model__C=0.01 \n",
      "[CV]  onehot__transformers=[('num', SimpleImputer(strategy='median'), [7]), ('cat', OneHotEncoder(drop='first'), [11, 0, 12, 2])], model__probability=True, model__kernel=rbf, model__gamma=0.8200000000000001, model__C=0.01, total=   0.2s\n",
      "[CV] onehot__transformers=[('num', SimpleImputer(strategy='median'), [7]), ('cat', OneHotEncoder(drop='first'), [11, 0, 12, 2])], model__probability=True, model__kernel=rbf, model__gamma=0.8200000000000001, model__C=0.01 \n",
      "[CV]  onehot__transformers=[('num', SimpleImputer(strategy='median'), [7]), ('cat', OneHotEncoder(drop='first'), [11, 0, 12, 2])], model__probability=True, model__kernel=rbf, model__gamma=0.8200000000000001, model__C=0.01, total=   0.2s\n",
      "[CV] onehot__transformers=[('num', SimpleImputer(strategy='median'), [7]), ('cat', OneHotEncoder(drop='first'), [11, 0, 12, 2])], model__probability=True, model__kernel=rbf, model__gamma=0.8200000000000001, model__C=0.01 \n",
      "[CV]  onehot__transformers=[('num', SimpleImputer(strategy='median'), [7]), ('cat', OneHotEncoder(drop='first'), [11, 0, 12, 2])], model__probability=True, model__kernel=rbf, model__gamma=0.8200000000000001, model__C=0.01, total=   0.2s\n",
      "[CV] onehot__transformers=[('num', SimpleImputer(strategy='median'), [7]), ('cat', OneHotEncoder(drop='first'), [11, 0, 12, 2])], model__probability=True, model__kernel=rbf, model__gamma=0.8200000000000001, model__C=0.01 \n",
      "[CV]  onehot__transformers=[('num', SimpleImputer(strategy='median'), [7]), ('cat', OneHotEncoder(drop='first'), [11, 0, 12, 2])], model__probability=True, model__kernel=rbf, model__gamma=0.8200000000000001, model__C=0.01, total=   0.2s\n",
      "[CV] onehot__transformers=[('num', SimpleImputer(strategy='median'), [7]), ('cat', OneHotEncoder(drop='first'), [11, 0, 12, 2])], model__probability=True, model__kernel=rbf, model__gamma=0.8200000000000001, model__C=0.01 \n",
      "[CV]  onehot__transformers=[('num', SimpleImputer(strategy='median'), [7]), ('cat', OneHotEncoder(drop='first'), [11, 0, 12, 2])], model__probability=True, model__kernel=rbf, model__gamma=0.8200000000000001, model__C=0.01, total=   0.2s\n",
      "[CV] onehot__transformers=[('num', SimpleImputer(strategy='median'), [7]), ('cat', OneHotEncoder(drop='first'), [11, 0, 12, 2])], model__probability=True, model__kernel=rbf, model__gamma=0.8200000000000001, model__C=0.01 \n",
      "[CV]  onehot__transformers=[('num', SimpleImputer(strategy='median'), [7]), ('cat', OneHotEncoder(drop='first'), [11, 0, 12, 2])], model__probability=True, model__kernel=rbf, model__gamma=0.8200000000000001, model__C=0.01, total=   0.2s\n",
      "[CV] onehot__transformers=[('num', SimpleImputer(strategy='median'), [7]), ('cat', OneHotEncoder(drop='first'), [11, 0, 12, 2])], model__probability=True, model__kernel=rbf, model__gamma=0.8200000000000001, model__C=0.01 \n",
      "[CV]  onehot__transformers=[('num', SimpleImputer(strategy='median'), [7]), ('cat', OneHotEncoder(drop='first'), [11, 0, 12, 2])], model__probability=True, model__kernel=rbf, model__gamma=0.8200000000000001, model__C=0.01, total=   0.2s\n",
      "[CV] onehot__transformers=[('num', SimpleImputer(strategy='median'), [7]), ('cat', OneHotEncoder(drop='first'), [11, 0, 12, 2])], model__probability=True, model__kernel=rbf, model__gamma=0.8200000000000001, model__C=0.01 \n",
      "[CV]  onehot__transformers=[('num', SimpleImputer(strategy='median'), [7]), ('cat', OneHotEncoder(drop='first'), [11, 0, 12, 2])], model__probability=True, model__kernel=rbf, model__gamma=0.8200000000000001, model__C=0.01, total=   0.2s\n",
      "[CV] onehot__transformers=[('num', SimpleImputer(strategy='median'), [7]), ('cat', OneHotEncoder(drop='first'), [11, 0, 12, 2])], model__probability=True, model__kernel=rbf, model__gamma=0.8200000000000001, model__C=0.01 \n",
      "[CV]  onehot__transformers=[('num', SimpleImputer(strategy='median'), [7]), ('cat', OneHotEncoder(drop='first'), [11, 0, 12, 2])], model__probability=True, model__kernel=rbf, model__gamma=0.8200000000000001, model__C=0.01, total=   0.2s\n",
      "[CV] onehot__transformers=[('num', SimpleImputer(strategy='median'), [7]), ('cat', OneHotEncoder(drop='first'), [11, 0, 12, 2])], model__probability=True, model__kernel=rbf, model__gamma=0.8200000000000001, model__C=0.01 \n",
      "[CV]  onehot__transformers=[('num', SimpleImputer(strategy='median'), [7]), ('cat', OneHotEncoder(drop='first'), [11, 0, 12, 2])], model__probability=True, model__kernel=rbf, model__gamma=0.8200000000000001, model__C=0.01, total=   0.2s\n",
      "[CV] onehot__transformers=[('num', SimpleImputer(strategy='median'), [7]), ('cat', OneHotEncoder(drop='first'), [11, 0, 12, 2])], model__probability=True, model__kernel=rbf, model__gamma=0.8200000000000001, model__C=0.01 \n",
      "[CV]  onehot__transformers=[('num', SimpleImputer(strategy='median'), [7]), ('cat', OneHotEncoder(drop='first'), [11, 0, 12, 2])], model__probability=True, model__kernel=rbf, model__gamma=0.8200000000000001, model__C=0.01, total=   0.2s\n",
      "[CV] onehot__transformers=[('num', SimpleImputer(strategy='median'), [7]), ('cat', OneHotEncoder(drop='first'), [11, 0, 12, 2])], model__probability=True, model__kernel=rbf, model__gamma=0.8200000000000001, model__C=0.01 \n",
      "[CV]  onehot__transformers=[('num', SimpleImputer(strategy='median'), [7]), ('cat', OneHotEncoder(drop='first'), [11, 0, 12, 2])], model__probability=True, model__kernel=rbf, model__gamma=0.8200000000000001, model__C=0.01, total=   0.2s\n",
      "[CV] onehot__transformers=[('num', SimpleImputer(strategy='median'), [7]), ('cat', OneHotEncoder(drop='first'), [11, 0, 12, 2])], model__probability=True, model__kernel=rbf, model__gamma=0.8200000000000001, model__C=0.01 \n",
      "[CV]  onehot__transformers=[('num', SimpleImputer(strategy='median'), [7]), ('cat', OneHotEncoder(drop='first'), [11, 0, 12, 2])], model__probability=True, model__kernel=rbf, model__gamma=0.8200000000000001, model__C=0.01, total=   0.2s\n",
      "[CV] onehot__transformers=[('num', SimpleImputer(strategy='median'), [7]), ('cat', OneHotEncoder(drop='first'), [11, 0, 12, 2])], model__probability=True, model__kernel=rbf, model__gamma=0.8200000000000001, model__C=0.01 \n",
      "[CV]  onehot__transformers=[('num', SimpleImputer(strategy='median'), [7]), ('cat', OneHotEncoder(drop='first'), [11, 0, 12, 2])], model__probability=True, model__kernel=rbf, model__gamma=0.8200000000000001, model__C=0.01, total=   0.2s\n",
      "[CV] onehot__transformers=[('num', SimpleImputer(strategy='median'), [7]), ('cat', OneHotEncoder(drop='first'), [11, 0, 12, 2])], model__probability=True, model__kernel=rbf, model__gamma=0.8200000000000001, model__C=0.01 \n"
     ]
    },
    {
     "name": "stdout",
     "output_type": "stream",
     "text": [
      "[CV]  onehot__transformers=[('num', SimpleImputer(strategy='median'), [7]), ('cat', OneHotEncoder(drop='first'), [11, 0, 12, 2])], model__probability=True, model__kernel=rbf, model__gamma=0.8200000000000001, model__C=0.01, total=   0.2s\n",
      "[CV] onehot__transformers=[('num', SimpleImputer(strategy='median'), [7]), ('cat', OneHotEncoder(drop='first'), [11, 0, 12, 2])], model__probability=True, model__kernel=rbf, model__gamma=0.8200000000000001, model__C=0.01 \n",
      "[CV]  onehot__transformers=[('num', SimpleImputer(strategy='median'), [7]), ('cat', OneHotEncoder(drop='first'), [11, 0, 12, 2])], model__probability=True, model__kernel=rbf, model__gamma=0.8200000000000001, model__C=0.01, total=   0.2s\n",
      "[CV] onehot__transformers=[('num', SimpleImputer(strategy='median'), [7]), ('cat', OneHotEncoder(drop='first'), [11, 0, 12, 2, 1, 8, 9])], model__probability=True, model__kernel=rbf, model__gamma=0.22, model__C=0.1 \n",
      "[CV]  onehot__transformers=[('num', SimpleImputer(strategy='median'), [7]), ('cat', OneHotEncoder(drop='first'), [11, 0, 12, 2, 1, 8, 9])], model__probability=True, model__kernel=rbf, model__gamma=0.22, model__C=0.1, total=   0.3s\n",
      "[CV] onehot__transformers=[('num', SimpleImputer(strategy='median'), [7]), ('cat', OneHotEncoder(drop='first'), [11, 0, 12, 2, 1, 8, 9])], model__probability=True, model__kernel=rbf, model__gamma=0.22, model__C=0.1 \n",
      "[CV]  onehot__transformers=[('num', SimpleImputer(strategy='median'), [7]), ('cat', OneHotEncoder(drop='first'), [11, 0, 12, 2, 1, 8, 9])], model__probability=True, model__kernel=rbf, model__gamma=0.22, model__C=0.1, total=   0.3s\n",
      "[CV] onehot__transformers=[('num', SimpleImputer(strategy='median'), [7]), ('cat', OneHotEncoder(drop='first'), [11, 0, 12, 2, 1, 8, 9])], model__probability=True, model__kernel=rbf, model__gamma=0.22, model__C=0.1 \n",
      "[CV]  onehot__transformers=[('num', SimpleImputer(strategy='median'), [7]), ('cat', OneHotEncoder(drop='first'), [11, 0, 12, 2, 1, 8, 9])], model__probability=True, model__kernel=rbf, model__gamma=0.22, model__C=0.1, total=   0.3s\n",
      "[CV] onehot__transformers=[('num', SimpleImputer(strategy='median'), [7]), ('cat', OneHotEncoder(drop='first'), [11, 0, 12, 2, 1, 8, 9])], model__probability=True, model__kernel=rbf, model__gamma=0.22, model__C=0.1 \n",
      "[CV]  onehot__transformers=[('num', SimpleImputer(strategy='median'), [7]), ('cat', OneHotEncoder(drop='first'), [11, 0, 12, 2, 1, 8, 9])], model__probability=True, model__kernel=rbf, model__gamma=0.22, model__C=0.1, total=   0.3s\n",
      "[CV] onehot__transformers=[('num', SimpleImputer(strategy='median'), [7]), ('cat', OneHotEncoder(drop='first'), [11, 0, 12, 2, 1, 8, 9])], model__probability=True, model__kernel=rbf, model__gamma=0.22, model__C=0.1 \n",
      "[CV]  onehot__transformers=[('num', SimpleImputer(strategy='median'), [7]), ('cat', OneHotEncoder(drop='first'), [11, 0, 12, 2, 1, 8, 9])], model__probability=True, model__kernel=rbf, model__gamma=0.22, model__C=0.1, total=   0.3s\n",
      "[CV] onehot__transformers=[('num', SimpleImputer(strategy='median'), [7]), ('cat', OneHotEncoder(drop='first'), [11, 0, 12, 2, 1, 8, 9])], model__probability=True, model__kernel=rbf, model__gamma=0.22, model__C=0.1 \n",
      "[CV]  onehot__transformers=[('num', SimpleImputer(strategy='median'), [7]), ('cat', OneHotEncoder(drop='first'), [11, 0, 12, 2, 1, 8, 9])], model__probability=True, model__kernel=rbf, model__gamma=0.22, model__C=0.1, total=   0.3s\n",
      "[CV] onehot__transformers=[('num', SimpleImputer(strategy='median'), [7]), ('cat', OneHotEncoder(drop='first'), [11, 0, 12, 2, 1, 8, 9])], model__probability=True, model__kernel=rbf, model__gamma=0.22, model__C=0.1 \n",
      "[CV]  onehot__transformers=[('num', SimpleImputer(strategy='median'), [7]), ('cat', OneHotEncoder(drop='first'), [11, 0, 12, 2, 1, 8, 9])], model__probability=True, model__kernel=rbf, model__gamma=0.22, model__C=0.1, total=   0.3s\n",
      "[CV] onehot__transformers=[('num', SimpleImputer(strategy='median'), [7]), ('cat', OneHotEncoder(drop='first'), [11, 0, 12, 2, 1, 8, 9])], model__probability=True, model__kernel=rbf, model__gamma=0.22, model__C=0.1 \n",
      "[CV]  onehot__transformers=[('num', SimpleImputer(strategy='median'), [7]), ('cat', OneHotEncoder(drop='first'), [11, 0, 12, 2, 1, 8, 9])], model__probability=True, model__kernel=rbf, model__gamma=0.22, model__C=0.1, total=   0.3s\n",
      "[CV] onehot__transformers=[('num', SimpleImputer(strategy='median'), [7]), ('cat', OneHotEncoder(drop='first'), [11, 0, 12, 2, 1, 8, 9])], model__probability=True, model__kernel=rbf, model__gamma=0.22, model__C=0.1 \n",
      "[CV]  onehot__transformers=[('num', SimpleImputer(strategy='median'), [7]), ('cat', OneHotEncoder(drop='first'), [11, 0, 12, 2, 1, 8, 9])], model__probability=True, model__kernel=rbf, model__gamma=0.22, model__C=0.1, total=   0.3s\n",
      "[CV] onehot__transformers=[('num', SimpleImputer(strategy='median'), [7]), ('cat', OneHotEncoder(drop='first'), [11, 0, 12, 2, 1, 8, 9])], model__probability=True, model__kernel=rbf, model__gamma=0.22, model__C=0.1 \n",
      "[CV]  onehot__transformers=[('num', SimpleImputer(strategy='median'), [7]), ('cat', OneHotEncoder(drop='first'), [11, 0, 12, 2, 1, 8, 9])], model__probability=True, model__kernel=rbf, model__gamma=0.22, model__C=0.1, total=   0.3s\n",
      "[CV] onehot__transformers=[('num', SimpleImputer(strategy='median'), [7]), ('cat', OneHotEncoder(drop='first'), [11, 0, 12, 2, 1, 8, 9])], model__probability=True, model__kernel=rbf, model__gamma=0.22, model__C=0.1 \n",
      "[CV]  onehot__transformers=[('num', SimpleImputer(strategy='median'), [7]), ('cat', OneHotEncoder(drop='first'), [11, 0, 12, 2, 1, 8, 9])], model__probability=True, model__kernel=rbf, model__gamma=0.22, model__C=0.1, total=   0.3s\n",
      "[CV] onehot__transformers=[('num', SimpleImputer(strategy='median'), [7]), ('cat', OneHotEncoder(drop='first'), [11, 0, 12, 2, 1, 8, 9])], model__probability=True, model__kernel=rbf, model__gamma=0.22, model__C=0.1 \n",
      "[CV]  onehot__transformers=[('num', SimpleImputer(strategy='median'), [7]), ('cat', OneHotEncoder(drop='first'), [11, 0, 12, 2, 1, 8, 9])], model__probability=True, model__kernel=rbf, model__gamma=0.22, model__C=0.1, total=   0.3s\n",
      "[CV] onehot__transformers=[('num', SimpleImputer(strategy='median'), [7]), ('cat', OneHotEncoder(drop='first'), [11, 0, 12, 2, 1, 8, 9])], model__probability=True, model__kernel=rbf, model__gamma=0.22, model__C=0.1 \n",
      "[CV]  onehot__transformers=[('num', SimpleImputer(strategy='median'), [7]), ('cat', OneHotEncoder(drop='first'), [11, 0, 12, 2, 1, 8, 9])], model__probability=True, model__kernel=rbf, model__gamma=0.22, model__C=0.1, total=   0.3s\n",
      "[CV] onehot__transformers=[('num', SimpleImputer(strategy='median'), [7]), ('cat', OneHotEncoder(drop='first'), [11, 0, 12, 2, 1, 8, 9])], model__probability=True, model__kernel=rbf, model__gamma=0.22, model__C=0.1 \n",
      "[CV]  onehot__transformers=[('num', SimpleImputer(strategy='median'), [7]), ('cat', OneHotEncoder(drop='first'), [11, 0, 12, 2, 1, 8, 9])], model__probability=True, model__kernel=rbf, model__gamma=0.22, model__C=0.1, total=   0.3s\n",
      "[CV] onehot__transformers=[('num', SimpleImputer(strategy='median'), [7]), ('cat', OneHotEncoder(drop='first'), [11, 0, 12, 2, 1, 8, 9])], model__probability=True, model__kernel=rbf, model__gamma=0.22, model__C=0.1 \n",
      "[CV]  onehot__transformers=[('num', SimpleImputer(strategy='median'), [7]), ('cat', OneHotEncoder(drop='first'), [11, 0, 12, 2, 1, 8, 9])], model__probability=True, model__kernel=rbf, model__gamma=0.22, model__C=0.1, total=   0.3s\n",
      "[CV] onehot__transformers=[('num', SimpleImputer(strategy='median'), [7]), ('cat', OneHotEncoder(drop='first'), [11, 0, 12, 2, 1, 8, 9])], model__probability=True, model__kernel=rbf, model__gamma=0.22, model__C=0.1 \n",
      "[CV]  onehot__transformers=[('num', SimpleImputer(strategy='median'), [7]), ('cat', OneHotEncoder(drop='first'), [11, 0, 12, 2, 1, 8, 9])], model__probability=True, model__kernel=rbf, model__gamma=0.22, model__C=0.1, total=   0.3s\n",
      "[CV] onehot__transformers=[('num', SimpleImputer(strategy='median'), [7]), ('cat', OneHotEncoder(drop='first'), [11, 0, 12, 2, 1, 8, 9])], model__probability=True, model__kernel=rbf, model__gamma=0.22, model__C=0.1 \n",
      "[CV]  onehot__transformers=[('num', SimpleImputer(strategy='median'), [7]), ('cat', OneHotEncoder(drop='first'), [11, 0, 12, 2, 1, 8, 9])], model__probability=True, model__kernel=rbf, model__gamma=0.22, model__C=0.1, total=   0.3s\n",
      "[CV] onehot__transformers=[('num', SimpleImputer(strategy='median'), [7]), ('cat', OneHotEncoder(drop='first'), [11, 0, 12, 2, 1, 8, 9])], model__probability=True, model__kernel=rbf, model__gamma=0.22, model__C=0.1 \n"
     ]
    },
    {
     "name": "stdout",
     "output_type": "stream",
     "text": [
      "[CV]  onehot__transformers=[('num', SimpleImputer(strategy='median'), [7]), ('cat', OneHotEncoder(drop='first'), [11, 0, 12, 2, 1, 8, 9])], model__probability=True, model__kernel=rbf, model__gamma=0.22, model__C=0.1, total=   0.3s\n",
      "[CV] onehot__transformers=[('num', SimpleImputer(strategy='median'), [7]), ('cat', OneHotEncoder(drop='first'), [11, 0, 12, 2, 1, 8, 9])], model__probability=True, model__kernel=rbf, model__gamma=0.22, model__C=0.1 \n",
      "[CV]  onehot__transformers=[('num', SimpleImputer(strategy='median'), [7]), ('cat', OneHotEncoder(drop='first'), [11, 0, 12, 2, 1, 8, 9])], model__probability=True, model__kernel=rbf, model__gamma=0.22, model__C=0.1, total=   0.3s\n",
      "[CV] onehot__transformers=[('num', SimpleImputer(strategy='median'), [7]), ('cat', OneHotEncoder(drop='first'), [11, 0, 12, 2, 1, 8, 9])], model__probability=True, model__kernel=rbf, model__gamma=0.22, model__C=0.1 \n",
      "[CV]  onehot__transformers=[('num', SimpleImputer(strategy='median'), [7]), ('cat', OneHotEncoder(drop='first'), [11, 0, 12, 2, 1, 8, 9])], model__probability=True, model__kernel=rbf, model__gamma=0.22, model__C=0.1, total=   0.3s\n",
      "[CV] onehot__transformers=[('num', SimpleImputer(strategy='median'), [7]), ('cat', OneHotEncoder(drop='first'), [11, 0, 12, 2])], model__probability=True, model__kernel=rbf, model__gamma=0.81, model__C=1 \n",
      "[CV]  onehot__transformers=[('num', SimpleImputer(strategy='median'), [7]), ('cat', OneHotEncoder(drop='first'), [11, 0, 12, 2])], model__probability=True, model__kernel=rbf, model__gamma=0.81, model__C=1, total=   0.2s\n",
      "[CV] onehot__transformers=[('num', SimpleImputer(strategy='median'), [7]), ('cat', OneHotEncoder(drop='first'), [11, 0, 12, 2])], model__probability=True, model__kernel=rbf, model__gamma=0.81, model__C=1 \n",
      "[CV]  onehot__transformers=[('num', SimpleImputer(strategy='median'), [7]), ('cat', OneHotEncoder(drop='first'), [11, 0, 12, 2])], model__probability=True, model__kernel=rbf, model__gamma=0.81, model__C=1, total=   0.2s\n",
      "[CV] onehot__transformers=[('num', SimpleImputer(strategy='median'), [7]), ('cat', OneHotEncoder(drop='first'), [11, 0, 12, 2])], model__probability=True, model__kernel=rbf, model__gamma=0.81, model__C=1 \n",
      "[CV]  onehot__transformers=[('num', SimpleImputer(strategy='median'), [7]), ('cat', OneHotEncoder(drop='first'), [11, 0, 12, 2])], model__probability=True, model__kernel=rbf, model__gamma=0.81, model__C=1, total=   0.2s\n",
      "[CV] onehot__transformers=[('num', SimpleImputer(strategy='median'), [7]), ('cat', OneHotEncoder(drop='first'), [11, 0, 12, 2])], model__probability=True, model__kernel=rbf, model__gamma=0.81, model__C=1 \n",
      "[CV]  onehot__transformers=[('num', SimpleImputer(strategy='median'), [7]), ('cat', OneHotEncoder(drop='first'), [11, 0, 12, 2])], model__probability=True, model__kernel=rbf, model__gamma=0.81, model__C=1, total=   0.2s\n",
      "[CV] onehot__transformers=[('num', SimpleImputer(strategy='median'), [7]), ('cat', OneHotEncoder(drop='first'), [11, 0, 12, 2])], model__probability=True, model__kernel=rbf, model__gamma=0.81, model__C=1 \n",
      "[CV]  onehot__transformers=[('num', SimpleImputer(strategy='median'), [7]), ('cat', OneHotEncoder(drop='first'), [11, 0, 12, 2])], model__probability=True, model__kernel=rbf, model__gamma=0.81, model__C=1, total=   0.2s\n",
      "[CV] onehot__transformers=[('num', SimpleImputer(strategy='median'), [7]), ('cat', OneHotEncoder(drop='first'), [11, 0, 12, 2])], model__probability=True, model__kernel=rbf, model__gamma=0.81, model__C=1 \n",
      "[CV]  onehot__transformers=[('num', SimpleImputer(strategy='median'), [7]), ('cat', OneHotEncoder(drop='first'), [11, 0, 12, 2])], model__probability=True, model__kernel=rbf, model__gamma=0.81, model__C=1, total=   0.2s\n",
      "[CV] onehot__transformers=[('num', SimpleImputer(strategy='median'), [7]), ('cat', OneHotEncoder(drop='first'), [11, 0, 12, 2])], model__probability=True, model__kernel=rbf, model__gamma=0.81, model__C=1 \n",
      "[CV]  onehot__transformers=[('num', SimpleImputer(strategy='median'), [7]), ('cat', OneHotEncoder(drop='first'), [11, 0, 12, 2])], model__probability=True, model__kernel=rbf, model__gamma=0.81, model__C=1, total=   0.3s\n",
      "[CV] onehot__transformers=[('num', SimpleImputer(strategy='median'), [7]), ('cat', OneHotEncoder(drop='first'), [11, 0, 12, 2])], model__probability=True, model__kernel=rbf, model__gamma=0.81, model__C=1 \n",
      "[CV]  onehot__transformers=[('num', SimpleImputer(strategy='median'), [7]), ('cat', OneHotEncoder(drop='first'), [11, 0, 12, 2])], model__probability=True, model__kernel=rbf, model__gamma=0.81, model__C=1, total=   0.2s\n",
      "[CV] onehot__transformers=[('num', SimpleImputer(strategy='median'), [7]), ('cat', OneHotEncoder(drop='first'), [11, 0, 12, 2])], model__probability=True, model__kernel=rbf, model__gamma=0.81, model__C=1 \n",
      "[CV]  onehot__transformers=[('num', SimpleImputer(strategy='median'), [7]), ('cat', OneHotEncoder(drop='first'), [11, 0, 12, 2])], model__probability=True, model__kernel=rbf, model__gamma=0.81, model__C=1, total=   0.2s\n",
      "[CV] onehot__transformers=[('num', SimpleImputer(strategy='median'), [7]), ('cat', OneHotEncoder(drop='first'), [11, 0, 12, 2])], model__probability=True, model__kernel=rbf, model__gamma=0.81, model__C=1 \n",
      "[CV]  onehot__transformers=[('num', SimpleImputer(strategy='median'), [7]), ('cat', OneHotEncoder(drop='first'), [11, 0, 12, 2])], model__probability=True, model__kernel=rbf, model__gamma=0.81, model__C=1, total=   0.2s\n",
      "[CV] onehot__transformers=[('num', SimpleImputer(strategy='median'), [7]), ('cat', OneHotEncoder(drop='first'), [11, 0, 12, 2])], model__probability=True, model__kernel=rbf, model__gamma=0.81, model__C=1 \n",
      "[CV]  onehot__transformers=[('num', SimpleImputer(strategy='median'), [7]), ('cat', OneHotEncoder(drop='first'), [11, 0, 12, 2])], model__probability=True, model__kernel=rbf, model__gamma=0.81, model__C=1, total=   0.2s\n",
      "[CV] onehot__transformers=[('num', SimpleImputer(strategy='median'), [7]), ('cat', OneHotEncoder(drop='first'), [11, 0, 12, 2])], model__probability=True, model__kernel=rbf, model__gamma=0.81, model__C=1 \n",
      "[CV]  onehot__transformers=[('num', SimpleImputer(strategy='median'), [7]), ('cat', OneHotEncoder(drop='first'), [11, 0, 12, 2])], model__probability=True, model__kernel=rbf, model__gamma=0.81, model__C=1, total=   0.2s\n",
      "[CV] onehot__transformers=[('num', SimpleImputer(strategy='median'), [7]), ('cat', OneHotEncoder(drop='first'), [11, 0, 12, 2])], model__probability=True, model__kernel=rbf, model__gamma=0.81, model__C=1 \n",
      "[CV]  onehot__transformers=[('num', SimpleImputer(strategy='median'), [7]), ('cat', OneHotEncoder(drop='first'), [11, 0, 12, 2])], model__probability=True, model__kernel=rbf, model__gamma=0.81, model__C=1, total=   0.2s\n",
      "[CV] onehot__transformers=[('num', SimpleImputer(strategy='median'), [7]), ('cat', OneHotEncoder(drop='first'), [11, 0, 12, 2])], model__probability=True, model__kernel=rbf, model__gamma=0.81, model__C=1 \n",
      "[CV]  onehot__transformers=[('num', SimpleImputer(strategy='median'), [7]), ('cat', OneHotEncoder(drop='first'), [11, 0, 12, 2])], model__probability=True, model__kernel=rbf, model__gamma=0.81, model__C=1, total=   0.2s\n",
      "[CV] onehot__transformers=[('num', SimpleImputer(strategy='median'), [7]), ('cat', OneHotEncoder(drop='first'), [11, 0, 12, 2])], model__probability=True, model__kernel=rbf, model__gamma=0.81, model__C=1 \n",
      "[CV]  onehot__transformers=[('num', SimpleImputer(strategy='median'), [7]), ('cat', OneHotEncoder(drop='first'), [11, 0, 12, 2])], model__probability=True, model__kernel=rbf, model__gamma=0.81, model__C=1, total=   0.2s\n",
      "[CV] onehot__transformers=[('num', SimpleImputer(strategy='median'), [7]), ('cat', OneHotEncoder(drop='first'), [11, 0, 12, 2])], model__probability=True, model__kernel=rbf, model__gamma=0.81, model__C=1 \n",
      "[CV]  onehot__transformers=[('num', SimpleImputer(strategy='median'), [7]), ('cat', OneHotEncoder(drop='first'), [11, 0, 12, 2])], model__probability=True, model__kernel=rbf, model__gamma=0.81, model__C=1, total=   0.2s\n",
      "[CV] onehot__transformers=[('num', SimpleImputer(strategy='median'), [7]), ('cat', OneHotEncoder(drop='first'), [11, 0, 12, 2])], model__probability=True, model__kernel=rbf, model__gamma=0.81, model__C=1 \n",
      "[CV]  onehot__transformers=[('num', SimpleImputer(strategy='median'), [7]), ('cat', OneHotEncoder(drop='first'), [11, 0, 12, 2])], model__probability=True, model__kernel=rbf, model__gamma=0.81, model__C=1, total=   0.2s\n",
      "[CV] onehot__transformers=[('num', SimpleImputer(strategy='median'), [7]), ('cat', OneHotEncoder(drop='first'), [11, 0, 12, 2])], model__probability=True, model__kernel=rbf, model__gamma=0.81, model__C=1 \n"
     ]
    },
    {
     "name": "stdout",
     "output_type": "stream",
     "text": [
      "[CV]  onehot__transformers=[('num', SimpleImputer(strategy='median'), [7]), ('cat', OneHotEncoder(drop='first'), [11, 0, 12, 2])], model__probability=True, model__kernel=rbf, model__gamma=0.81, model__C=1, total=   0.2s\n",
      "[CV] onehot__transformers=[('num', SimpleImputer(strategy='median'), [7]), ('cat', OneHotEncoder(drop='first'), [11, 0, 12, 2])], model__probability=True, model__kernel=rbf, model__gamma=0.81, model__C=1 \n",
      "[CV]  onehot__transformers=[('num', SimpleImputer(strategy='median'), [7]), ('cat', OneHotEncoder(drop='first'), [11, 0, 12, 2])], model__probability=True, model__kernel=rbf, model__gamma=0.81, model__C=1, total=   0.2s\n",
      "[CV] onehot__transformers=[('num', SimpleImputer(strategy='median'), [7]), ('cat', OneHotEncoder(drop='first'), [11, 0, 12, 2])], model__probability=True, model__kernel=rbf, model__gamma=0.81, model__C=1 \n",
      "[CV]  onehot__transformers=[('num', SimpleImputer(strategy='median'), [7]), ('cat', OneHotEncoder(drop='first'), [11, 0, 12, 2])], model__probability=True, model__kernel=rbf, model__gamma=0.81, model__C=1, total=   0.2s\n",
      "[CV] onehot__transformers=[('num', SimpleImputer(strategy='median'), [7]), ('cat', OneHotEncoder(drop='first'), [11, 0, 12, 2, 1, 8, 9])], model__probability=True, model__kernel=rbf, model__gamma=0.58, model__C=1 \n",
      "[CV]  onehot__transformers=[('num', SimpleImputer(strategy='median'), [7]), ('cat', OneHotEncoder(drop='first'), [11, 0, 12, 2, 1, 8, 9])], model__probability=True, model__kernel=rbf, model__gamma=0.58, model__C=1, total=   0.3s\n",
      "[CV] onehot__transformers=[('num', SimpleImputer(strategy='median'), [7]), ('cat', OneHotEncoder(drop='first'), [11, 0, 12, 2, 1, 8, 9])], model__probability=True, model__kernel=rbf, model__gamma=0.58, model__C=1 \n",
      "[CV]  onehot__transformers=[('num', SimpleImputer(strategy='median'), [7]), ('cat', OneHotEncoder(drop='first'), [11, 0, 12, 2, 1, 8, 9])], model__probability=True, model__kernel=rbf, model__gamma=0.58, model__C=1, total=   0.3s\n",
      "[CV] onehot__transformers=[('num', SimpleImputer(strategy='median'), [7]), ('cat', OneHotEncoder(drop='first'), [11, 0, 12, 2, 1, 8, 9])], model__probability=True, model__kernel=rbf, model__gamma=0.58, model__C=1 \n",
      "[CV]  onehot__transformers=[('num', SimpleImputer(strategy='median'), [7]), ('cat', OneHotEncoder(drop='first'), [11, 0, 12, 2, 1, 8, 9])], model__probability=True, model__kernel=rbf, model__gamma=0.58, model__C=1, total=   0.3s\n",
      "[CV] onehot__transformers=[('num', SimpleImputer(strategy='median'), [7]), ('cat', OneHotEncoder(drop='first'), [11, 0, 12, 2, 1, 8, 9])], model__probability=True, model__kernel=rbf, model__gamma=0.58, model__C=1 \n",
      "[CV]  onehot__transformers=[('num', SimpleImputer(strategy='median'), [7]), ('cat', OneHotEncoder(drop='first'), [11, 0, 12, 2, 1, 8, 9])], model__probability=True, model__kernel=rbf, model__gamma=0.58, model__C=1, total=   0.3s\n",
      "[CV] onehot__transformers=[('num', SimpleImputer(strategy='median'), [7]), ('cat', OneHotEncoder(drop='first'), [11, 0, 12, 2, 1, 8, 9])], model__probability=True, model__kernel=rbf, model__gamma=0.58, model__C=1 \n",
      "[CV]  onehot__transformers=[('num', SimpleImputer(strategy='median'), [7]), ('cat', OneHotEncoder(drop='first'), [11, 0, 12, 2, 1, 8, 9])], model__probability=True, model__kernel=rbf, model__gamma=0.58, model__C=1, total=   0.3s\n",
      "[CV] onehot__transformers=[('num', SimpleImputer(strategy='median'), [7]), ('cat', OneHotEncoder(drop='first'), [11, 0, 12, 2, 1, 8, 9])], model__probability=True, model__kernel=rbf, model__gamma=0.58, model__C=1 \n",
      "[CV]  onehot__transformers=[('num', SimpleImputer(strategy='median'), [7]), ('cat', OneHotEncoder(drop='first'), [11, 0, 12, 2, 1, 8, 9])], model__probability=True, model__kernel=rbf, model__gamma=0.58, model__C=1, total=   0.3s\n",
      "[CV] onehot__transformers=[('num', SimpleImputer(strategy='median'), [7]), ('cat', OneHotEncoder(drop='first'), [11, 0, 12, 2, 1, 8, 9])], model__probability=True, model__kernel=rbf, model__gamma=0.58, model__C=1 \n",
      "[CV]  onehot__transformers=[('num', SimpleImputer(strategy='median'), [7]), ('cat', OneHotEncoder(drop='first'), [11, 0, 12, 2, 1, 8, 9])], model__probability=True, model__kernel=rbf, model__gamma=0.58, model__C=1, total=   0.3s\n",
      "[CV] onehot__transformers=[('num', SimpleImputer(strategy='median'), [7]), ('cat', OneHotEncoder(drop='first'), [11, 0, 12, 2, 1, 8, 9])], model__probability=True, model__kernel=rbf, model__gamma=0.58, model__C=1 \n",
      "[CV]  onehot__transformers=[('num', SimpleImputer(strategy='median'), [7]), ('cat', OneHotEncoder(drop='first'), [11, 0, 12, 2, 1, 8, 9])], model__probability=True, model__kernel=rbf, model__gamma=0.58, model__C=1, total=   0.3s\n",
      "[CV] onehot__transformers=[('num', SimpleImputer(strategy='median'), [7]), ('cat', OneHotEncoder(drop='first'), [11, 0, 12, 2, 1, 8, 9])], model__probability=True, model__kernel=rbf, model__gamma=0.58, model__C=1 \n",
      "[CV]  onehot__transformers=[('num', SimpleImputer(strategy='median'), [7]), ('cat', OneHotEncoder(drop='first'), [11, 0, 12, 2, 1, 8, 9])], model__probability=True, model__kernel=rbf, model__gamma=0.58, model__C=1, total=   0.3s\n",
      "[CV] onehot__transformers=[('num', SimpleImputer(strategy='median'), [7]), ('cat', OneHotEncoder(drop='first'), [11, 0, 12, 2, 1, 8, 9])], model__probability=True, model__kernel=rbf, model__gamma=0.58, model__C=1 \n",
      "[CV]  onehot__transformers=[('num', SimpleImputer(strategy='median'), [7]), ('cat', OneHotEncoder(drop='first'), [11, 0, 12, 2, 1, 8, 9])], model__probability=True, model__kernel=rbf, model__gamma=0.58, model__C=1, total=   0.3s\n",
      "[CV] onehot__transformers=[('num', SimpleImputer(strategy='median'), [7]), ('cat', OneHotEncoder(drop='first'), [11, 0, 12, 2, 1, 8, 9])], model__probability=True, model__kernel=rbf, model__gamma=0.58, model__C=1 \n",
      "[CV]  onehot__transformers=[('num', SimpleImputer(strategy='median'), [7]), ('cat', OneHotEncoder(drop='first'), [11, 0, 12, 2, 1, 8, 9])], model__probability=True, model__kernel=rbf, model__gamma=0.58, model__C=1, total=   0.3s\n",
      "[CV] onehot__transformers=[('num', SimpleImputer(strategy='median'), [7]), ('cat', OneHotEncoder(drop='first'), [11, 0, 12, 2, 1, 8, 9])], model__probability=True, model__kernel=rbf, model__gamma=0.58, model__C=1 \n",
      "[CV]  onehot__transformers=[('num', SimpleImputer(strategy='median'), [7]), ('cat', OneHotEncoder(drop='first'), [11, 0, 12, 2, 1, 8, 9])], model__probability=True, model__kernel=rbf, model__gamma=0.58, model__C=1, total=   0.3s\n",
      "[CV] onehot__transformers=[('num', SimpleImputer(strategy='median'), [7]), ('cat', OneHotEncoder(drop='first'), [11, 0, 12, 2, 1, 8, 9])], model__probability=True, model__kernel=rbf, model__gamma=0.58, model__C=1 \n",
      "[CV]  onehot__transformers=[('num', SimpleImputer(strategy='median'), [7]), ('cat', OneHotEncoder(drop='first'), [11, 0, 12, 2, 1, 8, 9])], model__probability=True, model__kernel=rbf, model__gamma=0.58, model__C=1, total=   0.3s\n",
      "[CV] onehot__transformers=[('num', SimpleImputer(strategy='median'), [7]), ('cat', OneHotEncoder(drop='first'), [11, 0, 12, 2, 1, 8, 9])], model__probability=True, model__kernel=rbf, model__gamma=0.58, model__C=1 \n",
      "[CV]  onehot__transformers=[('num', SimpleImputer(strategy='median'), [7]), ('cat', OneHotEncoder(drop='first'), [11, 0, 12, 2, 1, 8, 9])], model__probability=True, model__kernel=rbf, model__gamma=0.58, model__C=1, total=   0.3s\n",
      "[CV] onehot__transformers=[('num', SimpleImputer(strategy='median'), [7]), ('cat', OneHotEncoder(drop='first'), [11, 0, 12, 2, 1, 8, 9])], model__probability=True, model__kernel=rbf, model__gamma=0.58, model__C=1 \n",
      "[CV]  onehot__transformers=[('num', SimpleImputer(strategy='median'), [7]), ('cat', OneHotEncoder(drop='first'), [11, 0, 12, 2, 1, 8, 9])], model__probability=True, model__kernel=rbf, model__gamma=0.58, model__C=1, total=   0.3s\n",
      "[CV] onehot__transformers=[('num', SimpleImputer(strategy='median'), [7]), ('cat', OneHotEncoder(drop='first'), [11, 0, 12, 2, 1, 8, 9])], model__probability=True, model__kernel=rbf, model__gamma=0.58, model__C=1 \n",
      "[CV]  onehot__transformers=[('num', SimpleImputer(strategy='median'), [7]), ('cat', OneHotEncoder(drop='first'), [11, 0, 12, 2, 1, 8, 9])], model__probability=True, model__kernel=rbf, model__gamma=0.58, model__C=1, total=   0.3s\n",
      "[CV] onehot__transformers=[('num', SimpleImputer(strategy='median'), [7]), ('cat', OneHotEncoder(drop='first'), [11, 0, 12, 2, 1, 8, 9])], model__probability=True, model__kernel=rbf, model__gamma=0.58, model__C=1 \n"
     ]
    },
    {
     "name": "stdout",
     "output_type": "stream",
     "text": [
      "[CV]  onehot__transformers=[('num', SimpleImputer(strategy='median'), [7]), ('cat', OneHotEncoder(drop='first'), [11, 0, 12, 2, 1, 8, 9])], model__probability=True, model__kernel=rbf, model__gamma=0.58, model__C=1, total=   0.3s\n",
      "[CV] onehot__transformers=[('num', SimpleImputer(strategy='median'), [7]), ('cat', OneHotEncoder(drop='first'), [11, 0, 12, 2, 1, 8, 9])], model__probability=True, model__kernel=rbf, model__gamma=0.58, model__C=1 \n",
      "[CV]  onehot__transformers=[('num', SimpleImputer(strategy='median'), [7]), ('cat', OneHotEncoder(drop='first'), [11, 0, 12, 2, 1, 8, 9])], model__probability=True, model__kernel=rbf, model__gamma=0.58, model__C=1, total=   0.3s\n",
      "[CV] onehot__transformers=[('num', SimpleImputer(strategy='median'), [7]), ('cat', OneHotEncoder(drop='first'), [11, 0, 12, 2, 1, 8, 9])], model__probability=True, model__kernel=rbf, model__gamma=0.58, model__C=1 \n",
      "[CV]  onehot__transformers=[('num', SimpleImputer(strategy='median'), [7]), ('cat', OneHotEncoder(drop='first'), [11, 0, 12, 2, 1, 8, 9])], model__probability=True, model__kernel=rbf, model__gamma=0.58, model__C=1, total=   0.3s\n",
      "[CV] onehot__transformers=[('num', SimpleImputer(strategy='median'), [7]), ('cat', OneHotEncoder(drop='first'), [11, 0, 12, 2, 1, 8, 9])], model__probability=True, model__kernel=rbf, model__gamma=0.58, model__C=1 \n",
      "[CV]  onehot__transformers=[('num', SimpleImputer(strategy='median'), [7]), ('cat', OneHotEncoder(drop='first'), [11, 0, 12, 2, 1, 8, 9])], model__probability=True, model__kernel=rbf, model__gamma=0.58, model__C=1, total=   0.3s\n",
      "[CV] onehot__transformers=[('num', SimpleImputer(strategy='median'), [7]), ('cat', OneHotEncoder(drop='first'), [11, 0, 12, 2])], model__probability=True, model__kernel=rbf, model__gamma=0.26, model__C=0.1 \n",
      "[CV]  onehot__transformers=[('num', SimpleImputer(strategy='median'), [7]), ('cat', OneHotEncoder(drop='first'), [11, 0, 12, 2])], model__probability=True, model__kernel=rbf, model__gamma=0.26, model__C=0.1, total=   0.2s\n",
      "[CV] onehot__transformers=[('num', SimpleImputer(strategy='median'), [7]), ('cat', OneHotEncoder(drop='first'), [11, 0, 12, 2])], model__probability=True, model__kernel=rbf, model__gamma=0.26, model__C=0.1 \n",
      "[CV]  onehot__transformers=[('num', SimpleImputer(strategy='median'), [7]), ('cat', OneHotEncoder(drop='first'), [11, 0, 12, 2])], model__probability=True, model__kernel=rbf, model__gamma=0.26, model__C=0.1, total=   0.2s\n",
      "[CV] onehot__transformers=[('num', SimpleImputer(strategy='median'), [7]), ('cat', OneHotEncoder(drop='first'), [11, 0, 12, 2])], model__probability=True, model__kernel=rbf, model__gamma=0.26, model__C=0.1 \n",
      "[CV]  onehot__transformers=[('num', SimpleImputer(strategy='median'), [7]), ('cat', OneHotEncoder(drop='first'), [11, 0, 12, 2])], model__probability=True, model__kernel=rbf, model__gamma=0.26, model__C=0.1, total=   0.2s\n",
      "[CV] onehot__transformers=[('num', SimpleImputer(strategy='median'), [7]), ('cat', OneHotEncoder(drop='first'), [11, 0, 12, 2])], model__probability=True, model__kernel=rbf, model__gamma=0.26, model__C=0.1 \n",
      "[CV]  onehot__transformers=[('num', SimpleImputer(strategy='median'), [7]), ('cat', OneHotEncoder(drop='first'), [11, 0, 12, 2])], model__probability=True, model__kernel=rbf, model__gamma=0.26, model__C=0.1, total=   0.2s\n",
      "[CV] onehot__transformers=[('num', SimpleImputer(strategy='median'), [7]), ('cat', OneHotEncoder(drop='first'), [11, 0, 12, 2])], model__probability=True, model__kernel=rbf, model__gamma=0.26, model__C=0.1 \n",
      "[CV]  onehot__transformers=[('num', SimpleImputer(strategy='median'), [7]), ('cat', OneHotEncoder(drop='first'), [11, 0, 12, 2])], model__probability=True, model__kernel=rbf, model__gamma=0.26, model__C=0.1, total=   0.2s\n",
      "[CV] onehot__transformers=[('num', SimpleImputer(strategy='median'), [7]), ('cat', OneHotEncoder(drop='first'), [11, 0, 12, 2])], model__probability=True, model__kernel=rbf, model__gamma=0.26, model__C=0.1 \n",
      "[CV]  onehot__transformers=[('num', SimpleImputer(strategy='median'), [7]), ('cat', OneHotEncoder(drop='first'), [11, 0, 12, 2])], model__probability=True, model__kernel=rbf, model__gamma=0.26, model__C=0.1, total=   0.2s\n",
      "[CV] onehot__transformers=[('num', SimpleImputer(strategy='median'), [7]), ('cat', OneHotEncoder(drop='first'), [11, 0, 12, 2])], model__probability=True, model__kernel=rbf, model__gamma=0.26, model__C=0.1 \n",
      "[CV]  onehot__transformers=[('num', SimpleImputer(strategy='median'), [7]), ('cat', OneHotEncoder(drop='first'), [11, 0, 12, 2])], model__probability=True, model__kernel=rbf, model__gamma=0.26, model__C=0.1, total=   0.2s\n",
      "[CV] onehot__transformers=[('num', SimpleImputer(strategy='median'), [7]), ('cat', OneHotEncoder(drop='first'), [11, 0, 12, 2])], model__probability=True, model__kernel=rbf, model__gamma=0.26, model__C=0.1 \n",
      "[CV]  onehot__transformers=[('num', SimpleImputer(strategy='median'), [7]), ('cat', OneHotEncoder(drop='first'), [11, 0, 12, 2])], model__probability=True, model__kernel=rbf, model__gamma=0.26, model__C=0.1, total=   0.2s\n",
      "[CV] onehot__transformers=[('num', SimpleImputer(strategy='median'), [7]), ('cat', OneHotEncoder(drop='first'), [11, 0, 12, 2])], model__probability=True, model__kernel=rbf, model__gamma=0.26, model__C=0.1 \n",
      "[CV]  onehot__transformers=[('num', SimpleImputer(strategy='median'), [7]), ('cat', OneHotEncoder(drop='first'), [11, 0, 12, 2])], model__probability=True, model__kernel=rbf, model__gamma=0.26, model__C=0.1, total=   0.3s\n",
      "[CV] onehot__transformers=[('num', SimpleImputer(strategy='median'), [7]), ('cat', OneHotEncoder(drop='first'), [11, 0, 12, 2])], model__probability=True, model__kernel=rbf, model__gamma=0.26, model__C=0.1 \n",
      "[CV]  onehot__transformers=[('num', SimpleImputer(strategy='median'), [7]), ('cat', OneHotEncoder(drop='first'), [11, 0, 12, 2])], model__probability=True, model__kernel=rbf, model__gamma=0.26, model__C=0.1, total=   0.2s\n",
      "[CV] onehot__transformers=[('num', SimpleImputer(strategy='median'), [7]), ('cat', OneHotEncoder(drop='first'), [11, 0, 12, 2])], model__probability=True, model__kernel=rbf, model__gamma=0.26, model__C=0.1 \n",
      "[CV]  onehot__transformers=[('num', SimpleImputer(strategy='median'), [7]), ('cat', OneHotEncoder(drop='first'), [11, 0, 12, 2])], model__probability=True, model__kernel=rbf, model__gamma=0.26, model__C=0.1, total=   0.2s\n",
      "[CV] onehot__transformers=[('num', SimpleImputer(strategy='median'), [7]), ('cat', OneHotEncoder(drop='first'), [11, 0, 12, 2])], model__probability=True, model__kernel=rbf, model__gamma=0.26, model__C=0.1 \n",
      "[CV]  onehot__transformers=[('num', SimpleImputer(strategy='median'), [7]), ('cat', OneHotEncoder(drop='first'), [11, 0, 12, 2])], model__probability=True, model__kernel=rbf, model__gamma=0.26, model__C=0.1, total=   0.3s\n",
      "[CV] onehot__transformers=[('num', SimpleImputer(strategy='median'), [7]), ('cat', OneHotEncoder(drop='first'), [11, 0, 12, 2])], model__probability=True, model__kernel=rbf, model__gamma=0.26, model__C=0.1 \n",
      "[CV]  onehot__transformers=[('num', SimpleImputer(strategy='median'), [7]), ('cat', OneHotEncoder(drop='first'), [11, 0, 12, 2])], model__probability=True, model__kernel=rbf, model__gamma=0.26, model__C=0.1, total=   0.2s\n",
      "[CV] onehot__transformers=[('num', SimpleImputer(strategy='median'), [7]), ('cat', OneHotEncoder(drop='first'), [11, 0, 12, 2])], model__probability=True, model__kernel=rbf, model__gamma=0.26, model__C=0.1 \n",
      "[CV]  onehot__transformers=[('num', SimpleImputer(strategy='median'), [7]), ('cat', OneHotEncoder(drop='first'), [11, 0, 12, 2])], model__probability=True, model__kernel=rbf, model__gamma=0.26, model__C=0.1, total=   0.3s\n",
      "[CV] onehot__transformers=[('num', SimpleImputer(strategy='median'), [7]), ('cat', OneHotEncoder(drop='first'), [11, 0, 12, 2])], model__probability=True, model__kernel=rbf, model__gamma=0.26, model__C=0.1 \n",
      "[CV]  onehot__transformers=[('num', SimpleImputer(strategy='median'), [7]), ('cat', OneHotEncoder(drop='first'), [11, 0, 12, 2])], model__probability=True, model__kernel=rbf, model__gamma=0.26, model__C=0.1, total=   0.2s\n",
      "[CV] onehot__transformers=[('num', SimpleImputer(strategy='median'), [7]), ('cat', OneHotEncoder(drop='first'), [11, 0, 12, 2])], model__probability=True, model__kernel=rbf, model__gamma=0.26, model__C=0.1 \n"
     ]
    },
    {
     "name": "stdout",
     "output_type": "stream",
     "text": [
      "[CV]  onehot__transformers=[('num', SimpleImputer(strategy='median'), [7]), ('cat', OneHotEncoder(drop='first'), [11, 0, 12, 2])], model__probability=True, model__kernel=rbf, model__gamma=0.26, model__C=0.1, total=   0.2s\n",
      "[CV] onehot__transformers=[('num', SimpleImputer(strategy='median'), [7]), ('cat', OneHotEncoder(drop='first'), [11, 0, 12, 2])], model__probability=True, model__kernel=rbf, model__gamma=0.26, model__C=0.1 \n",
      "[CV]  onehot__transformers=[('num', SimpleImputer(strategy='median'), [7]), ('cat', OneHotEncoder(drop='first'), [11, 0, 12, 2])], model__probability=True, model__kernel=rbf, model__gamma=0.26, model__C=0.1, total=   0.2s\n",
      "[CV] onehot__transformers=[('num', SimpleImputer(strategy='median'), [7]), ('cat', OneHotEncoder(drop='first'), [11, 0, 12, 2])], model__probability=True, model__kernel=rbf, model__gamma=0.26, model__C=0.1 \n",
      "[CV]  onehot__transformers=[('num', SimpleImputer(strategy='median'), [7]), ('cat', OneHotEncoder(drop='first'), [11, 0, 12, 2])], model__probability=True, model__kernel=rbf, model__gamma=0.26, model__C=0.1, total=   0.2s\n",
      "[CV] onehot__transformers=[('num', SimpleImputer(strategy='median'), [7]), ('cat', OneHotEncoder(drop='first'), [11, 0, 12, 2])], model__probability=True, model__kernel=rbf, model__gamma=0.26, model__C=0.1 \n",
      "[CV]  onehot__transformers=[('num', SimpleImputer(strategy='median'), [7]), ('cat', OneHotEncoder(drop='first'), [11, 0, 12, 2])], model__probability=True, model__kernel=rbf, model__gamma=0.26, model__C=0.1, total=   0.2s\n",
      "[CV] onehot__transformers=[('num', SimpleImputer(strategy='median'), [7]), ('cat', OneHotEncoder(drop='first'), [11, 0, 12, 2])], model__probability=True, model__kernel=rbf, model__gamma=0.26, model__C=0.1 \n",
      "[CV]  onehot__transformers=[('num', SimpleImputer(strategy='median'), [7]), ('cat', OneHotEncoder(drop='first'), [11, 0, 12, 2])], model__probability=True, model__kernel=rbf, model__gamma=0.26, model__C=0.1, total=   0.2s\n",
      "[CV] onehot__transformers=[('num', SimpleImputer(strategy='median'), [7]), ('cat', OneHotEncoder(drop='first'), [11, 0, 12, 2])], model__probability=True, model__kernel=rbf, model__gamma=0.34, model__C=0.01 \n",
      "[CV]  onehot__transformers=[('num', SimpleImputer(strategy='median'), [7]), ('cat', OneHotEncoder(drop='first'), [11, 0, 12, 2])], model__probability=True, model__kernel=rbf, model__gamma=0.34, model__C=0.01, total=   0.2s\n",
      "[CV] onehot__transformers=[('num', SimpleImputer(strategy='median'), [7]), ('cat', OneHotEncoder(drop='first'), [11, 0, 12, 2])], model__probability=True, model__kernel=rbf, model__gamma=0.34, model__C=0.01 \n",
      "[CV]  onehot__transformers=[('num', SimpleImputer(strategy='median'), [7]), ('cat', OneHotEncoder(drop='first'), [11, 0, 12, 2])], model__probability=True, model__kernel=rbf, model__gamma=0.34, model__C=0.01, total=   0.3s\n",
      "[CV] onehot__transformers=[('num', SimpleImputer(strategy='median'), [7]), ('cat', OneHotEncoder(drop='first'), [11, 0, 12, 2])], model__probability=True, model__kernel=rbf, model__gamma=0.34, model__C=0.01 \n",
      "[CV]  onehot__transformers=[('num', SimpleImputer(strategy='median'), [7]), ('cat', OneHotEncoder(drop='first'), [11, 0, 12, 2])], model__probability=True, model__kernel=rbf, model__gamma=0.34, model__C=0.01, total=   0.2s\n",
      "[CV] onehot__transformers=[('num', SimpleImputer(strategy='median'), [7]), ('cat', OneHotEncoder(drop='first'), [11, 0, 12, 2])], model__probability=True, model__kernel=rbf, model__gamma=0.34, model__C=0.01 \n",
      "[CV]  onehot__transformers=[('num', SimpleImputer(strategy='median'), [7]), ('cat', OneHotEncoder(drop='first'), [11, 0, 12, 2])], model__probability=True, model__kernel=rbf, model__gamma=0.34, model__C=0.01, total=   0.2s\n",
      "[CV] onehot__transformers=[('num', SimpleImputer(strategy='median'), [7]), ('cat', OneHotEncoder(drop='first'), [11, 0, 12, 2])], model__probability=True, model__kernel=rbf, model__gamma=0.34, model__C=0.01 \n",
      "[CV]  onehot__transformers=[('num', SimpleImputer(strategy='median'), [7]), ('cat', OneHotEncoder(drop='first'), [11, 0, 12, 2])], model__probability=True, model__kernel=rbf, model__gamma=0.34, model__C=0.01, total=   0.2s\n",
      "[CV] onehot__transformers=[('num', SimpleImputer(strategy='median'), [7]), ('cat', OneHotEncoder(drop='first'), [11, 0, 12, 2])], model__probability=True, model__kernel=rbf, model__gamma=0.34, model__C=0.01 \n",
      "[CV]  onehot__transformers=[('num', SimpleImputer(strategy='median'), [7]), ('cat', OneHotEncoder(drop='first'), [11, 0, 12, 2])], model__probability=True, model__kernel=rbf, model__gamma=0.34, model__C=0.01, total=   0.2s\n",
      "[CV] onehot__transformers=[('num', SimpleImputer(strategy='median'), [7]), ('cat', OneHotEncoder(drop='first'), [11, 0, 12, 2])], model__probability=True, model__kernel=rbf, model__gamma=0.34, model__C=0.01 \n",
      "[CV]  onehot__transformers=[('num', SimpleImputer(strategy='median'), [7]), ('cat', OneHotEncoder(drop='first'), [11, 0, 12, 2])], model__probability=True, model__kernel=rbf, model__gamma=0.34, model__C=0.01, total=   0.2s\n",
      "[CV] onehot__transformers=[('num', SimpleImputer(strategy='median'), [7]), ('cat', OneHotEncoder(drop='first'), [11, 0, 12, 2])], model__probability=True, model__kernel=rbf, model__gamma=0.34, model__C=0.01 \n",
      "[CV]  onehot__transformers=[('num', SimpleImputer(strategy='median'), [7]), ('cat', OneHotEncoder(drop='first'), [11, 0, 12, 2])], model__probability=True, model__kernel=rbf, model__gamma=0.34, model__C=0.01, total=   0.2s\n",
      "[CV] onehot__transformers=[('num', SimpleImputer(strategy='median'), [7]), ('cat', OneHotEncoder(drop='first'), [11, 0, 12, 2])], model__probability=True, model__kernel=rbf, model__gamma=0.34, model__C=0.01 \n",
      "[CV]  onehot__transformers=[('num', SimpleImputer(strategy='median'), [7]), ('cat', OneHotEncoder(drop='first'), [11, 0, 12, 2])], model__probability=True, model__kernel=rbf, model__gamma=0.34, model__C=0.01, total=   0.2s\n",
      "[CV] onehot__transformers=[('num', SimpleImputer(strategy='median'), [7]), ('cat', OneHotEncoder(drop='first'), [11, 0, 12, 2])], model__probability=True, model__kernel=rbf, model__gamma=0.34, model__C=0.01 \n",
      "[CV]  onehot__transformers=[('num', SimpleImputer(strategy='median'), [7]), ('cat', OneHotEncoder(drop='first'), [11, 0, 12, 2])], model__probability=True, model__kernel=rbf, model__gamma=0.34, model__C=0.01, total=   0.2s\n",
      "[CV] onehot__transformers=[('num', SimpleImputer(strategy='median'), [7]), ('cat', OneHotEncoder(drop='first'), [11, 0, 12, 2])], model__probability=True, model__kernel=rbf, model__gamma=0.34, model__C=0.01 \n",
      "[CV]  onehot__transformers=[('num', SimpleImputer(strategy='median'), [7]), ('cat', OneHotEncoder(drop='first'), [11, 0, 12, 2])], model__probability=True, model__kernel=rbf, model__gamma=0.34, model__C=0.01, total=   0.2s\n",
      "[CV] onehot__transformers=[('num', SimpleImputer(strategy='median'), [7]), ('cat', OneHotEncoder(drop='first'), [11, 0, 12, 2])], model__probability=True, model__kernel=rbf, model__gamma=0.34, model__C=0.01 \n",
      "[CV]  onehot__transformers=[('num', SimpleImputer(strategy='median'), [7]), ('cat', OneHotEncoder(drop='first'), [11, 0, 12, 2])], model__probability=True, model__kernel=rbf, model__gamma=0.34, model__C=0.01, total=   0.2s\n",
      "[CV] onehot__transformers=[('num', SimpleImputer(strategy='median'), [7]), ('cat', OneHotEncoder(drop='first'), [11, 0, 12, 2])], model__probability=True, model__kernel=rbf, model__gamma=0.34, model__C=0.01 \n",
      "[CV]  onehot__transformers=[('num', SimpleImputer(strategy='median'), [7]), ('cat', OneHotEncoder(drop='first'), [11, 0, 12, 2])], model__probability=True, model__kernel=rbf, model__gamma=0.34, model__C=0.01, total=   0.2s\n",
      "[CV] onehot__transformers=[('num', SimpleImputer(strategy='median'), [7]), ('cat', OneHotEncoder(drop='first'), [11, 0, 12, 2])], model__probability=True, model__kernel=rbf, model__gamma=0.34, model__C=0.01 \n",
      "[CV]  onehot__transformers=[('num', SimpleImputer(strategy='median'), [7]), ('cat', OneHotEncoder(drop='first'), [11, 0, 12, 2])], model__probability=True, model__kernel=rbf, model__gamma=0.34, model__C=0.01, total=   0.2s\n",
      "[CV] onehot__transformers=[('num', SimpleImputer(strategy='median'), [7]), ('cat', OneHotEncoder(drop='first'), [11, 0, 12, 2])], model__probability=True, model__kernel=rbf, model__gamma=0.34, model__C=0.01 \n",
      "[CV]  onehot__transformers=[('num', SimpleImputer(strategy='median'), [7]), ('cat', OneHotEncoder(drop='first'), [11, 0, 12, 2])], model__probability=True, model__kernel=rbf, model__gamma=0.34, model__C=0.01, total=   0.2s\n",
      "[CV] onehot__transformers=[('num', SimpleImputer(strategy='median'), [7]), ('cat', OneHotEncoder(drop='first'), [11, 0, 12, 2])], model__probability=True, model__kernel=rbf, model__gamma=0.34, model__C=0.01 \n"
     ]
    },
    {
     "name": "stdout",
     "output_type": "stream",
     "text": [
      "[CV]  onehot__transformers=[('num', SimpleImputer(strategy='median'), [7]), ('cat', OneHotEncoder(drop='first'), [11, 0, 12, 2])], model__probability=True, model__kernel=rbf, model__gamma=0.34, model__C=0.01, total=   0.2s\n",
      "[CV] onehot__transformers=[('num', SimpleImputer(strategy='median'), [7]), ('cat', OneHotEncoder(drop='first'), [11, 0, 12, 2])], model__probability=True, model__kernel=rbf, model__gamma=0.34, model__C=0.01 \n",
      "[CV]  onehot__transformers=[('num', SimpleImputer(strategy='median'), [7]), ('cat', OneHotEncoder(drop='first'), [11, 0, 12, 2])], model__probability=True, model__kernel=rbf, model__gamma=0.34, model__C=0.01, total=   0.2s\n",
      "[CV] onehot__transformers=[('num', SimpleImputer(strategy='median'), [7]), ('cat', OneHotEncoder(drop='first'), [11, 0, 12, 2])], model__probability=True, model__kernel=rbf, model__gamma=0.34, model__C=0.01 \n",
      "[CV]  onehot__transformers=[('num', SimpleImputer(strategy='median'), [7]), ('cat', OneHotEncoder(drop='first'), [11, 0, 12, 2])], model__probability=True, model__kernel=rbf, model__gamma=0.34, model__C=0.01, total=   0.2s\n",
      "[CV] onehot__transformers=[('num', SimpleImputer(strategy='median'), [7]), ('cat', OneHotEncoder(drop='first'), [11, 0, 12, 2])], model__probability=True, model__kernel=rbf, model__gamma=0.34, model__C=0.01 \n",
      "[CV]  onehot__transformers=[('num', SimpleImputer(strategy='median'), [7]), ('cat', OneHotEncoder(drop='first'), [11, 0, 12, 2])], model__probability=True, model__kernel=rbf, model__gamma=0.34, model__C=0.01, total=   0.2s\n",
      "[CV] onehot__transformers=[('num', SimpleImputer(strategy='median'), [7]), ('cat', OneHotEncoder(drop='first'), [11, 0, 12, 2])], model__probability=True, model__kernel=rbf, model__gamma=0.34, model__C=0.01 \n",
      "[CV]  onehot__transformers=[('num', SimpleImputer(strategy='median'), [7]), ('cat', OneHotEncoder(drop='first'), [11, 0, 12, 2])], model__probability=True, model__kernel=rbf, model__gamma=0.34, model__C=0.01, total=   0.2s\n",
      "[CV] onehot__transformers=[('num', SimpleImputer(strategy='median'), [7]), ('cat', OneHotEncoder(drop='first'), [11, 0, 12, 2, 1, 8, 9])], model__probability=True, model__kernel=rbf, model__gamma=0.81, model__C=5 \n",
      "[CV]  onehot__transformers=[('num', SimpleImputer(strategy='median'), [7]), ('cat', OneHotEncoder(drop='first'), [11, 0, 12, 2, 1, 8, 9])], model__probability=True, model__kernel=rbf, model__gamma=0.81, model__C=5, total=   0.3s\n",
      "[CV] onehot__transformers=[('num', SimpleImputer(strategy='median'), [7]), ('cat', OneHotEncoder(drop='first'), [11, 0, 12, 2, 1, 8, 9])], model__probability=True, model__kernel=rbf, model__gamma=0.81, model__C=5 \n",
      "[CV]  onehot__transformers=[('num', SimpleImputer(strategy='median'), [7]), ('cat', OneHotEncoder(drop='first'), [11, 0, 12, 2, 1, 8, 9])], model__probability=True, model__kernel=rbf, model__gamma=0.81, model__C=5, total=   0.3s\n",
      "[CV] onehot__transformers=[('num', SimpleImputer(strategy='median'), [7]), ('cat', OneHotEncoder(drop='first'), [11, 0, 12, 2, 1, 8, 9])], model__probability=True, model__kernel=rbf, model__gamma=0.81, model__C=5 \n",
      "[CV]  onehot__transformers=[('num', SimpleImputer(strategy='median'), [7]), ('cat', OneHotEncoder(drop='first'), [11, 0, 12, 2, 1, 8, 9])], model__probability=True, model__kernel=rbf, model__gamma=0.81, model__C=5, total=   0.3s\n",
      "[CV] onehot__transformers=[('num', SimpleImputer(strategy='median'), [7]), ('cat', OneHotEncoder(drop='first'), [11, 0, 12, 2, 1, 8, 9])], model__probability=True, model__kernel=rbf, model__gamma=0.81, model__C=5 \n",
      "[CV]  onehot__transformers=[('num', SimpleImputer(strategy='median'), [7]), ('cat', OneHotEncoder(drop='first'), [11, 0, 12, 2, 1, 8, 9])], model__probability=True, model__kernel=rbf, model__gamma=0.81, model__C=5, total=   0.3s\n",
      "[CV] onehot__transformers=[('num', SimpleImputer(strategy='median'), [7]), ('cat', OneHotEncoder(drop='first'), [11, 0, 12, 2, 1, 8, 9])], model__probability=True, model__kernel=rbf, model__gamma=0.81, model__C=5 \n",
      "[CV]  onehot__transformers=[('num', SimpleImputer(strategy='median'), [7]), ('cat', OneHotEncoder(drop='first'), [11, 0, 12, 2, 1, 8, 9])], model__probability=True, model__kernel=rbf, model__gamma=0.81, model__C=5, total=   0.3s\n",
      "[CV] onehot__transformers=[('num', SimpleImputer(strategy='median'), [7]), ('cat', OneHotEncoder(drop='first'), [11, 0, 12, 2, 1, 8, 9])], model__probability=True, model__kernel=rbf, model__gamma=0.81, model__C=5 \n",
      "[CV]  onehot__transformers=[('num', SimpleImputer(strategy='median'), [7]), ('cat', OneHotEncoder(drop='first'), [11, 0, 12, 2, 1, 8, 9])], model__probability=True, model__kernel=rbf, model__gamma=0.81, model__C=5, total=   0.4s\n",
      "[CV] onehot__transformers=[('num', SimpleImputer(strategy='median'), [7]), ('cat', OneHotEncoder(drop='first'), [11, 0, 12, 2, 1, 8, 9])], model__probability=True, model__kernel=rbf, model__gamma=0.81, model__C=5 \n",
      "[CV]  onehot__transformers=[('num', SimpleImputer(strategy='median'), [7]), ('cat', OneHotEncoder(drop='first'), [11, 0, 12, 2, 1, 8, 9])], model__probability=True, model__kernel=rbf, model__gamma=0.81, model__C=5, total=   0.3s\n",
      "[CV] onehot__transformers=[('num', SimpleImputer(strategy='median'), [7]), ('cat', OneHotEncoder(drop='first'), [11, 0, 12, 2, 1, 8, 9])], model__probability=True, model__kernel=rbf, model__gamma=0.81, model__C=5 \n",
      "[CV]  onehot__transformers=[('num', SimpleImputer(strategy='median'), [7]), ('cat', OneHotEncoder(drop='first'), [11, 0, 12, 2, 1, 8, 9])], model__probability=True, model__kernel=rbf, model__gamma=0.81, model__C=5, total=   0.3s\n",
      "[CV] onehot__transformers=[('num', SimpleImputer(strategy='median'), [7]), ('cat', OneHotEncoder(drop='first'), [11, 0, 12, 2, 1, 8, 9])], model__probability=True, model__kernel=rbf, model__gamma=0.81, model__C=5 \n",
      "[CV]  onehot__transformers=[('num', SimpleImputer(strategy='median'), [7]), ('cat', OneHotEncoder(drop='first'), [11, 0, 12, 2, 1, 8, 9])], model__probability=True, model__kernel=rbf, model__gamma=0.81, model__C=5, total=   0.3s\n",
      "[CV] onehot__transformers=[('num', SimpleImputer(strategy='median'), [7]), ('cat', OneHotEncoder(drop='first'), [11, 0, 12, 2, 1, 8, 9])], model__probability=True, model__kernel=rbf, model__gamma=0.81, model__C=5 \n",
      "[CV]  onehot__transformers=[('num', SimpleImputer(strategy='median'), [7]), ('cat', OneHotEncoder(drop='first'), [11, 0, 12, 2, 1, 8, 9])], model__probability=True, model__kernel=rbf, model__gamma=0.81, model__C=5, total=   0.3s\n",
      "[CV] onehot__transformers=[('num', SimpleImputer(strategy='median'), [7]), ('cat', OneHotEncoder(drop='first'), [11, 0, 12, 2, 1, 8, 9])], model__probability=True, model__kernel=rbf, model__gamma=0.81, model__C=5 \n",
      "[CV]  onehot__transformers=[('num', SimpleImputer(strategy='median'), [7]), ('cat', OneHotEncoder(drop='first'), [11, 0, 12, 2, 1, 8, 9])], model__probability=True, model__kernel=rbf, model__gamma=0.81, model__C=5, total=   0.3s\n",
      "[CV] onehot__transformers=[('num', SimpleImputer(strategy='median'), [7]), ('cat', OneHotEncoder(drop='first'), [11, 0, 12, 2, 1, 8, 9])], model__probability=True, model__kernel=rbf, model__gamma=0.81, model__C=5 \n",
      "[CV]  onehot__transformers=[('num', SimpleImputer(strategy='median'), [7]), ('cat', OneHotEncoder(drop='first'), [11, 0, 12, 2, 1, 8, 9])], model__probability=True, model__kernel=rbf, model__gamma=0.81, model__C=5, total=   0.3s\n",
      "[CV] onehot__transformers=[('num', SimpleImputer(strategy='median'), [7]), ('cat', OneHotEncoder(drop='first'), [11, 0, 12, 2, 1, 8, 9])], model__probability=True, model__kernel=rbf, model__gamma=0.81, model__C=5 \n",
      "[CV]  onehot__transformers=[('num', SimpleImputer(strategy='median'), [7]), ('cat', OneHotEncoder(drop='first'), [11, 0, 12, 2, 1, 8, 9])], model__probability=True, model__kernel=rbf, model__gamma=0.81, model__C=5, total=   0.3s\n",
      "[CV] onehot__transformers=[('num', SimpleImputer(strategy='median'), [7]), ('cat', OneHotEncoder(drop='first'), [11, 0, 12, 2, 1, 8, 9])], model__probability=True, model__kernel=rbf, model__gamma=0.81, model__C=5 \n",
      "[CV]  onehot__transformers=[('num', SimpleImputer(strategy='median'), [7]), ('cat', OneHotEncoder(drop='first'), [11, 0, 12, 2, 1, 8, 9])], model__probability=True, model__kernel=rbf, model__gamma=0.81, model__C=5, total=   0.3s\n",
      "[CV] onehot__transformers=[('num', SimpleImputer(strategy='median'), [7]), ('cat', OneHotEncoder(drop='first'), [11, 0, 12, 2, 1, 8, 9])], model__probability=True, model__kernel=rbf, model__gamma=0.81, model__C=5 \n"
     ]
    },
    {
     "name": "stdout",
     "output_type": "stream",
     "text": [
      "[CV]  onehot__transformers=[('num', SimpleImputer(strategy='median'), [7]), ('cat', OneHotEncoder(drop='first'), [11, 0, 12, 2, 1, 8, 9])], model__probability=True, model__kernel=rbf, model__gamma=0.81, model__C=5, total=   0.3s\n",
      "[CV] onehot__transformers=[('num', SimpleImputer(strategy='median'), [7]), ('cat', OneHotEncoder(drop='first'), [11, 0, 12, 2, 1, 8, 9])], model__probability=True, model__kernel=rbf, model__gamma=0.81, model__C=5 \n",
      "[CV]  onehot__transformers=[('num', SimpleImputer(strategy='median'), [7]), ('cat', OneHotEncoder(drop='first'), [11, 0, 12, 2, 1, 8, 9])], model__probability=True, model__kernel=rbf, model__gamma=0.81, model__C=5, total=   0.3s\n",
      "[CV] onehot__transformers=[('num', SimpleImputer(strategy='median'), [7]), ('cat', OneHotEncoder(drop='first'), [11, 0, 12, 2, 1, 8, 9])], model__probability=True, model__kernel=rbf, model__gamma=0.81, model__C=5 \n",
      "[CV]  onehot__transformers=[('num', SimpleImputer(strategy='median'), [7]), ('cat', OneHotEncoder(drop='first'), [11, 0, 12, 2, 1, 8, 9])], model__probability=True, model__kernel=rbf, model__gamma=0.81, model__C=5, total=   0.3s\n",
      "[CV] onehot__transformers=[('num', SimpleImputer(strategy='median'), [7]), ('cat', OneHotEncoder(drop='first'), [11, 0, 12, 2, 1, 8, 9])], model__probability=True, model__kernel=rbf, model__gamma=0.81, model__C=5 \n",
      "[CV]  onehot__transformers=[('num', SimpleImputer(strategy='median'), [7]), ('cat', OneHotEncoder(drop='first'), [11, 0, 12, 2, 1, 8, 9])], model__probability=True, model__kernel=rbf, model__gamma=0.81, model__C=5, total=   0.3s\n",
      "[CV] onehot__transformers=[('num', SimpleImputer(strategy='median'), [7]), ('cat', OneHotEncoder(drop='first'), [11, 0, 12, 2, 1, 8, 9])], model__probability=True, model__kernel=rbf, model__gamma=0.81, model__C=5 \n",
      "[CV]  onehot__transformers=[('num', SimpleImputer(strategy='median'), [7]), ('cat', OneHotEncoder(drop='first'), [11, 0, 12, 2, 1, 8, 9])], model__probability=True, model__kernel=rbf, model__gamma=0.81, model__C=5, total=   0.3s\n",
      "[CV] onehot__transformers=[('num', SimpleImputer(strategy='median'), [7]), ('cat', OneHotEncoder(drop='first'), [11, 0, 12, 2, 1, 8, 9])], model__probability=True, model__kernel=rbf, model__gamma=0.81, model__C=5 \n",
      "[CV]  onehot__transformers=[('num', SimpleImputer(strategy='median'), [7]), ('cat', OneHotEncoder(drop='first'), [11, 0, 12, 2, 1, 8, 9])], model__probability=True, model__kernel=rbf, model__gamma=0.81, model__C=5, total=   0.3s\n",
      "[CV] onehot__transformers=[('num', SimpleImputer(strategy='median'), [7]), ('cat', OneHotEncoder(drop='first'), [11, 0, 12, 2, 1, 8])], model__probability=True, model__kernel=rbf, model__gamma=0.65, model__C=0.01 \n",
      "[CV]  onehot__transformers=[('num', SimpleImputer(strategy='median'), [7]), ('cat', OneHotEncoder(drop='first'), [11, 0, 12, 2, 1, 8])], model__probability=True, model__kernel=rbf, model__gamma=0.65, model__C=0.01, total=   0.3s\n",
      "[CV] onehot__transformers=[('num', SimpleImputer(strategy='median'), [7]), ('cat', OneHotEncoder(drop='first'), [11, 0, 12, 2, 1, 8])], model__probability=True, model__kernel=rbf, model__gamma=0.65, model__C=0.01 \n",
      "[CV]  onehot__transformers=[('num', SimpleImputer(strategy='median'), [7]), ('cat', OneHotEncoder(drop='first'), [11, 0, 12, 2, 1, 8])], model__probability=True, model__kernel=rbf, model__gamma=0.65, model__C=0.01, total=   0.3s\n",
      "[CV] onehot__transformers=[('num', SimpleImputer(strategy='median'), [7]), ('cat', OneHotEncoder(drop='first'), [11, 0, 12, 2, 1, 8])], model__probability=True, model__kernel=rbf, model__gamma=0.65, model__C=0.01 \n",
      "[CV]  onehot__transformers=[('num', SimpleImputer(strategy='median'), [7]), ('cat', OneHotEncoder(drop='first'), [11, 0, 12, 2, 1, 8])], model__probability=True, model__kernel=rbf, model__gamma=0.65, model__C=0.01, total=   0.3s\n",
      "[CV] onehot__transformers=[('num', SimpleImputer(strategy='median'), [7]), ('cat', OneHotEncoder(drop='first'), [11, 0, 12, 2, 1, 8])], model__probability=True, model__kernel=rbf, model__gamma=0.65, model__C=0.01 \n",
      "[CV]  onehot__transformers=[('num', SimpleImputer(strategy='median'), [7]), ('cat', OneHotEncoder(drop='first'), [11, 0, 12, 2, 1, 8])], model__probability=True, model__kernel=rbf, model__gamma=0.65, model__C=0.01, total=   0.3s\n",
      "[CV] onehot__transformers=[('num', SimpleImputer(strategy='median'), [7]), ('cat', OneHotEncoder(drop='first'), [11, 0, 12, 2, 1, 8])], model__probability=True, model__kernel=rbf, model__gamma=0.65, model__C=0.01 \n",
      "[CV]  onehot__transformers=[('num', SimpleImputer(strategy='median'), [7]), ('cat', OneHotEncoder(drop='first'), [11, 0, 12, 2, 1, 8])], model__probability=True, model__kernel=rbf, model__gamma=0.65, model__C=0.01, total=   0.3s\n",
      "[CV] onehot__transformers=[('num', SimpleImputer(strategy='median'), [7]), ('cat', OneHotEncoder(drop='first'), [11, 0, 12, 2, 1, 8])], model__probability=True, model__kernel=rbf, model__gamma=0.65, model__C=0.01 \n",
      "[CV]  onehot__transformers=[('num', SimpleImputer(strategy='median'), [7]), ('cat', OneHotEncoder(drop='first'), [11, 0, 12, 2, 1, 8])], model__probability=True, model__kernel=rbf, model__gamma=0.65, model__C=0.01, total=   0.3s\n",
      "[CV] onehot__transformers=[('num', SimpleImputer(strategy='median'), [7]), ('cat', OneHotEncoder(drop='first'), [11, 0, 12, 2, 1, 8])], model__probability=True, model__kernel=rbf, model__gamma=0.65, model__C=0.01 \n",
      "[CV]  onehot__transformers=[('num', SimpleImputer(strategy='median'), [7]), ('cat', OneHotEncoder(drop='first'), [11, 0, 12, 2, 1, 8])], model__probability=True, model__kernel=rbf, model__gamma=0.65, model__C=0.01, total=   0.3s\n",
      "[CV] onehot__transformers=[('num', SimpleImputer(strategy='median'), [7]), ('cat', OneHotEncoder(drop='first'), [11, 0, 12, 2, 1, 8])], model__probability=True, model__kernel=rbf, model__gamma=0.65, model__C=0.01 \n",
      "[CV]  onehot__transformers=[('num', SimpleImputer(strategy='median'), [7]), ('cat', OneHotEncoder(drop='first'), [11, 0, 12, 2, 1, 8])], model__probability=True, model__kernel=rbf, model__gamma=0.65, model__C=0.01, total=   0.3s\n",
      "[CV] onehot__transformers=[('num', SimpleImputer(strategy='median'), [7]), ('cat', OneHotEncoder(drop='first'), [11, 0, 12, 2, 1, 8])], model__probability=True, model__kernel=rbf, model__gamma=0.65, model__C=0.01 \n",
      "[CV]  onehot__transformers=[('num', SimpleImputer(strategy='median'), [7]), ('cat', OneHotEncoder(drop='first'), [11, 0, 12, 2, 1, 8])], model__probability=True, model__kernel=rbf, model__gamma=0.65, model__C=0.01, total=   0.3s\n",
      "[CV] onehot__transformers=[('num', SimpleImputer(strategy='median'), [7]), ('cat', OneHotEncoder(drop='first'), [11, 0, 12, 2, 1, 8])], model__probability=True, model__kernel=rbf, model__gamma=0.65, model__C=0.01 \n",
      "[CV]  onehot__transformers=[('num', SimpleImputer(strategy='median'), [7]), ('cat', OneHotEncoder(drop='first'), [11, 0, 12, 2, 1, 8])], model__probability=True, model__kernel=rbf, model__gamma=0.65, model__C=0.01, total=   0.3s\n",
      "[CV] onehot__transformers=[('num', SimpleImputer(strategy='median'), [7]), ('cat', OneHotEncoder(drop='first'), [11, 0, 12, 2, 1, 8])], model__probability=True, model__kernel=rbf, model__gamma=0.65, model__C=0.01 \n",
      "[CV]  onehot__transformers=[('num', SimpleImputer(strategy='median'), [7]), ('cat', OneHotEncoder(drop='first'), [11, 0, 12, 2, 1, 8])], model__probability=True, model__kernel=rbf, model__gamma=0.65, model__C=0.01, total=   0.3s\n",
      "[CV] onehot__transformers=[('num', SimpleImputer(strategy='median'), [7]), ('cat', OneHotEncoder(drop='first'), [11, 0, 12, 2, 1, 8])], model__probability=True, model__kernel=rbf, model__gamma=0.65, model__C=0.01 \n",
      "[CV]  onehot__transformers=[('num', SimpleImputer(strategy='median'), [7]), ('cat', OneHotEncoder(drop='first'), [11, 0, 12, 2, 1, 8])], model__probability=True, model__kernel=rbf, model__gamma=0.65, model__C=0.01, total=   0.3s\n",
      "[CV] onehot__transformers=[('num', SimpleImputer(strategy='median'), [7]), ('cat', OneHotEncoder(drop='first'), [11, 0, 12, 2, 1, 8])], model__probability=True, model__kernel=rbf, model__gamma=0.65, model__C=0.01 \n",
      "[CV]  onehot__transformers=[('num', SimpleImputer(strategy='median'), [7]), ('cat', OneHotEncoder(drop='first'), [11, 0, 12, 2, 1, 8])], model__probability=True, model__kernel=rbf, model__gamma=0.65, model__C=0.01, total=   0.3s\n",
      "[CV] onehot__transformers=[('num', SimpleImputer(strategy='median'), [7]), ('cat', OneHotEncoder(drop='first'), [11, 0, 12, 2, 1, 8])], model__probability=True, model__kernel=rbf, model__gamma=0.65, model__C=0.01 \n"
     ]
    },
    {
     "name": "stdout",
     "output_type": "stream",
     "text": [
      "[CV]  onehot__transformers=[('num', SimpleImputer(strategy='median'), [7]), ('cat', OneHotEncoder(drop='first'), [11, 0, 12, 2, 1, 8])], model__probability=True, model__kernel=rbf, model__gamma=0.65, model__C=0.01, total=   0.3s\n",
      "[CV] onehot__transformers=[('num', SimpleImputer(strategy='median'), [7]), ('cat', OneHotEncoder(drop='first'), [11, 0, 12, 2, 1, 8])], model__probability=True, model__kernel=rbf, model__gamma=0.65, model__C=0.01 \n",
      "[CV]  onehot__transformers=[('num', SimpleImputer(strategy='median'), [7]), ('cat', OneHotEncoder(drop='first'), [11, 0, 12, 2, 1, 8])], model__probability=True, model__kernel=rbf, model__gamma=0.65, model__C=0.01, total=   0.3s\n",
      "[CV] onehot__transformers=[('num', SimpleImputer(strategy='median'), [7]), ('cat', OneHotEncoder(drop='first'), [11, 0, 12, 2, 1, 8])], model__probability=True, model__kernel=rbf, model__gamma=0.65, model__C=0.01 \n",
      "[CV]  onehot__transformers=[('num', SimpleImputer(strategy='median'), [7]), ('cat', OneHotEncoder(drop='first'), [11, 0, 12, 2, 1, 8])], model__probability=True, model__kernel=rbf, model__gamma=0.65, model__C=0.01, total=   0.3s\n",
      "[CV] onehot__transformers=[('num', SimpleImputer(strategy='median'), [7]), ('cat', OneHotEncoder(drop='first'), [11, 0, 12, 2, 1, 8])], model__probability=True, model__kernel=rbf, model__gamma=0.65, model__C=0.01 \n",
      "[CV]  onehot__transformers=[('num', SimpleImputer(strategy='median'), [7]), ('cat', OneHotEncoder(drop='first'), [11, 0, 12, 2, 1, 8])], model__probability=True, model__kernel=rbf, model__gamma=0.65, model__C=0.01, total=   0.3s\n",
      "[CV] onehot__transformers=[('num', SimpleImputer(strategy='median'), [7]), ('cat', OneHotEncoder(drop='first'), [11, 0, 12, 2, 1, 8])], model__probability=True, model__kernel=rbf, model__gamma=0.65, model__C=0.01 \n",
      "[CV]  onehot__transformers=[('num', SimpleImputer(strategy='median'), [7]), ('cat', OneHotEncoder(drop='first'), [11, 0, 12, 2, 1, 8])], model__probability=True, model__kernel=rbf, model__gamma=0.65, model__C=0.01, total=   0.3s\n",
      "[CV] onehot__transformers=[('num', SimpleImputer(strategy='median'), [7]), ('cat', OneHotEncoder(drop='first'), [11, 0, 12, 2, 1, 8])], model__probability=True, model__kernel=rbf, model__gamma=0.65, model__C=0.01 \n",
      "[CV]  onehot__transformers=[('num', SimpleImputer(strategy='median'), [7]), ('cat', OneHotEncoder(drop='first'), [11, 0, 12, 2, 1, 8])], model__probability=True, model__kernel=rbf, model__gamma=0.65, model__C=0.01, total=   0.3s\n",
      "[CV] onehot__transformers=[('num', SimpleImputer(strategy='median'), [7]), ('cat', OneHotEncoder(drop='first'), [11, 0, 12, 2, 1, 8])], model__probability=True, model__kernel=rbf, model__gamma=0.65, model__C=0.01 \n",
      "[CV]  onehot__transformers=[('num', SimpleImputer(strategy='median'), [7]), ('cat', OneHotEncoder(drop='first'), [11, 0, 12, 2, 1, 8])], model__probability=True, model__kernel=rbf, model__gamma=0.65, model__C=0.01, total=   0.3s\n",
      "[CV] onehot__transformers=[('num', SimpleImputer(strategy='median'), [7]), ('cat', OneHotEncoder(drop='first'), [11, 0, 12, 2])], model__probability=True, model__kernel=rbf, model__gamma=0.34, model__C=1 \n",
      "[CV]  onehot__transformers=[('num', SimpleImputer(strategy='median'), [7]), ('cat', OneHotEncoder(drop='first'), [11, 0, 12, 2])], model__probability=True, model__kernel=rbf, model__gamma=0.34, model__C=1, total=   0.3s\n",
      "[CV] onehot__transformers=[('num', SimpleImputer(strategy='median'), [7]), ('cat', OneHotEncoder(drop='first'), [11, 0, 12, 2])], model__probability=True, model__kernel=rbf, model__gamma=0.34, model__C=1 \n",
      "[CV]  onehot__transformers=[('num', SimpleImputer(strategy='median'), [7]), ('cat', OneHotEncoder(drop='first'), [11, 0, 12, 2])], model__probability=True, model__kernel=rbf, model__gamma=0.34, model__C=1, total=   0.3s\n",
      "[CV] onehot__transformers=[('num', SimpleImputer(strategy='median'), [7]), ('cat', OneHotEncoder(drop='first'), [11, 0, 12, 2])], model__probability=True, model__kernel=rbf, model__gamma=0.34, model__C=1 \n",
      "[CV]  onehot__transformers=[('num', SimpleImputer(strategy='median'), [7]), ('cat', OneHotEncoder(drop='first'), [11, 0, 12, 2])], model__probability=True, model__kernel=rbf, model__gamma=0.34, model__C=1, total=   0.3s\n",
      "[CV] onehot__transformers=[('num', SimpleImputer(strategy='median'), [7]), ('cat', OneHotEncoder(drop='first'), [11, 0, 12, 2])], model__probability=True, model__kernel=rbf, model__gamma=0.34, model__C=1 \n",
      "[CV]  onehot__transformers=[('num', SimpleImputer(strategy='median'), [7]), ('cat', OneHotEncoder(drop='first'), [11, 0, 12, 2])], model__probability=True, model__kernel=rbf, model__gamma=0.34, model__C=1, total=   0.3s\n",
      "[CV] onehot__transformers=[('num', SimpleImputer(strategy='median'), [7]), ('cat', OneHotEncoder(drop='first'), [11, 0, 12, 2])], model__probability=True, model__kernel=rbf, model__gamma=0.34, model__C=1 \n",
      "[CV]  onehot__transformers=[('num', SimpleImputer(strategy='median'), [7]), ('cat', OneHotEncoder(drop='first'), [11, 0, 12, 2])], model__probability=True, model__kernel=rbf, model__gamma=0.34, model__C=1, total=   0.3s\n",
      "[CV] onehot__transformers=[('num', SimpleImputer(strategy='median'), [7]), ('cat', OneHotEncoder(drop='first'), [11, 0, 12, 2])], model__probability=True, model__kernel=rbf, model__gamma=0.34, model__C=1 \n",
      "[CV]  onehot__transformers=[('num', SimpleImputer(strategy='median'), [7]), ('cat', OneHotEncoder(drop='first'), [11, 0, 12, 2])], model__probability=True, model__kernel=rbf, model__gamma=0.34, model__C=1, total=   0.3s\n",
      "[CV] onehot__transformers=[('num', SimpleImputer(strategy='median'), [7]), ('cat', OneHotEncoder(drop='first'), [11, 0, 12, 2])], model__probability=True, model__kernel=rbf, model__gamma=0.34, model__C=1 \n",
      "[CV]  onehot__transformers=[('num', SimpleImputer(strategy='median'), [7]), ('cat', OneHotEncoder(drop='first'), [11, 0, 12, 2])], model__probability=True, model__kernel=rbf, model__gamma=0.34, model__C=1, total=   0.3s\n",
      "[CV] onehot__transformers=[('num', SimpleImputer(strategy='median'), [7]), ('cat', OneHotEncoder(drop='first'), [11, 0, 12, 2])], model__probability=True, model__kernel=rbf, model__gamma=0.34, model__C=1 \n",
      "[CV]  onehot__transformers=[('num', SimpleImputer(strategy='median'), [7]), ('cat', OneHotEncoder(drop='first'), [11, 0, 12, 2])], model__probability=True, model__kernel=rbf, model__gamma=0.34, model__C=1, total=   0.3s\n",
      "[CV] onehot__transformers=[('num', SimpleImputer(strategy='median'), [7]), ('cat', OneHotEncoder(drop='first'), [11, 0, 12, 2])], model__probability=True, model__kernel=rbf, model__gamma=0.34, model__C=1 \n",
      "[CV]  onehot__transformers=[('num', SimpleImputer(strategy='median'), [7]), ('cat', OneHotEncoder(drop='first'), [11, 0, 12, 2])], model__probability=True, model__kernel=rbf, model__gamma=0.34, model__C=1, total=   0.3s\n",
      "[CV] onehot__transformers=[('num', SimpleImputer(strategy='median'), [7]), ('cat', OneHotEncoder(drop='first'), [11, 0, 12, 2])], model__probability=True, model__kernel=rbf, model__gamma=0.34, model__C=1 \n",
      "[CV]  onehot__transformers=[('num', SimpleImputer(strategy='median'), [7]), ('cat', OneHotEncoder(drop='first'), [11, 0, 12, 2])], model__probability=True, model__kernel=rbf, model__gamma=0.34, model__C=1, total=   0.3s\n",
      "[CV] onehot__transformers=[('num', SimpleImputer(strategy='median'), [7]), ('cat', OneHotEncoder(drop='first'), [11, 0, 12, 2])], model__probability=True, model__kernel=rbf, model__gamma=0.34, model__C=1 \n",
      "[CV]  onehot__transformers=[('num', SimpleImputer(strategy='median'), [7]), ('cat', OneHotEncoder(drop='first'), [11, 0, 12, 2])], model__probability=True, model__kernel=rbf, model__gamma=0.34, model__C=1, total=   0.3s\n",
      "[CV] onehot__transformers=[('num', SimpleImputer(strategy='median'), [7]), ('cat', OneHotEncoder(drop='first'), [11, 0, 12, 2])], model__probability=True, model__kernel=rbf, model__gamma=0.34, model__C=1 \n",
      "[CV]  onehot__transformers=[('num', SimpleImputer(strategy='median'), [7]), ('cat', OneHotEncoder(drop='first'), [11, 0, 12, 2])], model__probability=True, model__kernel=rbf, model__gamma=0.34, model__C=1, total=   0.3s\n",
      "[CV] onehot__transformers=[('num', SimpleImputer(strategy='median'), [7]), ('cat', OneHotEncoder(drop='first'), [11, 0, 12, 2])], model__probability=True, model__kernel=rbf, model__gamma=0.34, model__C=1 \n",
      "[CV]  onehot__transformers=[('num', SimpleImputer(strategy='median'), [7]), ('cat', OneHotEncoder(drop='first'), [11, 0, 12, 2])], model__probability=True, model__kernel=rbf, model__gamma=0.34, model__C=1, total=   0.3s\n",
      "[CV] onehot__transformers=[('num', SimpleImputer(strategy='median'), [7]), ('cat', OneHotEncoder(drop='first'), [11, 0, 12, 2])], model__probability=True, model__kernel=rbf, model__gamma=0.34, model__C=1 \n"
     ]
    },
    {
     "name": "stdout",
     "output_type": "stream",
     "text": [
      "[CV]  onehot__transformers=[('num', SimpleImputer(strategy='median'), [7]), ('cat', OneHotEncoder(drop='first'), [11, 0, 12, 2])], model__probability=True, model__kernel=rbf, model__gamma=0.34, model__C=1, total=   0.3s\n",
      "[CV] onehot__transformers=[('num', SimpleImputer(strategy='median'), [7]), ('cat', OneHotEncoder(drop='first'), [11, 0, 12, 2])], model__probability=True, model__kernel=rbf, model__gamma=0.34, model__C=1 \n",
      "[CV]  onehot__transformers=[('num', SimpleImputer(strategy='median'), [7]), ('cat', OneHotEncoder(drop='first'), [11, 0, 12, 2])], model__probability=True, model__kernel=rbf, model__gamma=0.34, model__C=1, total=   0.3s\n",
      "[CV] onehot__transformers=[('num', SimpleImputer(strategy='median'), [7]), ('cat', OneHotEncoder(drop='first'), [11, 0, 12, 2])], model__probability=True, model__kernel=rbf, model__gamma=0.34, model__C=1 \n",
      "[CV]  onehot__transformers=[('num', SimpleImputer(strategy='median'), [7]), ('cat', OneHotEncoder(drop='first'), [11, 0, 12, 2])], model__probability=True, model__kernel=rbf, model__gamma=0.34, model__C=1, total=   0.3s\n",
      "[CV] onehot__transformers=[('num', SimpleImputer(strategy='median'), [7]), ('cat', OneHotEncoder(drop='first'), [11, 0, 12, 2])], model__probability=True, model__kernel=rbf, model__gamma=0.34, model__C=1 \n",
      "[CV]  onehot__transformers=[('num', SimpleImputer(strategy='median'), [7]), ('cat', OneHotEncoder(drop='first'), [11, 0, 12, 2])], model__probability=True, model__kernel=rbf, model__gamma=0.34, model__C=1, total=   0.3s\n",
      "[CV] onehot__transformers=[('num', SimpleImputer(strategy='median'), [7]), ('cat', OneHotEncoder(drop='first'), [11, 0, 12, 2])], model__probability=True, model__kernel=rbf, model__gamma=0.34, model__C=1 \n",
      "[CV]  onehot__transformers=[('num', SimpleImputer(strategy='median'), [7]), ('cat', OneHotEncoder(drop='first'), [11, 0, 12, 2])], model__probability=True, model__kernel=rbf, model__gamma=0.34, model__C=1, total=   0.3s\n",
      "[CV] onehot__transformers=[('num', SimpleImputer(strategy='median'), [7]), ('cat', OneHotEncoder(drop='first'), [11, 0, 12, 2])], model__probability=True, model__kernel=rbf, model__gamma=0.34, model__C=1 \n",
      "[CV]  onehot__transformers=[('num', SimpleImputer(strategy='median'), [7]), ('cat', OneHotEncoder(drop='first'), [11, 0, 12, 2])], model__probability=True, model__kernel=rbf, model__gamma=0.34, model__C=1, total=   0.3s\n",
      "[CV] onehot__transformers=[('num', SimpleImputer(strategy='median'), [7]), ('cat', OneHotEncoder(drop='first'), [11, 0, 12, 2])], model__probability=True, model__kernel=rbf, model__gamma=0.34, model__C=1 \n",
      "[CV]  onehot__transformers=[('num', SimpleImputer(strategy='median'), [7]), ('cat', OneHotEncoder(drop='first'), [11, 0, 12, 2])], model__probability=True, model__kernel=rbf, model__gamma=0.34, model__C=1, total=   0.3s\n"
     ]
    },
    {
     "name": "stderr",
     "output_type": "stream",
     "text": [
      "[Parallel(n_jobs=1)]: Done 200 out of 200 | elapsed:   54.3s finished\n"
     ]
    },
    {
     "data": {
      "text/plain": [
       "RandomizedSearchCV(cv=RepeatedStratifiedKFold(n_repeats=2, n_splits=10, random_state=42),\n",
       "                   estimator=Pipeline(steps=[('initial',\n",
       "                                              Pipeline(steps=[('price_cat',\n",
       "                                                               PriceCatGetter()),\n",
       "                                                              ('age_imputor',\n",
       "                                                               AgeImputor()),\n",
       "                                                              ('add_family',\n",
       "                                                               AddFamily()),\n",
       "                                                              ('age_cat',\n",
       "                                                               AgeCat()),\n",
       "                                                              ('imputor',\n",
       "                                                               SimpleImputer(strategy='most_frequent')),\n",
       "                                                              ('rounding',\n",
       "                                                               AttributesRounding()),\n",
       "                                                              ('name',\n",
       "                                                               NameTran...\n",
       "                                                                    [1, 8, 0,\n",
       "                                                                     12, 11, 9,\n",
       "                                                                     2, 10])],\n",
       "                                                                  [('num',\n",
       "                                                                    SimpleImputer(strategy='median'),\n",
       "                                                                    [7]),\n",
       "                                                                   ('cat',\n",
       "                                                                    OneHotEncoder(drop='first'),\n",
       "                                                                    [11, 0, 12,\n",
       "                                                                     2])],\n",
       "                                                                  [('num',\n",
       "                                                                    SimpleImputer(strategy='median'),\n",
       "                                                                    [7]),\n",
       "                                                                   ('cat',\n",
       "                                                                    OneHotEncoder(drop='first'),\n",
       "                                                                    [11, 0, 12,\n",
       "                                                                     2, 1,\n",
       "                                                                     8])],\n",
       "                                                                  [('num',\n",
       "                                                                    SimpleImputer(strategy='median'),\n",
       "                                                                    [7]),\n",
       "                                                                   ('cat',\n",
       "                                                                    OneHotEncoder(drop='first'),\n",
       "                                                                    [11, 0, 12,\n",
       "                                                                     2, 1, 8,\n",
       "                                                                     9])]]}],\n",
       "                   scoring='accuracy', verbose=2)"
      ]
     },
     "execution_count": 71,
     "metadata": {},
     "output_type": "execute_result"
    }
   ],
   "source": [
    "search_svc.fit(train.values, y)"
   ]
  },
  {
   "cell_type": "code",
   "execution_count": 72,
   "metadata": {},
   "outputs": [
    {
     "data": {
      "text/html": [
       "<div>\n",
       "<style scoped>\n",
       "    .dataframe tbody tr th:only-of-type {\n",
       "        vertical-align: middle;\n",
       "    }\n",
       "\n",
       "    .dataframe tbody tr th {\n",
       "        vertical-align: top;\n",
       "    }\n",
       "\n",
       "    .dataframe thead th {\n",
       "        text-align: right;\n",
       "    }\n",
       "</style>\n",
       "<table border=\"1\" class=\"dataframe\">\n",
       "  <thead>\n",
       "    <tr style=\"text-align: right;\">\n",
       "      <th></th>\n",
       "      <th>onehot__transformers</th>\n",
       "      <th>model__probability</th>\n",
       "      <th>model__kernel</th>\n",
       "      <th>model__gamma</th>\n",
       "      <th>model__C</th>\n",
       "      <th>score</th>\n",
       "    </tr>\n",
       "  </thead>\n",
       "  <tbody>\n",
       "    <tr>\n",
       "      <th>3</th>\n",
       "      <td>[(num, SimpleImputer(strategy='median'), [7]),...</td>\n",
       "      <td>True</td>\n",
       "      <td>rbf</td>\n",
       "      <td>0.81</td>\n",
       "      <td>1.00</td>\n",
       "      <td>0.811454</td>\n",
       "    </tr>\n",
       "    <tr>\n",
       "      <th>0</th>\n",
       "      <td>[(num, SimpleImputer(strategy='median'), [7]),...</td>\n",
       "      <td>True</td>\n",
       "      <td>rbf</td>\n",
       "      <td>0.51</td>\n",
       "      <td>1.00</td>\n",
       "      <td>0.801935</td>\n",
       "    </tr>\n",
       "    <tr>\n",
       "      <th>7</th>\n",
       "      <td>[(num, SimpleImputer(strategy='median'), [7]),...</td>\n",
       "      <td>True</td>\n",
       "      <td>rbf</td>\n",
       "      <td>0.81</td>\n",
       "      <td>5.00</td>\n",
       "      <td>0.799132</td>\n",
       "    </tr>\n",
       "    <tr>\n",
       "      <th>4</th>\n",
       "      <td>[(num, SimpleImputer(strategy='median'), [7]),...</td>\n",
       "      <td>True</td>\n",
       "      <td>rbf</td>\n",
       "      <td>0.58</td>\n",
       "      <td>1.00</td>\n",
       "      <td>0.796336</td>\n",
       "    </tr>\n",
       "    <tr>\n",
       "      <th>9</th>\n",
       "      <td>[(num, SimpleImputer(strategy='median'), [7]),...</td>\n",
       "      <td>True</td>\n",
       "      <td>rbf</td>\n",
       "      <td>0.34</td>\n",
       "      <td>1.00</td>\n",
       "      <td>0.792940</td>\n",
       "    </tr>\n",
       "    <tr>\n",
       "      <th>2</th>\n",
       "      <td>[(num, SimpleImputer(strategy='median'), [7]),...</td>\n",
       "      <td>True</td>\n",
       "      <td>rbf</td>\n",
       "      <td>0.22</td>\n",
       "      <td>0.10</td>\n",
       "      <td>0.670599</td>\n",
       "    </tr>\n",
       "    <tr>\n",
       "      <th>5</th>\n",
       "      <td>[(num, SimpleImputer(strategy='median'), [7]),...</td>\n",
       "      <td>True</td>\n",
       "      <td>rbf</td>\n",
       "      <td>0.26</td>\n",
       "      <td>0.10</td>\n",
       "      <td>0.640287</td>\n",
       "    </tr>\n",
       "    <tr>\n",
       "      <th>1</th>\n",
       "      <td>[(num, SimpleImputer(strategy='median'), [7]),...</td>\n",
       "      <td>True</td>\n",
       "      <td>rbf</td>\n",
       "      <td>0.82</td>\n",
       "      <td>0.01</td>\n",
       "      <td>0.616167</td>\n",
       "    </tr>\n",
       "    <tr>\n",
       "      <th>6</th>\n",
       "      <td>[(num, SimpleImputer(strategy='median'), [7]),...</td>\n",
       "      <td>True</td>\n",
       "      <td>rbf</td>\n",
       "      <td>0.34</td>\n",
       "      <td>0.01</td>\n",
       "      <td>0.616167</td>\n",
       "    </tr>\n",
       "    <tr>\n",
       "      <th>8</th>\n",
       "      <td>[(num, SimpleImputer(strategy='median'), [7]),...</td>\n",
       "      <td>True</td>\n",
       "      <td>rbf</td>\n",
       "      <td>0.65</td>\n",
       "      <td>0.01</td>\n",
       "      <td>0.616167</td>\n",
       "    </tr>\n",
       "  </tbody>\n",
       "</table>\n",
       "</div>"
      ],
      "text/plain": [
       "                                onehot__transformers  model__probability  \\\n",
       "3  [(num, SimpleImputer(strategy='median'), [7]),...                True   \n",
       "0  [(num, SimpleImputer(strategy='median'), [7]),...                True   \n",
       "7  [(num, SimpleImputer(strategy='median'), [7]),...                True   \n",
       "4  [(num, SimpleImputer(strategy='median'), [7]),...                True   \n",
       "9  [(num, SimpleImputer(strategy='median'), [7]),...                True   \n",
       "2  [(num, SimpleImputer(strategy='median'), [7]),...                True   \n",
       "5  [(num, SimpleImputer(strategy='median'), [7]),...                True   \n",
       "1  [(num, SimpleImputer(strategy='median'), [7]),...                True   \n",
       "6  [(num, SimpleImputer(strategy='median'), [7]),...                True   \n",
       "8  [(num, SimpleImputer(strategy='median'), [7]),...                True   \n",
       "\n",
       "  model__kernel  model__gamma  model__C     score  \n",
       "3           rbf          0.81      1.00  0.811454  \n",
       "0           rbf          0.51      1.00  0.801935  \n",
       "7           rbf          0.81      5.00  0.799132  \n",
       "4           rbf          0.58      1.00  0.796336  \n",
       "9           rbf          0.34      1.00  0.792940  \n",
       "2           rbf          0.22      0.10  0.670599  \n",
       "5           rbf          0.26      0.10  0.640287  \n",
       "1           rbf          0.82      0.01  0.616167  \n",
       "6           rbf          0.34      0.01  0.616167  \n",
       "8           rbf          0.65      0.01  0.616167  "
      ]
     },
     "execution_count": 72,
     "metadata": {},
     "output_type": "execute_result"
    }
   ],
   "source": [
    "list_results(search_svc)"
   ]
  },
  {
   "cell_type": "code",
   "execution_count": 73,
   "metadata": {
    "scrolled": true
   },
   "outputs": [
    {
     "name": "stdout",
     "output_type": "stream",
     "text": [
      "0.1404494382022472\n",
      "0.16853932584269662\n",
      "0.19662921348314608\n",
      "0.2247191011235955\n",
      "0.25280898876404495\n",
      "0.2808988764044944\n",
      "0.3089887640449438\n",
      "0.33707865168539325\n",
      "0.3651685393258427\n",
      "0.39325842696629215\n",
      "0.42134831460674155\n",
      "0.449438202247191\n",
      "0.47752808988764045\n",
      "0.5056179775280899\n",
      "0.5337078651685393\n",
      "0.5617977528089888\n",
      "0.5898876404494382\n",
      "0.6179775280898876\n",
      "0.6460674157303371\n",
      "0.6741573033707865\n",
      "0.702247191011236\n",
      "0.7303370786516854\n",
      "0.7584269662921348\n",
      "0.7865168539325843\n",
      "0.8146067415730337\n",
      "0.8426966292134831\n",
      "0.8707865168539326\n",
      "0.898876404494382\n",
      "0.9269662921348315\n",
      "0.9550561797752809\n",
      "0.9831460674157303\n"
     ]
    },
    {
     "data": {
      "image/png": "[encoded data removed]",
      "text/plain": [
       "<Figure size 864x504 with 1 Axes>"
      ]
     },
     "metadata": {
      "needs_background": "light"
     },
     "output_type": "display_data"
    }
   ],
   "source": [
    "plot_learning_curve(search_svc.best_estimator_)"
   ]
  },
  {
   "cell_type": "code",
   "execution_count": 74,
   "metadata": {},
   "outputs": [],
   "source": [
    "pred_svc = search_svc.best_estimator_.predict(test_data.values)"
   ]
  },
  {
   "cell_type": "code",
   "execution_count": 75,
   "metadata": {},
   "outputs": [],
   "source": [
    "save_results(test_data, pred_svc, 'svc_2')"
   ]
  },
  {
   "cell_type": "markdown",
   "metadata": {},
   "source": [
    "# XGB"
   ]
  },
  {
   "cell_type": "code",
   "execution_count": 76,
   "metadata": {},
   "outputs": [],
   "source": [
    "from xgboost import XGBClassifier"
   ]
  },
  {
   "cell_type": "code",
   "execution_count": 77,
   "metadata": {},
   "outputs": [],
   "source": [
    "full_pipeline_xgb = Pipeline([\n",
    "    ('initial', initial_pipeline),\n",
    "    ('onehot', col_transformer),\n",
    "    ('model', XGBClassifier())\n",
    "])"
   ]
  },
  {
   "cell_type": "code",
   "execution_count": 78,
   "metadata": {},
   "outputs": [],
   "source": [
    "param_grid_xgb = {\n",
    "                'onehot__transformers': [[('num', SimpleImputer(strategy='median'), [fare_ix, age_ix, parch_ix, sibsp_ix]),\n",
    "                           ('cat', OneHotEncoder(drop='first'), [name_ix, cabin_ix, pclass_ix, age_cat_ix, family_ix, embarked_ix, sex_ix, cat_price_ix])],\n",
    "                          [('num', SimpleImputer(strategy='median'), [fare_ix]),\n",
    "                           ('cat', OneHotEncoder(drop='first'), [family_ix, pclass_ix, age_cat_ix, sex_ix])],\n",
    "                          [('num', SimpleImputer(strategy='median'), [fare_ix]),\n",
    "                           ('cat', OneHotEncoder(drop='first'), [family_ix, pclass_ix, age_cat_ix, sex_ix, name_ix, cabin_ix])],\n",
    "                          [('num', SimpleImputer(strategy='median'), [fare_ix]),\n",
    "                           ('cat', OneHotEncoder(drop='first'), [family_ix, pclass_ix, age_cat_ix, sex_ix, name_ix, cabin_ix, embarked_ix])]   \n",
    "                         ],\n",
    "                  'model__n_estimators':[400, 600],\n",
    "                  'model__learning_rate':[0.01, 0.03, 0.05],\n",
    "                  'model__max_depth':[3, 4],\n",
    "                  'model__subsample':[0.5, 0.7],\n",
    "                  'model__colsample_bylevel':[0.5, 0.7],\n",
    "                  'model__reg_lambda':[15, None],\n",
    "                 }"
   ]
  },
  {
   "cell_type": "code",
   "execution_count": 79,
   "metadata": {},
   "outputs": [],
   "source": [
    "search_xgb = RandomizedSearchCV(full_pipeline_xgb, param_grid_xgb, n_iter=10, \n",
    "                            cv=RepeatedStratifiedKFold(n_splits=10, n_repeats=2, random_state=42), \n",
    "                            refit=True, verbose=2, n_jobs=1, scoring='accuracy')"
   ]
  },
  {
   "cell_type": "code",
   "execution_count": 80,
   "metadata": {
    "scrolled": true
   },
   "outputs": [
    {
     "name": "stdout",
     "output_type": "stream",
     "text": [
      "Fitting 20 folds for each of 10 candidates, totalling 200 fits\n",
      "[CV] onehot__transformers=[('num', SimpleImputer(strategy='median'), [7, 3, 5, 4]), ('cat', OneHotEncoder(drop='first'), [1, 8, 0, 12, 11, 9, 2, 10])], model__subsample=0.7, model__reg_lambda=15, model__n_estimators=600, model__max_depth=3, model__learning_rate=0.01, model__colsample_bylevel=0.5 \n"
     ]
    },
    {
     "name": "stderr",
     "output_type": "stream",
     "text": [
      "[Parallel(n_jobs=1)]: Using backend SequentialBackend with 1 concurrent workers.\n"
     ]
    },
    {
     "name": "stdout",
     "output_type": "stream",
     "text": [
      "[CV]  onehot__transformers=[('num', SimpleImputer(strategy='median'), [7, 3, 5, 4]), ('cat', OneHotEncoder(drop='first'), [1, 8, 0, 12, 11, 9, 2, 10])], model__subsample=0.7, model__reg_lambda=15, model__n_estimators=600, model__max_depth=3, model__learning_rate=0.01, model__colsample_bylevel=0.5, total=   0.5s\n",
      "[CV] onehot__transformers=[('num', SimpleImputer(strategy='median'), [7, 3, 5, 4]), ('cat', OneHotEncoder(drop='first'), [1, 8, 0, 12, 11, 9, 2, 10])], model__subsample=0.7, model__reg_lambda=15, model__n_estimators=600, model__max_depth=3, model__learning_rate=0.01, model__colsample_bylevel=0.5 \n"
     ]
    },
    {
     "name": "stderr",
     "output_type": "stream",
     "text": [
      "[Parallel(n_jobs=1)]: Done   1 out of   1 | elapsed:    0.5s remaining:    0.0s\n"
     ]
    },
    {
     "name": "stdout",
     "output_type": "stream",
     "text": [
      "[CV]  onehot__transformers=[('num', SimpleImputer(strategy='median'), [7, 3, 5, 4]), ('cat', OneHotEncoder(drop='first'), [1, 8, 0, 12, 11, 9, 2, 10])], model__subsample=0.7, model__reg_lambda=15, model__n_estimators=600, model__max_depth=3, model__learning_rate=0.01, model__colsample_bylevel=0.5, total=   0.4s\n",
      "[CV] onehot__transformers=[('num', SimpleImputer(strategy='median'), [7, 3, 5, 4]), ('cat', OneHotEncoder(drop='first'), [1, 8, 0, 12, 11, 9, 2, 10])], model__subsample=0.7, model__reg_lambda=15, model__n_estimators=600, model__max_depth=3, model__learning_rate=0.01, model__colsample_bylevel=0.5 \n",
      "[CV]  onehot__transformers=[('num', SimpleImputer(strategy='median'), [7, 3, 5, 4]), ('cat', OneHotEncoder(drop='first'), [1, 8, 0, 12, 11, 9, 2, 10])], model__subsample=0.7, model__reg_lambda=15, model__n_estimators=600, model__max_depth=3, model__learning_rate=0.01, model__colsample_bylevel=0.5, total=   0.4s\n",
      "[CV] onehot__transformers=[('num', SimpleImputer(strategy='median'), [7, 3, 5, 4]), ('cat', OneHotEncoder(drop='first'), [1, 8, 0, 12, 11, 9, 2, 10])], model__subsample=0.7, model__reg_lambda=15, model__n_estimators=600, model__max_depth=3, model__learning_rate=0.01, model__colsample_bylevel=0.5 \n",
      "[CV]  onehot__transformers=[('num', SimpleImputer(strategy='median'), [7, 3, 5, 4]), ('cat', OneHotEncoder(drop='first'), [1, 8, 0, 12, 11, 9, 2, 10])], model__subsample=0.7, model__reg_lambda=15, model__n_estimators=600, model__max_depth=3, model__learning_rate=0.01, model__colsample_bylevel=0.5, total=   0.5s\n",
      "[CV] onehot__transformers=[('num', SimpleImputer(strategy='median'), [7, 3, 5, 4]), ('cat', OneHotEncoder(drop='first'), [1, 8, 0, 12, 11, 9, 2, 10])], model__subsample=0.7, model__reg_lambda=15, model__n_estimators=600, model__max_depth=3, model__learning_rate=0.01, model__colsample_bylevel=0.5 \n",
      "[CV]  onehot__transformers=[('num', SimpleImputer(strategy='median'), [7, 3, 5, 4]), ('cat', OneHotEncoder(drop='first'), [1, 8, 0, 12, 11, 9, 2, 10])], model__subsample=0.7, model__reg_lambda=15, model__n_estimators=600, model__max_depth=3, model__learning_rate=0.01, model__colsample_bylevel=0.5, total=   0.4s\n",
      "[CV] onehot__transformers=[('num', SimpleImputer(strategy='median'), [7, 3, 5, 4]), ('cat', OneHotEncoder(drop='first'), [1, 8, 0, 12, 11, 9, 2, 10])], model__subsample=0.7, model__reg_lambda=15, model__n_estimators=600, model__max_depth=3, model__learning_rate=0.01, model__colsample_bylevel=0.5 \n",
      "[CV]  onehot__transformers=[('num', SimpleImputer(strategy='median'), [7, 3, 5, 4]), ('cat', OneHotEncoder(drop='first'), [1, 8, 0, 12, 11, 9, 2, 10])], model__subsample=0.7, model__reg_lambda=15, model__n_estimators=600, model__max_depth=3, model__learning_rate=0.01, model__colsample_bylevel=0.5, total=   0.4s\n",
      "[CV] onehot__transformers=[('num', SimpleImputer(strategy='median'), [7, 3, 5, 4]), ('cat', OneHotEncoder(drop='first'), [1, 8, 0, 12, 11, 9, 2, 10])], model__subsample=0.7, model__reg_lambda=15, model__n_estimators=600, model__max_depth=3, model__learning_rate=0.01, model__colsample_bylevel=0.5 \n",
      "[CV]  onehot__transformers=[('num', SimpleImputer(strategy='median'), [7, 3, 5, 4]), ('cat', OneHotEncoder(drop='first'), [1, 8, 0, 12, 11, 9, 2, 10])], model__subsample=0.7, model__reg_lambda=15, model__n_estimators=600, model__max_depth=3, model__learning_rate=0.01, model__colsample_bylevel=0.5, total=   0.4s\n",
      "[CV] onehot__transformers=[('num', SimpleImputer(strategy='median'), [7, 3, 5, 4]), ('cat', OneHotEncoder(drop='first'), [1, 8, 0, 12, 11, 9, 2, 10])], model__subsample=0.7, model__reg_lambda=15, model__n_estimators=600, model__max_depth=3, model__learning_rate=0.01, model__colsample_bylevel=0.5 \n",
      "[CV]  onehot__transformers=[('num', SimpleImputer(strategy='median'), [7, 3, 5, 4]), ('cat', OneHotEncoder(drop='first'), [1, 8, 0, 12, 11, 9, 2, 10])], model__subsample=0.7, model__reg_lambda=15, model__n_estimators=600, model__max_depth=3, model__learning_rate=0.01, model__colsample_bylevel=0.5, total=   0.4s\n",
      "[CV] onehot__transformers=[('num', SimpleImputer(strategy='median'), [7, 3, 5, 4]), ('cat', OneHotEncoder(drop='first'), [1, 8, 0, 12, 11, 9, 2, 10])], model__subsample=0.7, model__reg_lambda=15, model__n_estimators=600, model__max_depth=3, model__learning_rate=0.01, model__colsample_bylevel=0.5 \n",
      "[CV]  onehot__transformers=[('num', SimpleImputer(strategy='median'), [7, 3, 5, 4]), ('cat', OneHotEncoder(drop='first'), [1, 8, 0, 12, 11, 9, 2, 10])], model__subsample=0.7, model__reg_lambda=15, model__n_estimators=600, model__max_depth=3, model__learning_rate=0.01, model__colsample_bylevel=0.5, total=   0.4s\n",
      "[CV] onehot__transformers=[('num', SimpleImputer(strategy='median'), [7, 3, 5, 4]), ('cat', OneHotEncoder(drop='first'), [1, 8, 0, 12, 11, 9, 2, 10])], model__subsample=0.7, model__reg_lambda=15, model__n_estimators=600, model__max_depth=3, model__learning_rate=0.01, model__colsample_bylevel=0.5 \n",
      "[CV]  onehot__transformers=[('num', SimpleImputer(strategy='median'), [7, 3, 5, 4]), ('cat', OneHotEncoder(drop='first'), [1, 8, 0, 12, 11, 9, 2, 10])], model__subsample=0.7, model__reg_lambda=15, model__n_estimators=600, model__max_depth=3, model__learning_rate=0.01, model__colsample_bylevel=0.5, total=   0.4s\n",
      "[CV] onehot__transformers=[('num', SimpleImputer(strategy='median'), [7, 3, 5, 4]), ('cat', OneHotEncoder(drop='first'), [1, 8, 0, 12, 11, 9, 2, 10])], model__subsample=0.7, model__reg_lambda=15, model__n_estimators=600, model__max_depth=3, model__learning_rate=0.01, model__colsample_bylevel=0.5 \n",
      "[CV]  onehot__transformers=[('num', SimpleImputer(strategy='median'), [7, 3, 5, 4]), ('cat', OneHotEncoder(drop='first'), [1, 8, 0, 12, 11, 9, 2, 10])], model__subsample=0.7, model__reg_lambda=15, model__n_estimators=600, model__max_depth=3, model__learning_rate=0.01, model__colsample_bylevel=0.5, total=   0.4s\n",
      "[CV] onehot__transformers=[('num', SimpleImputer(strategy='median'), [7, 3, 5, 4]), ('cat', OneHotEncoder(drop='first'), [1, 8, 0, 12, 11, 9, 2, 10])], model__subsample=0.7, model__reg_lambda=15, model__n_estimators=600, model__max_depth=3, model__learning_rate=0.01, model__colsample_bylevel=0.5 \n",
      "[CV]  onehot__transformers=[('num', SimpleImputer(strategy='median'), [7, 3, 5, 4]), ('cat', OneHotEncoder(drop='first'), [1, 8, 0, 12, 11, 9, 2, 10])], model__subsample=0.7, model__reg_lambda=15, model__n_estimators=600, model__max_depth=3, model__learning_rate=0.01, model__colsample_bylevel=0.5, total=   0.4s\n",
      "[CV] onehot__transformers=[('num', SimpleImputer(strategy='median'), [7, 3, 5, 4]), ('cat', OneHotEncoder(drop='first'), [1, 8, 0, 12, 11, 9, 2, 10])], model__subsample=0.7, model__reg_lambda=15, model__n_estimators=600, model__max_depth=3, model__learning_rate=0.01, model__colsample_bylevel=0.5 \n",
      "[CV]  onehot__transformers=[('num', SimpleImputer(strategy='median'), [7, 3, 5, 4]), ('cat', OneHotEncoder(drop='first'), [1, 8, 0, 12, 11, 9, 2, 10])], model__subsample=0.7, model__reg_lambda=15, model__n_estimators=600, model__max_depth=3, model__learning_rate=0.01, model__colsample_bylevel=0.5, total=   0.4s\n",
      "[CV] onehot__transformers=[('num', SimpleImputer(strategy='median'), [7, 3, 5, 4]), ('cat', OneHotEncoder(drop='first'), [1, 8, 0, 12, 11, 9, 2, 10])], model__subsample=0.7, model__reg_lambda=15, model__n_estimators=600, model__max_depth=3, model__learning_rate=0.01, model__colsample_bylevel=0.5 \n",
      "[CV]  onehot__transformers=[('num', SimpleImputer(strategy='median'), [7, 3, 5, 4]), ('cat', OneHotEncoder(drop='first'), [1, 8, 0, 12, 11, 9, 2, 10])], model__subsample=0.7, model__reg_lambda=15, model__n_estimators=600, model__max_depth=3, model__learning_rate=0.01, model__colsample_bylevel=0.5, total=   0.4s\n",
      "[CV] onehot__transformers=[('num', SimpleImputer(strategy='median'), [7, 3, 5, 4]), ('cat', OneHotEncoder(drop='first'), [1, 8, 0, 12, 11, 9, 2, 10])], model__subsample=0.7, model__reg_lambda=15, model__n_estimators=600, model__max_depth=3, model__learning_rate=0.01, model__colsample_bylevel=0.5 \n",
      "[CV]  onehot__transformers=[('num', SimpleImputer(strategy='median'), [7, 3, 5, 4]), ('cat', OneHotEncoder(drop='first'), [1, 8, 0, 12, 11, 9, 2, 10])], model__subsample=0.7, model__reg_lambda=15, model__n_estimators=600, model__max_depth=3, model__learning_rate=0.01, model__colsample_bylevel=0.5, total=   0.4s\n",
      "[CV] onehot__transformers=[('num', SimpleImputer(strategy='median'), [7, 3, 5, 4]), ('cat', OneHotEncoder(drop='first'), [1, 8, 0, 12, 11, 9, 2, 10])], model__subsample=0.7, model__reg_lambda=15, model__n_estimators=600, model__max_depth=3, model__learning_rate=0.01, model__colsample_bylevel=0.5 \n"
     ]
    },
    {
     "name": "stdout",
     "output_type": "stream",
     "text": [
      "[CV]  onehot__transformers=[('num', SimpleImputer(strategy='median'), [7, 3, 5, 4]), ('cat', OneHotEncoder(drop='first'), [1, 8, 0, 12, 11, 9, 2, 10])], model__subsample=0.7, model__reg_lambda=15, model__n_estimators=600, model__max_depth=3, model__learning_rate=0.01, model__colsample_bylevel=0.5, total=   0.4s\n",
      "[CV] onehot__transformers=[('num', SimpleImputer(strategy='median'), [7, 3, 5, 4]), ('cat', OneHotEncoder(drop='first'), [1, 8, 0, 12, 11, 9, 2, 10])], model__subsample=0.7, model__reg_lambda=15, model__n_estimators=600, model__max_depth=3, model__learning_rate=0.01, model__colsample_bylevel=0.5 \n",
      "[CV]  onehot__transformers=[('num', SimpleImputer(strategy='median'), [7, 3, 5, 4]), ('cat', OneHotEncoder(drop='first'), [1, 8, 0, 12, 11, 9, 2, 10])], model__subsample=0.7, model__reg_lambda=15, model__n_estimators=600, model__max_depth=3, model__learning_rate=0.01, model__colsample_bylevel=0.5, total=   0.4s\n",
      "[CV] onehot__transformers=[('num', SimpleImputer(strategy='median'), [7, 3, 5, 4]), ('cat', OneHotEncoder(drop='first'), [1, 8, 0, 12, 11, 9, 2, 10])], model__subsample=0.7, model__reg_lambda=15, model__n_estimators=600, model__max_depth=3, model__learning_rate=0.01, model__colsample_bylevel=0.5 \n",
      "[CV]  onehot__transformers=[('num', SimpleImputer(strategy='median'), [7, 3, 5, 4]), ('cat', OneHotEncoder(drop='first'), [1, 8, 0, 12, 11, 9, 2, 10])], model__subsample=0.7, model__reg_lambda=15, model__n_estimators=600, model__max_depth=3, model__learning_rate=0.01, model__colsample_bylevel=0.5, total=   0.4s\n",
      "[CV] onehot__transformers=[('num', SimpleImputer(strategy='median'), [7, 3, 5, 4]), ('cat', OneHotEncoder(drop='first'), [1, 8, 0, 12, 11, 9, 2, 10])], model__subsample=0.7, model__reg_lambda=15, model__n_estimators=600, model__max_depth=3, model__learning_rate=0.01, model__colsample_bylevel=0.5 \n",
      "[CV]  onehot__transformers=[('num', SimpleImputer(strategy='median'), [7, 3, 5, 4]), ('cat', OneHotEncoder(drop='first'), [1, 8, 0, 12, 11, 9, 2, 10])], model__subsample=0.7, model__reg_lambda=15, model__n_estimators=600, model__max_depth=3, model__learning_rate=0.01, model__colsample_bylevel=0.5, total=   0.4s\n",
      "[CV] onehot__transformers=[('num', SimpleImputer(strategy='median'), [7, 3, 5, 4]), ('cat', OneHotEncoder(drop='first'), [1, 8, 0, 12, 11, 9, 2, 10])], model__subsample=0.7, model__reg_lambda=15, model__n_estimators=600, model__max_depth=3, model__learning_rate=0.01, model__colsample_bylevel=0.5 \n",
      "[CV]  onehot__transformers=[('num', SimpleImputer(strategy='median'), [7, 3, 5, 4]), ('cat', OneHotEncoder(drop='first'), [1, 8, 0, 12, 11, 9, 2, 10])], model__subsample=0.7, model__reg_lambda=15, model__n_estimators=600, model__max_depth=3, model__learning_rate=0.01, model__colsample_bylevel=0.5, total=   0.4s\n",
      "[CV] onehot__transformers=[('num', SimpleImputer(strategy='median'), [7]), ('cat', OneHotEncoder(drop='first'), [11, 0, 12, 2, 1, 8, 9])], model__subsample=0.5, model__reg_lambda=15, model__n_estimators=600, model__max_depth=3, model__learning_rate=0.03, model__colsample_bylevel=0.7 \n",
      "[CV]  onehot__transformers=[('num', SimpleImputer(strategy='median'), [7]), ('cat', OneHotEncoder(drop='first'), [11, 0, 12, 2, 1, 8, 9])], model__subsample=0.5, model__reg_lambda=15, model__n_estimators=600, model__max_depth=3, model__learning_rate=0.03, model__colsample_bylevel=0.7, total=   0.4s\n",
      "[CV] onehot__transformers=[('num', SimpleImputer(strategy='median'), [7]), ('cat', OneHotEncoder(drop='first'), [11, 0, 12, 2, 1, 8, 9])], model__subsample=0.5, model__reg_lambda=15, model__n_estimators=600, model__max_depth=3, model__learning_rate=0.03, model__colsample_bylevel=0.7 \n",
      "[CV]  onehot__transformers=[('num', SimpleImputer(strategy='median'), [7]), ('cat', OneHotEncoder(drop='first'), [11, 0, 12, 2, 1, 8, 9])], model__subsample=0.5, model__reg_lambda=15, model__n_estimators=600, model__max_depth=3, model__learning_rate=0.03, model__colsample_bylevel=0.7, total=   0.4s\n",
      "[CV] onehot__transformers=[('num', SimpleImputer(strategy='median'), [7]), ('cat', OneHotEncoder(drop='first'), [11, 0, 12, 2, 1, 8, 9])], model__subsample=0.5, model__reg_lambda=15, model__n_estimators=600, model__max_depth=3, model__learning_rate=0.03, model__colsample_bylevel=0.7 \n",
      "[CV]  onehot__transformers=[('num', SimpleImputer(strategy='median'), [7]), ('cat', OneHotEncoder(drop='first'), [11, 0, 12, 2, 1, 8, 9])], model__subsample=0.5, model__reg_lambda=15, model__n_estimators=600, model__max_depth=3, model__learning_rate=0.03, model__colsample_bylevel=0.7, total=   0.4s\n",
      "[CV] onehot__transformers=[('num', SimpleImputer(strategy='median'), [7]), ('cat', OneHotEncoder(drop='first'), [11, 0, 12, 2, 1, 8, 9])], model__subsample=0.5, model__reg_lambda=15, model__n_estimators=600, model__max_depth=3, model__learning_rate=0.03, model__colsample_bylevel=0.7 \n",
      "[CV]  onehot__transformers=[('num', SimpleImputer(strategy='median'), [7]), ('cat', OneHotEncoder(drop='first'), [11, 0, 12, 2, 1, 8, 9])], model__subsample=0.5, model__reg_lambda=15, model__n_estimators=600, model__max_depth=3, model__learning_rate=0.03, model__colsample_bylevel=0.7, total=   0.4s\n",
      "[CV] onehot__transformers=[('num', SimpleImputer(strategy='median'), [7]), ('cat', OneHotEncoder(drop='first'), [11, 0, 12, 2, 1, 8, 9])], model__subsample=0.5, model__reg_lambda=15, model__n_estimators=600, model__max_depth=3, model__learning_rate=0.03, model__colsample_bylevel=0.7 \n",
      "[CV]  onehot__transformers=[('num', SimpleImputer(strategy='median'), [7]), ('cat', OneHotEncoder(drop='first'), [11, 0, 12, 2, 1, 8, 9])], model__subsample=0.5, model__reg_lambda=15, model__n_estimators=600, model__max_depth=3, model__learning_rate=0.03, model__colsample_bylevel=0.7, total=   0.4s\n",
      "[CV] onehot__transformers=[('num', SimpleImputer(strategy='median'), [7]), ('cat', OneHotEncoder(drop='first'), [11, 0, 12, 2, 1, 8, 9])], model__subsample=0.5, model__reg_lambda=15, model__n_estimators=600, model__max_depth=3, model__learning_rate=0.03, model__colsample_bylevel=0.7 \n",
      "[CV]  onehot__transformers=[('num', SimpleImputer(strategy='median'), [7]), ('cat', OneHotEncoder(drop='first'), [11, 0, 12, 2, 1, 8, 9])], model__subsample=0.5, model__reg_lambda=15, model__n_estimators=600, model__max_depth=3, model__learning_rate=0.03, model__colsample_bylevel=0.7, total=   0.4s\n",
      "[CV] onehot__transformers=[('num', SimpleImputer(strategy='median'), [7]), ('cat', OneHotEncoder(drop='first'), [11, 0, 12, 2, 1, 8, 9])], model__subsample=0.5, model__reg_lambda=15, model__n_estimators=600, model__max_depth=3, model__learning_rate=0.03, model__colsample_bylevel=0.7 \n",
      "[CV]  onehot__transformers=[('num', SimpleImputer(strategy='median'), [7]), ('cat', OneHotEncoder(drop='first'), [11, 0, 12, 2, 1, 8, 9])], model__subsample=0.5, model__reg_lambda=15, model__n_estimators=600, model__max_depth=3, model__learning_rate=0.03, model__colsample_bylevel=0.7, total=   0.4s\n",
      "[CV] onehot__transformers=[('num', SimpleImputer(strategy='median'), [7]), ('cat', OneHotEncoder(drop='first'), [11, 0, 12, 2, 1, 8, 9])], model__subsample=0.5, model__reg_lambda=15, model__n_estimators=600, model__max_depth=3, model__learning_rate=0.03, model__colsample_bylevel=0.7 \n",
      "[CV]  onehot__transformers=[('num', SimpleImputer(strategy='median'), [7]), ('cat', OneHotEncoder(drop='first'), [11, 0, 12, 2, 1, 8, 9])], model__subsample=0.5, model__reg_lambda=15, model__n_estimators=600, model__max_depth=3, model__learning_rate=0.03, model__colsample_bylevel=0.7, total=   0.4s\n",
      "[CV] onehot__transformers=[('num', SimpleImputer(strategy='median'), [7]), ('cat', OneHotEncoder(drop='first'), [11, 0, 12, 2, 1, 8, 9])], model__subsample=0.5, model__reg_lambda=15, model__n_estimators=600, model__max_depth=3, model__learning_rate=0.03, model__colsample_bylevel=0.7 \n",
      "[CV]  onehot__transformers=[('num', SimpleImputer(strategy='median'), [7]), ('cat', OneHotEncoder(drop='first'), [11, 0, 12, 2, 1, 8, 9])], model__subsample=0.5, model__reg_lambda=15, model__n_estimators=600, model__max_depth=3, model__learning_rate=0.03, model__colsample_bylevel=0.7, total=   0.4s\n",
      "[CV] onehot__transformers=[('num', SimpleImputer(strategy='median'), [7]), ('cat', OneHotEncoder(drop='first'), [11, 0, 12, 2, 1, 8, 9])], model__subsample=0.5, model__reg_lambda=15, model__n_estimators=600, model__max_depth=3, model__learning_rate=0.03, model__colsample_bylevel=0.7 \n"
     ]
    },
    {
     "name": "stdout",
     "output_type": "stream",
     "text": [
      "[CV]  onehot__transformers=[('num', SimpleImputer(strategy='median'), [7]), ('cat', OneHotEncoder(drop='first'), [11, 0, 12, 2, 1, 8, 9])], model__subsample=0.5, model__reg_lambda=15, model__n_estimators=600, model__max_depth=3, model__learning_rate=0.03, model__colsample_bylevel=0.7, total=   0.4s\n",
      "[CV] onehot__transformers=[('num', SimpleImputer(strategy='median'), [7]), ('cat', OneHotEncoder(drop='first'), [11, 0, 12, 2, 1, 8, 9])], model__subsample=0.5, model__reg_lambda=15, model__n_estimators=600, model__max_depth=3, model__learning_rate=0.03, model__colsample_bylevel=0.7 \n",
      "[CV]  onehot__transformers=[('num', SimpleImputer(strategy='median'), [7]), ('cat', OneHotEncoder(drop='first'), [11, 0, 12, 2, 1, 8, 9])], model__subsample=0.5, model__reg_lambda=15, model__n_estimators=600, model__max_depth=3, model__learning_rate=0.03, model__colsample_bylevel=0.7, total=   0.4s\n",
      "[CV] onehot__transformers=[('num', SimpleImputer(strategy='median'), [7]), ('cat', OneHotEncoder(drop='first'), [11, 0, 12, 2, 1, 8, 9])], model__subsample=0.5, model__reg_lambda=15, model__n_estimators=600, model__max_depth=3, model__learning_rate=0.03, model__colsample_bylevel=0.7 \n",
      "[CV]  onehot__transformers=[('num', SimpleImputer(strategy='median'), [7]), ('cat', OneHotEncoder(drop='first'), [11, 0, 12, 2, 1, 8, 9])], model__subsample=0.5, model__reg_lambda=15, model__n_estimators=600, model__max_depth=3, model__learning_rate=0.03, model__colsample_bylevel=0.7, total=   0.4s\n",
      "[CV] onehot__transformers=[('num', SimpleImputer(strategy='median'), [7]), ('cat', OneHotEncoder(drop='first'), [11, 0, 12, 2, 1, 8, 9])], model__subsample=0.5, model__reg_lambda=15, model__n_estimators=600, model__max_depth=3, model__learning_rate=0.03, model__colsample_bylevel=0.7 \n",
      "[CV]  onehot__transformers=[('num', SimpleImputer(strategy='median'), [7]), ('cat', OneHotEncoder(drop='first'), [11, 0, 12, 2, 1, 8, 9])], model__subsample=0.5, model__reg_lambda=15, model__n_estimators=600, model__max_depth=3, model__learning_rate=0.03, model__colsample_bylevel=0.7, total=   0.4s\n",
      "[CV] onehot__transformers=[('num', SimpleImputer(strategy='median'), [7]), ('cat', OneHotEncoder(drop='first'), [11, 0, 12, 2, 1, 8, 9])], model__subsample=0.5, model__reg_lambda=15, model__n_estimators=600, model__max_depth=3, model__learning_rate=0.03, model__colsample_bylevel=0.7 \n",
      "[CV]  onehot__transformers=[('num', SimpleImputer(strategy='median'), [7]), ('cat', OneHotEncoder(drop='first'), [11, 0, 12, 2, 1, 8, 9])], model__subsample=0.5, model__reg_lambda=15, model__n_estimators=600, model__max_depth=3, model__learning_rate=0.03, model__colsample_bylevel=0.7, total=   0.4s\n",
      "[CV] onehot__transformers=[('num', SimpleImputer(strategy='median'), [7]), ('cat', OneHotEncoder(drop='first'), [11, 0, 12, 2, 1, 8, 9])], model__subsample=0.5, model__reg_lambda=15, model__n_estimators=600, model__max_depth=3, model__learning_rate=0.03, model__colsample_bylevel=0.7 \n",
      "[CV]  onehot__transformers=[('num', SimpleImputer(strategy='median'), [7]), ('cat', OneHotEncoder(drop='first'), [11, 0, 12, 2, 1, 8, 9])], model__subsample=0.5, model__reg_lambda=15, model__n_estimators=600, model__max_depth=3, model__learning_rate=0.03, model__colsample_bylevel=0.7, total=   0.4s\n",
      "[CV] onehot__transformers=[('num', SimpleImputer(strategy='median'), [7]), ('cat', OneHotEncoder(drop='first'), [11, 0, 12, 2, 1, 8, 9])], model__subsample=0.5, model__reg_lambda=15, model__n_estimators=600, model__max_depth=3, model__learning_rate=0.03, model__colsample_bylevel=0.7 \n",
      "[CV]  onehot__transformers=[('num', SimpleImputer(strategy='median'), [7]), ('cat', OneHotEncoder(drop='first'), [11, 0, 12, 2, 1, 8, 9])], model__subsample=0.5, model__reg_lambda=15, model__n_estimators=600, model__max_depth=3, model__learning_rate=0.03, model__colsample_bylevel=0.7, total=   0.4s\n",
      "[CV] onehot__transformers=[('num', SimpleImputer(strategy='median'), [7]), ('cat', OneHotEncoder(drop='first'), [11, 0, 12, 2, 1, 8, 9])], model__subsample=0.5, model__reg_lambda=15, model__n_estimators=600, model__max_depth=3, model__learning_rate=0.03, model__colsample_bylevel=0.7 \n",
      "[CV]  onehot__transformers=[('num', SimpleImputer(strategy='median'), [7]), ('cat', OneHotEncoder(drop='first'), [11, 0, 12, 2, 1, 8, 9])], model__subsample=0.5, model__reg_lambda=15, model__n_estimators=600, model__max_depth=3, model__learning_rate=0.03, model__colsample_bylevel=0.7, total=   0.4s\n",
      "[CV] onehot__transformers=[('num', SimpleImputer(strategy='median'), [7]), ('cat', OneHotEncoder(drop='first'), [11, 0, 12, 2, 1, 8, 9])], model__subsample=0.5, model__reg_lambda=15, model__n_estimators=600, model__max_depth=3, model__learning_rate=0.03, model__colsample_bylevel=0.7 \n",
      "[CV]  onehot__transformers=[('num', SimpleImputer(strategy='median'), [7]), ('cat', OneHotEncoder(drop='first'), [11, 0, 12, 2, 1, 8, 9])], model__subsample=0.5, model__reg_lambda=15, model__n_estimators=600, model__max_depth=3, model__learning_rate=0.03, model__colsample_bylevel=0.7, total=   0.4s\n",
      "[CV] onehot__transformers=[('num', SimpleImputer(strategy='median'), [7]), ('cat', OneHotEncoder(drop='first'), [11, 0, 12, 2, 1, 8, 9])], model__subsample=0.5, model__reg_lambda=15, model__n_estimators=600, model__max_depth=3, model__learning_rate=0.03, model__colsample_bylevel=0.7 \n",
      "[CV]  onehot__transformers=[('num', SimpleImputer(strategy='median'), [7]), ('cat', OneHotEncoder(drop='first'), [11, 0, 12, 2, 1, 8, 9])], model__subsample=0.5, model__reg_lambda=15, model__n_estimators=600, model__max_depth=3, model__learning_rate=0.03, model__colsample_bylevel=0.7, total=   0.4s\n",
      "[CV] onehot__transformers=[('num', SimpleImputer(strategy='median'), [7]), ('cat', OneHotEncoder(drop='first'), [11, 0, 12, 2, 1, 8, 9])], model__subsample=0.5, model__reg_lambda=15, model__n_estimators=600, model__max_depth=3, model__learning_rate=0.03, model__colsample_bylevel=0.7 \n",
      "[CV]  onehot__transformers=[('num', SimpleImputer(strategy='median'), [7]), ('cat', OneHotEncoder(drop='first'), [11, 0, 12, 2, 1, 8, 9])], model__subsample=0.5, model__reg_lambda=15, model__n_estimators=600, model__max_depth=3, model__learning_rate=0.03, model__colsample_bylevel=0.7, total=   0.4s\n",
      "[CV] onehot__transformers=[('num', SimpleImputer(strategy='median'), [7]), ('cat', OneHotEncoder(drop='first'), [11, 0, 12, 2, 1, 8, 9])], model__subsample=0.7, model__reg_lambda=None, model__n_estimators=600, model__max_depth=3, model__learning_rate=0.05, model__colsample_bylevel=0.5 \n",
      "[CV]  onehot__transformers=[('num', SimpleImputer(strategy='median'), [7]), ('cat', OneHotEncoder(drop='first'), [11, 0, 12, 2, 1, 8, 9])], model__subsample=0.7, model__reg_lambda=None, model__n_estimators=600, model__max_depth=3, model__learning_rate=0.05, model__colsample_bylevel=0.5, total=   0.1s\n",
      "[CV] onehot__transformers=[('num', SimpleImputer(strategy='median'), [7]), ('cat', OneHotEncoder(drop='first'), [11, 0, 12, 2, 1, 8, 9])], model__subsample=0.7, model__reg_lambda=None, model__n_estimators=600, model__max_depth=3, model__learning_rate=0.05, model__colsample_bylevel=0.5 \n",
      "[CV]  onehot__transformers=[('num', SimpleImputer(strategy='median'), [7]), ('cat', OneHotEncoder(drop='first'), [11, 0, 12, 2, 1, 8, 9])], model__subsample=0.7, model__reg_lambda=None, model__n_estimators=600, model__max_depth=3, model__learning_rate=0.05, model__colsample_bylevel=0.5, total=   0.1s\n",
      "[CV] onehot__transformers=[('num', SimpleImputer(strategy='median'), [7]), ('cat', OneHotEncoder(drop='first'), [11, 0, 12, 2, 1, 8, 9])], model__subsample=0.7, model__reg_lambda=None, model__n_estimators=600, model__max_depth=3, model__learning_rate=0.05, model__colsample_bylevel=0.5 \n",
      "[CV]  onehot__transformers=[('num', SimpleImputer(strategy='median'), [7]), ('cat', OneHotEncoder(drop='first'), [11, 0, 12, 2, 1, 8, 9])], model__subsample=0.7, model__reg_lambda=None, model__n_estimators=600, model__max_depth=3, model__learning_rate=0.05, model__colsample_bylevel=0.5, total=   0.1s\n",
      "[CV] onehot__transformers=[('num', SimpleImputer(strategy='median'), [7]), ('cat', OneHotEncoder(drop='first'), [11, 0, 12, 2, 1, 8, 9])], model__subsample=0.7, model__reg_lambda=None, model__n_estimators=600, model__max_depth=3, model__learning_rate=0.05, model__colsample_bylevel=0.5 \n"
     ]
    },
    {
     "name": "stdout",
     "output_type": "stream",
     "text": [
      "[CV]  onehot__transformers=[('num', SimpleImputer(strategy='median'), [7]), ('cat', OneHotEncoder(drop='first'), [11, 0, 12, 2, 1, 8, 9])], model__subsample=0.7, model__reg_lambda=None, model__n_estimators=600, model__max_depth=3, model__learning_rate=0.05, model__colsample_bylevel=0.5, total=   0.1s\n",
      "[CV] onehot__transformers=[('num', SimpleImputer(strategy='median'), [7]), ('cat', OneHotEncoder(drop='first'), [11, 0, 12, 2, 1, 8, 9])], model__subsample=0.7, model__reg_lambda=None, model__n_estimators=600, model__max_depth=3, model__learning_rate=0.05, model__colsample_bylevel=0.5 \n",
      "[CV]  onehot__transformers=[('num', SimpleImputer(strategy='median'), [7]), ('cat', OneHotEncoder(drop='first'), [11, 0, 12, 2, 1, 8, 9])], model__subsample=0.7, model__reg_lambda=None, model__n_estimators=600, model__max_depth=3, model__learning_rate=0.05, model__colsample_bylevel=0.5, total=   0.1s\n",
      "[CV] onehot__transformers=[('num', SimpleImputer(strategy='median'), [7]), ('cat', OneHotEncoder(drop='first'), [11, 0, 12, 2, 1, 8, 9])], model__subsample=0.7, model__reg_lambda=None, model__n_estimators=600, model__max_depth=3, model__learning_rate=0.05, model__colsample_bylevel=0.5 \n",
      "[CV]  onehot__transformers=[('num', SimpleImputer(strategy='median'), [7]), ('cat', OneHotEncoder(drop='first'), [11, 0, 12, 2, 1, 8, 9])], model__subsample=0.7, model__reg_lambda=None, model__n_estimators=600, model__max_depth=3, model__learning_rate=0.05, model__colsample_bylevel=0.5, total=   0.1s\n",
      "[CV] onehot__transformers=[('num', SimpleImputer(strategy='median'), [7]), ('cat', OneHotEncoder(drop='first'), [11, 0, 12, 2, 1, 8, 9])], model__subsample=0.7, model__reg_lambda=None, model__n_estimators=600, model__max_depth=3, model__learning_rate=0.05, model__colsample_bylevel=0.5 \n",
      "[CV]  onehot__transformers=[('num', SimpleImputer(strategy='median'), [7]), ('cat', OneHotEncoder(drop='first'), [11, 0, 12, 2, 1, 8, 9])], model__subsample=0.7, model__reg_lambda=None, model__n_estimators=600, model__max_depth=3, model__learning_rate=0.05, model__colsample_bylevel=0.5, total=   0.1s\n",
      "[CV] onehot__transformers=[('num', SimpleImputer(strategy='median'), [7]), ('cat', OneHotEncoder(drop='first'), [11, 0, 12, 2, 1, 8, 9])], model__subsample=0.7, model__reg_lambda=None, model__n_estimators=600, model__max_depth=3, model__learning_rate=0.05, model__colsample_bylevel=0.5 \n",
      "[CV]  onehot__transformers=[('num', SimpleImputer(strategy='median'), [7]), ('cat', OneHotEncoder(drop='first'), [11, 0, 12, 2, 1, 8, 9])], model__subsample=0.7, model__reg_lambda=None, model__n_estimators=600, model__max_depth=3, model__learning_rate=0.05, model__colsample_bylevel=0.5, total=   0.1s\n",
      "[CV] onehot__transformers=[('num', SimpleImputer(strategy='median'), [7]), ('cat', OneHotEncoder(drop='first'), [11, 0, 12, 2, 1, 8, 9])], model__subsample=0.7, model__reg_lambda=None, model__n_estimators=600, model__max_depth=3, model__learning_rate=0.05, model__colsample_bylevel=0.5 \n",
      "[CV]  onehot__transformers=[('num', SimpleImputer(strategy='median'), [7]), ('cat', OneHotEncoder(drop='first'), [11, 0, 12, 2, 1, 8, 9])], model__subsample=0.7, model__reg_lambda=None, model__n_estimators=600, model__max_depth=3, model__learning_rate=0.05, model__colsample_bylevel=0.5, total=   0.1s\n",
      "[CV] onehot__transformers=[('num', SimpleImputer(strategy='median'), [7]), ('cat', OneHotEncoder(drop='first'), [11, 0, 12, 2, 1, 8, 9])], model__subsample=0.7, model__reg_lambda=None, model__n_estimators=600, model__max_depth=3, model__learning_rate=0.05, model__colsample_bylevel=0.5 \n",
      "[CV]  onehot__transformers=[('num', SimpleImputer(strategy='median'), [7]), ('cat', OneHotEncoder(drop='first'), [11, 0, 12, 2, 1, 8, 9])], model__subsample=0.7, model__reg_lambda=None, model__n_estimators=600, model__max_depth=3, model__learning_rate=0.05, model__colsample_bylevel=0.5, total=   0.1s\n",
      "[CV] onehot__transformers=[('num', SimpleImputer(strategy='median'), [7]), ('cat', OneHotEncoder(drop='first'), [11, 0, 12, 2, 1, 8, 9])], model__subsample=0.7, model__reg_lambda=None, model__n_estimators=600, model__max_depth=3, model__learning_rate=0.05, model__colsample_bylevel=0.5 \n",
      "[CV]  onehot__transformers=[('num', SimpleImputer(strategy='median'), [7]), ('cat', OneHotEncoder(drop='first'), [11, 0, 12, 2, 1, 8, 9])], model__subsample=0.7, model__reg_lambda=None, model__n_estimators=600, model__max_depth=3, model__learning_rate=0.05, model__colsample_bylevel=0.5, total=   0.1s\n",
      "[CV] onehot__transformers=[('num', SimpleImputer(strategy='median'), [7]), ('cat', OneHotEncoder(drop='first'), [11, 0, 12, 2, 1, 8, 9])], model__subsample=0.7, model__reg_lambda=None, model__n_estimators=600, model__max_depth=3, model__learning_rate=0.05, model__colsample_bylevel=0.5 \n",
      "[CV]  onehot__transformers=[('num', SimpleImputer(strategy='median'), [7]), ('cat', OneHotEncoder(drop='first'), [11, 0, 12, 2, 1, 8, 9])], model__subsample=0.7, model__reg_lambda=None, model__n_estimators=600, model__max_depth=3, model__learning_rate=0.05, model__colsample_bylevel=0.5, total=   0.1s\n",
      "[CV] onehot__transformers=[('num', SimpleImputer(strategy='median'), [7]), ('cat', OneHotEncoder(drop='first'), [11, 0, 12, 2, 1, 8, 9])], model__subsample=0.7, model__reg_lambda=None, model__n_estimators=600, model__max_depth=3, model__learning_rate=0.05, model__colsample_bylevel=0.5 \n",
      "[CV]  onehot__transformers=[('num', SimpleImputer(strategy='median'), [7]), ('cat', OneHotEncoder(drop='first'), [11, 0, 12, 2, 1, 8, 9])], model__subsample=0.7, model__reg_lambda=None, model__n_estimators=600, model__max_depth=3, model__learning_rate=0.05, model__colsample_bylevel=0.5, total=   0.1s\n",
      "[CV] onehot__transformers=[('num', SimpleImputer(strategy='median'), [7]), ('cat', OneHotEncoder(drop='first'), [11, 0, 12, 2, 1, 8, 9])], model__subsample=0.7, model__reg_lambda=None, model__n_estimators=600, model__max_depth=3, model__learning_rate=0.05, model__colsample_bylevel=0.5 \n",
      "[CV]  onehot__transformers=[('num', SimpleImputer(strategy='median'), [7]), ('cat', OneHotEncoder(drop='first'), [11, 0, 12, 2, 1, 8, 9])], model__subsample=0.7, model__reg_lambda=None, model__n_estimators=600, model__max_depth=3, model__learning_rate=0.05, model__colsample_bylevel=0.5, total=   0.1s\n",
      "[CV] onehot__transformers=[('num', SimpleImputer(strategy='median'), [7]), ('cat', OneHotEncoder(drop='first'), [11, 0, 12, 2, 1, 8, 9])], model__subsample=0.7, model__reg_lambda=None, model__n_estimators=600, model__max_depth=3, model__learning_rate=0.05, model__colsample_bylevel=0.5 \n",
      "[CV]  onehot__transformers=[('num', SimpleImputer(strategy='median'), [7]), ('cat', OneHotEncoder(drop='first'), [11, 0, 12, 2, 1, 8, 9])], model__subsample=0.7, model__reg_lambda=None, model__n_estimators=600, model__max_depth=3, model__learning_rate=0.05, model__colsample_bylevel=0.5, total=   0.1s\n",
      "[CV] onehot__transformers=[('num', SimpleImputer(strategy='median'), [7]), ('cat', OneHotEncoder(drop='first'), [11, 0, 12, 2, 1, 8, 9])], model__subsample=0.7, model__reg_lambda=None, model__n_estimators=600, model__max_depth=3, model__learning_rate=0.05, model__colsample_bylevel=0.5 \n",
      "[CV]  onehot__transformers=[('num', SimpleImputer(strategy='median'), [7]), ('cat', OneHotEncoder(drop='first'), [11, 0, 12, 2, 1, 8, 9])], model__subsample=0.7, model__reg_lambda=None, model__n_estimators=600, model__max_depth=3, model__learning_rate=0.05, model__colsample_bylevel=0.5, total=   0.1s\n",
      "[CV] onehot__transformers=[('num', SimpleImputer(strategy='median'), [7]), ('cat', OneHotEncoder(drop='first'), [11, 0, 12, 2, 1, 8, 9])], model__subsample=0.7, model__reg_lambda=None, model__n_estimators=600, model__max_depth=3, model__learning_rate=0.05, model__colsample_bylevel=0.5 \n",
      "[CV]  onehot__transformers=[('num', SimpleImputer(strategy='median'), [7]), ('cat', OneHotEncoder(drop='first'), [11, 0, 12, 2, 1, 8, 9])], model__subsample=0.7, model__reg_lambda=None, model__n_estimators=600, model__max_depth=3, model__learning_rate=0.05, model__colsample_bylevel=0.5, total=   0.1s\n",
      "[CV] onehot__transformers=[('num', SimpleImputer(strategy='median'), [7]), ('cat', OneHotEncoder(drop='first'), [11, 0, 12, 2, 1, 8, 9])], model__subsample=0.7, model__reg_lambda=None, model__n_estimators=600, model__max_depth=3, model__learning_rate=0.05, model__colsample_bylevel=0.5 \n"
     ]
    },
    {
     "name": "stdout",
     "output_type": "stream",
     "text": [
      "[CV]  onehot__transformers=[('num', SimpleImputer(strategy='median'), [7]), ('cat', OneHotEncoder(drop='first'), [11, 0, 12, 2, 1, 8, 9])], model__subsample=0.7, model__reg_lambda=None, model__n_estimators=600, model__max_depth=3, model__learning_rate=0.05, model__colsample_bylevel=0.5, total=   0.1s\n",
      "[CV] onehot__transformers=[('num', SimpleImputer(strategy='median'), [7]), ('cat', OneHotEncoder(drop='first'), [11, 0, 12, 2, 1, 8, 9])], model__subsample=0.7, model__reg_lambda=None, model__n_estimators=600, model__max_depth=3, model__learning_rate=0.05, model__colsample_bylevel=0.5 \n",
      "[CV]  onehot__transformers=[('num', SimpleImputer(strategy='median'), [7]), ('cat', OneHotEncoder(drop='first'), [11, 0, 12, 2, 1, 8, 9])], model__subsample=0.7, model__reg_lambda=None, model__n_estimators=600, model__max_depth=3, model__learning_rate=0.05, model__colsample_bylevel=0.5, total=   0.1s\n",
      "[CV] onehot__transformers=[('num', SimpleImputer(strategy='median'), [7]), ('cat', OneHotEncoder(drop='first'), [11, 0, 12, 2, 1, 8, 9])], model__subsample=0.7, model__reg_lambda=None, model__n_estimators=600, model__max_depth=3, model__learning_rate=0.05, model__colsample_bylevel=0.5 \n",
      "[CV]  onehot__transformers=[('num', SimpleImputer(strategy='median'), [7]), ('cat', OneHotEncoder(drop='first'), [11, 0, 12, 2, 1, 8, 9])], model__subsample=0.7, model__reg_lambda=None, model__n_estimators=600, model__max_depth=3, model__learning_rate=0.05, model__colsample_bylevel=0.5, total=   0.1s\n",
      "[CV] onehot__transformers=[('num', SimpleImputer(strategy='median'), [7, 3, 5, 4]), ('cat', OneHotEncoder(drop='first'), [1, 8, 0, 12, 11, 9, 2, 10])], model__subsample=0.7, model__reg_lambda=None, model__n_estimators=600, model__max_depth=3, model__learning_rate=0.01, model__colsample_bylevel=0.7 \n",
      "[CV]  onehot__transformers=[('num', SimpleImputer(strategy='median'), [7, 3, 5, 4]), ('cat', OneHotEncoder(drop='first'), [1, 8, 0, 12, 11, 9, 2, 10])], model__subsample=0.7, model__reg_lambda=None, model__n_estimators=600, model__max_depth=3, model__learning_rate=0.01, model__colsample_bylevel=0.7, total=   0.1s\n",
      "[CV] onehot__transformers=[('num', SimpleImputer(strategy='median'), [7, 3, 5, 4]), ('cat', OneHotEncoder(drop='first'), [1, 8, 0, 12, 11, 9, 2, 10])], model__subsample=0.7, model__reg_lambda=None, model__n_estimators=600, model__max_depth=3, model__learning_rate=0.01, model__colsample_bylevel=0.7 \n",
      "[CV]  onehot__transformers=[('num', SimpleImputer(strategy='median'), [7, 3, 5, 4]), ('cat', OneHotEncoder(drop='first'), [1, 8, 0, 12, 11, 9, 2, 10])], model__subsample=0.7, model__reg_lambda=None, model__n_estimators=600, model__max_depth=3, model__learning_rate=0.01, model__colsample_bylevel=0.7, total=   0.1s\n",
      "[CV] onehot__transformers=[('num', SimpleImputer(strategy='median'), [7, 3, 5, 4]), ('cat', OneHotEncoder(drop='first'), [1, 8, 0, 12, 11, 9, 2, 10])], model__subsample=0.7, model__reg_lambda=None, model__n_estimators=600, model__max_depth=3, model__learning_rate=0.01, model__colsample_bylevel=0.7 \n",
      "[CV]  onehot__transformers=[('num', SimpleImputer(strategy='median'), [7, 3, 5, 4]), ('cat', OneHotEncoder(drop='first'), [1, 8, 0, 12, 11, 9, 2, 10])], model__subsample=0.7, model__reg_lambda=None, model__n_estimators=600, model__max_depth=3, model__learning_rate=0.01, model__colsample_bylevel=0.7, total=   0.1s\n",
      "[CV] onehot__transformers=[('num', SimpleImputer(strategy='median'), [7, 3, 5, 4]), ('cat', OneHotEncoder(drop='first'), [1, 8, 0, 12, 11, 9, 2, 10])], model__subsample=0.7, model__reg_lambda=None, model__n_estimators=600, model__max_depth=3, model__learning_rate=0.01, model__colsample_bylevel=0.7 \n",
      "[CV]  onehot__transformers=[('num', SimpleImputer(strategy='median'), [7, 3, 5, 4]), ('cat', OneHotEncoder(drop='first'), [1, 8, 0, 12, 11, 9, 2, 10])], model__subsample=0.7, model__reg_lambda=None, model__n_estimators=600, model__max_depth=3, model__learning_rate=0.01, model__colsample_bylevel=0.7, total=   0.1s\n",
      "[CV] onehot__transformers=[('num', SimpleImputer(strategy='median'), [7, 3, 5, 4]), ('cat', OneHotEncoder(drop='first'), [1, 8, 0, 12, 11, 9, 2, 10])], model__subsample=0.7, model__reg_lambda=None, model__n_estimators=600, model__max_depth=3, model__learning_rate=0.01, model__colsample_bylevel=0.7 \n",
      "[CV]  onehot__transformers=[('num', SimpleImputer(strategy='median'), [7, 3, 5, 4]), ('cat', OneHotEncoder(drop='first'), [1, 8, 0, 12, 11, 9, 2, 10])], model__subsample=0.7, model__reg_lambda=None, model__n_estimators=600, model__max_depth=3, model__learning_rate=0.01, model__colsample_bylevel=0.7, total=   0.1s\n",
      "[CV] onehot__transformers=[('num', SimpleImputer(strategy='median'), [7, 3, 5, 4]), ('cat', OneHotEncoder(drop='first'), [1, 8, 0, 12, 11, 9, 2, 10])], model__subsample=0.7, model__reg_lambda=None, model__n_estimators=600, model__max_depth=3, model__learning_rate=0.01, model__colsample_bylevel=0.7 \n",
      "[CV]  onehot__transformers=[('num', SimpleImputer(strategy='median'), [7, 3, 5, 4]), ('cat', OneHotEncoder(drop='first'), [1, 8, 0, 12, 11, 9, 2, 10])], model__subsample=0.7, model__reg_lambda=None, model__n_estimators=600, model__max_depth=3, model__learning_rate=0.01, model__colsample_bylevel=0.7, total=   0.1s\n",
      "[CV] onehot__transformers=[('num', SimpleImputer(strategy='median'), [7, 3, 5, 4]), ('cat', OneHotEncoder(drop='first'), [1, 8, 0, 12, 11, 9, 2, 10])], model__subsample=0.7, model__reg_lambda=None, model__n_estimators=600, model__max_depth=3, model__learning_rate=0.01, model__colsample_bylevel=0.7 \n",
      "[CV]  onehot__transformers=[('num', SimpleImputer(strategy='median'), [7, 3, 5, 4]), ('cat', OneHotEncoder(drop='first'), [1, 8, 0, 12, 11, 9, 2, 10])], model__subsample=0.7, model__reg_lambda=None, model__n_estimators=600, model__max_depth=3, model__learning_rate=0.01, model__colsample_bylevel=0.7, total=   0.1s\n",
      "[CV] onehot__transformers=[('num', SimpleImputer(strategy='median'), [7, 3, 5, 4]), ('cat', OneHotEncoder(drop='first'), [1, 8, 0, 12, 11, 9, 2, 10])], model__subsample=0.7, model__reg_lambda=None, model__n_estimators=600, model__max_depth=3, model__learning_rate=0.01, model__colsample_bylevel=0.7 \n",
      "[CV]  onehot__transformers=[('num', SimpleImputer(strategy='median'), [7, 3, 5, 4]), ('cat', OneHotEncoder(drop='first'), [1, 8, 0, 12, 11, 9, 2, 10])], model__subsample=0.7, model__reg_lambda=None, model__n_estimators=600, model__max_depth=3, model__learning_rate=0.01, model__colsample_bylevel=0.7, total=   0.1s\n",
      "[CV] onehot__transformers=[('num', SimpleImputer(strategy='median'), [7, 3, 5, 4]), ('cat', OneHotEncoder(drop='first'), [1, 8, 0, 12, 11, 9, 2, 10])], model__subsample=0.7, model__reg_lambda=None, model__n_estimators=600, model__max_depth=3, model__learning_rate=0.01, model__colsample_bylevel=0.7 \n",
      "[CV]  onehot__transformers=[('num', SimpleImputer(strategy='median'), [7, 3, 5, 4]), ('cat', OneHotEncoder(drop='first'), [1, 8, 0, 12, 11, 9, 2, 10])], model__subsample=0.7, model__reg_lambda=None, model__n_estimators=600, model__max_depth=3, model__learning_rate=0.01, model__colsample_bylevel=0.7, total=   0.1s\n",
      "[CV] onehot__transformers=[('num', SimpleImputer(strategy='median'), [7, 3, 5, 4]), ('cat', OneHotEncoder(drop='first'), [1, 8, 0, 12, 11, 9, 2, 10])], model__subsample=0.7, model__reg_lambda=None, model__n_estimators=600, model__max_depth=3, model__learning_rate=0.01, model__colsample_bylevel=0.7 \n",
      "[CV]  onehot__transformers=[('num', SimpleImputer(strategy='median'), [7, 3, 5, 4]), ('cat', OneHotEncoder(drop='first'), [1, 8, 0, 12, 11, 9, 2, 10])], model__subsample=0.7, model__reg_lambda=None, model__n_estimators=600, model__max_depth=3, model__learning_rate=0.01, model__colsample_bylevel=0.7, total=   0.1s\n",
      "[CV] onehot__transformers=[('num', SimpleImputer(strategy='median'), [7, 3, 5, 4]), ('cat', OneHotEncoder(drop='first'), [1, 8, 0, 12, 11, 9, 2, 10])], model__subsample=0.7, model__reg_lambda=None, model__n_estimators=600, model__max_depth=3, model__learning_rate=0.01, model__colsample_bylevel=0.7 \n",
      "[CV]  onehot__transformers=[('num', SimpleImputer(strategy='median'), [7, 3, 5, 4]), ('cat', OneHotEncoder(drop='first'), [1, 8, 0, 12, 11, 9, 2, 10])], model__subsample=0.7, model__reg_lambda=None, model__n_estimators=600, model__max_depth=3, model__learning_rate=0.01, model__colsample_bylevel=0.7, total=   0.1s\n",
      "[CV] onehot__transformers=[('num', SimpleImputer(strategy='median'), [7, 3, 5, 4]), ('cat', OneHotEncoder(drop='first'), [1, 8, 0, 12, 11, 9, 2, 10])], model__subsample=0.7, model__reg_lambda=None, model__n_estimators=600, model__max_depth=3, model__learning_rate=0.01, model__colsample_bylevel=0.7 \n"
     ]
    },
    {
     "name": "stdout",
     "output_type": "stream",
     "text": [
      "[CV]  onehot__transformers=[('num', SimpleImputer(strategy='median'), [7, 3, 5, 4]), ('cat', OneHotEncoder(drop='first'), [1, 8, 0, 12, 11, 9, 2, 10])], model__subsample=0.7, model__reg_lambda=None, model__n_estimators=600, model__max_depth=3, model__learning_rate=0.01, model__colsample_bylevel=0.7, total=   0.1s\n",
      "[CV] onehot__transformers=[('num', SimpleImputer(strategy='median'), [7, 3, 5, 4]), ('cat', OneHotEncoder(drop='first'), [1, 8, 0, 12, 11, 9, 2, 10])], model__subsample=0.7, model__reg_lambda=None, model__n_estimators=600, model__max_depth=3, model__learning_rate=0.01, model__colsample_bylevel=0.7 \n",
      "[CV]  onehot__transformers=[('num', SimpleImputer(strategy='median'), [7, 3, 5, 4]), ('cat', OneHotEncoder(drop='first'), [1, 8, 0, 12, 11, 9, 2, 10])], model__subsample=0.7, model__reg_lambda=None, model__n_estimators=600, model__max_depth=3, model__learning_rate=0.01, model__colsample_bylevel=0.7, total=   0.1s\n",
      "[CV] onehot__transformers=[('num', SimpleImputer(strategy='median'), [7, 3, 5, 4]), ('cat', OneHotEncoder(drop='first'), [1, 8, 0, 12, 11, 9, 2, 10])], model__subsample=0.7, model__reg_lambda=None, model__n_estimators=600, model__max_depth=3, model__learning_rate=0.01, model__colsample_bylevel=0.7 \n",
      "[CV]  onehot__transformers=[('num', SimpleImputer(strategy='median'), [7, 3, 5, 4]), ('cat', OneHotEncoder(drop='first'), [1, 8, 0, 12, 11, 9, 2, 10])], model__subsample=0.7, model__reg_lambda=None, model__n_estimators=600, model__max_depth=3, model__learning_rate=0.01, model__colsample_bylevel=0.7, total=   0.1s\n",
      "[CV] onehot__transformers=[('num', SimpleImputer(strategy='median'), [7, 3, 5, 4]), ('cat', OneHotEncoder(drop='first'), [1, 8, 0, 12, 11, 9, 2, 10])], model__subsample=0.7, model__reg_lambda=None, model__n_estimators=600, model__max_depth=3, model__learning_rate=0.01, model__colsample_bylevel=0.7 \n",
      "[CV]  onehot__transformers=[('num', SimpleImputer(strategy='median'), [7, 3, 5, 4]), ('cat', OneHotEncoder(drop='first'), [1, 8, 0, 12, 11, 9, 2, 10])], model__subsample=0.7, model__reg_lambda=None, model__n_estimators=600, model__max_depth=3, model__learning_rate=0.01, model__colsample_bylevel=0.7, total=   0.1s\n",
      "[CV] onehot__transformers=[('num', SimpleImputer(strategy='median'), [7, 3, 5, 4]), ('cat', OneHotEncoder(drop='first'), [1, 8, 0, 12, 11, 9, 2, 10])], model__subsample=0.7, model__reg_lambda=None, model__n_estimators=600, model__max_depth=3, model__learning_rate=0.01, model__colsample_bylevel=0.7 \n",
      "[CV]  onehot__transformers=[('num', SimpleImputer(strategy='median'), [7, 3, 5, 4]), ('cat', OneHotEncoder(drop='first'), [1, 8, 0, 12, 11, 9, 2, 10])], model__subsample=0.7, model__reg_lambda=None, model__n_estimators=600, model__max_depth=3, model__learning_rate=0.01, model__colsample_bylevel=0.7, total=   0.1s\n",
      "[CV] onehot__transformers=[('num', SimpleImputer(strategy='median'), [7, 3, 5, 4]), ('cat', OneHotEncoder(drop='first'), [1, 8, 0, 12, 11, 9, 2, 10])], model__subsample=0.7, model__reg_lambda=None, model__n_estimators=600, model__max_depth=3, model__learning_rate=0.01, model__colsample_bylevel=0.7 \n",
      "[CV]  onehot__transformers=[('num', SimpleImputer(strategy='median'), [7, 3, 5, 4]), ('cat', OneHotEncoder(drop='first'), [1, 8, 0, 12, 11, 9, 2, 10])], model__subsample=0.7, model__reg_lambda=None, model__n_estimators=600, model__max_depth=3, model__learning_rate=0.01, model__colsample_bylevel=0.7, total=   0.1s\n",
      "[CV] onehot__transformers=[('num', SimpleImputer(strategy='median'), [7, 3, 5, 4]), ('cat', OneHotEncoder(drop='first'), [1, 8, 0, 12, 11, 9, 2, 10])], model__subsample=0.7, model__reg_lambda=None, model__n_estimators=600, model__max_depth=3, model__learning_rate=0.01, model__colsample_bylevel=0.7 \n",
      "[CV]  onehot__transformers=[('num', SimpleImputer(strategy='median'), [7, 3, 5, 4]), ('cat', OneHotEncoder(drop='first'), [1, 8, 0, 12, 11, 9, 2, 10])], model__subsample=0.7, model__reg_lambda=None, model__n_estimators=600, model__max_depth=3, model__learning_rate=0.01, model__colsample_bylevel=0.7, total=   0.2s\n",
      "[CV] onehot__transformers=[('num', SimpleImputer(strategy='median'), [7, 3, 5, 4]), ('cat', OneHotEncoder(drop='first'), [1, 8, 0, 12, 11, 9, 2, 10])], model__subsample=0.7, model__reg_lambda=None, model__n_estimators=600, model__max_depth=3, model__learning_rate=0.01, model__colsample_bylevel=0.7 \n",
      "[CV]  onehot__transformers=[('num', SimpleImputer(strategy='median'), [7, 3, 5, 4]), ('cat', OneHotEncoder(drop='first'), [1, 8, 0, 12, 11, 9, 2, 10])], model__subsample=0.7, model__reg_lambda=None, model__n_estimators=600, model__max_depth=3, model__learning_rate=0.01, model__colsample_bylevel=0.7, total=   0.1s\n",
      "[CV] onehot__transformers=[('num', SimpleImputer(strategy='median'), [7, 3, 5, 4]), ('cat', OneHotEncoder(drop='first'), [1, 8, 0, 12, 11, 9, 2, 10])], model__subsample=0.7, model__reg_lambda=None, model__n_estimators=600, model__max_depth=3, model__learning_rate=0.01, model__colsample_bylevel=0.7 \n",
      "[CV]  onehot__transformers=[('num', SimpleImputer(strategy='median'), [7, 3, 5, 4]), ('cat', OneHotEncoder(drop='first'), [1, 8, 0, 12, 11, 9, 2, 10])], model__subsample=0.7, model__reg_lambda=None, model__n_estimators=600, model__max_depth=3, model__learning_rate=0.01, model__colsample_bylevel=0.7, total=   0.1s\n",
      "[CV] onehot__transformers=[('num', SimpleImputer(strategy='median'), [7, 3, 5, 4]), ('cat', OneHotEncoder(drop='first'), [1, 8, 0, 12, 11, 9, 2, 10])], model__subsample=0.7, model__reg_lambda=None, model__n_estimators=400, model__max_depth=4, model__learning_rate=0.01, model__colsample_bylevel=0.7 \n",
      "[CV]  onehot__transformers=[('num', SimpleImputer(strategy='median'), [7, 3, 5, 4]), ('cat', OneHotEncoder(drop='first'), [1, 8, 0, 12, 11, 9, 2, 10])], model__subsample=0.7, model__reg_lambda=None, model__n_estimators=400, model__max_depth=4, model__learning_rate=0.01, model__colsample_bylevel=0.7, total=   0.1s\n",
      "[CV] onehot__transformers=[('num', SimpleImputer(strategy='median'), [7, 3, 5, 4]), ('cat', OneHotEncoder(drop='first'), [1, 8, 0, 12, 11, 9, 2, 10])], model__subsample=0.7, model__reg_lambda=None, model__n_estimators=400, model__max_depth=4, model__learning_rate=0.01, model__colsample_bylevel=0.7 \n",
      "[CV]  onehot__transformers=[('num', SimpleImputer(strategy='median'), [7, 3, 5, 4]), ('cat', OneHotEncoder(drop='first'), [1, 8, 0, 12, 11, 9, 2, 10])], model__subsample=0.7, model__reg_lambda=None, model__n_estimators=400, model__max_depth=4, model__learning_rate=0.01, model__colsample_bylevel=0.7, total=   0.1s\n",
      "[CV] onehot__transformers=[('num', SimpleImputer(strategy='median'), [7, 3, 5, 4]), ('cat', OneHotEncoder(drop='first'), [1, 8, 0, 12, 11, 9, 2, 10])], model__subsample=0.7, model__reg_lambda=None, model__n_estimators=400, model__max_depth=4, model__learning_rate=0.01, model__colsample_bylevel=0.7 \n",
      "[CV]  onehot__transformers=[('num', SimpleImputer(strategy='median'), [7, 3, 5, 4]), ('cat', OneHotEncoder(drop='first'), [1, 8, 0, 12, 11, 9, 2, 10])], model__subsample=0.7, model__reg_lambda=None, model__n_estimators=400, model__max_depth=4, model__learning_rate=0.01, model__colsample_bylevel=0.7, total=   0.1s\n",
      "[CV] onehot__transformers=[('num', SimpleImputer(strategy='median'), [7, 3, 5, 4]), ('cat', OneHotEncoder(drop='first'), [1, 8, 0, 12, 11, 9, 2, 10])], model__subsample=0.7, model__reg_lambda=None, model__n_estimators=400, model__max_depth=4, model__learning_rate=0.01, model__colsample_bylevel=0.7 \n",
      "[CV]  onehot__transformers=[('num', SimpleImputer(strategy='median'), [7, 3, 5, 4]), ('cat', OneHotEncoder(drop='first'), [1, 8, 0, 12, 11, 9, 2, 10])], model__subsample=0.7, model__reg_lambda=None, model__n_estimators=400, model__max_depth=4, model__learning_rate=0.01, model__colsample_bylevel=0.7, total=   0.1s\n",
      "[CV] onehot__transformers=[('num', SimpleImputer(strategy='median'), [7, 3, 5, 4]), ('cat', OneHotEncoder(drop='first'), [1, 8, 0, 12, 11, 9, 2, 10])], model__subsample=0.7, model__reg_lambda=None, model__n_estimators=400, model__max_depth=4, model__learning_rate=0.01, model__colsample_bylevel=0.7 \n",
      "[CV]  onehot__transformers=[('num', SimpleImputer(strategy='median'), [7, 3, 5, 4]), ('cat', OneHotEncoder(drop='first'), [1, 8, 0, 12, 11, 9, 2, 10])], model__subsample=0.7, model__reg_lambda=None, model__n_estimators=400, model__max_depth=4, model__learning_rate=0.01, model__colsample_bylevel=0.7, total=   0.1s\n",
      "[CV] onehot__transformers=[('num', SimpleImputer(strategy='median'), [7, 3, 5, 4]), ('cat', OneHotEncoder(drop='first'), [1, 8, 0, 12, 11, 9, 2, 10])], model__subsample=0.7, model__reg_lambda=None, model__n_estimators=400, model__max_depth=4, model__learning_rate=0.01, model__colsample_bylevel=0.7 \n"
     ]
    },
    {
     "name": "stdout",
     "output_type": "stream",
     "text": [
      "[CV]  onehot__transformers=[('num', SimpleImputer(strategy='median'), [7, 3, 5, 4]), ('cat', OneHotEncoder(drop='first'), [1, 8, 0, 12, 11, 9, 2, 10])], model__subsample=0.7, model__reg_lambda=None, model__n_estimators=400, model__max_depth=4, model__learning_rate=0.01, model__colsample_bylevel=0.7, total=   0.1s\n",
      "[CV] onehot__transformers=[('num', SimpleImputer(strategy='median'), [7, 3, 5, 4]), ('cat', OneHotEncoder(drop='first'), [1, 8, 0, 12, 11, 9, 2, 10])], model__subsample=0.7, model__reg_lambda=None, model__n_estimators=400, model__max_depth=4, model__learning_rate=0.01, model__colsample_bylevel=0.7 \n",
      "[CV]  onehot__transformers=[('num', SimpleImputer(strategy='median'), [7, 3, 5, 4]), ('cat', OneHotEncoder(drop='first'), [1, 8, 0, 12, 11, 9, 2, 10])], model__subsample=0.7, model__reg_lambda=None, model__n_estimators=400, model__max_depth=4, model__learning_rate=0.01, model__colsample_bylevel=0.7, total=   0.1s\n",
      "[CV] onehot__transformers=[('num', SimpleImputer(strategy='median'), [7, 3, 5, 4]), ('cat', OneHotEncoder(drop='first'), [1, 8, 0, 12, 11, 9, 2, 10])], model__subsample=0.7, model__reg_lambda=None, model__n_estimators=400, model__max_depth=4, model__learning_rate=0.01, model__colsample_bylevel=0.7 \n",
      "[CV]  onehot__transformers=[('num', SimpleImputer(strategy='median'), [7, 3, 5, 4]), ('cat', OneHotEncoder(drop='first'), [1, 8, 0, 12, 11, 9, 2, 10])], model__subsample=0.7, model__reg_lambda=None, model__n_estimators=400, model__max_depth=4, model__learning_rate=0.01, model__colsample_bylevel=0.7, total=   0.1s\n",
      "[CV] onehot__transformers=[('num', SimpleImputer(strategy='median'), [7, 3, 5, 4]), ('cat', OneHotEncoder(drop='first'), [1, 8, 0, 12, 11, 9, 2, 10])], model__subsample=0.7, model__reg_lambda=None, model__n_estimators=400, model__max_depth=4, model__learning_rate=0.01, model__colsample_bylevel=0.7 \n",
      "[CV]  onehot__transformers=[('num', SimpleImputer(strategy='median'), [7, 3, 5, 4]), ('cat', OneHotEncoder(drop='first'), [1, 8, 0, 12, 11, 9, 2, 10])], model__subsample=0.7, model__reg_lambda=None, model__n_estimators=400, model__max_depth=4, model__learning_rate=0.01, model__colsample_bylevel=0.7, total=   0.1s\n",
      "[CV] onehot__transformers=[('num', SimpleImputer(strategy='median'), [7, 3, 5, 4]), ('cat', OneHotEncoder(drop='first'), [1, 8, 0, 12, 11, 9, 2, 10])], model__subsample=0.7, model__reg_lambda=None, model__n_estimators=400, model__max_depth=4, model__learning_rate=0.01, model__colsample_bylevel=0.7 \n",
      "[CV]  onehot__transformers=[('num', SimpleImputer(strategy='median'), [7, 3, 5, 4]), ('cat', OneHotEncoder(drop='first'), [1, 8, 0, 12, 11, 9, 2, 10])], model__subsample=0.7, model__reg_lambda=None, model__n_estimators=400, model__max_depth=4, model__learning_rate=0.01, model__colsample_bylevel=0.7, total=   0.1s\n",
      "[CV] onehot__transformers=[('num', SimpleImputer(strategy='median'), [7, 3, 5, 4]), ('cat', OneHotEncoder(drop='first'), [1, 8, 0, 12, 11, 9, 2, 10])], model__subsample=0.7, model__reg_lambda=None, model__n_estimators=400, model__max_depth=4, model__learning_rate=0.01, model__colsample_bylevel=0.7 \n",
      "[CV]  onehot__transformers=[('num', SimpleImputer(strategy='median'), [7, 3, 5, 4]), ('cat', OneHotEncoder(drop='first'), [1, 8, 0, 12, 11, 9, 2, 10])], model__subsample=0.7, model__reg_lambda=None, model__n_estimators=400, model__max_depth=4, model__learning_rate=0.01, model__colsample_bylevel=0.7, total=   0.1s\n",
      "[CV] onehot__transformers=[('num', SimpleImputer(strategy='median'), [7, 3, 5, 4]), ('cat', OneHotEncoder(drop='first'), [1, 8, 0, 12, 11, 9, 2, 10])], model__subsample=0.7, model__reg_lambda=None, model__n_estimators=400, model__max_depth=4, model__learning_rate=0.01, model__colsample_bylevel=0.7 \n",
      "[CV]  onehot__transformers=[('num', SimpleImputer(strategy='median'), [7, 3, 5, 4]), ('cat', OneHotEncoder(drop='first'), [1, 8, 0, 12, 11, 9, 2, 10])], model__subsample=0.7, model__reg_lambda=None, model__n_estimators=400, model__max_depth=4, model__learning_rate=0.01, model__colsample_bylevel=0.7, total=   0.1s\n",
      "[CV] onehot__transformers=[('num', SimpleImputer(strategy='median'), [7, 3, 5, 4]), ('cat', OneHotEncoder(drop='first'), [1, 8, 0, 12, 11, 9, 2, 10])], model__subsample=0.7, model__reg_lambda=None, model__n_estimators=400, model__max_depth=4, model__learning_rate=0.01, model__colsample_bylevel=0.7 \n",
      "[CV]  onehot__transformers=[('num', SimpleImputer(strategy='median'), [7, 3, 5, 4]), ('cat', OneHotEncoder(drop='first'), [1, 8, 0, 12, 11, 9, 2, 10])], model__subsample=0.7, model__reg_lambda=None, model__n_estimators=400, model__max_depth=4, model__learning_rate=0.01, model__colsample_bylevel=0.7, total=   0.1s\n",
      "[CV] onehot__transformers=[('num', SimpleImputer(strategy='median'), [7, 3, 5, 4]), ('cat', OneHotEncoder(drop='first'), [1, 8, 0, 12, 11, 9, 2, 10])], model__subsample=0.7, model__reg_lambda=None, model__n_estimators=400, model__max_depth=4, model__learning_rate=0.01, model__colsample_bylevel=0.7 \n",
      "[CV]  onehot__transformers=[('num', SimpleImputer(strategy='median'), [7, 3, 5, 4]), ('cat', OneHotEncoder(drop='first'), [1, 8, 0, 12, 11, 9, 2, 10])], model__subsample=0.7, model__reg_lambda=None, model__n_estimators=400, model__max_depth=4, model__learning_rate=0.01, model__colsample_bylevel=0.7, total=   0.1s\n",
      "[CV] onehot__transformers=[('num', SimpleImputer(strategy='median'), [7, 3, 5, 4]), ('cat', OneHotEncoder(drop='first'), [1, 8, 0, 12, 11, 9, 2, 10])], model__subsample=0.7, model__reg_lambda=None, model__n_estimators=400, model__max_depth=4, model__learning_rate=0.01, model__colsample_bylevel=0.7 \n",
      "[CV]  onehot__transformers=[('num', SimpleImputer(strategy='median'), [7, 3, 5, 4]), ('cat', OneHotEncoder(drop='first'), [1, 8, 0, 12, 11, 9, 2, 10])], model__subsample=0.7, model__reg_lambda=None, model__n_estimators=400, model__max_depth=4, model__learning_rate=0.01, model__colsample_bylevel=0.7, total=   0.1s\n",
      "[CV] onehot__transformers=[('num', SimpleImputer(strategy='median'), [7, 3, 5, 4]), ('cat', OneHotEncoder(drop='first'), [1, 8, 0, 12, 11, 9, 2, 10])], model__subsample=0.7, model__reg_lambda=None, model__n_estimators=400, model__max_depth=4, model__learning_rate=0.01, model__colsample_bylevel=0.7 \n",
      "[CV]  onehot__transformers=[('num', SimpleImputer(strategy='median'), [7, 3, 5, 4]), ('cat', OneHotEncoder(drop='first'), [1, 8, 0, 12, 11, 9, 2, 10])], model__subsample=0.7, model__reg_lambda=None, model__n_estimators=400, model__max_depth=4, model__learning_rate=0.01, model__colsample_bylevel=0.7, total=   0.1s\n",
      "[CV] onehot__transformers=[('num', SimpleImputer(strategy='median'), [7, 3, 5, 4]), ('cat', OneHotEncoder(drop='first'), [1, 8, 0, 12, 11, 9, 2, 10])], model__subsample=0.7, model__reg_lambda=None, model__n_estimators=400, model__max_depth=4, model__learning_rate=0.01, model__colsample_bylevel=0.7 \n",
      "[CV]  onehot__transformers=[('num', SimpleImputer(strategy='median'), [7, 3, 5, 4]), ('cat', OneHotEncoder(drop='first'), [1, 8, 0, 12, 11, 9, 2, 10])], model__subsample=0.7, model__reg_lambda=None, model__n_estimators=400, model__max_depth=4, model__learning_rate=0.01, model__colsample_bylevel=0.7, total=   0.1s\n",
      "[CV] onehot__transformers=[('num', SimpleImputer(strategy='median'), [7, 3, 5, 4]), ('cat', OneHotEncoder(drop='first'), [1, 8, 0, 12, 11, 9, 2, 10])], model__subsample=0.7, model__reg_lambda=None, model__n_estimators=400, model__max_depth=4, model__learning_rate=0.01, model__colsample_bylevel=0.7 \n",
      "[CV]  onehot__transformers=[('num', SimpleImputer(strategy='median'), [7, 3, 5, 4]), ('cat', OneHotEncoder(drop='first'), [1, 8, 0, 12, 11, 9, 2, 10])], model__subsample=0.7, model__reg_lambda=None, model__n_estimators=400, model__max_depth=4, model__learning_rate=0.01, model__colsample_bylevel=0.7, total=   0.1s\n",
      "[CV] onehot__transformers=[('num', SimpleImputer(strategy='median'), [7, 3, 5, 4]), ('cat', OneHotEncoder(drop='first'), [1, 8, 0, 12, 11, 9, 2, 10])], model__subsample=0.7, model__reg_lambda=None, model__n_estimators=400, model__max_depth=4, model__learning_rate=0.01, model__colsample_bylevel=0.7 \n",
      "[CV]  onehot__transformers=[('num', SimpleImputer(strategy='median'), [7, 3, 5, 4]), ('cat', OneHotEncoder(drop='first'), [1, 8, 0, 12, 11, 9, 2, 10])], model__subsample=0.7, model__reg_lambda=None, model__n_estimators=400, model__max_depth=4, model__learning_rate=0.01, model__colsample_bylevel=0.7, total=   0.1s\n",
      "[CV] onehot__transformers=[('num', SimpleImputer(strategy='median'), [7, 3, 5, 4]), ('cat', OneHotEncoder(drop='first'), [1, 8, 0, 12, 11, 9, 2, 10])], model__subsample=0.7, model__reg_lambda=None, model__n_estimators=400, model__max_depth=4, model__learning_rate=0.01, model__colsample_bylevel=0.7 \n"
     ]
    },
    {
     "name": "stdout",
     "output_type": "stream",
     "text": [
      "[CV]  onehot__transformers=[('num', SimpleImputer(strategy='median'), [7, 3, 5, 4]), ('cat', OneHotEncoder(drop='first'), [1, 8, 0, 12, 11, 9, 2, 10])], model__subsample=0.7, model__reg_lambda=None, model__n_estimators=400, model__max_depth=4, model__learning_rate=0.01, model__colsample_bylevel=0.7, total=   0.1s\n",
      "[CV] onehot__transformers=[('num', SimpleImputer(strategy='median'), [7]), ('cat', OneHotEncoder(drop='first'), [11, 0, 12, 2])], model__subsample=0.7, model__reg_lambda=None, model__n_estimators=400, model__max_depth=4, model__learning_rate=0.03, model__colsample_bylevel=0.5 \n",
      "[CV]  onehot__transformers=[('num', SimpleImputer(strategy='median'), [7]), ('cat', OneHotEncoder(drop='first'), [11, 0, 12, 2])], model__subsample=0.7, model__reg_lambda=None, model__n_estimators=400, model__max_depth=4, model__learning_rate=0.03, model__colsample_bylevel=0.5, total=   0.1s\n",
      "[CV] onehot__transformers=[('num', SimpleImputer(strategy='median'), [7]), ('cat', OneHotEncoder(drop='first'), [11, 0, 12, 2])], model__subsample=0.7, model__reg_lambda=None, model__n_estimators=400, model__max_depth=4, model__learning_rate=0.03, model__colsample_bylevel=0.5 \n",
      "[CV]  onehot__transformers=[('num', SimpleImputer(strategy='median'), [7]), ('cat', OneHotEncoder(drop='first'), [11, 0, 12, 2])], model__subsample=0.7, model__reg_lambda=None, model__n_estimators=400, model__max_depth=4, model__learning_rate=0.03, model__colsample_bylevel=0.5, total=   0.1s\n",
      "[CV] onehot__transformers=[('num', SimpleImputer(strategy='median'), [7]), ('cat', OneHotEncoder(drop='first'), [11, 0, 12, 2])], model__subsample=0.7, model__reg_lambda=None, model__n_estimators=400, model__max_depth=4, model__learning_rate=0.03, model__colsample_bylevel=0.5 \n",
      "[CV]  onehot__transformers=[('num', SimpleImputer(strategy='median'), [7]), ('cat', OneHotEncoder(drop='first'), [11, 0, 12, 2])], model__subsample=0.7, model__reg_lambda=None, model__n_estimators=400, model__max_depth=4, model__learning_rate=0.03, model__colsample_bylevel=0.5, total=   0.1s\n",
      "[CV] onehot__transformers=[('num', SimpleImputer(strategy='median'), [7]), ('cat', OneHotEncoder(drop='first'), [11, 0, 12, 2])], model__subsample=0.7, model__reg_lambda=None, model__n_estimators=400, model__max_depth=4, model__learning_rate=0.03, model__colsample_bylevel=0.5 \n",
      "[CV]  onehot__transformers=[('num', SimpleImputer(strategy='median'), [7]), ('cat', OneHotEncoder(drop='first'), [11, 0, 12, 2])], model__subsample=0.7, model__reg_lambda=None, model__n_estimators=400, model__max_depth=4, model__learning_rate=0.03, model__colsample_bylevel=0.5, total=   0.1s\n",
      "[CV] onehot__transformers=[('num', SimpleImputer(strategy='median'), [7]), ('cat', OneHotEncoder(drop='first'), [11, 0, 12, 2])], model__subsample=0.7, model__reg_lambda=None, model__n_estimators=400, model__max_depth=4, model__learning_rate=0.03, model__colsample_bylevel=0.5 \n",
      "[CV]  onehot__transformers=[('num', SimpleImputer(strategy='median'), [7]), ('cat', OneHotEncoder(drop='first'), [11, 0, 12, 2])], model__subsample=0.7, model__reg_lambda=None, model__n_estimators=400, model__max_depth=4, model__learning_rate=0.03, model__colsample_bylevel=0.5, total=   0.1s\n",
      "[CV] onehot__transformers=[('num', SimpleImputer(strategy='median'), [7]), ('cat', OneHotEncoder(drop='first'), [11, 0, 12, 2])], model__subsample=0.7, model__reg_lambda=None, model__n_estimators=400, model__max_depth=4, model__learning_rate=0.03, model__colsample_bylevel=0.5 \n",
      "[CV]  onehot__transformers=[('num', SimpleImputer(strategy='median'), [7]), ('cat', OneHotEncoder(drop='first'), [11, 0, 12, 2])], model__subsample=0.7, model__reg_lambda=None, model__n_estimators=400, model__max_depth=4, model__learning_rate=0.03, model__colsample_bylevel=0.5, total=   0.1s\n",
      "[CV] onehot__transformers=[('num', SimpleImputer(strategy='median'), [7]), ('cat', OneHotEncoder(drop='first'), [11, 0, 12, 2])], model__subsample=0.7, model__reg_lambda=None, model__n_estimators=400, model__max_depth=4, model__learning_rate=0.03, model__colsample_bylevel=0.5 \n",
      "[CV]  onehot__transformers=[('num', SimpleImputer(strategy='median'), [7]), ('cat', OneHotEncoder(drop='first'), [11, 0, 12, 2])], model__subsample=0.7, model__reg_lambda=None, model__n_estimators=400, model__max_depth=4, model__learning_rate=0.03, model__colsample_bylevel=0.5, total=   0.1s\n",
      "[CV] onehot__transformers=[('num', SimpleImputer(strategy='median'), [7]), ('cat', OneHotEncoder(drop='first'), [11, 0, 12, 2])], model__subsample=0.7, model__reg_lambda=None, model__n_estimators=400, model__max_depth=4, model__learning_rate=0.03, model__colsample_bylevel=0.5 \n",
      "[CV]  onehot__transformers=[('num', SimpleImputer(strategy='median'), [7]), ('cat', OneHotEncoder(drop='first'), [11, 0, 12, 2])], model__subsample=0.7, model__reg_lambda=None, model__n_estimators=400, model__max_depth=4, model__learning_rate=0.03, model__colsample_bylevel=0.5, total=   0.1s\n",
      "[CV] onehot__transformers=[('num', SimpleImputer(strategy='median'), [7]), ('cat', OneHotEncoder(drop='first'), [11, 0, 12, 2])], model__subsample=0.7, model__reg_lambda=None, model__n_estimators=400, model__max_depth=4, model__learning_rate=0.03, model__colsample_bylevel=0.5 \n",
      "[CV]  onehot__transformers=[('num', SimpleImputer(strategy='median'), [7]), ('cat', OneHotEncoder(drop='first'), [11, 0, 12, 2])], model__subsample=0.7, model__reg_lambda=None, model__n_estimators=400, model__max_depth=4, model__learning_rate=0.03, model__colsample_bylevel=0.5, total=   0.1s\n",
      "[CV] onehot__transformers=[('num', SimpleImputer(strategy='median'), [7]), ('cat', OneHotEncoder(drop='first'), [11, 0, 12, 2])], model__subsample=0.7, model__reg_lambda=None, model__n_estimators=400, model__max_depth=4, model__learning_rate=0.03, model__colsample_bylevel=0.5 \n",
      "[CV]  onehot__transformers=[('num', SimpleImputer(strategy='median'), [7]), ('cat', OneHotEncoder(drop='first'), [11, 0, 12, 2])], model__subsample=0.7, model__reg_lambda=None, model__n_estimators=400, model__max_depth=4, model__learning_rate=0.03, model__colsample_bylevel=0.5, total=   0.1s\n",
      "[CV] onehot__transformers=[('num', SimpleImputer(strategy='median'), [7]), ('cat', OneHotEncoder(drop='first'), [11, 0, 12, 2])], model__subsample=0.7, model__reg_lambda=None, model__n_estimators=400, model__max_depth=4, model__learning_rate=0.03, model__colsample_bylevel=0.5 \n",
      "[CV]  onehot__transformers=[('num', SimpleImputer(strategy='median'), [7]), ('cat', OneHotEncoder(drop='first'), [11, 0, 12, 2])], model__subsample=0.7, model__reg_lambda=None, model__n_estimators=400, model__max_depth=4, model__learning_rate=0.03, model__colsample_bylevel=0.5, total=   0.1s\n",
      "[CV] onehot__transformers=[('num', SimpleImputer(strategy='median'), [7]), ('cat', OneHotEncoder(drop='first'), [11, 0, 12, 2])], model__subsample=0.7, model__reg_lambda=None, model__n_estimators=400, model__max_depth=4, model__learning_rate=0.03, model__colsample_bylevel=0.5 \n",
      "[CV]  onehot__transformers=[('num', SimpleImputer(strategy='median'), [7]), ('cat', OneHotEncoder(drop='first'), [11, 0, 12, 2])], model__subsample=0.7, model__reg_lambda=None, model__n_estimators=400, model__max_depth=4, model__learning_rate=0.03, model__colsample_bylevel=0.5, total=   0.1s\n",
      "[CV] onehot__transformers=[('num', SimpleImputer(strategy='median'), [7]), ('cat', OneHotEncoder(drop='first'), [11, 0, 12, 2])], model__subsample=0.7, model__reg_lambda=None, model__n_estimators=400, model__max_depth=4, model__learning_rate=0.03, model__colsample_bylevel=0.5 \n",
      "[CV]  onehot__transformers=[('num', SimpleImputer(strategy='median'), [7]), ('cat', OneHotEncoder(drop='first'), [11, 0, 12, 2])], model__subsample=0.7, model__reg_lambda=None, model__n_estimators=400, model__max_depth=4, model__learning_rate=0.03, model__colsample_bylevel=0.5, total=   0.1s\n",
      "[CV] onehot__transformers=[('num', SimpleImputer(strategy='median'), [7]), ('cat', OneHotEncoder(drop='first'), [11, 0, 12, 2])], model__subsample=0.7, model__reg_lambda=None, model__n_estimators=400, model__max_depth=4, model__learning_rate=0.03, model__colsample_bylevel=0.5 \n",
      "[CV]  onehot__transformers=[('num', SimpleImputer(strategy='median'), [7]), ('cat', OneHotEncoder(drop='first'), [11, 0, 12, 2])], model__subsample=0.7, model__reg_lambda=None, model__n_estimators=400, model__max_depth=4, model__learning_rate=0.03, model__colsample_bylevel=0.5, total=   0.1s\n",
      "[CV] onehot__transformers=[('num', SimpleImputer(strategy='median'), [7]), ('cat', OneHotEncoder(drop='first'), [11, 0, 12, 2])], model__subsample=0.7, model__reg_lambda=None, model__n_estimators=400, model__max_depth=4, model__learning_rate=0.03, model__colsample_bylevel=0.5 \n",
      "[CV]  onehot__transformers=[('num', SimpleImputer(strategy='median'), [7]), ('cat', OneHotEncoder(drop='first'), [11, 0, 12, 2])], model__subsample=0.7, model__reg_lambda=None, model__n_estimators=400, model__max_depth=4, model__learning_rate=0.03, model__colsample_bylevel=0.5, total=   0.1s\n",
      "[CV] onehot__transformers=[('num', SimpleImputer(strategy='median'), [7]), ('cat', OneHotEncoder(drop='first'), [11, 0, 12, 2])], model__subsample=0.7, model__reg_lambda=None, model__n_estimators=400, model__max_depth=4, model__learning_rate=0.03, model__colsample_bylevel=0.5 \n"
     ]
    },
    {
     "name": "stdout",
     "output_type": "stream",
     "text": [
      "[CV]  onehot__transformers=[('num', SimpleImputer(strategy='median'), [7]), ('cat', OneHotEncoder(drop='first'), [11, 0, 12, 2])], model__subsample=0.7, model__reg_lambda=None, model__n_estimators=400, model__max_depth=4, model__learning_rate=0.03, model__colsample_bylevel=0.5, total=   0.1s\n",
      "[CV] onehot__transformers=[('num', SimpleImputer(strategy='median'), [7]), ('cat', OneHotEncoder(drop='first'), [11, 0, 12, 2])], model__subsample=0.7, model__reg_lambda=None, model__n_estimators=400, model__max_depth=4, model__learning_rate=0.03, model__colsample_bylevel=0.5 \n",
      "[CV]  onehot__transformers=[('num', SimpleImputer(strategy='median'), [7]), ('cat', OneHotEncoder(drop='first'), [11, 0, 12, 2])], model__subsample=0.7, model__reg_lambda=None, model__n_estimators=400, model__max_depth=4, model__learning_rate=0.03, model__colsample_bylevel=0.5, total=   0.1s\n",
      "[CV] onehot__transformers=[('num', SimpleImputer(strategy='median'), [7]), ('cat', OneHotEncoder(drop='first'), [11, 0, 12, 2])], model__subsample=0.7, model__reg_lambda=None, model__n_estimators=400, model__max_depth=4, model__learning_rate=0.03, model__colsample_bylevel=0.5 \n",
      "[CV]  onehot__transformers=[('num', SimpleImputer(strategy='median'), [7]), ('cat', OneHotEncoder(drop='first'), [11, 0, 12, 2])], model__subsample=0.7, model__reg_lambda=None, model__n_estimators=400, model__max_depth=4, model__learning_rate=0.03, model__colsample_bylevel=0.5, total=   0.1s\n",
      "[CV] onehot__transformers=[('num', SimpleImputer(strategy='median'), [7]), ('cat', OneHotEncoder(drop='first'), [11, 0, 12, 2])], model__subsample=0.7, model__reg_lambda=None, model__n_estimators=400, model__max_depth=4, model__learning_rate=0.03, model__colsample_bylevel=0.5 \n",
      "[CV]  onehot__transformers=[('num', SimpleImputer(strategy='median'), [7]), ('cat', OneHotEncoder(drop='first'), [11, 0, 12, 2])], model__subsample=0.7, model__reg_lambda=None, model__n_estimators=400, model__max_depth=4, model__learning_rate=0.03, model__colsample_bylevel=0.5, total=   0.1s\n",
      "[CV] onehot__transformers=[('num', SimpleImputer(strategy='median'), [7]), ('cat', OneHotEncoder(drop='first'), [11, 0, 12, 2])], model__subsample=0.7, model__reg_lambda=None, model__n_estimators=400, model__max_depth=4, model__learning_rate=0.03, model__colsample_bylevel=0.5 \n",
      "[CV]  onehot__transformers=[('num', SimpleImputer(strategy='median'), [7]), ('cat', OneHotEncoder(drop='first'), [11, 0, 12, 2])], model__subsample=0.7, model__reg_lambda=None, model__n_estimators=400, model__max_depth=4, model__learning_rate=0.03, model__colsample_bylevel=0.5, total=   0.1s\n",
      "[CV] onehot__transformers=[('num', SimpleImputer(strategy='median'), [7]), ('cat', OneHotEncoder(drop='first'), [11, 0, 12, 2])], model__subsample=0.5, model__reg_lambda=None, model__n_estimators=600, model__max_depth=4, model__learning_rate=0.01, model__colsample_bylevel=0.7 \n",
      "[CV]  onehot__transformers=[('num', SimpleImputer(strategy='median'), [7]), ('cat', OneHotEncoder(drop='first'), [11, 0, 12, 2])], model__subsample=0.5, model__reg_lambda=None, model__n_estimators=600, model__max_depth=4, model__learning_rate=0.01, model__colsample_bylevel=0.7, total=   0.1s\n",
      "[CV] onehot__transformers=[('num', SimpleImputer(strategy='median'), [7]), ('cat', OneHotEncoder(drop='first'), [11, 0, 12, 2])], model__subsample=0.5, model__reg_lambda=None, model__n_estimators=600, model__max_depth=4, model__learning_rate=0.01, model__colsample_bylevel=0.7 \n",
      "[CV]  onehot__transformers=[('num', SimpleImputer(strategy='median'), [7]), ('cat', OneHotEncoder(drop='first'), [11, 0, 12, 2])], model__subsample=0.5, model__reg_lambda=None, model__n_estimators=600, model__max_depth=4, model__learning_rate=0.01, model__colsample_bylevel=0.7, total=   0.1s\n",
      "[CV] onehot__transformers=[('num', SimpleImputer(strategy='median'), [7]), ('cat', OneHotEncoder(drop='first'), [11, 0, 12, 2])], model__subsample=0.5, model__reg_lambda=None, model__n_estimators=600, model__max_depth=4, model__learning_rate=0.01, model__colsample_bylevel=0.7 \n",
      "[CV]  onehot__transformers=[('num', SimpleImputer(strategy='median'), [7]), ('cat', OneHotEncoder(drop='first'), [11, 0, 12, 2])], model__subsample=0.5, model__reg_lambda=None, model__n_estimators=600, model__max_depth=4, model__learning_rate=0.01, model__colsample_bylevel=0.7, total=   0.1s\n",
      "[CV] onehot__transformers=[('num', SimpleImputer(strategy='median'), [7]), ('cat', OneHotEncoder(drop='first'), [11, 0, 12, 2])], model__subsample=0.5, model__reg_lambda=None, model__n_estimators=600, model__max_depth=4, model__learning_rate=0.01, model__colsample_bylevel=0.7 \n",
      "[CV]  onehot__transformers=[('num', SimpleImputer(strategy='median'), [7]), ('cat', OneHotEncoder(drop='first'), [11, 0, 12, 2])], model__subsample=0.5, model__reg_lambda=None, model__n_estimators=600, model__max_depth=4, model__learning_rate=0.01, model__colsample_bylevel=0.7, total=   0.1s\n",
      "[CV] onehot__transformers=[('num', SimpleImputer(strategy='median'), [7]), ('cat', OneHotEncoder(drop='first'), [11, 0, 12, 2])], model__subsample=0.5, model__reg_lambda=None, model__n_estimators=600, model__max_depth=4, model__learning_rate=0.01, model__colsample_bylevel=0.7 \n",
      "[CV]  onehot__transformers=[('num', SimpleImputer(strategy='median'), [7]), ('cat', OneHotEncoder(drop='first'), [11, 0, 12, 2])], model__subsample=0.5, model__reg_lambda=None, model__n_estimators=600, model__max_depth=4, model__learning_rate=0.01, model__colsample_bylevel=0.7, total=   0.1s\n",
      "[CV] onehot__transformers=[('num', SimpleImputer(strategy='median'), [7]), ('cat', OneHotEncoder(drop='first'), [11, 0, 12, 2])], model__subsample=0.5, model__reg_lambda=None, model__n_estimators=600, model__max_depth=4, model__learning_rate=0.01, model__colsample_bylevel=0.7 \n",
      "[CV]  onehot__transformers=[('num', SimpleImputer(strategy='median'), [7]), ('cat', OneHotEncoder(drop='first'), [11, 0, 12, 2])], model__subsample=0.5, model__reg_lambda=None, model__n_estimators=600, model__max_depth=4, model__learning_rate=0.01, model__colsample_bylevel=0.7, total=   0.1s\n",
      "[CV] onehot__transformers=[('num', SimpleImputer(strategy='median'), [7]), ('cat', OneHotEncoder(drop='first'), [11, 0, 12, 2])], model__subsample=0.5, model__reg_lambda=None, model__n_estimators=600, model__max_depth=4, model__learning_rate=0.01, model__colsample_bylevel=0.7 \n",
      "[CV]  onehot__transformers=[('num', SimpleImputer(strategy='median'), [7]), ('cat', OneHotEncoder(drop='first'), [11, 0, 12, 2])], model__subsample=0.5, model__reg_lambda=None, model__n_estimators=600, model__max_depth=4, model__learning_rate=0.01, model__colsample_bylevel=0.7, total=   0.1s\n",
      "[CV] onehot__transformers=[('num', SimpleImputer(strategy='median'), [7]), ('cat', OneHotEncoder(drop='first'), [11, 0, 12, 2])], model__subsample=0.5, model__reg_lambda=None, model__n_estimators=600, model__max_depth=4, model__learning_rate=0.01, model__colsample_bylevel=0.7 \n",
      "[CV]  onehot__transformers=[('num', SimpleImputer(strategy='median'), [7]), ('cat', OneHotEncoder(drop='first'), [11, 0, 12, 2])], model__subsample=0.5, model__reg_lambda=None, model__n_estimators=600, model__max_depth=4, model__learning_rate=0.01, model__colsample_bylevel=0.7, total=   0.1s\n",
      "[CV] onehot__transformers=[('num', SimpleImputer(strategy='median'), [7]), ('cat', OneHotEncoder(drop='first'), [11, 0, 12, 2])], model__subsample=0.5, model__reg_lambda=None, model__n_estimators=600, model__max_depth=4, model__learning_rate=0.01, model__colsample_bylevel=0.7 \n",
      "[CV]  onehot__transformers=[('num', SimpleImputer(strategy='median'), [7]), ('cat', OneHotEncoder(drop='first'), [11, 0, 12, 2])], model__subsample=0.5, model__reg_lambda=None, model__n_estimators=600, model__max_depth=4, model__learning_rate=0.01, model__colsample_bylevel=0.7, total=   0.1s\n",
      "[CV] onehot__transformers=[('num', SimpleImputer(strategy='median'), [7]), ('cat', OneHotEncoder(drop='first'), [11, 0, 12, 2])], model__subsample=0.5, model__reg_lambda=None, model__n_estimators=600, model__max_depth=4, model__learning_rate=0.01, model__colsample_bylevel=0.7 \n",
      "[CV]  onehot__transformers=[('num', SimpleImputer(strategy='median'), [7]), ('cat', OneHotEncoder(drop='first'), [11, 0, 12, 2])], model__subsample=0.5, model__reg_lambda=None, model__n_estimators=600, model__max_depth=4, model__learning_rate=0.01, model__colsample_bylevel=0.7, total=   0.1s\n",
      "[CV] onehot__transformers=[('num', SimpleImputer(strategy='median'), [7]), ('cat', OneHotEncoder(drop='first'), [11, 0, 12, 2])], model__subsample=0.5, model__reg_lambda=None, model__n_estimators=600, model__max_depth=4, model__learning_rate=0.01, model__colsample_bylevel=0.7 \n",
      "[CV]  onehot__transformers=[('num', SimpleImputer(strategy='median'), [7]), ('cat', OneHotEncoder(drop='first'), [11, 0, 12, 2])], model__subsample=0.5, model__reg_lambda=None, model__n_estimators=600, model__max_depth=4, model__learning_rate=0.01, model__colsample_bylevel=0.7, total=   0.1s\n",
      "[CV] onehot__transformers=[('num', SimpleImputer(strategy='median'), [7]), ('cat', OneHotEncoder(drop='first'), [11, 0, 12, 2])], model__subsample=0.5, model__reg_lambda=None, model__n_estimators=600, model__max_depth=4, model__learning_rate=0.01, model__colsample_bylevel=0.7 \n"
     ]
    },
    {
     "name": "stdout",
     "output_type": "stream",
     "text": [
      "[CV]  onehot__transformers=[('num', SimpleImputer(strategy='median'), [7]), ('cat', OneHotEncoder(drop='first'), [11, 0, 12, 2])], model__subsample=0.5, model__reg_lambda=None, model__n_estimators=600, model__max_depth=4, model__learning_rate=0.01, model__colsample_bylevel=0.7, total=   0.1s\n",
      "[CV] onehot__transformers=[('num', SimpleImputer(strategy='median'), [7]), ('cat', OneHotEncoder(drop='first'), [11, 0, 12, 2])], model__subsample=0.5, model__reg_lambda=None, model__n_estimators=600, model__max_depth=4, model__learning_rate=0.01, model__colsample_bylevel=0.7 \n",
      "[CV]  onehot__transformers=[('num', SimpleImputer(strategy='median'), [7]), ('cat', OneHotEncoder(drop='first'), [11, 0, 12, 2])], model__subsample=0.5, model__reg_lambda=None, model__n_estimators=600, model__max_depth=4, model__learning_rate=0.01, model__colsample_bylevel=0.7, total=   0.1s\n",
      "[CV] onehot__transformers=[('num', SimpleImputer(strategy='median'), [7]), ('cat', OneHotEncoder(drop='first'), [11, 0, 12, 2])], model__subsample=0.5, model__reg_lambda=None, model__n_estimators=600, model__max_depth=4, model__learning_rate=0.01, model__colsample_bylevel=0.7 \n",
      "[CV]  onehot__transformers=[('num', SimpleImputer(strategy='median'), [7]), ('cat', OneHotEncoder(drop='first'), [11, 0, 12, 2])], model__subsample=0.5, model__reg_lambda=None, model__n_estimators=600, model__max_depth=4, model__learning_rate=0.01, model__colsample_bylevel=0.7, total=   0.1s\n",
      "[CV] onehot__transformers=[('num', SimpleImputer(strategy='median'), [7]), ('cat', OneHotEncoder(drop='first'), [11, 0, 12, 2])], model__subsample=0.5, model__reg_lambda=None, model__n_estimators=600, model__max_depth=4, model__learning_rate=0.01, model__colsample_bylevel=0.7 \n",
      "[CV]  onehot__transformers=[('num', SimpleImputer(strategy='median'), [7]), ('cat', OneHotEncoder(drop='first'), [11, 0, 12, 2])], model__subsample=0.5, model__reg_lambda=None, model__n_estimators=600, model__max_depth=4, model__learning_rate=0.01, model__colsample_bylevel=0.7, total=   0.1s\n",
      "[CV] onehot__transformers=[('num', SimpleImputer(strategy='median'), [7]), ('cat', OneHotEncoder(drop='first'), [11, 0, 12, 2])], model__subsample=0.5, model__reg_lambda=None, model__n_estimators=600, model__max_depth=4, model__learning_rate=0.01, model__colsample_bylevel=0.7 \n",
      "[CV]  onehot__transformers=[('num', SimpleImputer(strategy='median'), [7]), ('cat', OneHotEncoder(drop='first'), [11, 0, 12, 2])], model__subsample=0.5, model__reg_lambda=None, model__n_estimators=600, model__max_depth=4, model__learning_rate=0.01, model__colsample_bylevel=0.7, total=   0.1s\n",
      "[CV] onehot__transformers=[('num', SimpleImputer(strategy='median'), [7]), ('cat', OneHotEncoder(drop='first'), [11, 0, 12, 2])], model__subsample=0.5, model__reg_lambda=None, model__n_estimators=600, model__max_depth=4, model__learning_rate=0.01, model__colsample_bylevel=0.7 \n",
      "[CV]  onehot__transformers=[('num', SimpleImputer(strategy='median'), [7]), ('cat', OneHotEncoder(drop='first'), [11, 0, 12, 2])], model__subsample=0.5, model__reg_lambda=None, model__n_estimators=600, model__max_depth=4, model__learning_rate=0.01, model__colsample_bylevel=0.7, total=   0.1s\n",
      "[CV] onehot__transformers=[('num', SimpleImputer(strategy='median'), [7]), ('cat', OneHotEncoder(drop='first'), [11, 0, 12, 2])], model__subsample=0.5, model__reg_lambda=None, model__n_estimators=600, model__max_depth=4, model__learning_rate=0.01, model__colsample_bylevel=0.7 \n",
      "[CV]  onehot__transformers=[('num', SimpleImputer(strategy='median'), [7]), ('cat', OneHotEncoder(drop='first'), [11, 0, 12, 2])], model__subsample=0.5, model__reg_lambda=None, model__n_estimators=600, model__max_depth=4, model__learning_rate=0.01, model__colsample_bylevel=0.7, total=   0.1s\n",
      "[CV] onehot__transformers=[('num', SimpleImputer(strategy='median'), [7]), ('cat', OneHotEncoder(drop='first'), [11, 0, 12, 2])], model__subsample=0.5, model__reg_lambda=None, model__n_estimators=600, model__max_depth=4, model__learning_rate=0.01, model__colsample_bylevel=0.7 \n",
      "[CV]  onehot__transformers=[('num', SimpleImputer(strategy='median'), [7]), ('cat', OneHotEncoder(drop='first'), [11, 0, 12, 2])], model__subsample=0.5, model__reg_lambda=None, model__n_estimators=600, model__max_depth=4, model__learning_rate=0.01, model__colsample_bylevel=0.7, total=   0.1s\n",
      "[CV] onehot__transformers=[('num', SimpleImputer(strategy='median'), [7]), ('cat', OneHotEncoder(drop='first'), [11, 0, 12, 2])], model__subsample=0.5, model__reg_lambda=None, model__n_estimators=600, model__max_depth=4, model__learning_rate=0.01, model__colsample_bylevel=0.7 \n",
      "[CV]  onehot__transformers=[('num', SimpleImputer(strategy='median'), [7]), ('cat', OneHotEncoder(drop='first'), [11, 0, 12, 2])], model__subsample=0.5, model__reg_lambda=None, model__n_estimators=600, model__max_depth=4, model__learning_rate=0.01, model__colsample_bylevel=0.7, total=   0.1s\n",
      "[CV] onehot__transformers=[('num', SimpleImputer(strategy='median'), [7]), ('cat', OneHotEncoder(drop='first'), [11, 0, 12, 2, 1, 8, 9])], model__subsample=0.5, model__reg_lambda=15, model__n_estimators=600, model__max_depth=4, model__learning_rate=0.05, model__colsample_bylevel=0.7 \n",
      "[CV]  onehot__transformers=[('num', SimpleImputer(strategy='median'), [7]), ('cat', OneHotEncoder(drop='first'), [11, 0, 12, 2, 1, 8, 9])], model__subsample=0.5, model__reg_lambda=15, model__n_estimators=600, model__max_depth=4, model__learning_rate=0.05, model__colsample_bylevel=0.7, total=   0.5s\n",
      "[CV] onehot__transformers=[('num', SimpleImputer(strategy='median'), [7]), ('cat', OneHotEncoder(drop='first'), [11, 0, 12, 2, 1, 8, 9])], model__subsample=0.5, model__reg_lambda=15, model__n_estimators=600, model__max_depth=4, model__learning_rate=0.05, model__colsample_bylevel=0.7 \n",
      "[CV]  onehot__transformers=[('num', SimpleImputer(strategy='median'), [7]), ('cat', OneHotEncoder(drop='first'), [11, 0, 12, 2, 1, 8, 9])], model__subsample=0.5, model__reg_lambda=15, model__n_estimators=600, model__max_depth=4, model__learning_rate=0.05, model__colsample_bylevel=0.7, total=   0.5s\n",
      "[CV] onehot__transformers=[('num', SimpleImputer(strategy='median'), [7]), ('cat', OneHotEncoder(drop='first'), [11, 0, 12, 2, 1, 8, 9])], model__subsample=0.5, model__reg_lambda=15, model__n_estimators=600, model__max_depth=4, model__learning_rate=0.05, model__colsample_bylevel=0.7 \n",
      "[CV]  onehot__transformers=[('num', SimpleImputer(strategy='median'), [7]), ('cat', OneHotEncoder(drop='first'), [11, 0, 12, 2, 1, 8, 9])], model__subsample=0.5, model__reg_lambda=15, model__n_estimators=600, model__max_depth=4, model__learning_rate=0.05, model__colsample_bylevel=0.7, total=   0.4s\n",
      "[CV] onehot__transformers=[('num', SimpleImputer(strategy='median'), [7]), ('cat', OneHotEncoder(drop='first'), [11, 0, 12, 2, 1, 8, 9])], model__subsample=0.5, model__reg_lambda=15, model__n_estimators=600, model__max_depth=4, model__learning_rate=0.05, model__colsample_bylevel=0.7 \n",
      "[CV]  onehot__transformers=[('num', SimpleImputer(strategy='median'), [7]), ('cat', OneHotEncoder(drop='first'), [11, 0, 12, 2, 1, 8, 9])], model__subsample=0.5, model__reg_lambda=15, model__n_estimators=600, model__max_depth=4, model__learning_rate=0.05, model__colsample_bylevel=0.7, total=   0.4s\n",
      "[CV] onehot__transformers=[('num', SimpleImputer(strategy='median'), [7]), ('cat', OneHotEncoder(drop='first'), [11, 0, 12, 2, 1, 8, 9])], model__subsample=0.5, model__reg_lambda=15, model__n_estimators=600, model__max_depth=4, model__learning_rate=0.05, model__colsample_bylevel=0.7 \n",
      "[CV]  onehot__transformers=[('num', SimpleImputer(strategy='median'), [7]), ('cat', OneHotEncoder(drop='first'), [11, 0, 12, 2, 1, 8, 9])], model__subsample=0.5, model__reg_lambda=15, model__n_estimators=600, model__max_depth=4, model__learning_rate=0.05, model__colsample_bylevel=0.7, total=   0.5s\n",
      "[CV] onehot__transformers=[('num', SimpleImputer(strategy='median'), [7]), ('cat', OneHotEncoder(drop='first'), [11, 0, 12, 2, 1, 8, 9])], model__subsample=0.5, model__reg_lambda=15, model__n_estimators=600, model__max_depth=4, model__learning_rate=0.05, model__colsample_bylevel=0.7 \n",
      "[CV]  onehot__transformers=[('num', SimpleImputer(strategy='median'), [7]), ('cat', OneHotEncoder(drop='first'), [11, 0, 12, 2, 1, 8, 9])], model__subsample=0.5, model__reg_lambda=15, model__n_estimators=600, model__max_depth=4, model__learning_rate=0.05, model__colsample_bylevel=0.7, total=   0.4s\n",
      "[CV] onehot__transformers=[('num', SimpleImputer(strategy='median'), [7]), ('cat', OneHotEncoder(drop='first'), [11, 0, 12, 2, 1, 8, 9])], model__subsample=0.5, model__reg_lambda=15, model__n_estimators=600, model__max_depth=4, model__learning_rate=0.05, model__colsample_bylevel=0.7 \n"
     ]
    },
    {
     "name": "stdout",
     "output_type": "stream",
     "text": [
      "[CV]  onehot__transformers=[('num', SimpleImputer(strategy='median'), [7]), ('cat', OneHotEncoder(drop='first'), [11, 0, 12, 2, 1, 8, 9])], model__subsample=0.5, model__reg_lambda=15, model__n_estimators=600, model__max_depth=4, model__learning_rate=0.05, model__colsample_bylevel=0.7, total=   0.4s\n",
      "[CV] onehot__transformers=[('num', SimpleImputer(strategy='median'), [7]), ('cat', OneHotEncoder(drop='first'), [11, 0, 12, 2, 1, 8, 9])], model__subsample=0.5, model__reg_lambda=15, model__n_estimators=600, model__max_depth=4, model__learning_rate=0.05, model__colsample_bylevel=0.7 \n",
      "[CV]  onehot__transformers=[('num', SimpleImputer(strategy='median'), [7]), ('cat', OneHotEncoder(drop='first'), [11, 0, 12, 2, 1, 8, 9])], model__subsample=0.5, model__reg_lambda=15, model__n_estimators=600, model__max_depth=4, model__learning_rate=0.05, model__colsample_bylevel=0.7, total=   0.4s\n",
      "[CV] onehot__transformers=[('num', SimpleImputer(strategy='median'), [7]), ('cat', OneHotEncoder(drop='first'), [11, 0, 12, 2, 1, 8, 9])], model__subsample=0.5, model__reg_lambda=15, model__n_estimators=600, model__max_depth=4, model__learning_rate=0.05, model__colsample_bylevel=0.7 \n",
      "[CV]  onehot__transformers=[('num', SimpleImputer(strategy='median'), [7]), ('cat', OneHotEncoder(drop='first'), [11, 0, 12, 2, 1, 8, 9])], model__subsample=0.5, model__reg_lambda=15, model__n_estimators=600, model__max_depth=4, model__learning_rate=0.05, model__colsample_bylevel=0.7, total=   0.5s\n",
      "[CV] onehot__transformers=[('num', SimpleImputer(strategy='median'), [7]), ('cat', OneHotEncoder(drop='first'), [11, 0, 12, 2, 1, 8, 9])], model__subsample=0.5, model__reg_lambda=15, model__n_estimators=600, model__max_depth=4, model__learning_rate=0.05, model__colsample_bylevel=0.7 \n",
      "[CV]  onehot__transformers=[('num', SimpleImputer(strategy='median'), [7]), ('cat', OneHotEncoder(drop='first'), [11, 0, 12, 2, 1, 8, 9])], model__subsample=0.5, model__reg_lambda=15, model__n_estimators=600, model__max_depth=4, model__learning_rate=0.05, model__colsample_bylevel=0.7, total=   0.4s\n",
      "[CV] onehot__transformers=[('num', SimpleImputer(strategy='median'), [7]), ('cat', OneHotEncoder(drop='first'), [11, 0, 12, 2, 1, 8, 9])], model__subsample=0.5, model__reg_lambda=15, model__n_estimators=600, model__max_depth=4, model__learning_rate=0.05, model__colsample_bylevel=0.7 \n",
      "[CV]  onehot__transformers=[('num', SimpleImputer(strategy='median'), [7]), ('cat', OneHotEncoder(drop='first'), [11, 0, 12, 2, 1, 8, 9])], model__subsample=0.5, model__reg_lambda=15, model__n_estimators=600, model__max_depth=4, model__learning_rate=0.05, model__colsample_bylevel=0.7, total=   0.4s\n",
      "[CV] onehot__transformers=[('num', SimpleImputer(strategy='median'), [7]), ('cat', OneHotEncoder(drop='first'), [11, 0, 12, 2, 1, 8, 9])], model__subsample=0.5, model__reg_lambda=15, model__n_estimators=600, model__max_depth=4, model__learning_rate=0.05, model__colsample_bylevel=0.7 \n",
      "[CV]  onehot__transformers=[('num', SimpleImputer(strategy='median'), [7]), ('cat', OneHotEncoder(drop='first'), [11, 0, 12, 2, 1, 8, 9])], model__subsample=0.5, model__reg_lambda=15, model__n_estimators=600, model__max_depth=4, model__learning_rate=0.05, model__colsample_bylevel=0.7, total=   0.4s\n",
      "[CV] onehot__transformers=[('num', SimpleImputer(strategy='median'), [7]), ('cat', OneHotEncoder(drop='first'), [11, 0, 12, 2, 1, 8, 9])], model__subsample=0.5, model__reg_lambda=15, model__n_estimators=600, model__max_depth=4, model__learning_rate=0.05, model__colsample_bylevel=0.7 \n",
      "[CV]  onehot__transformers=[('num', SimpleImputer(strategy='median'), [7]), ('cat', OneHotEncoder(drop='first'), [11, 0, 12, 2, 1, 8, 9])], model__subsample=0.5, model__reg_lambda=15, model__n_estimators=600, model__max_depth=4, model__learning_rate=0.05, model__colsample_bylevel=0.7, total=   0.4s\n",
      "[CV] onehot__transformers=[('num', SimpleImputer(strategy='median'), [7]), ('cat', OneHotEncoder(drop='first'), [11, 0, 12, 2, 1, 8, 9])], model__subsample=0.5, model__reg_lambda=15, model__n_estimators=600, model__max_depth=4, model__learning_rate=0.05, model__colsample_bylevel=0.7 \n",
      "[CV]  onehot__transformers=[('num', SimpleImputer(strategy='median'), [7]), ('cat', OneHotEncoder(drop='first'), [11, 0, 12, 2, 1, 8, 9])], model__subsample=0.5, model__reg_lambda=15, model__n_estimators=600, model__max_depth=4, model__learning_rate=0.05, model__colsample_bylevel=0.7, total=   0.4s\n",
      "[CV] onehot__transformers=[('num', SimpleImputer(strategy='median'), [7]), ('cat', OneHotEncoder(drop='first'), [11, 0, 12, 2, 1, 8, 9])], model__subsample=0.5, model__reg_lambda=15, model__n_estimators=600, model__max_depth=4, model__learning_rate=0.05, model__colsample_bylevel=0.7 \n",
      "[CV]  onehot__transformers=[('num', SimpleImputer(strategy='median'), [7]), ('cat', OneHotEncoder(drop='first'), [11, 0, 12, 2, 1, 8, 9])], model__subsample=0.5, model__reg_lambda=15, model__n_estimators=600, model__max_depth=4, model__learning_rate=0.05, model__colsample_bylevel=0.7, total=   0.4s\n",
      "[CV] onehot__transformers=[('num', SimpleImputer(strategy='median'), [7]), ('cat', OneHotEncoder(drop='first'), [11, 0, 12, 2, 1, 8, 9])], model__subsample=0.5, model__reg_lambda=15, model__n_estimators=600, model__max_depth=4, model__learning_rate=0.05, model__colsample_bylevel=0.7 \n",
      "[CV]  onehot__transformers=[('num', SimpleImputer(strategy='median'), [7]), ('cat', OneHotEncoder(drop='first'), [11, 0, 12, 2, 1, 8, 9])], model__subsample=0.5, model__reg_lambda=15, model__n_estimators=600, model__max_depth=4, model__learning_rate=0.05, model__colsample_bylevel=0.7, total=   0.4s\n",
      "[CV] onehot__transformers=[('num', SimpleImputer(strategy='median'), [7]), ('cat', OneHotEncoder(drop='first'), [11, 0, 12, 2, 1, 8, 9])], model__subsample=0.5, model__reg_lambda=15, model__n_estimators=600, model__max_depth=4, model__learning_rate=0.05, model__colsample_bylevel=0.7 \n",
      "[CV]  onehot__transformers=[('num', SimpleImputer(strategy='median'), [7]), ('cat', OneHotEncoder(drop='first'), [11, 0, 12, 2, 1, 8, 9])], model__subsample=0.5, model__reg_lambda=15, model__n_estimators=600, model__max_depth=4, model__learning_rate=0.05, model__colsample_bylevel=0.7, total=   0.5s\n",
      "[CV] onehot__transformers=[('num', SimpleImputer(strategy='median'), [7]), ('cat', OneHotEncoder(drop='first'), [11, 0, 12, 2, 1, 8, 9])], model__subsample=0.5, model__reg_lambda=15, model__n_estimators=600, model__max_depth=4, model__learning_rate=0.05, model__colsample_bylevel=0.7 \n",
      "[CV]  onehot__transformers=[('num', SimpleImputer(strategy='median'), [7]), ('cat', OneHotEncoder(drop='first'), [11, 0, 12, 2, 1, 8, 9])], model__subsample=0.5, model__reg_lambda=15, model__n_estimators=600, model__max_depth=4, model__learning_rate=0.05, model__colsample_bylevel=0.7, total=   0.4s\n",
      "[CV] onehot__transformers=[('num', SimpleImputer(strategy='median'), [7]), ('cat', OneHotEncoder(drop='first'), [11, 0, 12, 2, 1, 8, 9])], model__subsample=0.5, model__reg_lambda=15, model__n_estimators=600, model__max_depth=4, model__learning_rate=0.05, model__colsample_bylevel=0.7 \n",
      "[CV]  onehot__transformers=[('num', SimpleImputer(strategy='median'), [7]), ('cat', OneHotEncoder(drop='first'), [11, 0, 12, 2, 1, 8, 9])], model__subsample=0.5, model__reg_lambda=15, model__n_estimators=600, model__max_depth=4, model__learning_rate=0.05, model__colsample_bylevel=0.7, total=   0.4s\n",
      "[CV] onehot__transformers=[('num', SimpleImputer(strategy='median'), [7]), ('cat', OneHotEncoder(drop='first'), [11, 0, 12, 2, 1, 8, 9])], model__subsample=0.5, model__reg_lambda=15, model__n_estimators=600, model__max_depth=4, model__learning_rate=0.05, model__colsample_bylevel=0.7 \n",
      "[CV]  onehot__transformers=[('num', SimpleImputer(strategy='median'), [7]), ('cat', OneHotEncoder(drop='first'), [11, 0, 12, 2, 1, 8, 9])], model__subsample=0.5, model__reg_lambda=15, model__n_estimators=600, model__max_depth=4, model__learning_rate=0.05, model__colsample_bylevel=0.7, total=   0.4s\n",
      "[CV] onehot__transformers=[('num', SimpleImputer(strategy='median'), [7]), ('cat', OneHotEncoder(drop='first'), [11, 0, 12, 2, 1, 8, 9])], model__subsample=0.5, model__reg_lambda=15, model__n_estimators=600, model__max_depth=3, model__learning_rate=0.03, model__colsample_bylevel=0.5 \n",
      "[CV]  onehot__transformers=[('num', SimpleImputer(strategy='median'), [7]), ('cat', OneHotEncoder(drop='first'), [11, 0, 12, 2, 1, 8, 9])], model__subsample=0.5, model__reg_lambda=15, model__n_estimators=600, model__max_depth=3, model__learning_rate=0.03, model__colsample_bylevel=0.5, total=   0.4s\n",
      "[CV] onehot__transformers=[('num', SimpleImputer(strategy='median'), [7]), ('cat', OneHotEncoder(drop='first'), [11, 0, 12, 2, 1, 8, 9])], model__subsample=0.5, model__reg_lambda=15, model__n_estimators=600, model__max_depth=3, model__learning_rate=0.03, model__colsample_bylevel=0.5 \n"
     ]
    },
    {
     "name": "stdout",
     "output_type": "stream",
     "text": [
      "[CV]  onehot__transformers=[('num', SimpleImputer(strategy='median'), [7]), ('cat', OneHotEncoder(drop='first'), [11, 0, 12, 2, 1, 8, 9])], model__subsample=0.5, model__reg_lambda=15, model__n_estimators=600, model__max_depth=3, model__learning_rate=0.03, model__colsample_bylevel=0.5, total=   0.4s\n",
      "[CV] onehot__transformers=[('num', SimpleImputer(strategy='median'), [7]), ('cat', OneHotEncoder(drop='first'), [11, 0, 12, 2, 1, 8, 9])], model__subsample=0.5, model__reg_lambda=15, model__n_estimators=600, model__max_depth=3, model__learning_rate=0.03, model__colsample_bylevel=0.5 \n",
      "[CV]  onehot__transformers=[('num', SimpleImputer(strategy='median'), [7]), ('cat', OneHotEncoder(drop='first'), [11, 0, 12, 2, 1, 8, 9])], model__subsample=0.5, model__reg_lambda=15, model__n_estimators=600, model__max_depth=3, model__learning_rate=0.03, model__colsample_bylevel=0.5, total=   0.4s\n",
      "[CV] onehot__transformers=[('num', SimpleImputer(strategy='median'), [7]), ('cat', OneHotEncoder(drop='first'), [11, 0, 12, 2, 1, 8, 9])], model__subsample=0.5, model__reg_lambda=15, model__n_estimators=600, model__max_depth=3, model__learning_rate=0.03, model__colsample_bylevel=0.5 \n",
      "[CV]  onehot__transformers=[('num', SimpleImputer(strategy='median'), [7]), ('cat', OneHotEncoder(drop='first'), [11, 0, 12, 2, 1, 8, 9])], model__subsample=0.5, model__reg_lambda=15, model__n_estimators=600, model__max_depth=3, model__learning_rate=0.03, model__colsample_bylevel=0.5, total=   0.4s\n",
      "[CV] onehot__transformers=[('num', SimpleImputer(strategy='median'), [7]), ('cat', OneHotEncoder(drop='first'), [11, 0, 12, 2, 1, 8, 9])], model__subsample=0.5, model__reg_lambda=15, model__n_estimators=600, model__max_depth=3, model__learning_rate=0.03, model__colsample_bylevel=0.5 \n",
      "[CV]  onehot__transformers=[('num', SimpleImputer(strategy='median'), [7]), ('cat', OneHotEncoder(drop='first'), [11, 0, 12, 2, 1, 8, 9])], model__subsample=0.5, model__reg_lambda=15, model__n_estimators=600, model__max_depth=3, model__learning_rate=0.03, model__colsample_bylevel=0.5, total=   0.4s\n",
      "[CV] onehot__transformers=[('num', SimpleImputer(strategy='median'), [7]), ('cat', OneHotEncoder(drop='first'), [11, 0, 12, 2, 1, 8, 9])], model__subsample=0.5, model__reg_lambda=15, model__n_estimators=600, model__max_depth=3, model__learning_rate=0.03, model__colsample_bylevel=0.5 \n",
      "[CV]  onehot__transformers=[('num', SimpleImputer(strategy='median'), [7]), ('cat', OneHotEncoder(drop='first'), [11, 0, 12, 2, 1, 8, 9])], model__subsample=0.5, model__reg_lambda=15, model__n_estimators=600, model__max_depth=3, model__learning_rate=0.03, model__colsample_bylevel=0.5, total=   0.4s\n",
      "[CV] onehot__transformers=[('num', SimpleImputer(strategy='median'), [7]), ('cat', OneHotEncoder(drop='first'), [11, 0, 12, 2, 1, 8, 9])], model__subsample=0.5, model__reg_lambda=15, model__n_estimators=600, model__max_depth=3, model__learning_rate=0.03, model__colsample_bylevel=0.5 \n",
      "[CV]  onehot__transformers=[('num', SimpleImputer(strategy='median'), [7]), ('cat', OneHotEncoder(drop='first'), [11, 0, 12, 2, 1, 8, 9])], model__subsample=0.5, model__reg_lambda=15, model__n_estimators=600, model__max_depth=3, model__learning_rate=0.03, model__colsample_bylevel=0.5, total=   0.4s\n",
      "[CV] onehot__transformers=[('num', SimpleImputer(strategy='median'), [7]), ('cat', OneHotEncoder(drop='first'), [11, 0, 12, 2, 1, 8, 9])], model__subsample=0.5, model__reg_lambda=15, model__n_estimators=600, model__max_depth=3, model__learning_rate=0.03, model__colsample_bylevel=0.5 \n",
      "[CV]  onehot__transformers=[('num', SimpleImputer(strategy='median'), [7]), ('cat', OneHotEncoder(drop='first'), [11, 0, 12, 2, 1, 8, 9])], model__subsample=0.5, model__reg_lambda=15, model__n_estimators=600, model__max_depth=3, model__learning_rate=0.03, model__colsample_bylevel=0.5, total=   0.4s\n",
      "[CV] onehot__transformers=[('num', SimpleImputer(strategy='median'), [7]), ('cat', OneHotEncoder(drop='first'), [11, 0, 12, 2, 1, 8, 9])], model__subsample=0.5, model__reg_lambda=15, model__n_estimators=600, model__max_depth=3, model__learning_rate=0.03, model__colsample_bylevel=0.5 \n",
      "[CV]  onehot__transformers=[('num', SimpleImputer(strategy='median'), [7]), ('cat', OneHotEncoder(drop='first'), [11, 0, 12, 2, 1, 8, 9])], model__subsample=0.5, model__reg_lambda=15, model__n_estimators=600, model__max_depth=3, model__learning_rate=0.03, model__colsample_bylevel=0.5, total=   0.4s\n",
      "[CV] onehot__transformers=[('num', SimpleImputer(strategy='median'), [7]), ('cat', OneHotEncoder(drop='first'), [11, 0, 12, 2, 1, 8, 9])], model__subsample=0.5, model__reg_lambda=15, model__n_estimators=600, model__max_depth=3, model__learning_rate=0.03, model__colsample_bylevel=0.5 \n",
      "[CV]  onehot__transformers=[('num', SimpleImputer(strategy='median'), [7]), ('cat', OneHotEncoder(drop='first'), [11, 0, 12, 2, 1, 8, 9])], model__subsample=0.5, model__reg_lambda=15, model__n_estimators=600, model__max_depth=3, model__learning_rate=0.03, model__colsample_bylevel=0.5, total=   0.4s\n",
      "[CV] onehot__transformers=[('num', SimpleImputer(strategy='median'), [7]), ('cat', OneHotEncoder(drop='first'), [11, 0, 12, 2, 1, 8, 9])], model__subsample=0.5, model__reg_lambda=15, model__n_estimators=600, model__max_depth=3, model__learning_rate=0.03, model__colsample_bylevel=0.5 \n",
      "[CV]  onehot__transformers=[('num', SimpleImputer(strategy='median'), [7]), ('cat', OneHotEncoder(drop='first'), [11, 0, 12, 2, 1, 8, 9])], model__subsample=0.5, model__reg_lambda=15, model__n_estimators=600, model__max_depth=3, model__learning_rate=0.03, model__colsample_bylevel=0.5, total=   0.4s\n",
      "[CV] onehot__transformers=[('num', SimpleImputer(strategy='median'), [7]), ('cat', OneHotEncoder(drop='first'), [11, 0, 12, 2, 1, 8, 9])], model__subsample=0.5, model__reg_lambda=15, model__n_estimators=600, model__max_depth=3, model__learning_rate=0.03, model__colsample_bylevel=0.5 \n",
      "[CV]  onehot__transformers=[('num', SimpleImputer(strategy='median'), [7]), ('cat', OneHotEncoder(drop='first'), [11, 0, 12, 2, 1, 8, 9])], model__subsample=0.5, model__reg_lambda=15, model__n_estimators=600, model__max_depth=3, model__learning_rate=0.03, model__colsample_bylevel=0.5, total=   0.4s\n",
      "[CV] onehot__transformers=[('num', SimpleImputer(strategy='median'), [7]), ('cat', OneHotEncoder(drop='first'), [11, 0, 12, 2, 1, 8, 9])], model__subsample=0.5, model__reg_lambda=15, model__n_estimators=600, model__max_depth=3, model__learning_rate=0.03, model__colsample_bylevel=0.5 \n",
      "[CV]  onehot__transformers=[('num', SimpleImputer(strategy='median'), [7]), ('cat', OneHotEncoder(drop='first'), [11, 0, 12, 2, 1, 8, 9])], model__subsample=0.5, model__reg_lambda=15, model__n_estimators=600, model__max_depth=3, model__learning_rate=0.03, model__colsample_bylevel=0.5, total=   0.4s\n",
      "[CV] onehot__transformers=[('num', SimpleImputer(strategy='median'), [7]), ('cat', OneHotEncoder(drop='first'), [11, 0, 12, 2, 1, 8, 9])], model__subsample=0.5, model__reg_lambda=15, model__n_estimators=600, model__max_depth=3, model__learning_rate=0.03, model__colsample_bylevel=0.5 \n",
      "[CV]  onehot__transformers=[('num', SimpleImputer(strategy='median'), [7]), ('cat', OneHotEncoder(drop='first'), [11, 0, 12, 2, 1, 8, 9])], model__subsample=0.5, model__reg_lambda=15, model__n_estimators=600, model__max_depth=3, model__learning_rate=0.03, model__colsample_bylevel=0.5, total=   0.4s\n",
      "[CV] onehot__transformers=[('num', SimpleImputer(strategy='median'), [7]), ('cat', OneHotEncoder(drop='first'), [11, 0, 12, 2, 1, 8, 9])], model__subsample=0.5, model__reg_lambda=15, model__n_estimators=600, model__max_depth=3, model__learning_rate=0.03, model__colsample_bylevel=0.5 \n",
      "[CV]  onehot__transformers=[('num', SimpleImputer(strategy='median'), [7]), ('cat', OneHotEncoder(drop='first'), [11, 0, 12, 2, 1, 8, 9])], model__subsample=0.5, model__reg_lambda=15, model__n_estimators=600, model__max_depth=3, model__learning_rate=0.03, model__colsample_bylevel=0.5, total=   0.4s\n",
      "[CV] onehot__transformers=[('num', SimpleImputer(strategy='median'), [7]), ('cat', OneHotEncoder(drop='first'), [11, 0, 12, 2, 1, 8, 9])], model__subsample=0.5, model__reg_lambda=15, model__n_estimators=600, model__max_depth=3, model__learning_rate=0.03, model__colsample_bylevel=0.5 \n",
      "[CV]  onehot__transformers=[('num', SimpleImputer(strategy='median'), [7]), ('cat', OneHotEncoder(drop='first'), [11, 0, 12, 2, 1, 8, 9])], model__subsample=0.5, model__reg_lambda=15, model__n_estimators=600, model__max_depth=3, model__learning_rate=0.03, model__colsample_bylevel=0.5, total=   0.4s\n",
      "[CV] onehot__transformers=[('num', SimpleImputer(strategy='median'), [7]), ('cat', OneHotEncoder(drop='first'), [11, 0, 12, 2, 1, 8, 9])], model__subsample=0.5, model__reg_lambda=15, model__n_estimators=600, model__max_depth=3, model__learning_rate=0.03, model__colsample_bylevel=0.5 \n"
     ]
    },
    {
     "name": "stdout",
     "output_type": "stream",
     "text": [
      "[CV]  onehot__transformers=[('num', SimpleImputer(strategy='median'), [7]), ('cat', OneHotEncoder(drop='first'), [11, 0, 12, 2, 1, 8, 9])], model__subsample=0.5, model__reg_lambda=15, model__n_estimators=600, model__max_depth=3, model__learning_rate=0.03, model__colsample_bylevel=0.5, total=   0.4s\n",
      "[CV] onehot__transformers=[('num', SimpleImputer(strategy='median'), [7]), ('cat', OneHotEncoder(drop='first'), [11, 0, 12, 2, 1, 8, 9])], model__subsample=0.5, model__reg_lambda=15, model__n_estimators=600, model__max_depth=3, model__learning_rate=0.03, model__colsample_bylevel=0.5 \n",
      "[CV]  onehot__transformers=[('num', SimpleImputer(strategy='median'), [7]), ('cat', OneHotEncoder(drop='first'), [11, 0, 12, 2, 1, 8, 9])], model__subsample=0.5, model__reg_lambda=15, model__n_estimators=600, model__max_depth=3, model__learning_rate=0.03, model__colsample_bylevel=0.5, total=   0.4s\n",
      "[CV] onehot__transformers=[('num', SimpleImputer(strategy='median'), [7]), ('cat', OneHotEncoder(drop='first'), [11, 0, 12, 2, 1, 8, 9])], model__subsample=0.5, model__reg_lambda=15, model__n_estimators=600, model__max_depth=3, model__learning_rate=0.03, model__colsample_bylevel=0.5 \n",
      "[CV]  onehot__transformers=[('num', SimpleImputer(strategy='median'), [7]), ('cat', OneHotEncoder(drop='first'), [11, 0, 12, 2, 1, 8, 9])], model__subsample=0.5, model__reg_lambda=15, model__n_estimators=600, model__max_depth=3, model__learning_rate=0.03, model__colsample_bylevel=0.5, total=   0.4s\n",
      "[CV] onehot__transformers=[('num', SimpleImputer(strategy='median'), [7]), ('cat', OneHotEncoder(drop='first'), [11, 0, 12, 2, 1, 8, 9])], model__subsample=0.5, model__reg_lambda=15, model__n_estimators=600, model__max_depth=3, model__learning_rate=0.03, model__colsample_bylevel=0.5 \n",
      "[CV]  onehot__transformers=[('num', SimpleImputer(strategy='median'), [7]), ('cat', OneHotEncoder(drop='first'), [11, 0, 12, 2, 1, 8, 9])], model__subsample=0.5, model__reg_lambda=15, model__n_estimators=600, model__max_depth=3, model__learning_rate=0.03, model__colsample_bylevel=0.5, total=   0.4s\n",
      "[CV] onehot__transformers=[('num', SimpleImputer(strategy='median'), [7]), ('cat', OneHotEncoder(drop='first'), [11, 0, 12, 2, 1, 8])], model__subsample=0.7, model__reg_lambda=15, model__n_estimators=600, model__max_depth=3, model__learning_rate=0.03, model__colsample_bylevel=0.5 \n",
      "[CV]  onehot__transformers=[('num', SimpleImputer(strategy='median'), [7]), ('cat', OneHotEncoder(drop='first'), [11, 0, 12, 2, 1, 8])], model__subsample=0.7, model__reg_lambda=15, model__n_estimators=600, model__max_depth=3, model__learning_rate=0.03, model__colsample_bylevel=0.5, total=   0.4s\n",
      "[CV] onehot__transformers=[('num', SimpleImputer(strategy='median'), [7]), ('cat', OneHotEncoder(drop='first'), [11, 0, 12, 2, 1, 8])], model__subsample=0.7, model__reg_lambda=15, model__n_estimators=600, model__max_depth=3, model__learning_rate=0.03, model__colsample_bylevel=0.5 \n",
      "[CV]  onehot__transformers=[('num', SimpleImputer(strategy='median'), [7]), ('cat', OneHotEncoder(drop='first'), [11, 0, 12, 2, 1, 8])], model__subsample=0.7, model__reg_lambda=15, model__n_estimators=600, model__max_depth=3, model__learning_rate=0.03, model__colsample_bylevel=0.5, total=   0.4s\n",
      "[CV] onehot__transformers=[('num', SimpleImputer(strategy='median'), [7]), ('cat', OneHotEncoder(drop='first'), [11, 0, 12, 2, 1, 8])], model__subsample=0.7, model__reg_lambda=15, model__n_estimators=600, model__max_depth=3, model__learning_rate=0.03, model__colsample_bylevel=0.5 \n",
      "[CV]  onehot__transformers=[('num', SimpleImputer(strategy='median'), [7]), ('cat', OneHotEncoder(drop='first'), [11, 0, 12, 2, 1, 8])], model__subsample=0.7, model__reg_lambda=15, model__n_estimators=600, model__max_depth=3, model__learning_rate=0.03, model__colsample_bylevel=0.5, total=   0.4s\n",
      "[CV] onehot__transformers=[('num', SimpleImputer(strategy='median'), [7]), ('cat', OneHotEncoder(drop='first'), [11, 0, 12, 2, 1, 8])], model__subsample=0.7, model__reg_lambda=15, model__n_estimators=600, model__max_depth=3, model__learning_rate=0.03, model__colsample_bylevel=0.5 \n",
      "[CV]  onehot__transformers=[('num', SimpleImputer(strategy='median'), [7]), ('cat', OneHotEncoder(drop='first'), [11, 0, 12, 2, 1, 8])], model__subsample=0.7, model__reg_lambda=15, model__n_estimators=600, model__max_depth=3, model__learning_rate=0.03, model__colsample_bylevel=0.5, total=   0.4s\n",
      "[CV] onehot__transformers=[('num', SimpleImputer(strategy='median'), [7]), ('cat', OneHotEncoder(drop='first'), [11, 0, 12, 2, 1, 8])], model__subsample=0.7, model__reg_lambda=15, model__n_estimators=600, model__max_depth=3, model__learning_rate=0.03, model__colsample_bylevel=0.5 \n",
      "[CV]  onehot__transformers=[('num', SimpleImputer(strategy='median'), [7]), ('cat', OneHotEncoder(drop='first'), [11, 0, 12, 2, 1, 8])], model__subsample=0.7, model__reg_lambda=15, model__n_estimators=600, model__max_depth=3, model__learning_rate=0.03, model__colsample_bylevel=0.5, total=   0.4s\n",
      "[CV] onehot__transformers=[('num', SimpleImputer(strategy='median'), [7]), ('cat', OneHotEncoder(drop='first'), [11, 0, 12, 2, 1, 8])], model__subsample=0.7, model__reg_lambda=15, model__n_estimators=600, model__max_depth=3, model__learning_rate=0.03, model__colsample_bylevel=0.5 \n",
      "[CV]  onehot__transformers=[('num', SimpleImputer(strategy='median'), [7]), ('cat', OneHotEncoder(drop='first'), [11, 0, 12, 2, 1, 8])], model__subsample=0.7, model__reg_lambda=15, model__n_estimators=600, model__max_depth=3, model__learning_rate=0.03, model__colsample_bylevel=0.5, total=   0.4s\n",
      "[CV] onehot__transformers=[('num', SimpleImputer(strategy='median'), [7]), ('cat', OneHotEncoder(drop='first'), [11, 0, 12, 2, 1, 8])], model__subsample=0.7, model__reg_lambda=15, model__n_estimators=600, model__max_depth=3, model__learning_rate=0.03, model__colsample_bylevel=0.5 \n",
      "[CV]  onehot__transformers=[('num', SimpleImputer(strategy='median'), [7]), ('cat', OneHotEncoder(drop='first'), [11, 0, 12, 2, 1, 8])], model__subsample=0.7, model__reg_lambda=15, model__n_estimators=600, model__max_depth=3, model__learning_rate=0.03, model__colsample_bylevel=0.5, total=   0.4s\n",
      "[CV] onehot__transformers=[('num', SimpleImputer(strategy='median'), [7]), ('cat', OneHotEncoder(drop='first'), [11, 0, 12, 2, 1, 8])], model__subsample=0.7, model__reg_lambda=15, model__n_estimators=600, model__max_depth=3, model__learning_rate=0.03, model__colsample_bylevel=0.5 \n",
      "[CV]  onehot__transformers=[('num', SimpleImputer(strategy='median'), [7]), ('cat', OneHotEncoder(drop='first'), [11, 0, 12, 2, 1, 8])], model__subsample=0.7, model__reg_lambda=15, model__n_estimators=600, model__max_depth=3, model__learning_rate=0.03, model__colsample_bylevel=0.5, total=   0.4s\n",
      "[CV] onehot__transformers=[('num', SimpleImputer(strategy='median'), [7]), ('cat', OneHotEncoder(drop='first'), [11, 0, 12, 2, 1, 8])], model__subsample=0.7, model__reg_lambda=15, model__n_estimators=600, model__max_depth=3, model__learning_rate=0.03, model__colsample_bylevel=0.5 \n",
      "[CV]  onehot__transformers=[('num', SimpleImputer(strategy='median'), [7]), ('cat', OneHotEncoder(drop='first'), [11, 0, 12, 2, 1, 8])], model__subsample=0.7, model__reg_lambda=15, model__n_estimators=600, model__max_depth=3, model__learning_rate=0.03, model__colsample_bylevel=0.5, total=   0.4s\n",
      "[CV] onehot__transformers=[('num', SimpleImputer(strategy='median'), [7]), ('cat', OneHotEncoder(drop='first'), [11, 0, 12, 2, 1, 8])], model__subsample=0.7, model__reg_lambda=15, model__n_estimators=600, model__max_depth=3, model__learning_rate=0.03, model__colsample_bylevel=0.5 \n",
      "[CV]  onehot__transformers=[('num', SimpleImputer(strategy='median'), [7]), ('cat', OneHotEncoder(drop='first'), [11, 0, 12, 2, 1, 8])], model__subsample=0.7, model__reg_lambda=15, model__n_estimators=600, model__max_depth=3, model__learning_rate=0.03, model__colsample_bylevel=0.5, total=   0.4s\n",
      "[CV] onehot__transformers=[('num', SimpleImputer(strategy='median'), [7]), ('cat', OneHotEncoder(drop='first'), [11, 0, 12, 2, 1, 8])], model__subsample=0.7, model__reg_lambda=15, model__n_estimators=600, model__max_depth=3, model__learning_rate=0.03, model__colsample_bylevel=0.5 \n",
      "[CV]  onehot__transformers=[('num', SimpleImputer(strategy='median'), [7]), ('cat', OneHotEncoder(drop='first'), [11, 0, 12, 2, 1, 8])], model__subsample=0.7, model__reg_lambda=15, model__n_estimators=600, model__max_depth=3, model__learning_rate=0.03, model__colsample_bylevel=0.5, total=   0.4s\n",
      "[CV] onehot__transformers=[('num', SimpleImputer(strategy='median'), [7]), ('cat', OneHotEncoder(drop='first'), [11, 0, 12, 2, 1, 8])], model__subsample=0.7, model__reg_lambda=15, model__n_estimators=600, model__max_depth=3, model__learning_rate=0.03, model__colsample_bylevel=0.5 \n"
     ]
    },
    {
     "name": "stdout",
     "output_type": "stream",
     "text": [
      "[CV]  onehot__transformers=[('num', SimpleImputer(strategy='median'), [7]), ('cat', OneHotEncoder(drop='first'), [11, 0, 12, 2, 1, 8])], model__subsample=0.7, model__reg_lambda=15, model__n_estimators=600, model__max_depth=3, model__learning_rate=0.03, model__colsample_bylevel=0.5, total=   0.4s\n",
      "[CV] onehot__transformers=[('num', SimpleImputer(strategy='median'), [7]), ('cat', OneHotEncoder(drop='first'), [11, 0, 12, 2, 1, 8])], model__subsample=0.7, model__reg_lambda=15, model__n_estimators=600, model__max_depth=3, model__learning_rate=0.03, model__colsample_bylevel=0.5 \n",
      "[CV]  onehot__transformers=[('num', SimpleImputer(strategy='median'), [7]), ('cat', OneHotEncoder(drop='first'), [11, 0, 12, 2, 1, 8])], model__subsample=0.7, model__reg_lambda=15, model__n_estimators=600, model__max_depth=3, model__learning_rate=0.03, model__colsample_bylevel=0.5, total=   0.4s\n",
      "[CV] onehot__transformers=[('num', SimpleImputer(strategy='median'), [7]), ('cat', OneHotEncoder(drop='first'), [11, 0, 12, 2, 1, 8])], model__subsample=0.7, model__reg_lambda=15, model__n_estimators=600, model__max_depth=3, model__learning_rate=0.03, model__colsample_bylevel=0.5 \n",
      "[CV]  onehot__transformers=[('num', SimpleImputer(strategy='median'), [7]), ('cat', OneHotEncoder(drop='first'), [11, 0, 12, 2, 1, 8])], model__subsample=0.7, model__reg_lambda=15, model__n_estimators=600, model__max_depth=3, model__learning_rate=0.03, model__colsample_bylevel=0.5, total=   0.4s\n",
      "[CV] onehot__transformers=[('num', SimpleImputer(strategy='median'), [7]), ('cat', OneHotEncoder(drop='first'), [11, 0, 12, 2, 1, 8])], model__subsample=0.7, model__reg_lambda=15, model__n_estimators=600, model__max_depth=3, model__learning_rate=0.03, model__colsample_bylevel=0.5 \n",
      "[CV]  onehot__transformers=[('num', SimpleImputer(strategy='median'), [7]), ('cat', OneHotEncoder(drop='first'), [11, 0, 12, 2, 1, 8])], model__subsample=0.7, model__reg_lambda=15, model__n_estimators=600, model__max_depth=3, model__learning_rate=0.03, model__colsample_bylevel=0.5, total=   0.4s\n",
      "[CV] onehot__transformers=[('num', SimpleImputer(strategy='median'), [7]), ('cat', OneHotEncoder(drop='first'), [11, 0, 12, 2, 1, 8])], model__subsample=0.7, model__reg_lambda=15, model__n_estimators=600, model__max_depth=3, model__learning_rate=0.03, model__colsample_bylevel=0.5 \n",
      "[CV]  onehot__transformers=[('num', SimpleImputer(strategy='median'), [7]), ('cat', OneHotEncoder(drop='first'), [11, 0, 12, 2, 1, 8])], model__subsample=0.7, model__reg_lambda=15, model__n_estimators=600, model__max_depth=3, model__learning_rate=0.03, model__colsample_bylevel=0.5, total=   0.4s\n",
      "[CV] onehot__transformers=[('num', SimpleImputer(strategy='median'), [7]), ('cat', OneHotEncoder(drop='first'), [11, 0, 12, 2, 1, 8])], model__subsample=0.7, model__reg_lambda=15, model__n_estimators=600, model__max_depth=3, model__learning_rate=0.03, model__colsample_bylevel=0.5 \n",
      "[CV]  onehot__transformers=[('num', SimpleImputer(strategy='median'), [7]), ('cat', OneHotEncoder(drop='first'), [11, 0, 12, 2, 1, 8])], model__subsample=0.7, model__reg_lambda=15, model__n_estimators=600, model__max_depth=3, model__learning_rate=0.03, model__colsample_bylevel=0.5, total=   0.4s\n",
      "[CV] onehot__transformers=[('num', SimpleImputer(strategy='median'), [7]), ('cat', OneHotEncoder(drop='first'), [11, 0, 12, 2, 1, 8])], model__subsample=0.7, model__reg_lambda=15, model__n_estimators=600, model__max_depth=3, model__learning_rate=0.03, model__colsample_bylevel=0.5 \n",
      "[CV]  onehot__transformers=[('num', SimpleImputer(strategy='median'), [7]), ('cat', OneHotEncoder(drop='first'), [11, 0, 12, 2, 1, 8])], model__subsample=0.7, model__reg_lambda=15, model__n_estimators=600, model__max_depth=3, model__learning_rate=0.03, model__colsample_bylevel=0.5, total=   0.4s\n",
      "[CV] onehot__transformers=[('num', SimpleImputer(strategy='median'), [7]), ('cat', OneHotEncoder(drop='first'), [11, 0, 12, 2, 1, 8])], model__subsample=0.7, model__reg_lambda=15, model__n_estimators=600, model__max_depth=3, model__learning_rate=0.03, model__colsample_bylevel=0.5 \n",
      "[CV]  onehot__transformers=[('num', SimpleImputer(strategy='median'), [7]), ('cat', OneHotEncoder(drop='first'), [11, 0, 12, 2, 1, 8])], model__subsample=0.7, model__reg_lambda=15, model__n_estimators=600, model__max_depth=3, model__learning_rate=0.03, model__colsample_bylevel=0.5, total=   0.4s\n",
      "[CV] onehot__transformers=[('num', SimpleImputer(strategy='median'), [7]), ('cat', OneHotEncoder(drop='first'), [11, 0, 12, 2, 1, 8])], model__subsample=0.7, model__reg_lambda=15, model__n_estimators=600, model__max_depth=3, model__learning_rate=0.03, model__colsample_bylevel=0.5 \n",
      "[CV]  onehot__transformers=[('num', SimpleImputer(strategy='median'), [7]), ('cat', OneHotEncoder(drop='first'), [11, 0, 12, 2, 1, 8])], model__subsample=0.7, model__reg_lambda=15, model__n_estimators=600, model__max_depth=3, model__learning_rate=0.03, model__colsample_bylevel=0.5, total=   0.4s\n"
     ]
    },
    {
     "name": "stderr",
     "output_type": "stream",
     "text": [
      "[Parallel(n_jobs=1)]: Done 200 out of 200 | elapsed:   53.1s finished\n"
     ]
    },
    {
     "data": {
      "text/plain": [
       "RandomizedSearchCV(cv=RepeatedStratifiedKFold(n_repeats=2, n_splits=10, random_state=42),\n",
       "                   estimator=Pipeline(steps=[('initial',\n",
       "                                              Pipeline(steps=[('price_cat',\n",
       "                                                               PriceCatGetter()),\n",
       "                                                              ('age_imputor',\n",
       "                                                               AgeImputor()),\n",
       "                                                              ('add_family',\n",
       "                                                               AddFamily()),\n",
       "                                                              ('age_cat',\n",
       "                                                               AgeCat()),\n",
       "                                                              ('imputor',\n",
       "                                                               SimpleImputer(strategy='most_frequent')),\n",
       "                                                              ('rounding',\n",
       "                                                               AttributesRounding()),\n",
       "                                                              ('name',\n",
       "                                                               NameTran...\n",
       "                                                                   OneHotEncoder(drop='first'),\n",
       "                                                                   [1, 8, 0, 12,\n",
       "                                                                    11, 9, 2,\n",
       "                                                                    10])],\n",
       "                                                                 [('num',\n",
       "                                                                   SimpleImputer(strategy='median'),\n",
       "                                                                   [7]),\n",
       "                                                                  ('cat',\n",
       "                                                                   OneHotEncoder(drop='first'),\n",
       "                                                                   [11, 0, 12,\n",
       "                                                                    2])],\n",
       "                                                                 [('num',\n",
       "                                                                   SimpleImputer(strategy='median'),\n",
       "                                                                   [7]),\n",
       "                                                                  ('cat',\n",
       "                                                                   OneHotEncoder(drop='first'),\n",
       "                                                                   [11, 0, 12,\n",
       "                                                                    2, 1, 8])],\n",
       "                                                                 [('num',\n",
       "                                                                   SimpleImputer(strategy='median'),\n",
       "                                                                   [7]),\n",
       "                                                                  ('cat',\n",
       "                                                                   OneHotEncoder(drop='first'),\n",
       "                                                                   [11, 0, 12,\n",
       "                                                                    2, 1, 8,\n",
       "                                                                    9])]]},\n",
       "                   scoring='accuracy', verbose=2)"
      ]
     },
     "execution_count": 80,
     "metadata": {},
     "output_type": "execute_result"
    }
   ],
   "source": [
    "search_xgb.fit(train.values, y)"
   ]
  },
  {
   "cell_type": "code",
   "execution_count": 81,
   "metadata": {},
   "outputs": [],
   "source": [
    "#from copy import deepcopy\n",
    "#params_test = deepcopy(search_xgb.cv_results_['params'][4])\n",
    "#params_test.pop('score')\n",
    "#search_xgb.best_estimator_.set_params(**params_test)"
   ]
  },
  {
   "cell_type": "code",
   "execution_count": 82,
   "metadata": {
    "scrolled": true
   },
   "outputs": [
    {
     "data": {
      "text/plain": [
       "Pipeline(steps=[('initial',\n",
       "                 Pipeline(steps=[('price_cat', PriceCatGetter()),\n",
       "                                 ('age_imputor', AgeImputor()),\n",
       "                                 ('add_family', AddFamily()),\n",
       "                                 ('age_cat', AgeCat()),\n",
       "                                 ('imputor',\n",
       "                                  SimpleImputer(strategy='most_frequent')),\n",
       "                                 ('rounding', AttributesRounding()),\n",
       "                                 ('name', NameTransformer()),\n",
       "                                 ('cabin', CabinTransformer())])),\n",
       "                ('onehot',\n",
       "                 ColumnTransformer(n_jobs=1,\n",
       "                                   transformers=[('num',\n",
       "                                                  SimpleImputer(strategy='median'),\n",
       "                                                  [7]),\n",
       "                                                 ('cat',\n",
       "                                                  OneHotEncoder(drop='first'),\n",
       "                                                  [11, 0, 12, 2, 1, 8])])),\n",
       "                ('model',\n",
       "                 XGBClassifier(colsample_bylevel=0.5, learning_rate=0.03,\n",
       "                               n_estimators=600, reg_lambda=15,\n",
       "                               subsample=0.7))])"
      ]
     },
     "execution_count": 82,
     "metadata": {},
     "output_type": "execute_result"
    }
   ],
   "source": [
    "search_xgb.best_estimator_.fit(train.values, y)"
   ]
  },
  {
   "cell_type": "code",
   "execution_count": 84,
   "metadata": {
    "scrolled": false
   },
   "outputs": [
    {
     "data": {
      "text/html": [
       "<div>\n",
       "<style scoped>\n",
       "    .dataframe tbody tr th:only-of-type {\n",
       "        vertical-align: middle;\n",
       "    }\n",
       "\n",
       "    .dataframe tbody tr th {\n",
       "        vertical-align: top;\n",
       "    }\n",
       "\n",
       "    .dataframe thead th {\n",
       "        text-align: right;\n",
       "    }\n",
       "</style>\n",
       "<table border=\"1\" class=\"dataframe\">\n",
       "  <thead>\n",
       "    <tr style=\"text-align: right;\">\n",
       "      <th></th>\n",
       "      <th>onehot__transformers</th>\n",
       "      <th>model__subsample</th>\n",
       "      <th>model__reg_lambda</th>\n",
       "      <th>model__n_estimators</th>\n",
       "      <th>model__max_depth</th>\n",
       "      <th>model__learning_rate</th>\n",
       "      <th>model__colsample_bylevel</th>\n",
       "      <th>score</th>\n",
       "    </tr>\n",
       "  </thead>\n",
       "  <tbody>\n",
       "    <tr>\n",
       "      <th>9</th>\n",
       "      <td>[(num, SimpleImputer(strategy='median'), [7]),...</td>\n",
       "      <td>0.7</td>\n",
       "      <td>15.0</td>\n",
       "      <td>600</td>\n",
       "      <td>3</td>\n",
       "      <td>0.03</td>\n",
       "      <td>0.5</td>\n",
       "      <td>0.832172</td>\n",
       "    </tr>\n",
       "    <tr>\n",
       "      <th>8</th>\n",
       "      <td>[(num, SimpleImputer(strategy='median'), [7]),...</td>\n",
       "      <td>0.5</td>\n",
       "      <td>15.0</td>\n",
       "      <td>600</td>\n",
       "      <td>3</td>\n",
       "      <td>0.03</td>\n",
       "      <td>0.5</td>\n",
       "      <td>0.831642</td>\n",
       "    </tr>\n",
       "    <tr>\n",
       "      <th>0</th>\n",
       "      <td>[(num, SimpleImputer(strategy='median'), [7, 3...</td>\n",
       "      <td>0.7</td>\n",
       "      <td>15.0</td>\n",
       "      <td>600</td>\n",
       "      <td>3</td>\n",
       "      <td>0.01</td>\n",
       "      <td>0.5</td>\n",
       "      <td>0.829956</td>\n",
       "    </tr>\n",
       "    <tr>\n",
       "      <th>7</th>\n",
       "      <td>[(num, SimpleImputer(strategy='median'), [7]),...</td>\n",
       "      <td>0.5</td>\n",
       "      <td>15.0</td>\n",
       "      <td>600</td>\n",
       "      <td>4</td>\n",
       "      <td>0.05</td>\n",
       "      <td>0.7</td>\n",
       "      <td>0.829401</td>\n",
       "    </tr>\n",
       "    <tr>\n",
       "      <th>1</th>\n",
       "      <td>[(num, SimpleImputer(strategy='median'), [7]),...</td>\n",
       "      <td>0.5</td>\n",
       "      <td>15.0</td>\n",
       "      <td>600</td>\n",
       "      <td>3</td>\n",
       "      <td>0.03</td>\n",
       "      <td>0.7</td>\n",
       "      <td>0.827709</td>\n",
       "    </tr>\n",
       "    <tr>\n",
       "      <th>2</th>\n",
       "      <td>[(num, SimpleImputer(strategy='median'), [7]),...</td>\n",
       "      <td>0.7</td>\n",
       "      <td>NaN</td>\n",
       "      <td>600</td>\n",
       "      <td>3</td>\n",
       "      <td>0.05</td>\n",
       "      <td>0.5</td>\n",
       "      <td>NaN</td>\n",
       "    </tr>\n",
       "    <tr>\n",
       "      <th>3</th>\n",
       "      <td>[(num, SimpleImputer(strategy='median'), [7, 3...</td>\n",
       "      <td>0.7</td>\n",
       "      <td>NaN</td>\n",
       "      <td>600</td>\n",
       "      <td>3</td>\n",
       "      <td>0.01</td>\n",
       "      <td>0.7</td>\n",
       "      <td>NaN</td>\n",
       "    </tr>\n",
       "    <tr>\n",
       "      <th>4</th>\n",
       "      <td>[(num, SimpleImputer(strategy='median'), [7, 3...</td>\n",
       "      <td>0.7</td>\n",
       "      <td>NaN</td>\n",
       "      <td>400</td>\n",
       "      <td>4</td>\n",
       "      <td>0.01</td>\n",
       "      <td>0.7</td>\n",
       "      <td>NaN</td>\n",
       "    </tr>\n",
       "    <tr>\n",
       "      <th>5</th>\n",
       "      <td>[(num, SimpleImputer(strategy='median'), [7]),...</td>\n",
       "      <td>0.7</td>\n",
       "      <td>NaN</td>\n",
       "      <td>400</td>\n",
       "      <td>4</td>\n",
       "      <td>0.03</td>\n",
       "      <td>0.5</td>\n",
       "      <td>NaN</td>\n",
       "    </tr>\n",
       "    <tr>\n",
       "      <th>6</th>\n",
       "      <td>[(num, SimpleImputer(strategy='median'), [7]),...</td>\n",
       "      <td>0.5</td>\n",
       "      <td>NaN</td>\n",
       "      <td>600</td>\n",
       "      <td>4</td>\n",
       "      <td>0.01</td>\n",
       "      <td>0.7</td>\n",
       "      <td>NaN</td>\n",
       "    </tr>\n",
       "  </tbody>\n",
       "</table>\n",
       "</div>"
      ],
      "text/plain": [
       "                                onehot__transformers  model__subsample  \\\n",
       "9  [(num, SimpleImputer(strategy='median'), [7]),...               0.7   \n",
       "8  [(num, SimpleImputer(strategy='median'), [7]),...               0.5   \n",
       "0  [(num, SimpleImputer(strategy='median'), [7, 3...               0.7   \n",
       "7  [(num, SimpleImputer(strategy='median'), [7]),...               0.5   \n",
       "1  [(num, SimpleImputer(strategy='median'), [7]),...               0.5   \n",
       "2  [(num, SimpleImputer(strategy='median'), [7]),...               0.7   \n",
       "3  [(num, SimpleImputer(strategy='median'), [7, 3...               0.7   \n",
       "4  [(num, SimpleImputer(strategy='median'), [7, 3...               0.7   \n",
       "5  [(num, SimpleImputer(strategy='median'), [7]),...               0.7   \n",
       "6  [(num, SimpleImputer(strategy='median'), [7]),...               0.5   \n",
       "\n",
       "   model__reg_lambda  model__n_estimators  model__max_depth  \\\n",
       "9               15.0                  600                 3   \n",
       "8               15.0                  600                 3   \n",
       "0               15.0                  600                 3   \n",
       "7               15.0                  600                 4   \n",
       "1               15.0                  600                 3   \n",
       "2                NaN                  600                 3   \n",
       "3                NaN                  600                 3   \n",
       "4                NaN                  400                 4   \n",
       "5                NaN                  400                 4   \n",
       "6                NaN                  600                 4   \n",
       "\n",
       "   model__learning_rate  model__colsample_bylevel     score  \n",
       "9                  0.03                       0.5  0.832172  \n",
       "8                  0.03                       0.5  0.831642  \n",
       "0                  0.01                       0.5  0.829956  \n",
       "7                  0.05                       0.7  0.829401  \n",
       "1                  0.03                       0.7  0.827709  \n",
       "2                  0.05                       0.5       NaN  \n",
       "3                  0.01                       0.7       NaN  \n",
       "4                  0.01                       0.7       NaN  \n",
       "5                  0.03                       0.5       NaN  \n",
       "6                  0.01                       0.7       NaN  "
      ]
     },
     "execution_count": 84,
     "metadata": {},
     "output_type": "execute_result"
    }
   ],
   "source": [
    "list_results(search_xgb)"
   ]
  },
  {
   "cell_type": "code",
   "execution_count": 85,
   "metadata": {
    "scrolled": true
   },
   "outputs": [
    {
     "name": "stdout",
     "output_type": "stream",
     "text": [
      "0.1404494382022472\n",
      "0.16853932584269662\n",
      "0.19662921348314608\n",
      "0.2247191011235955\n",
      "0.25280898876404495\n",
      "0.2808988764044944\n",
      "0.3089887640449438\n",
      "0.33707865168539325\n",
      "0.3651685393258427\n",
      "0.39325842696629215\n",
      "0.42134831460674155\n",
      "0.449438202247191\n",
      "0.47752808988764045\n",
      "0.5056179775280899\n",
      "0.5337078651685393\n",
      "0.5617977528089888\n",
      "0.5898876404494382\n",
      "0.6179775280898876\n",
      "0.6460674157303371\n",
      "0.6741573033707865\n",
      "0.702247191011236\n",
      "0.7303370786516854\n",
      "0.7584269662921348\n",
      "0.7865168539325843\n",
      "0.8146067415730337\n",
      "0.8426966292134831\n",
      "0.8707865168539326\n",
      "0.898876404494382\n",
      "0.9269662921348315\n",
      "0.9550561797752809\n",
      "0.9831460674157303\n"
     ]
    },
    {
     "data": {
      "image/png": "[encoded data removed]",
      "text/plain": [
       "<Figure size 864x504 with 1 Axes>"
      ]
     },
     "metadata": {
      "needs_background": "light"
     },
     "output_type": "display_data"
    }
   ],
   "source": [
    "plot_learning_curve(search_xgb.best_estimator_)"
   ]
  },
  {
   "cell_type": "code",
   "execution_count": 86,
   "metadata": {},
   "outputs": [],
   "source": [
    "pred_xgb = search_xgb.best_estimator_.predict(test_data.values)"
   ]
  },
  {
   "cell_type": "code",
   "execution_count": 87,
   "metadata": {},
   "outputs": [],
   "source": [
    "save_results(test_data, pred_xgb, 'xgb_2')"
   ]
  },
  {
   "cell_type": "code",
   "execution_count": null,
   "metadata": {},
   "outputs": [],
   "source": []
  },
  {
   "cell_type": "markdown",
   "metadata": {},
   "source": [
    "1) look at overfitting\n",
    "5) try xgboost\n",
    "4) try SVC\n",
    "6) try ensemble\n",
    "7) clean notebook -> todos\n",
    "\n",
    "- be careful when designing transformers - doe they work if a lot of data is missing?"
   ]
  },
  {
   "cell_type": "code",
   "execution_count": null,
   "metadata": {},
   "outputs": [],
   "source": []
  }
 ],
 "metadata": {
  "kernelspec": {
   "display_name": "housing_cal",
   "language": "python",
   "name": "housing_cal"
  },
  "language_info": {
   "codemirror_mode": {
    "name": "ipython",
    "version": 3
   },
   "file_extension": ".py",
   "mimetype": "text/x-python",
   "name": "python",
   "nbconvert_exporter": "python",
   "pygments_lexer": "ipython3",
   "version": "3.7.7"
  }
 },
 "nbformat": 4,
 "nbformat_minor": 2
}
